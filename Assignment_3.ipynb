{
 "cells": [
  {
   "cell_type": "code",
   "execution_count": 1,
   "id": "4dea5dbe-9eb0-4783-9b83-337b9d786df0",
   "metadata": {
    "tags": []
   },
   "outputs": [],
   "source": [
    "import warnings\n",
    "warnings.filterwarnings('ignore')\n",
    "\n",
    "import pandas as pd\n",
    "import seaborn as sns\n",
    "import matplotlib.pyplot as plt\n",
    "from mizani.formatters import percent_format\n",
    "import os\n",
    "from plotnine import *\n",
    "import numpy as np\n",
    "import sys\n",
    "import numpy as np\n",
    "import statsmodels.api as sm\n",
    "import statsmodels.formula.api as smf\n",
    "from stargazer import stargazer\n",
    "from statsmodels.tools.eval_measures import mse,rmse"
   ]
  },
  {
   "cell_type": "code",
   "execution_count": 11,
   "id": "0276dcd6-c2de-4d11-aa02-22c287d87d84",
   "metadata": {
    "tags": []
   },
   "outputs": [],
   "source": [
    "# Read the csv and feed it into the variable xc\n",
    "data = pd.read_csv(\"morg-2014-emp.csv\")\n",
    "\n",
    "# Filter dataset for healthcare practitioners\n",
    "data = xc.loc[((xc[\"occ2012\"] >= 3000) & (xc[\"occ2012\"] <= 3540))]"
   ]
  },
  {
   "cell_type": "code",
   "execution_count": 12,
   "id": "f5dbfded-3ab0-47a9-9790-75f8234b68a7",
   "metadata": {
    "tags": []
   },
   "outputs": [
    {
     "data": {
      "text/html": [
       "<div>\n",
       "<style scoped>\n",
       "    .dataframe tbody tr th:only-of-type {\n",
       "        vertical-align: middle;\n",
       "    }\n",
       "\n",
       "    .dataframe tbody tr th {\n",
       "        vertical-align: top;\n",
       "    }\n",
       "\n",
       "    .dataframe thead th {\n",
       "        text-align: right;\n",
       "    }\n",
       "</style>\n",
       "<table border=\"1\" class=\"dataframe\">\n",
       "  <thead>\n",
       "    <tr style=\"text-align: right;\">\n",
       "      <th></th>\n",
       "      <th>Unnamed: 0</th>\n",
       "      <th>hhid</th>\n",
       "      <th>intmonth</th>\n",
       "      <th>stfips</th>\n",
       "      <th>weight</th>\n",
       "      <th>earnwke</th>\n",
       "      <th>uhours</th>\n",
       "      <th>grade92</th>\n",
       "      <th>race</th>\n",
       "      <th>ethnic</th>\n",
       "      <th>...</th>\n",
       "      <th>ownchild</th>\n",
       "      <th>chldpres</th>\n",
       "      <th>prcitshp</th>\n",
       "      <th>state</th>\n",
       "      <th>ind02</th>\n",
       "      <th>occ2012</th>\n",
       "      <th>class</th>\n",
       "      <th>unionmme</th>\n",
       "      <th>unioncov</th>\n",
       "      <th>lfsr94</th>\n",
       "    </tr>\n",
       "  </thead>\n",
       "  <tbody>\n",
       "    <tr>\n",
       "      <th>10</th>\n",
       "      <td>25</td>\n",
       "      <td>620910090003769</td>\n",
       "      <td>January</td>\n",
       "      <td>AL</td>\n",
       "      <td>3851.5450</td>\n",
       "      <td>1800.00</td>\n",
       "      <td>40</td>\n",
       "      <td>43</td>\n",
       "      <td>1</td>\n",
       "      <td>NaN</td>\n",
       "      <td>...</td>\n",
       "      <td>2</td>\n",
       "      <td>4</td>\n",
       "      <td>Native, Born In US</td>\n",
       "      <td>63</td>\n",
       "      <td>Pharmacies and drug stores (44611)</td>\n",
       "      <td>3050</td>\n",
       "      <td>Private, For Profit</td>\n",
       "      <td>No</td>\n",
       "      <td>No</td>\n",
       "      <td>Employed-At Work</td>\n",
       "    </tr>\n",
       "    <tr>\n",
       "      <th>33</th>\n",
       "      <td>60</td>\n",
       "      <td>7087505071191</td>\n",
       "      <td>January</td>\n",
       "      <td>AL</td>\n",
       "      <td>3712.0546</td>\n",
       "      <td>1171.60</td>\n",
       "      <td>40</td>\n",
       "      <td>41</td>\n",
       "      <td>1</td>\n",
       "      <td>NaN</td>\n",
       "      <td>...</td>\n",
       "      <td>0</td>\n",
       "      <td>0</td>\n",
       "      <td>Native, Born In US</td>\n",
       "      <td>63</td>\n",
       "      <td>Business support services (5614)</td>\n",
       "      <td>3510</td>\n",
       "      <td>Private, For Profit</td>\n",
       "      <td>No</td>\n",
       "      <td>No</td>\n",
       "      <td>Employed-At Work</td>\n",
       "    </tr>\n",
       "    <tr>\n",
       "      <th>37</th>\n",
       "      <td>77</td>\n",
       "      <td>97953206049188</td>\n",
       "      <td>January</td>\n",
       "      <td>AL</td>\n",
       "      <td>3414.1067</td>\n",
       "      <td>1730.76</td>\n",
       "      <td>60</td>\n",
       "      <td>44</td>\n",
       "      <td>1</td>\n",
       "      <td>NaN</td>\n",
       "      <td>...</td>\n",
       "      <td>0</td>\n",
       "      <td>0</td>\n",
       "      <td>Native, Born In US</td>\n",
       "      <td>63</td>\n",
       "      <td>Home health care services (6216)</td>\n",
       "      <td>3255</td>\n",
       "      <td>Private, For Profit</td>\n",
       "      <td>No</td>\n",
       "      <td>No</td>\n",
       "      <td>Employed-Absent</td>\n",
       "    </tr>\n",
       "    <tr>\n",
       "      <th>42</th>\n",
       "      <td>89</td>\n",
       "      <td>130003560100156</td>\n",
       "      <td>January</td>\n",
       "      <td>AL</td>\n",
       "      <td>3296.7986</td>\n",
       "      <td>2884.61</td>\n",
       "      <td>60</td>\n",
       "      <td>45</td>\n",
       "      <td>1</td>\n",
       "      <td>NaN</td>\n",
       "      <td>...</td>\n",
       "      <td>2</td>\n",
       "      <td>10</td>\n",
       "      <td>Native, Born In US</td>\n",
       "      <td>63</td>\n",
       "      <td>Offices of physicians (6211)</td>\n",
       "      <td>3060</td>\n",
       "      <td>Private, For Profit</td>\n",
       "      <td>No</td>\n",
       "      <td>No</td>\n",
       "      <td>Employed-At Work</td>\n",
       "    </tr>\n",
       "    <tr>\n",
       "      <th>71</th>\n",
       "      <td>166</td>\n",
       "      <td>42510310991895</td>\n",
       "      <td>January</td>\n",
       "      <td>AL</td>\n",
       "      <td>3322.0487</td>\n",
       "      <td>618.75</td>\n",
       "      <td>45</td>\n",
       "      <td>40</td>\n",
       "      <td>1</td>\n",
       "      <td>NaN</td>\n",
       "      <td>...</td>\n",
       "      <td>0</td>\n",
       "      <td>0</td>\n",
       "      <td>Native, Born In US</td>\n",
       "      <td>63</td>\n",
       "      <td>Hospitals (622)</td>\n",
       "      <td>3320</td>\n",
       "      <td>Private, For Profit</td>\n",
       "      <td>No</td>\n",
       "      <td>No</td>\n",
       "      <td>Employed-At Work</td>\n",
       "    </tr>\n",
       "  </tbody>\n",
       "</table>\n",
       "<p>5 rows × 23 columns</p>\n",
       "</div>"
      ],
      "text/plain": [
       "    Unnamed: 0             hhid intmonth stfips     weight  earnwke  uhours  \\\n",
       "10          25  620910090003769  January     AL  3851.5450  1800.00      40   \n",
       "33          60    7087505071191  January     AL  3712.0546  1171.60      40   \n",
       "37          77   97953206049188  January     AL  3414.1067  1730.76      60   \n",
       "42          89  130003560100156  January     AL  3296.7986  2884.61      60   \n",
       "71         166   42510310991895  January     AL  3322.0487   618.75      45   \n",
       "\n",
       "    grade92  race  ethnic  ...  ownchild  chldpres            prcitshp  state  \\\n",
       "10       43     1     NaN  ...         2         4  Native, Born In US     63   \n",
       "33       41     1     NaN  ...         0         0  Native, Born In US     63   \n",
       "37       44     1     NaN  ...         0         0  Native, Born In US     63   \n",
       "42       45     1     NaN  ...         2        10  Native, Born In US     63   \n",
       "71       40     1     NaN  ...         0         0  Native, Born In US     63   \n",
       "\n",
       "                                 ind02 occ2012                class unionmme  \\\n",
       "10  Pharmacies and drug stores (44611)    3050  Private, For Profit       No   \n",
       "33    Business support services (5614)    3510  Private, For Profit       No   \n",
       "37    Home health care services (6216)    3255  Private, For Profit       No   \n",
       "42        Offices of physicians (6211)    3060  Private, For Profit       No   \n",
       "71                     Hospitals (622)    3320  Private, For Profit       No   \n",
       "\n",
       "    unioncov            lfsr94  \n",
       "10        No  Employed-At Work  \n",
       "33        No  Employed-At Work  \n",
       "37        No   Employed-Absent  \n",
       "42        No  Employed-At Work  \n",
       "71        No  Employed-At Work  \n",
       "\n",
       "[5 rows x 23 columns]"
      ]
     },
     "execution_count": 12,
     "metadata": {},
     "output_type": "execute_result"
    }
   ],
   "source": [
    "data.head()"
   ]
  },
  {
   "cell_type": "code",
   "execution_count": 13,
   "id": "8cd47e2a-93b5-494b-b2e1-2b9819ab5b8f",
   "metadata": {
    "tags": []
   },
   "outputs": [
    {
     "name": "stdout",
     "output_type": "stream",
     "text": [
      "<class 'pandas.core.frame.DataFrame'>\n",
      "Index: 9208 entries, 10 to 149315\n",
      "Data columns (total 23 columns):\n",
      " #   Column      Non-Null Count  Dtype  \n",
      "---  ------      --------------  -----  \n",
      " 0   Unnamed: 0  9208 non-null   int64  \n",
      " 1   hhid        9208 non-null   int64  \n",
      " 2   intmonth    9208 non-null   object \n",
      " 3   stfips      9208 non-null   object \n",
      " 4   weight      9208 non-null   float64\n",
      " 5   earnwke     9208 non-null   float64\n",
      " 6   uhours      9208 non-null   int64  \n",
      " 7   grade92     9208 non-null   int64  \n",
      " 8   race        9208 non-null   int64  \n",
      " 9   ethnic      586 non-null    float64\n",
      " 10  age         9208 non-null   int64  \n",
      " 11  sex         9208 non-null   int64  \n",
      " 12  marital     9208 non-null   int64  \n",
      " 13  ownchild    9208 non-null   int64  \n",
      " 14  chldpres    9208 non-null   int64  \n",
      " 15  prcitshp    9208 non-null   object \n",
      " 16  state       9208 non-null   object \n",
      " 17  ind02       9208 non-null   object \n",
      " 18  occ2012     9208 non-null   int64  \n",
      " 19  class       9208 non-null   object \n",
      " 20  unionmme    9208 non-null   object \n",
      " 21  unioncov    8080 non-null   object \n",
      " 22  lfsr94      9208 non-null   object \n",
      "dtypes: float64(3), int64(11), object(9)\n",
      "memory usage: 1.7+ MB\n"
     ]
    }
   ],
   "source": [
    "data.info()"
   ]
  },
  {
   "cell_type": "markdown",
   "id": "66d41850-bf48-4601-883a-242ac66b918a",
   "metadata": {},
   "source": [
    "### EDA"
   ]
  },
  {
   "cell_type": "code",
   "execution_count": 14,
   "id": "0c6d10f2-53fe-4032-b457-9bb9282e683a",
   "metadata": {
    "tags": []
   },
   "outputs": [],
   "source": [
    "data[\"sex\"] = data[\"sex\"].fillna(\"Missing\")\n",
    "data[\"earnwke\"] = data[\"earnwke\"].fillna(\"Missing\")\n",
    "data[\"uhours\"] = data[\"uhours\"].fillna(\"Missing\")\n",
    "data[\"lfsr94\"] = data[\"lfsr94\"].fillna(\"Missing\")\n",
    "data[\"marital\"] = data[\"marital\"].fillna(\"Missing\")\n",
    "data[\"grade92\"] = data[\"grade92\"].fillna(\"Missing\")\n"
   ]
  },
  {
   "cell_type": "code",
   "execution_count": 20,
   "id": "ad62c66b-b2cd-4dda-b517-ecbd703fe8a7",
   "metadata": {
    "tags": []
   },
   "outputs": [
    {
     "data": {
      "text/plain": [
       "female\n",
       "True     7220\n",
       "False    1988\n",
       "Name: count, dtype: int64"
      ]
     },
     "execution_count": 20,
     "metadata": {},
     "output_type": "execute_result"
    }
   ],
   "source": [
    "data[\"female\"] = (data[\"sex\"] == 2)\n",
    "data[\"w\"] = data[\"earnwke\"] / data[\"uhours\"]\n",
    "data[\"lnw\"] = np.log(data[\"w\"]) \n",
    "data[\"working\"] = (data[\"lfsr94\"] == 1)\n",
    "data[\"married\"] = (data[\"marital\"] != 7)\n",
    "data['grade92'] = pd.to_numeric(data['grade92'], errors='coerce')\n",
    "data[\"university\"] = (data[\"grade92\"] > 40) \n",
    "\n",
    "# Convert to numeric\n",
    "data['w'] = pd.to_numeric(data['w'], errors='coerce')\n",
    "data[\"female\"].value_counts()\n"
   ]
  },
  {
   "cell_type": "code",
   "execution_count": 22,
   "id": "81e62809-47c1-47f2-996c-d78c8d35ceff",
   "metadata": {
    "tags": []
   },
   "outputs": [
    {
     "data": {
      "text/plain": [
       "(9208, 29)"
      ]
     },
     "execution_count": 22,
     "metadata": {},
     "output_type": "execute_result"
    }
   ],
   "source": [
    "data.shape"
   ]
  },
  {
   "cell_type": "code",
   "execution_count": 25,
   "id": "61c41946-da6d-4ac5-a0f3-16a042be6c88",
   "metadata": {
    "tags": []
   },
   "outputs": [
    {
     "data": {
      "text/plain": [
       "(9208, 5)"
      ]
     },
     "execution_count": 25,
     "metadata": {},
     "output_type": "execute_result"
    }
   ],
   "source": [
    "# List of columns to keep\n",
    "columns_to_keep = [\"female\", \"lnw\", \"working\", \"married\", \"university\"]\n",
    "# Drop all other columns\n",
    "data = data[columns_to_keep]\n",
    "data.shape"
   ]
  },
  {
   "cell_type": "code",
   "execution_count": 26,
   "id": "29c165ed-e1a4-46b9-b659-1dd2b9aa9a99",
   "metadata": {
    "tags": []
   },
   "outputs": [
    {
     "data": {
      "text/html": [
       "<div>\n",
       "<style scoped>\n",
       "    .dataframe tbody tr th:only-of-type {\n",
       "        vertical-align: middle;\n",
       "    }\n",
       "\n",
       "    .dataframe tbody tr th {\n",
       "        vertical-align: top;\n",
       "    }\n",
       "\n",
       "    .dataframe thead th {\n",
       "        text-align: right;\n",
       "    }\n",
       "</style>\n",
       "<table border=\"1\" class=\"dataframe\">\n",
       "  <thead>\n",
       "    <tr style=\"text-align: right;\">\n",
       "      <th></th>\n",
       "      <th>female</th>\n",
       "      <th>lnw</th>\n",
       "      <th>working</th>\n",
       "      <th>married</th>\n",
       "      <th>university</th>\n",
       "    </tr>\n",
       "  </thead>\n",
       "  <tbody>\n",
       "    <tr>\n",
       "      <th>10</th>\n",
       "      <td>True</td>\n",
       "      <td>3.806662</td>\n",
       "      <td>False</td>\n",
       "      <td>True</td>\n",
       "      <td>True</td>\n",
       "    </tr>\n",
       "    <tr>\n",
       "      <th>33</th>\n",
       "      <td>True</td>\n",
       "      <td>3.377246</td>\n",
       "      <td>False</td>\n",
       "      <td>True</td>\n",
       "      <td>True</td>\n",
       "    </tr>\n",
       "    <tr>\n",
       "      <th>37</th>\n",
       "      <td>True</td>\n",
       "      <td>3.361971</td>\n",
       "      <td>False</td>\n",
       "      <td>True</td>\n",
       "      <td>True</td>\n",
       "    </tr>\n",
       "    <tr>\n",
       "      <th>42</th>\n",
       "      <td>False</td>\n",
       "      <td>3.872800</td>\n",
       "      <td>False</td>\n",
       "      <td>True</td>\n",
       "      <td>True</td>\n",
       "    </tr>\n",
       "    <tr>\n",
       "      <th>71</th>\n",
       "      <td>True</td>\n",
       "      <td>2.621039</td>\n",
       "      <td>False</td>\n",
       "      <td>True</td>\n",
       "      <td>False</td>\n",
       "    </tr>\n",
       "    <tr>\n",
       "      <th>...</th>\n",
       "      <td>...</td>\n",
       "      <td>...</td>\n",
       "      <td>...</td>\n",
       "      <td>...</td>\n",
       "      <td>...</td>\n",
       "    </tr>\n",
       "    <tr>\n",
       "      <th>149201</th>\n",
       "      <td>True</td>\n",
       "      <td>4.278266</td>\n",
       "      <td>False</td>\n",
       "      <td>True</td>\n",
       "      <td>True</td>\n",
       "    </tr>\n",
       "    <tr>\n",
       "      <th>149242</th>\n",
       "      <td>True</td>\n",
       "      <td>3.178054</td>\n",
       "      <td>False</td>\n",
       "      <td>True</td>\n",
       "      <td>True</td>\n",
       "    </tr>\n",
       "    <tr>\n",
       "      <th>149252</th>\n",
       "      <td>True</td>\n",
       "      <td>2.088773</td>\n",
       "      <td>False</td>\n",
       "      <td>False</td>\n",
       "      <td>False</td>\n",
       "    </tr>\n",
       "    <tr>\n",
       "      <th>149290</th>\n",
       "      <td>True</td>\n",
       "      <td>2.397895</td>\n",
       "      <td>False</td>\n",
       "      <td>True</td>\n",
       "      <td>True</td>\n",
       "    </tr>\n",
       "    <tr>\n",
       "      <th>149315</th>\n",
       "      <td>True</td>\n",
       "      <td>2.822970</td>\n",
       "      <td>False</td>\n",
       "      <td>True</td>\n",
       "      <td>False</td>\n",
       "    </tr>\n",
       "  </tbody>\n",
       "</table>\n",
       "<p>9208 rows × 5 columns</p>\n",
       "</div>"
      ],
      "text/plain": [
       "        female       lnw  working  married  university\n",
       "10        True  3.806662    False     True        True\n",
       "33        True  3.377246    False     True        True\n",
       "37        True  3.361971    False     True        True\n",
       "42       False  3.872800    False     True        True\n",
       "71        True  2.621039    False     True       False\n",
       "...        ...       ...      ...      ...         ...\n",
       "149201    True  4.278266    False     True        True\n",
       "149242    True  3.178054    False     True        True\n",
       "149252    True  2.088773    False    False       False\n",
       "149290    True  2.397895    False     True        True\n",
       "149315    True  2.822970    False     True       False\n",
       "\n",
       "[9208 rows x 5 columns]"
      ]
     },
     "execution_count": 26,
     "metadata": {},
     "output_type": "execute_result"
    }
   ],
   "source": [
    "data"
   ]
  },
  {
   "cell_type": "code",
   "execution_count": null,
   "id": "af783d14-d67d-4a2b-bcf9-1c7048bff601",
   "metadata": {},
   "outputs": [],
   "source": []
  }
 ],
 "metadata": {
  "kernelspec": {
   "display_name": "Python 3 (ipykernel)",
   "language": "python",
   "name": "python3"
  },
  "language_info": {
   "codemirror_mode": {
    "name": "ipython",
    "version": 3
   },
   "file_extension": ".py",
   "mimetype": "text/x-python",
   "name": "python",
   "nbconvert_exporter": "python",
   "pygments_lexer": "ipython3",
   "version": "3.11.4"
  }
 },
 "nbformat": 4,
 "nbformat_minor": 5
}
