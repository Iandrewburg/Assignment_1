{
 "cells": [
  {
   "cell_type": "markdown",
   "id": "410c7f5a-fac0-482f-bc6e-e491d129d746",
   "metadata": {
    "tags": []
   },
   "source": [
    "# ***Assignment 3 for Data Analysis 3***\n",
    "\n",
    "Conducted by Ian Brandenburg and Zsófia Rebeka Katona\n",
    "\n",
    "[GitHub Repo](https://github.com/Iandrewburg/DA3_Brandenburg/tree/main/Assignment_3)\n",
    "\n",
    "\n",
    "\n",
    "Developing a predictive model to identify which small or medium-sized firms in the \"Manufacture of computer, electronic, and optical products\" industry might fail in 2015, based on their activity in 2014.\n",
    "\n",
    "[**Data source**](https://osf.io/b2ft9/?view_only=):\n",
    "Detailed company data from a middle-sized country in the European Union\n",
    "All registered companies in 2005-2016 in three selected industries \n",
    "  (auto manufacturing, equipment manufacturing, hotels and restaurants)\n",
    "This rich database was constructed for from multiple publicly available sources \n",
    "by Bisnode, a business data and anlytics company www.bisnode.com\n",
    "for educational purposes\n",
    "\n",
    "Dependent Variable - Dummy Variable for if the company defaulted or not"
   ]
  },
  {
   "cell_type": "code",
   "execution_count": 1,
   "id": "4aadb832-7ded-45c7-87b5-4e340c5394ee",
   "metadata": {
    "tags": []
   },
   "outputs": [],
   "source": [
    "import warnings\n",
    "warnings.filterwarnings('ignore')\n",
    "\n",
    "import pandas as pd\n",
    "import numpy as np\n",
    "import patsy\n",
    "import matplotlib.pyplot as plt\n",
    "import os\n",
    "import sys\n",
    "from pathlib import Path\n",
    "from plotnine import *\n",
    "from mizani.formatters import percent_format\n",
    "import ast\n",
    "from patsy import dmatrices\n",
    "from sklearn.model_selection import train_test_split, GridSearchCV, RandomizedSearchCV, KFold\n",
    "import sklearn.metrics as metrics\n",
    "from sklearn.metrics import mean_squared_error, auc, brier_score_loss, confusion_matrix, roc_auc_score, roc_curve\n",
    "from sklearn.impute import SimpleImputer\n",
    "from sklearn.inspection import permutation_importance, PartialDependenceDisplay, partial_dependence\n",
    "from sklearn.compose import ColumnTransformer\n",
    "from sklearn.pipeline import Pipeline\n",
    "from sklearn.preprocessing import OneHotEncoder, StandardScaler\n",
    "from sklearn.ensemble import RandomForestRegressor, RandomForestClassifier\n",
    "from sklearn.linear_model import LinearRegression, LogisticRegression, LogisticRegressionCV\n",
    "from sklearn.tree import DecisionTreeRegressor\n",
    "import statsmodels.formula.api as smf\n",
    "from statsmodels.tools.eval_measures import rmse\n",
    "from sklearn.calibration import calibration_curve\n",
    "import time"
   ]
  },
  {
   "cell_type": "code",
   "execution_count": 2,
   "id": "3389a893-9410-46f1-855f-90c8336ea140",
   "metadata": {
    "tags": []
   },
   "outputs": [],
   "source": [
    "# Helper Functions\n",
    "\n",
    "def regression_results(y_true, y_pred):\n",
    "\n",
    "    # Regression metrics\n",
    "    explained_variance=metrics.explained_variance_score(y_true, y_pred)\n",
    "    mean_absolute_error=metrics.mean_absolute_error(y_true, y_pred) \n",
    "    mse=metrics.mean_squared_error(y_true, y_pred) \n",
    "    median_absolute_error=metrics.median_absolute_error(y_true, y_pred)\n",
    "    r2=metrics.r2_score(y_true, y_pred)\n",
    "\n",
    "    print('explained_variance: ', round(explained_variance,4))    \n",
    "    print('r2: ', round(r2,4))\n",
    "    print('MAE: ', round(mean_absolute_error,4))\n",
    "    print('MSE: ', round(mse,4))\n",
    "    print('RMSE: ', round(np.sqrt(mse),4))\n",
    "    \n",
    "def create_calibration_plot(data, file_name, prob_var, actual_var, y_lab, n_bins=10, breaks=None):\n",
    "    prob_true, prob_pred = calibration_curve(data[actual_var], data[prob_var], n_bins=n_bins, strategy='uniform')\n",
    "    \n",
    "    plt.figure(figsize=(8, 6))\n",
    "    plt.plot([0, 1], [0, 1], \"k:\", label=\"Perfectly calibrated\")\n",
    "    plt.plot(prob_pred, prob_true, \"s-\", label=\"Model\")\n",
    "    plt.xlabel(\"Predicted probability\")\n",
    "    plt.ylabel(y_lab)\n",
    "    plt.title(\"Calibration Plot\")\n",
    "    plt.legend()\n",
    "    plt.grid(True)\n",
    "    \n",
    "    plt.savefig(file_name + \".png\", dpi=300)\n",
    "    plt.show()\n",
    "    \n",
    "def create_coef_matrix(X, model):\n",
    "    coef_matrix = pd.concat(\n",
    "        [pd.DataFrame(X.columns),pd.DataFrame(model.coef_.flatten())], axis = 1\n",
    "    )\n",
    "    coef_matrix.columns = ['variable', 'coefficient']\n",
    "    coef_matrix.iloc[-1] = ['Intercept', model.intercept_.flatten()[0]]\n",
    "    return coef_matrix\n",
    "\n",
    "def cv_summary(lambdas, C_values, model):\n",
    "    d = {'lambdas': lambdas, 'C_values': C_values, 'mean_cv_score': model.scores_[1].mean(axis = 0)}\n",
    "    return(pd.DataFrame(data=d))\n",
    "\n",
    "def create_roc_plot(y_true, y_pred):\n",
    "    fpr, tpr, thresholds = roc_curve(y_true, y_pred)\n",
    "    all_coords = pd.DataFrame({\n",
    "        'fpr': fpr,\n",
    "        'tpr': tpr,\n",
    "        'thresholds': thresholds\n",
    "    })\n",
    "    \n",
    "    plot = (ggplot(all_coords, aes(x='fpr', y='tpr')) +\n",
    "            geom_line(color='blue', size=0.7) +\n",
    "            geom_area(position='identity', fill='mediumaquamarine', alpha=0.3) +\n",
    "            xlab(\"False Positive Rate (1-Specifity)\") +\n",
    "            ylab(\"True Positive Rate (Sensitivity)\") +\n",
    "            geom_abline(intercept=0, slope=1, linetype=\"dotted\", color=\"black\") +\n",
    "            scale_y_continuous(limits=(0, 1), breaks=np.arange(0, 1.1, .1), expand=(0, 0.01)) +\n",
    "            scale_x_continuous(limits=(0, 1), breaks=np.arange(0, 1.1, .1), expand=(0.01, 0)) +\n",
    "            theme_bw())\n",
    "    return plot\n",
    "\n",
    "def sigmoid_array(x):\n",
    "    return(1 / (1 + np.exp(-x)))\n",
    "\n",
    "def generate_fold_prediction(model, X, fold, param_index):\n",
    "    fold_coef = model.coefs_paths_[1][fold,param_index,:]\n",
    "    return(sigmoid_array(np.dot(X, np.transpose(fold_coef)[:-1]) +  np.transpose(fold_coef)[-1]))\n",
    "\n",
    "def create_loss_plot(all_coords, optimal_threshold, curr_exp_loss):\n",
    "    # Assuming FP (False Positive cost) and FN (False Negative cost) are provided or defined earlier\n",
    "    all_coords_copy = all_coords.copy()\n",
    "    all_coords_copy['loss'] = (all_coords_copy['false_pos'] * FP + all_coords_copy['false_neg'] * FN) / all_coords_copy['n']\n",
    "    \n",
    "    t = optimal_threshold\n",
    "    l = curr_exp_loss\n",
    "\n",
    "    # Define colors for plotting\n",
    "    line_color = 'blue'  # Line color for geom_line and geom_vline\n",
    "    text_color = 'red'  # Color for annotations\n",
    "\n",
    "    plot = (ggplot(all_coords_copy, aes(x='thresholds', y='loss')) +\n",
    "            geom_line(color=line_color, size=0.7) +\n",
    "            scale_x_continuous(breaks=np.arange(0, 1.1, 0.1)) +\n",
    "            coord_cartesian(xlim=(0, 1)) +\n",
    "            geom_vline(xintercept=t, color=line_color) +\n",
    "            annotate('text', x=t - 0.01, y=max(all_coords_copy['loss']) - 0.4,\n",
    "                     label=f\"best threshold: {round(t, 2)}\",\n",
    "                     colour=text_color, angle=90, size=7) +\n",
    "            annotate('text', x=t + 0.06, y=l,\n",
    "                     label=str(round(l, 2)), size=7) +\n",
    "            theme_bw())\n",
    "    return plot\n",
    "\n",
    "\n",
    "def create_roc_plot_with_optimal(all_coords, optimal_threshold):\n",
    "    all_coords_copy = all_coords.copy()\n",
    "    all_coords_copy['sp'] = all_coords_copy.true_neg/all_coords_copy.neg\n",
    "    all_coords_copy['se'] = all_coords_copy.true_pos/all_coords_copy.pos\n",
    "    \n",
    "    best_coords = all_coords_copy[all_coords_copy.thresholds == optimal_threshold]\n",
    "    sp = best_coords.sp.values[0]\n",
    "    se = best_coords.se.values[0]\n",
    "\n",
    "    plot = ggplot(all_coords_copy, aes(x = 'sp', y = 'se')) +\\\n",
    "        geom_line(color=color[0], size=0.7) +\\\n",
    "        scale_y_continuous(breaks = np.arange(0, 1.1, 0.1)) +\\\n",
    "        scale_x_reverse(breaks = np.arange(0, 1.1, 0.1)) +\\\n",
    "        geom_point(data = pd.DataFrame({'sp': [sp], 'se': [se]})) +\\\n",
    "        annotate(geom = \"text\", x = sp, y = se + 0.03,\n",
    "                 label = str(round(sp, 2)) + ', ' + str(round(se, 2)), size = 7) +\\\n",
    "        theme_bw()\n",
    "    return(plot)"
   ]
  },
  {
   "cell_type": "markdown",
   "id": "b96c2501-893a-4517-ab08-b34ac4ea19e5",
   "metadata": {},
   "source": [
    "# ***1. Data Processing***"
   ]
  },
  {
   "cell_type": "markdown",
   "id": "2c1c488f-73e2-48ad-b991-16b256d8ce97",
   "metadata": {
    "tags": []
   },
   "source": [
    "## 1.1 Import Data Directly from GitHub"
   ]
  },
  {
   "cell_type": "code",
   "execution_count": 3,
   "id": "ec2ca7d5-8035-43e4-a917-4922a1ebff0d",
   "metadata": {
    "tags": []
   },
   "outputs": [
    {
     "data": {
      "text/html": [
       "<div>\n",
       "<style scoped>\n",
       "    .dataframe tbody tr th:only-of-type {\n",
       "        vertical-align: middle;\n",
       "    }\n",
       "\n",
       "    .dataframe tbody tr th {\n",
       "        vertical-align: top;\n",
       "    }\n",
       "\n",
       "    .dataframe thead th {\n",
       "        text-align: right;\n",
       "    }\n",
       "</style>\n",
       "<table border=\"1\" class=\"dataframe\">\n",
       "  <thead>\n",
       "    <tr style=\"text-align: right;\">\n",
       "      <th></th>\n",
       "      <th>comp_id</th>\n",
       "      <th>begin</th>\n",
       "      <th>end</th>\n",
       "      <th>COGS</th>\n",
       "      <th>amort</th>\n",
       "      <th>curr_assets</th>\n",
       "      <th>curr_liab</th>\n",
       "      <th>extra_exp</th>\n",
       "      <th>extra_inc</th>\n",
       "      <th>extra_profit_loss</th>\n",
       "      <th>...</th>\n",
       "      <th>gender</th>\n",
       "      <th>origin</th>\n",
       "      <th>nace_main</th>\n",
       "      <th>ind2</th>\n",
       "      <th>ind</th>\n",
       "      <th>urban_m</th>\n",
       "      <th>region_m</th>\n",
       "      <th>founded_date</th>\n",
       "      <th>exit_date</th>\n",
       "      <th>labor_avg</th>\n",
       "    </tr>\n",
       "  </thead>\n",
       "  <tbody>\n",
       "    <tr>\n",
       "      <th>0</th>\n",
       "      <td>1001034.0</td>\n",
       "      <td>2005-01-01</td>\n",
       "      <td>2005-12-31</td>\n",
       "      <td>NaN</td>\n",
       "      <td>692.592590</td>\n",
       "      <td>7266.666504</td>\n",
       "      <td>7574.074219</td>\n",
       "      <td>0.0</td>\n",
       "      <td>0.0</td>\n",
       "      <td>0.0</td>\n",
       "      <td>...</td>\n",
       "      <td>mix</td>\n",
       "      <td>Domestic</td>\n",
       "      <td>5630.0</td>\n",
       "      <td>56.0</td>\n",
       "      <td>3.0</td>\n",
       "      <td>1</td>\n",
       "      <td>Central</td>\n",
       "      <td>1990-11-19</td>\n",
       "      <td>NaN</td>\n",
       "      <td>NaN</td>\n",
       "    </tr>\n",
       "    <tr>\n",
       "      <th>1</th>\n",
       "      <td>1001034.0</td>\n",
       "      <td>2006-01-01</td>\n",
       "      <td>2006-12-31</td>\n",
       "      <td>NaN</td>\n",
       "      <td>603.703674</td>\n",
       "      <td>13122.222656</td>\n",
       "      <td>12211.111328</td>\n",
       "      <td>0.0</td>\n",
       "      <td>0.0</td>\n",
       "      <td>0.0</td>\n",
       "      <td>...</td>\n",
       "      <td>mix</td>\n",
       "      <td>Domestic</td>\n",
       "      <td>5630.0</td>\n",
       "      <td>56.0</td>\n",
       "      <td>3.0</td>\n",
       "      <td>1</td>\n",
       "      <td>Central</td>\n",
       "      <td>1990-11-19</td>\n",
       "      <td>NaN</td>\n",
       "      <td>NaN</td>\n",
       "    </tr>\n",
       "    <tr>\n",
       "      <th>2</th>\n",
       "      <td>1001034.0</td>\n",
       "      <td>2007-01-01</td>\n",
       "      <td>2007-12-31</td>\n",
       "      <td>NaN</td>\n",
       "      <td>425.925934</td>\n",
       "      <td>8196.295898</td>\n",
       "      <td>7800.000000</td>\n",
       "      <td>0.0</td>\n",
       "      <td>0.0</td>\n",
       "      <td>0.0</td>\n",
       "      <td>...</td>\n",
       "      <td>mix</td>\n",
       "      <td>Domestic</td>\n",
       "      <td>5630.0</td>\n",
       "      <td>56.0</td>\n",
       "      <td>3.0</td>\n",
       "      <td>1</td>\n",
       "      <td>Central</td>\n",
       "      <td>1990-11-19</td>\n",
       "      <td>NaN</td>\n",
       "      <td>NaN</td>\n",
       "    </tr>\n",
       "    <tr>\n",
       "      <th>3</th>\n",
       "      <td>1001034.0</td>\n",
       "      <td>2008-01-01</td>\n",
       "      <td>2008-12-31</td>\n",
       "      <td>NaN</td>\n",
       "      <td>300.000000</td>\n",
       "      <td>8485.185547</td>\n",
       "      <td>7781.481445</td>\n",
       "      <td>0.0</td>\n",
       "      <td>0.0</td>\n",
       "      <td>0.0</td>\n",
       "      <td>...</td>\n",
       "      <td>mix</td>\n",
       "      <td>Domestic</td>\n",
       "      <td>5630.0</td>\n",
       "      <td>56.0</td>\n",
       "      <td>3.0</td>\n",
       "      <td>1</td>\n",
       "      <td>Central</td>\n",
       "      <td>1990-11-19</td>\n",
       "      <td>NaN</td>\n",
       "      <td>NaN</td>\n",
       "    </tr>\n",
       "    <tr>\n",
       "      <th>4</th>\n",
       "      <td>1001034.0</td>\n",
       "      <td>2009-01-01</td>\n",
       "      <td>2009-12-31</td>\n",
       "      <td>NaN</td>\n",
       "      <td>207.407410</td>\n",
       "      <td>5137.037109</td>\n",
       "      <td>15300.000000</td>\n",
       "      <td>0.0</td>\n",
       "      <td>0.0</td>\n",
       "      <td>0.0</td>\n",
       "      <td>...</td>\n",
       "      <td>mix</td>\n",
       "      <td>Domestic</td>\n",
       "      <td>5630.0</td>\n",
       "      <td>56.0</td>\n",
       "      <td>3.0</td>\n",
       "      <td>1</td>\n",
       "      <td>Central</td>\n",
       "      <td>1990-11-19</td>\n",
       "      <td>NaN</td>\n",
       "      <td>0.083333</td>\n",
       "    </tr>\n",
       "  </tbody>\n",
       "</table>\n",
       "<p>5 rows × 48 columns</p>\n",
       "</div>"
      ],
      "text/plain": [
       "     comp_id       begin         end  COGS       amort   curr_assets  \\\n",
       "0  1001034.0  2005-01-01  2005-12-31   NaN  692.592590   7266.666504   \n",
       "1  1001034.0  2006-01-01  2006-12-31   NaN  603.703674  13122.222656   \n",
       "2  1001034.0  2007-01-01  2007-12-31   NaN  425.925934   8196.295898   \n",
       "3  1001034.0  2008-01-01  2008-12-31   NaN  300.000000   8485.185547   \n",
       "4  1001034.0  2009-01-01  2009-12-31   NaN  207.407410   5137.037109   \n",
       "\n",
       "      curr_liab  extra_exp  extra_inc  extra_profit_loss  ...  gender  \\\n",
       "0   7574.074219        0.0        0.0                0.0  ...     mix   \n",
       "1  12211.111328        0.0        0.0                0.0  ...     mix   \n",
       "2   7800.000000        0.0        0.0                0.0  ...     mix   \n",
       "3   7781.481445        0.0        0.0                0.0  ...     mix   \n",
       "4  15300.000000        0.0        0.0                0.0  ...     mix   \n",
       "\n",
       "     origin  nace_main  ind2  ind  urban_m  region_m  founded_date  exit_date  \\\n",
       "0  Domestic     5630.0  56.0  3.0        1   Central    1990-11-19        NaN   \n",
       "1  Domestic     5630.0  56.0  3.0        1   Central    1990-11-19        NaN   \n",
       "2  Domestic     5630.0  56.0  3.0        1   Central    1990-11-19        NaN   \n",
       "3  Domestic     5630.0  56.0  3.0        1   Central    1990-11-19        NaN   \n",
       "4  Domestic     5630.0  56.0  3.0        1   Central    1990-11-19        NaN   \n",
       "\n",
       "   labor_avg  \n",
       "0        NaN  \n",
       "1        NaN  \n",
       "2        NaN  \n",
       "3        NaN  \n",
       "4   0.083333  \n",
       "\n",
       "[5 rows x 48 columns]"
      ]
     },
     "execution_count": 3,
     "metadata": {},
     "output_type": "execute_result"
    }
   ],
   "source": [
    "data = pd.read_csv('https://github.com/Iandrewburg/DA3_Brandenburg/raw/main/Assignment_3/cs_bisnode_panel.csv')\n",
    "data.head()"
   ]
  },
  {
   "cell_type": "code",
   "execution_count": 4,
   "id": "7422ae90-29a2-4784-b51a-1ebc9b8fe5cc",
   "metadata": {
    "tags": []
   },
   "outputs": [
    {
     "data": {
      "text/html": [
       "<div>\n",
       "<style scoped>\n",
       "    .dataframe tbody tr th:only-of-type {\n",
       "        vertical-align: middle;\n",
       "    }\n",
       "\n",
       "    .dataframe tbody tr th {\n",
       "        vertical-align: top;\n",
       "    }\n",
       "\n",
       "    .dataframe thead th {\n",
       "        text-align: right;\n",
       "    }\n",
       "</style>\n",
       "<table border=\"1\" class=\"dataframe\">\n",
       "  <thead>\n",
       "    <tr style=\"text-align: right;\">\n",
       "      <th></th>\n",
       "      <th>comp_id</th>\n",
       "      <th>begin</th>\n",
       "      <th>end</th>\n",
       "      <th>COGS</th>\n",
       "      <th>amort</th>\n",
       "      <th>curr_assets</th>\n",
       "      <th>curr_liab</th>\n",
       "      <th>extra_exp</th>\n",
       "      <th>extra_inc</th>\n",
       "      <th>extra_profit_loss</th>\n",
       "      <th>...</th>\n",
       "      <th>gender</th>\n",
       "      <th>origin</th>\n",
       "      <th>nace_main</th>\n",
       "      <th>ind2</th>\n",
       "      <th>ind</th>\n",
       "      <th>urban_m</th>\n",
       "      <th>region_m</th>\n",
       "      <th>founded_date</th>\n",
       "      <th>exit_date</th>\n",
       "      <th>labor_avg</th>\n",
       "    </tr>\n",
       "  </thead>\n",
       "  <tbody>\n",
       "    <tr>\n",
       "      <th>0</th>\n",
       "      <td>1.001034e+06</td>\n",
       "      <td>2005-01-01</td>\n",
       "      <td>2005-12-31</td>\n",
       "      <td>NaN</td>\n",
       "      <td>692.592590</td>\n",
       "      <td>7266.666504</td>\n",
       "      <td>7574.074219</td>\n",
       "      <td>0.0</td>\n",
       "      <td>0.0</td>\n",
       "      <td>0.0</td>\n",
       "      <td>...</td>\n",
       "      <td>mix</td>\n",
       "      <td>Domestic</td>\n",
       "      <td>5630.0</td>\n",
       "      <td>56.0</td>\n",
       "      <td>3.0</td>\n",
       "      <td>1</td>\n",
       "      <td>Central</td>\n",
       "      <td>1990-11-19</td>\n",
       "      <td>NaN</td>\n",
       "      <td>NaN</td>\n",
       "    </tr>\n",
       "    <tr>\n",
       "      <th>1</th>\n",
       "      <td>1.001034e+06</td>\n",
       "      <td>2006-01-01</td>\n",
       "      <td>2006-12-31</td>\n",
       "      <td>NaN</td>\n",
       "      <td>603.703674</td>\n",
       "      <td>13122.222656</td>\n",
       "      <td>12211.111328</td>\n",
       "      <td>0.0</td>\n",
       "      <td>0.0</td>\n",
       "      <td>0.0</td>\n",
       "      <td>...</td>\n",
       "      <td>mix</td>\n",
       "      <td>Domestic</td>\n",
       "      <td>5630.0</td>\n",
       "      <td>56.0</td>\n",
       "      <td>3.0</td>\n",
       "      <td>1</td>\n",
       "      <td>Central</td>\n",
       "      <td>1990-11-19</td>\n",
       "      <td>NaN</td>\n",
       "      <td>NaN</td>\n",
       "    </tr>\n",
       "    <tr>\n",
       "      <th>2</th>\n",
       "      <td>1.001034e+06</td>\n",
       "      <td>2007-01-01</td>\n",
       "      <td>2007-12-31</td>\n",
       "      <td>NaN</td>\n",
       "      <td>425.925934</td>\n",
       "      <td>8196.295898</td>\n",
       "      <td>7800.000000</td>\n",
       "      <td>0.0</td>\n",
       "      <td>0.0</td>\n",
       "      <td>0.0</td>\n",
       "      <td>...</td>\n",
       "      <td>mix</td>\n",
       "      <td>Domestic</td>\n",
       "      <td>5630.0</td>\n",
       "      <td>56.0</td>\n",
       "      <td>3.0</td>\n",
       "      <td>1</td>\n",
       "      <td>Central</td>\n",
       "      <td>1990-11-19</td>\n",
       "      <td>NaN</td>\n",
       "      <td>NaN</td>\n",
       "    </tr>\n",
       "    <tr>\n",
       "      <th>3</th>\n",
       "      <td>1.001034e+06</td>\n",
       "      <td>2008-01-01</td>\n",
       "      <td>2008-12-31</td>\n",
       "      <td>NaN</td>\n",
       "      <td>300.000000</td>\n",
       "      <td>8485.185547</td>\n",
       "      <td>7781.481445</td>\n",
       "      <td>0.0</td>\n",
       "      <td>0.0</td>\n",
       "      <td>0.0</td>\n",
       "      <td>...</td>\n",
       "      <td>mix</td>\n",
       "      <td>Domestic</td>\n",
       "      <td>5630.0</td>\n",
       "      <td>56.0</td>\n",
       "      <td>3.0</td>\n",
       "      <td>1</td>\n",
       "      <td>Central</td>\n",
       "      <td>1990-11-19</td>\n",
       "      <td>NaN</td>\n",
       "      <td>NaN</td>\n",
       "    </tr>\n",
       "    <tr>\n",
       "      <th>4</th>\n",
       "      <td>1.001034e+06</td>\n",
       "      <td>2009-01-01</td>\n",
       "      <td>2009-12-31</td>\n",
       "      <td>NaN</td>\n",
       "      <td>207.407410</td>\n",
       "      <td>5137.037109</td>\n",
       "      <td>15300.000000</td>\n",
       "      <td>0.0</td>\n",
       "      <td>0.0</td>\n",
       "      <td>0.0</td>\n",
       "      <td>...</td>\n",
       "      <td>mix</td>\n",
       "      <td>Domestic</td>\n",
       "      <td>5630.0</td>\n",
       "      <td>56.0</td>\n",
       "      <td>3.0</td>\n",
       "      <td>1</td>\n",
       "      <td>Central</td>\n",
       "      <td>1990-11-19</td>\n",
       "      <td>NaN</td>\n",
       "      <td>0.083333</td>\n",
       "    </tr>\n",
       "    <tr>\n",
       "      <th>...</th>\n",
       "      <td>...</td>\n",
       "      <td>...</td>\n",
       "      <td>...</td>\n",
       "      <td>...</td>\n",
       "      <td>...</td>\n",
       "      <td>...</td>\n",
       "      <td>...</td>\n",
       "      <td>...</td>\n",
       "      <td>...</td>\n",
       "      <td>...</td>\n",
       "      <td>...</td>\n",
       "      <td>...</td>\n",
       "      <td>...</td>\n",
       "      <td>...</td>\n",
       "      <td>...</td>\n",
       "      <td>...</td>\n",
       "      <td>...</td>\n",
       "      <td>...</td>\n",
       "      <td>...</td>\n",
       "      <td>...</td>\n",
       "      <td>...</td>\n",
       "    </tr>\n",
       "    <tr>\n",
       "      <th>287824</th>\n",
       "      <td>4.641209e+11</td>\n",
       "      <td>2011-01-01</td>\n",
       "      <td>2011-12-31</td>\n",
       "      <td>NaN</td>\n",
       "      <td>0.000000</td>\n",
       "      <td>1807.407349</td>\n",
       "      <td>3.703704</td>\n",
       "      <td>0.0</td>\n",
       "      <td>0.0</td>\n",
       "      <td>0.0</td>\n",
       "      <td>...</td>\n",
       "      <td>female</td>\n",
       "      <td>Domestic</td>\n",
       "      <td>5510.0</td>\n",
       "      <td>55.0</td>\n",
       "      <td>3.0</td>\n",
       "      <td>2</td>\n",
       "      <td>East</td>\n",
       "      <td>1990-08-22</td>\n",
       "      <td>NaN</td>\n",
       "      <td>NaN</td>\n",
       "    </tr>\n",
       "    <tr>\n",
       "      <th>287825</th>\n",
       "      <td>4.641209e+11</td>\n",
       "      <td>2012-01-01</td>\n",
       "      <td>2012-12-31</td>\n",
       "      <td>NaN</td>\n",
       "      <td>0.000000</td>\n",
       "      <td>1518.518555</td>\n",
       "      <td>96.296295</td>\n",
       "      <td>0.0</td>\n",
       "      <td>0.0</td>\n",
       "      <td>0.0</td>\n",
       "      <td>...</td>\n",
       "      <td>female</td>\n",
       "      <td>Domestic</td>\n",
       "      <td>5510.0</td>\n",
       "      <td>55.0</td>\n",
       "      <td>3.0</td>\n",
       "      <td>2</td>\n",
       "      <td>East</td>\n",
       "      <td>1990-08-22</td>\n",
       "      <td>NaN</td>\n",
       "      <td>NaN</td>\n",
       "    </tr>\n",
       "    <tr>\n",
       "      <th>287826</th>\n",
       "      <td>4.641209e+11</td>\n",
       "      <td>2013-01-01</td>\n",
       "      <td>2013-12-31</td>\n",
       "      <td>NaN</td>\n",
       "      <td>0.000000</td>\n",
       "      <td>988.888916</td>\n",
       "      <td>77.777779</td>\n",
       "      <td>0.0</td>\n",
       "      <td>0.0</td>\n",
       "      <td>0.0</td>\n",
       "      <td>...</td>\n",
       "      <td>NaN</td>\n",
       "      <td>NaN</td>\n",
       "      <td>5510.0</td>\n",
       "      <td>55.0</td>\n",
       "      <td>3.0</td>\n",
       "      <td>2</td>\n",
       "      <td>East</td>\n",
       "      <td>1990-08-22</td>\n",
       "      <td>NaN</td>\n",
       "      <td>NaN</td>\n",
       "    </tr>\n",
       "    <tr>\n",
       "      <th>287827</th>\n",
       "      <td>4.641209e+11</td>\n",
       "      <td>2014-01-01</td>\n",
       "      <td>2014-12-31</td>\n",
       "      <td>NaN</td>\n",
       "      <td>0.000000</td>\n",
       "      <td>644.444458</td>\n",
       "      <td>233.333328</td>\n",
       "      <td>0.0</td>\n",
       "      <td>0.0</td>\n",
       "      <td>0.0</td>\n",
       "      <td>...</td>\n",
       "      <td>female</td>\n",
       "      <td>Domestic</td>\n",
       "      <td>5510.0</td>\n",
       "      <td>55.0</td>\n",
       "      <td>3.0</td>\n",
       "      <td>2</td>\n",
       "      <td>East</td>\n",
       "      <td>1990-08-22</td>\n",
       "      <td>NaN</td>\n",
       "      <td>NaN</td>\n",
       "    </tr>\n",
       "    <tr>\n",
       "      <th>287828</th>\n",
       "      <td>4.641209e+11</td>\n",
       "      <td>2015-01-01</td>\n",
       "      <td>2015-12-31</td>\n",
       "      <td>NaN</td>\n",
       "      <td>0.000000</td>\n",
       "      <td>166.666672</td>\n",
       "      <td>270.370361</td>\n",
       "      <td>0.0</td>\n",
       "      <td>0.0</td>\n",
       "      <td>0.0</td>\n",
       "      <td>...</td>\n",
       "      <td>female</td>\n",
       "      <td>Domestic</td>\n",
       "      <td>5510.0</td>\n",
       "      <td>55.0</td>\n",
       "      <td>3.0</td>\n",
       "      <td>2</td>\n",
       "      <td>East</td>\n",
       "      <td>1990-08-22</td>\n",
       "      <td>NaN</td>\n",
       "      <td>NaN</td>\n",
       "    </tr>\n",
       "  </tbody>\n",
       "</table>\n",
       "<p>287829 rows × 48 columns</p>\n",
       "</div>"
      ],
      "text/plain": [
       "             comp_id       begin         end  COGS       amort   curr_assets  \\\n",
       "0       1.001034e+06  2005-01-01  2005-12-31   NaN  692.592590   7266.666504   \n",
       "1       1.001034e+06  2006-01-01  2006-12-31   NaN  603.703674  13122.222656   \n",
       "2       1.001034e+06  2007-01-01  2007-12-31   NaN  425.925934   8196.295898   \n",
       "3       1.001034e+06  2008-01-01  2008-12-31   NaN  300.000000   8485.185547   \n",
       "4       1.001034e+06  2009-01-01  2009-12-31   NaN  207.407410   5137.037109   \n",
       "...              ...         ...         ...   ...         ...           ...   \n",
       "287824  4.641209e+11  2011-01-01  2011-12-31   NaN    0.000000   1807.407349   \n",
       "287825  4.641209e+11  2012-01-01  2012-12-31   NaN    0.000000   1518.518555   \n",
       "287826  4.641209e+11  2013-01-01  2013-12-31   NaN    0.000000    988.888916   \n",
       "287827  4.641209e+11  2014-01-01  2014-12-31   NaN    0.000000    644.444458   \n",
       "287828  4.641209e+11  2015-01-01  2015-12-31   NaN    0.000000    166.666672   \n",
       "\n",
       "           curr_liab  extra_exp  extra_inc  extra_profit_loss  ...  gender  \\\n",
       "0        7574.074219        0.0        0.0                0.0  ...     mix   \n",
       "1       12211.111328        0.0        0.0                0.0  ...     mix   \n",
       "2        7800.000000        0.0        0.0                0.0  ...     mix   \n",
       "3        7781.481445        0.0        0.0                0.0  ...     mix   \n",
       "4       15300.000000        0.0        0.0                0.0  ...     mix   \n",
       "...              ...        ...        ...                ...  ...     ...   \n",
       "287824      3.703704        0.0        0.0                0.0  ...  female   \n",
       "287825     96.296295        0.0        0.0                0.0  ...  female   \n",
       "287826     77.777779        0.0        0.0                0.0  ...     NaN   \n",
       "287827    233.333328        0.0        0.0                0.0  ...  female   \n",
       "287828    270.370361        0.0        0.0                0.0  ...  female   \n",
       "\n",
       "          origin  nace_main  ind2  ind  urban_m  region_m  founded_date  \\\n",
       "0       Domestic     5630.0  56.0  3.0        1   Central    1990-11-19   \n",
       "1       Domestic     5630.0  56.0  3.0        1   Central    1990-11-19   \n",
       "2       Domestic     5630.0  56.0  3.0        1   Central    1990-11-19   \n",
       "3       Domestic     5630.0  56.0  3.0        1   Central    1990-11-19   \n",
       "4       Domestic     5630.0  56.0  3.0        1   Central    1990-11-19   \n",
       "...          ...        ...   ...  ...      ...       ...           ...   \n",
       "287824  Domestic     5510.0  55.0  3.0        2      East    1990-08-22   \n",
       "287825  Domestic     5510.0  55.0  3.0        2      East    1990-08-22   \n",
       "287826       NaN     5510.0  55.0  3.0        2      East    1990-08-22   \n",
       "287827  Domestic     5510.0  55.0  3.0        2      East    1990-08-22   \n",
       "287828  Domestic     5510.0  55.0  3.0        2      East    1990-08-22   \n",
       "\n",
       "        exit_date  labor_avg  \n",
       "0             NaN        NaN  \n",
       "1             NaN        NaN  \n",
       "2             NaN        NaN  \n",
       "3             NaN        NaN  \n",
       "4             NaN   0.083333  \n",
       "...           ...        ...  \n",
       "287824        NaN        NaN  \n",
       "287825        NaN        NaN  \n",
       "287826        NaN        NaN  \n",
       "287827        NaN        NaN  \n",
       "287828        NaN        NaN  \n",
       "\n",
       "[287829 rows x 48 columns]"
      ]
     },
     "execution_count": 4,
     "metadata": {},
     "output_type": "execute_result"
    }
   ],
   "source": [
    "data"
   ]
  },
  {
   "cell_type": "code",
   "execution_count": 5,
   "id": "f3946dc4-31d2-46cf-ba0f-02399963f4c0",
   "metadata": {
    "tags": []
   },
   "outputs": [
    {
     "data": {
      "text/plain": [
       "Index(['comp_id', 'begin', 'end', 'COGS', 'amort', 'curr_assets', 'curr_liab',\n",
       "       'extra_exp', 'extra_inc', 'extra_profit_loss', 'finished_prod',\n",
       "       'fixed_assets', 'inc_bef_tax', 'intang_assets', 'inventories',\n",
       "       'liq_assets', 'material_exp', 'net_dom_sales', 'net_exp_sales',\n",
       "       'personnel_exp', 'profit_loss_year', 'sales', 'share_eq',\n",
       "       'subscribed_cap', 'tang_assets', 'wages', 'D', 'balsheet_flag',\n",
       "       'balsheet_length', 'balsheet_notfullyear', 'year', 'founded_year',\n",
       "       'exit_year', 'ceo_count', 'foreign', 'female', 'birth_year',\n",
       "       'inoffice_days', 'gender', 'origin', 'nace_main', 'ind2', 'ind',\n",
       "       'urban_m', 'region_m', 'founded_date', 'exit_date', 'labor_avg'],\n",
       "      dtype='object')"
      ]
     },
     "execution_count": 5,
     "metadata": {},
     "output_type": "execute_result"
    }
   ],
   "source": [
    "# Checking out the column names\n",
    "data.columns"
   ]
  },
  {
   "cell_type": "code",
   "execution_count": 6,
   "id": "0b297574-c4cb-465c-aa0e-83bc0c01acd6",
   "metadata": {
    "scrolled": true,
    "tags": []
   },
   "outputs": [
    {
     "name": "stdout",
     "output_type": "stream",
     "text": [
      "<class 'pandas.core.frame.DataFrame'>\n",
      "RangeIndex: 287829 entries, 0 to 287828\n",
      "Data columns (total 48 columns):\n",
      " #   Column                Non-Null Count   Dtype  \n",
      "---  ------                --------------   -----  \n",
      " 0   comp_id               287829 non-null  float64\n",
      " 1   begin                 287829 non-null  object \n",
      " 2   end                   287829 non-null  object \n",
      " 3   COGS                  18257 non-null   float64\n",
      " 4   amort                 279789 non-null  float64\n",
      " 5   curr_assets           287698 non-null  float64\n",
      " 6   curr_liab             287698 non-null  float64\n",
      " 7   extra_exp             269300 non-null  float64\n",
      " 8   extra_inc             269300 non-null  float64\n",
      " 9   extra_profit_loss     270626 non-null  float64\n",
      " 10  finished_prod         17485 non-null   float64\n",
      " 11  fixed_assets          287698 non-null  float64\n",
      " 12  inc_bef_tax           280392 non-null  float64\n",
      " 13  intang_assets         287689 non-null  float64\n",
      " 14  inventories           287698 non-null  float64\n",
      " 15  liq_assets            287698 non-null  float64\n",
      " 16  material_exp          279789 non-null  float64\n",
      " 17  net_dom_sales         18257 non-null   float64\n",
      " 18  net_exp_sales         18257 non-null   float64\n",
      " 19  personnel_exp         279789 non-null  float64\n",
      " 20  profit_loss_year      277945 non-null  float64\n",
      " 21  sales                 280392 non-null  float64\n",
      " 22  share_eq              287698 non-null  float64\n",
      " 23  subscribed_cap        287698 non-null  float64\n",
      " 24  tang_assets           286359 non-null  float64\n",
      " 25  wages                 17983 non-null   float64\n",
      " 26  D                     0 non-null       float64\n",
      " 27  balsheet_flag         287829 non-null  int64  \n",
      " 28  balsheet_length       287829 non-null  int64  \n",
      " 29  balsheet_notfullyear  287829 non-null  int64  \n",
      " 30  year                  287829 non-null  int64  \n",
      " 31  founded_year          231372 non-null  float64\n",
      " 32  exit_year             38859 non-null   float64\n",
      " 33  ceo_count             231402 non-null  float64\n",
      " 34  foreign               231402 non-null  float64\n",
      " 35  female                231402 non-null  float64\n",
      " 36  birth_year            176011 non-null  float64\n",
      " 37  inoffice_days         231402 non-null  float64\n",
      " 38  gender                231402 non-null  object \n",
      " 39  origin                231402 non-null  object \n",
      " 40  nace_main             286791 non-null  float64\n",
      " 41  ind2                  286791 non-null  float64\n",
      " 42  ind                   278060 non-null  float64\n",
      " 43  urban_m               287829 non-null  int64  \n",
      " 44  region_m              286989 non-null  object \n",
      " 45  founded_date          287778 non-null  object \n",
      " 46  exit_date             56180 non-null   object \n",
      " 47  labor_avg             141297 non-null  float64\n",
      "dtypes: float64(36), int64(5), object(7)\n",
      "memory usage: 105.4+ MB\n"
     ]
    }
   ],
   "source": [
    "# Checking out the info of the data set\n",
    "data.info()"
   ]
  },
  {
   "cell_type": "markdown",
   "id": "bf81ae59-72ae-4ffe-95bf-20e23770ed39",
   "metadata": {
    "tags": []
   },
   "source": [
    "## 1.2 Label Engineering"
   ]
  },
  {
   "cell_type": "code",
   "execution_count": 7,
   "id": "b96bbb60-ab28-49a9-bcd6-a9f09ae0039b",
   "metadata": {
    "tags": []
   },
   "outputs": [],
   "source": [
    "# Set the index to the columns of interest\n",
    "data = data.set_index([\"year\", \"comp_id\"])\n",
    "\n",
    "# Perform the unstack operation, which will automatically introduce NaNs for missing combinations\n",
    "data = data.unstack().stack(dropna=False)\n",
    "\n",
    "# Reset the index to make 'year' and 'comp_id' regular columns again\n",
    "data = data.reset_index()\n",
    "\n",
    "# Note: The unstack() and stack(dropna=False) operations introduce NaNs for missing entries automatically.\n"
   ]
  },
  {
   "cell_type": "code",
   "execution_count": 8,
   "id": "0013df0d-b759-4284-acce-7777a50e5f65",
   "metadata": {
    "tags": []
   },
   "outputs": [],
   "source": [
    "# Generate status_alive; if sales are larger than zero and not-NA, then firm is alive\n",
    "data[\"status_alive\"] = (data[\"sales\"] > 0 & (False == data[\"sales\"].isna())).astype(int)\n",
    "\n",
    "\n",
    "# It defaults in two years if there are sales in this year but no sales two years later\n",
    "# Status_in_two_years: data.groupby('comp_id')['status_alive'].shift(-2)\n",
    "data[\"default\"] = (\n",
    "    (data[\"status_alive\"] == 1)\n",
    "    & (data.groupby(\"comp_id\")[\"status_alive\"].shift(-2) == 0)\n",
    ").astype(int)\n"
   ]
  },
  {
   "cell_type": "code",
   "execution_count": 9,
   "id": "c8619a01-248e-491c-9de5-24ff0159c7dd",
   "metadata": {
    "tags": []
   },
   "outputs": [
    {
     "data": {
      "text/plain": [
       "0    318453\n",
       "1    238491\n",
       "Name: status_alive, dtype: int64"
      ]
     },
     "execution_count": 9,
     "metadata": {},
     "output_type": "execute_result"
    }
   ],
   "source": [
    "data['status_alive'].value_counts()"
   ]
  },
  {
   "cell_type": "code",
   "execution_count": 10,
   "id": "6e26387c-464d-4ef9-8c2a-0727b125a53b",
   "metadata": {
    "tags": []
   },
   "outputs": [
    {
     "data": {
      "text/plain": [
       "0    507577\n",
       "1     49367\n",
       "Name: default, dtype: int64"
      ]
     },
     "execution_count": 10,
     "metadata": {},
     "output_type": "execute_result"
    }
   ],
   "source": [
    "data['default'].value_counts()"
   ]
  },
  {
   "cell_type": "code",
   "execution_count": 11,
   "id": "1d9fc7aa-40fe-4aba-a99c-7ed1880fc6f1",
   "metadata": {
    "tags": []
   },
   "outputs": [
    {
     "data": {
      "text/plain": [
       "count    556944.000000\n",
       "mean          0.088639\n",
       "std           0.284222\n",
       "min           0.000000\n",
       "25%           0.000000\n",
       "50%           0.000000\n",
       "75%           0.000000\n",
       "max           1.000000\n",
       "Name: default, dtype: float64"
      ]
     },
     "execution_count": 11,
     "metadata": {},
     "output_type": "execute_result"
    }
   ],
   "source": [
    "data['default'].describe()"
   ]
  },
  {
   "cell_type": "markdown",
   "id": "ff7f729c-47d9-452e-b04e-2894ac5906cd",
   "metadata": {},
   "source": [
    "This concludes that 311,016 firms defaulted and 245,928 firms stayed alive, and 2 years later, 274,393 will stay alive and 13,436 firms will default."
   ]
  },
  {
   "cell_type": "code",
   "execution_count": 12,
   "id": "53ffdbfc-a3f2-4497-b300-e2e2e817520f",
   "metadata": {
    "tags": []
   },
   "outputs": [
    {
     "data": {
      "text/plain": [
       "count    2.803920e+05\n",
       "mean     5.042513e+05\n",
       "std      3.861890e+06\n",
       "min     -1.472559e+07\n",
       "25%      5.295370e+03\n",
       "50%      3.280741e+04\n",
       "75%      1.210056e+05\n",
       "max      1.110294e+08\n",
       "Name: sales, dtype: float64"
      ]
     },
     "execution_count": 12,
     "metadata": {},
     "output_type": "execute_result"
    }
   ],
   "source": [
    "data['sales'].describe()"
   ]
  },
  {
   "cell_type": "code",
   "execution_count": 13,
   "id": "f3483476-c2c6-45d3-8204-67a17e133c67",
   "metadata": {
    "tags": []
   },
   "outputs": [],
   "source": [
    "# Replacimg negative sales values with 1. This operation is done outside of \n",
    "# ...the `assign` method because it's a direct modification of the dataframe.\n",
    "data[\"sales\"] = np.where(\n",
    "    data[\"sales\"] < 0, 1, data[\"sales\"]\n",
    ")\n",
    "\n",
    "# Adding new columns to the dataframe through the `assign` method.\n",
    "data = data.assign(\n",
    "    # Create a new column 'ln_sales'. If sales are greater than 0, calculate the natural logarithm of sales.\n",
    "    # If sales are NaN, keep them as NaN. Otherwise, set to 0. This ensures that negative sales, \n",
    "    # ...if any existed before the first operation, now converted to 1, won't result in a math error.\n",
    "    ln_sales=np.where(\n",
    "        data[\"sales\"] > 0,\n",
    "        np.log(data[\"sales\"]),\n",
    "        (np.where(data[\"sales\"].isna(), np.nan, 0)),\n",
    "    ),\n",
    "    # Convert sales to millions by dividing by 1,000,000 for easier readability and analysis.\n",
    "    sales_mil=data[\"sales\"] / 1000000,\n",
    "    # Similar to 'ln_sales', but this time applying the logarithm to the sales converted to millions. \n",
    "    # ...Handles NaN and non-positive values similarly.\n",
    "    sales_mil_log=np.where(\n",
    "        data[\"sales\"] > 0,\n",
    "        np.log(data[\"sales\"] / 1000000),\n",
    "        (np.where(data[\"sales\"].isna(), np.nan, 0)),\n",
    "    ),\n",
    ")"
   ]
  },
  {
   "cell_type": "code",
   "execution_count": 14,
   "id": "86eb8f55-6f54-41c9-a7bc-6a77dcd7293c",
   "metadata": {
    "tags": []
   },
   "outputs": [],
   "source": [
    "# Calculating the year-over-year change in the logarithm of sales (in millions) by subtracting \n",
    "# ...the previous year's value from the current year's value for each company.\n",
    "data['d1_sales_mil_log']=data['sales_mil_log']-data.groupby('comp_id')['sales_mil_log'].shift(1)\n"
   ]
  },
  {
   "cell_type": "code",
   "execution_count": 15,
   "id": "4d96578e-b1e8-409c-b0f7-92069056fcec",
   "metadata": {
    "tags": []
   },
   "outputs": [],
   "source": [
    "# Calculating the age of each company by subtracting the founding year from the current year. \n",
    "# ...If the result is negative (which might happen due to data errors), set the age to 0.\n",
    "data[\"age\"] = np.where(\n",
    "    data[\"year\"] - data[\"founded_year\"] < 0, 0, data[\"year\"] - data[\"founded_year\"]\n",
    ")\n",
    "\n",
    "# Identifying new companies or those without a full year of balance sheet data. \n",
    "# ...Mark them with a 1, others with a 0. If 'age' is NaN, keep it as NaN.\n",
    "data[\"new\"] = np.where(\n",
    "    ((data[\"age\"] <= 1) | (data[\"balsheet_notfullyear\"] == 1)),\n",
    "    1,\n",
    "    (np.where(data[\"age\"].isna(), np.nan, 0)),\n",
    ")\n",
    "\n",
    "# For new companies, set the year-over-year change in log sales to 0. \n",
    "# ...This adjustment is for handling new entries or missing data appropriately.\n",
    "data[\"d1_sales_mil_log\"] = np.where(\n",
    "    data[\"new\"] == 1, 0, np.where(data[\"new\"].isna(), np.nan, data[\"d1_sales_mil_log\"])\n",
    ")\n",
    "\n",
    "# If the year-over-year change in log sales is NaN, consider the company \n",
    "# ...as new and update the 'new' column accordingly.\n",
    "data[\"new\"] = np.where(data[\"d1_sales_mil_log\"].isna(), 1, data[\"new\"])\n",
    "\n",
    "# Replacing NaN values in 'd1_sales_mil_log' with 0, ensuring the dataset \n",
    "# ...does not have missing values in this calculation.\n",
    "data[\"d1_sales_mil_log\"] = np.where(\n",
    "    data[\"d1_sales_mil_log\"].isna(), 0, data[\"d1_sales_mil_log\"]\n",
    ")"
   ]
  },
  {
   "cell_type": "code",
   "execution_count": 16,
   "id": "f1644e72-a689-43dd-917b-56755016f0e6",
   "metadata": {
    "tags": []
   },
   "outputs": [
    {
     "data": {
      "text/plain": [
       "count    556944.000000\n",
       "mean          0.680936\n",
       "std           0.466114\n",
       "min           0.000000\n",
       "25%           0.000000\n",
       "50%           1.000000\n",
       "75%           1.000000\n",
       "max           1.000000\n",
       "Name: new, dtype: float64"
      ]
     },
     "execution_count": 16,
     "metadata": {},
     "output_type": "execute_result"
    }
   ],
   "source": [
    "data['new'].describe()"
   ]
  },
  {
   "cell_type": "markdown",
   "id": "966080a6-d7e0-4525-b6b7-76412d9131c4",
   "metadata": {},
   "source": [
    "This concludes that there are 556,944 new firms."
   ]
  },
  {
   "cell_type": "code",
   "execution_count": 17,
   "id": "150ef83e-709f-4506-b939-931b09e4743d",
   "metadata": {
    "scrolled": true,
    "tags": []
   },
   "outputs": [
    {
     "data": {
      "text/plain": [
       "year                         0\n",
       "comp_id                      0\n",
       "begin                   269115\n",
       "end                     269115\n",
       "COGS                    538687\n",
       "amort                   277155\n",
       "curr_assets             269246\n",
       "curr_liab               269246\n",
       "extra_exp               287644\n",
       "extra_inc               287644\n",
       "extra_profit_loss       286318\n",
       "finished_prod           539459\n",
       "fixed_assets            269246\n",
       "inc_bef_tax             276552\n",
       "intang_assets           269255\n",
       "inventories             269246\n",
       "liq_assets              269246\n",
       "material_exp            277155\n",
       "net_dom_sales           538687\n",
       "net_exp_sales           538687\n",
       "personnel_exp           277155\n",
       "profit_loss_year        278999\n",
       "sales                   276552\n",
       "share_eq                269246\n",
       "subscribed_cap          269246\n",
       "tang_assets             270585\n",
       "wages                   538961\n",
       "D                       556944\n",
       "balsheet_flag           269115\n",
       "balsheet_length         269115\n",
       "balsheet_notfullyear    269115\n",
       "founded_year            325572\n",
       "exit_year               518085\n",
       "ceo_count               325542\n",
       "foreign                 325542\n",
       "female                  325542\n",
       "birth_year              380933\n",
       "inoffice_days           325542\n",
       "gender                  325542\n",
       "origin                  325542\n",
       "nace_main               270153\n",
       "ind2                    270153\n",
       "ind                     278884\n",
       "urban_m                 269115\n",
       "region_m                269955\n",
       "founded_date            269166\n",
       "exit_date               500764\n",
       "labor_avg               415647\n",
       "status_alive                 0\n",
       "default                      0\n",
       "ln_sales                276552\n",
       "sales_mil               276552\n",
       "sales_mil_log           276552\n",
       "d1_sales_mil_log             0\n",
       "age                     325572\n",
       "new                          0\n",
       "dtype: int64"
      ]
     },
     "execution_count": 17,
     "metadata": {},
     "output_type": "execute_result"
    }
   ],
   "source": [
    "data.isna().sum()"
   ]
  },
  {
   "cell_type": "markdown",
   "id": "3bcc3cc7-144b-49fe-bce3-dfef8e02434e",
   "metadata": {
    "tags": []
   },
   "source": [
    "## 1.3 Feature Engineering"
   ]
  },
  {
   "cell_type": "code",
   "execution_count": 18,
   "id": "4d220d12-4149-4e8f-a126-650540614bd0",
   "metadata": {
    "tags": []
   },
   "outputs": [],
   "source": [
    "# Categorizing the industry codes into broader groups\n",
    "data[\"ind2_cat\"] = data[\"ind2\"].copy()\n",
    "data[\"ind2_cat\"] = np.where(data[\"ind2\"] > 56, 60, data[\"ind2_cat\"])\n",
    "data[\"ind2_cat\"] = np.where(data[\"ind2\"] < 26, 20, data[\"ind2_cat\"])\n",
    "data[\"ind2_cat\"] = np.where(\n",
    "    (data[\"ind2\"] < 55) & (data[\"ind2\"] > 35), 40, data[\"ind2_cat\"]\n",
    ")\n",
    "data[\"ind2_cat\"] = np.where(data[\"ind2\"] == 31, 30, data[\"ind2_cat\"])\n",
    "data[\"ind2_cat\"] = np.where(data[\"ind2\"].isna(), 99, data[\"ind2_cat\"])"
   ]
  },
  {
   "cell_type": "code",
   "execution_count": 19,
   "id": "a983386a-6524-4040-8a68-68f3bcba26b6",
   "metadata": {
    "tags": []
   },
   "outputs": [
    {
     "data": {
      "text/plain": [
       "ind2_cat\n",
       "20.0       675\n",
       "26.0     14877\n",
       "27.0      9116\n",
       "28.0     26098\n",
       "29.0      4379\n",
       "30.0      2499\n",
       "32.0      1820\n",
       "33.0     21839\n",
       "35.0         6\n",
       "40.0      2766\n",
       "55.0     33756\n",
       "56.0    165521\n",
       "60.0      3439\n",
       "99.0    270153\n",
       "Name: comp_id, dtype: int64"
      ]
     },
     "execution_count": 19,
     "metadata": {},
     "output_type": "execute_result"
    }
   ],
   "source": [
    "# Checking out the industry codes using comp_id as a reference\n",
    "data.groupby('ind2_cat').count()['comp_id']"
   ]
  },
  {
   "cell_type": "code",
   "execution_count": 20,
   "id": "182fd6a9-c356-4e06-af5e-086911a4e6f6",
   "metadata": {
    "tags": []
   },
   "outputs": [],
   "source": [
    "# Adding more variables as firm characteristics\n",
    "data[\"age2\"] = data[\"age\"] ** 2\n",
    "\n",
    "# Grouping values for foreign_management as dummies \n",
    "data[\"foreign_management\"] = np.where(\n",
    "    data[\"foreign\"] >= 0.5, 1, np.where(data[\"foreign\"].isna(), np.nan, 0)\n",
    ")\n",
    "\n",
    "# Creating new columns for the categorical gender and and region variables\n",
    "data[\"gender_m\"] = data[\"gender\"].astype(\"category\")\n",
    "data[\"m_region_loc\"] = data[\"region_m\"].astype(\"category\")"
   ]
  },
  {
   "cell_type": "markdown",
   "id": "deb33eeb-c5bd-47bc-90ee-555ed14ea9f1",
   "metadata": {},
   "source": [
    "### Looking at financial variables and creating additional ones"
   ]
  },
  {
   "cell_type": "code",
   "execution_count": 21,
   "id": "f8780a66-8711-48cc-bf82-0ecc8ff4de66",
   "metadata": {
    "tags": []
   },
   "outputs": [
    {
     "data": {
      "text/plain": [
       "flag_asset_problem\n",
       "0.0    287466\n",
       "1.0       223\n",
       "Name: comp_id, dtype: int64"
      ]
     },
     "execution_count": 21,
     "metadata": {},
     "output_type": "execute_result"
    }
   ],
   "source": [
    "# Looking at financial variables and creating new financial ratios\n",
    "\n",
    "# As assets cannot be negative: transforming the negative asset values to 0 and flagging them\n",
    "data[\"flag_asset_problem\"] = np.where(\n",
    "    (\n",
    "        (data[\"intang_assets\"] < 0)\n",
    "        | (data[\"curr_assets\"] < 0)\n",
    "        | (data[\"fixed_assets\"] < 0)\n",
    "    ),\n",
    "    1,\n",
    "    0,\n",
    ")\n",
    "data[\"flag_asset_problem\"] = np.where(\n",
    "    (\n",
    "        (data[\"intang_assets\"].isna())\n",
    "        | (data[\"curr_assets\"].isna())\n",
    "        | (data[\"fixed_assets\"].isna())\n",
    "    ),\n",
    "    np.nan,\n",
    "    data[\"flag_asset_problem\"],\n",
    ")\n",
    "data.groupby(\"flag_asset_problem\").count()[\"comp_id\"]"
   ]
  },
  {
   "cell_type": "code",
   "execution_count": 22,
   "id": "47a411dd-d39f-4cc1-9eef-0fa77f23fb2a",
   "metadata": {
    "tags": []
   },
   "outputs": [],
   "source": [
    "# Tranforming the negative asset variables to 0\n",
    "data[\"intang_assets\"] = np.where(data[\"intang_assets\"] < 0, 0, data[\"intang_assets\"])\n",
    "data[\"curr_assets\"] = np.where(data[\"curr_assets\"] < 0, 0, data[\"curr_assets\"])\n",
    "data[\"fixed_assets\"] = np.where(data[\"fixed_assets\"] < 0, 0, data[\"fixed_assets\"])"
   ]
  },
  {
   "cell_type": "code",
   "execution_count": 23,
   "id": "834d1599-b416-40d4-a519-9478afc68acc",
   "metadata": {
    "tags": []
   },
   "outputs": [
    {
     "data": {
      "text/plain": [
       "count    2.876890e+05\n",
       "mean     5.980575e+05\n",
       "std      2.623770e+07\n",
       "min      0.000000e+00\n",
       "25%      4.792593e+03\n",
       "50%      2.024815e+04\n",
       "75%      8.810741e+04\n",
       "max      1.032471e+10\n",
       "Name: total_assets_bs, dtype: float64"
      ]
     },
     "execution_count": 23,
     "metadata": {},
     "output_type": "execute_result"
    }
   ],
   "source": [
    "# Generating the total assets balance sheet variable by adding up the intangible, current and fixed assets\n",
    "data[\"total_assets_bs\"] = (\n",
    "    data[\"intang_assets\"] + data[\"curr_assets\"] + data[\"fixed_assets\"]\n",
    ")\n",
    "data[\"total_assets_bs\"].describe()"
   ]
  },
  {
   "cell_type": "code",
   "execution_count": 24,
   "id": "a4f33ffa-e557-4563-a667-1097a2d0458d",
   "metadata": {
    "tags": []
   },
   "outputs": [],
   "source": [
    "# Collecting the profit and loss names\n",
    "pl_names = ['extra_exp',\n",
    "            'extra_inc',\n",
    "            'extra_profit_loss',\n",
    "            'inc_bef_tax',\n",
    "            'inventories',\n",
    "            'material_exp',\n",
    "            'profit_loss_year',\n",
    "            'personnel_exp']\n",
    "\n",
    "# Collecting the balance sheet names\n",
    "bs_names = ['intang_assets',\n",
    "            'curr_liab',\n",
    "            'fixed_assets',\n",
    "            'liq_assets',\n",
    "            'curr_assets',\n",
    "            'share_eq',\n",
    "            'subscribed_cap',\n",
    "            'tang_assets' ]"
   ]
  },
  {
   "cell_type": "code",
   "execution_count": 25,
   "id": "989584b4-db6d-4ad4-bb78-ac9d99f970f1",
   "metadata": {
    "tags": []
   },
   "outputs": [],
   "source": [
    "# Scaling the the pl_names elements by dividing them with sales and creating a new column for them\n",
    "data[[col + \"_pl\" for col in pl_names]] = data[pl_names].div(\n",
    "    data[\"sales\"], axis=\"index\"\n",
    ")"
   ]
  },
  {
   "cell_type": "code",
   "execution_count": 26,
   "id": "a9c643fa-dd5b-436b-9dd1-69129be27e8e",
   "metadata": {
    "tags": []
   },
   "outputs": [],
   "source": [
    "# Creating new columns for bs_names by dividing each specified column by total_assets_bs\n",
    "for col in bs_names:\n",
    "    # Assuming bs_names does not already include \"_bs\"\n",
    "    new_col_name = f\"{col}_bs\"\n",
    "    # Replacing Infinite and NaN values with 0 in the new column\n",
    "    data[new_col_name] = data[col].div(data[\"total_assets_bs\"]).replace((np.inf, -np.inf, np.nan), 0)\n",
    "    \n",
    "    # Set values to NaN where total_assets_bs is NaN\n",
    "    data[new_col_name] = np.where(data[\"total_assets_bs\"].isna(), np.nan, data[new_col_name])\n"
   ]
  },
  {
   "cell_type": "code",
   "execution_count": 27,
   "id": "906a6509-0356-41b5-b9f7-5162ddad6d85",
   "metadata": {
    "tags": []
   },
   "outputs": [],
   "source": [
    "# Creating new columns for bs_names by dividing each specified column by total_assets_bs\n",
    "for col in bs_names:\n",
    "    # Assuming bs_names does not already include \"_bs\"\n",
    "    new_col_name = f\"{col}_bs\" \n",
    "    # Directly assigning the result of division, handling NaN in total_assets_bs inline\n",
    "    data[new_col_name] = np.where(\n",
    "        data[\"total_assets_bs\"].isna(), \n",
    "        # If total_assets_bs is NaN, assign NaN\n",
    "        np.nan, \n",
    "        # Handling division by zero by replacing NaN values resulting from division by zero with 0\n",
    "        # ... and replacing Infinite values with 0\n",
    "        data[col].div(data[\"total_assets_bs\"], fill_value=0).replace((np.inf, -np.inf), 0)\n",
    "    )"
   ]
  },
  {
   "cell_type": "code",
   "execution_count": 28,
   "id": "7a73753f-c229-4c9f-aa98-802db27ae620",
   "metadata": {
    "tags": []
   },
   "outputs": [],
   "source": [
    "# Dividing all bs_names elements by total_assets_bs and creating new column for it\n",
    "data[[col + \"_bs\" for col in bs_names]] = (\n",
    "    data[bs_names]\n",
    "    .div(data[\"total_assets_bs\"], axis=\"index\")\n",
    "    # Replacing Infinite values with 0\n",
    "    .replace((np.inf, -np.inf, np.nan), (0, 0, 0))\n",
    ")\n",
    "# Getting Nan values where total_assets_bs is NaN\n",
    "for col in bs_names:\n",
    "    data[col + \"_bs\"] = np.where(\n",
    "        data[\"total_assets_bs\"].isna(), np.nan, data[col + \"_bs\"]\n",
    "    )\n",
    "    "
   ]
  },
  {
   "cell_type": "markdown",
   "id": "7c799e24-2771-4ebe-b3d3-9608c250d9d7",
   "metadata": {},
   "source": [
    "### Creating flags and winsorizing tails\n",
    "\n",
    "`Winsorizing` is dropping extreme values, usually by setting a threshold at a certain percentile in the distribution, and replacing values beyond that threshold with the threshold value itself."
   ]
  },
  {
   "cell_type": "code",
   "execution_count": 29,
   "id": "91d21f72-00d5-4f61-bc5f-8bb2bc8e18c6",
   "metadata": {
    "tags": []
   },
   "outputs": [],
   "source": [
    "# Creating a list for the variables that represent accounting items that cannot be negative (e.g. materials)\n",
    "zero = [\n",
    "    \"extra_exp_pl\",\n",
    "    \"extra_inc_pl\",\n",
    "    \"inventories_pl\",\n",
    "    \"material_exp_pl\",\n",
    "    \"personnel_exp_pl\",\n",
    "    \"curr_liab_bs\",\n",
    "    \"fixed_assets_bs\",\n",
    "    \"liq_assets_bs\",\n",
    "    \"curr_assets_bs\",\n",
    "    \"subscribed_cap_bs\",\n",
    "    \"intang_assets_bs\",\n",
    "]\n",
    "\n",
    "# Creating a new column for values above 1, and leaving NaN values unchanged\n",
    "data[[col + \"_flag_high\" for col in zero]] = np.where(\n",
    "    data[zero].isna(), np.nan, (data[zero] > 1).astype(int)\n",
    ")\n",
    "# Replacing values above 1 with 1\n",
    "data[[col for col in zero]] = np.where(\n",
    "    data[zero].isna(), np.nan, np.where(data[zero] > 1, 1, data[zero])\n",
    ")\n",
    "# Creating a column to flag error\n",
    "data[[col + \"_flag_error\" for col in zero]] = np.where(\n",
    "    data[zero].isna(), np.nan, (data[zero] < 0).astype(int)\n",
    ")\n",
    "# Replacing negative values with 0\n",
    "data[[col for col in zero]] = np.where(\n",
    "    data[zero].isna(), np.nan, np.where(data[zero] < 0, 0, data[zero])\n",
    ")"
   ]
  },
  {
   "cell_type": "code",
   "execution_count": 30,
   "id": "64eb790d-2c39-4983-80a4-07189206740e",
   "metadata": {
    "tags": []
   },
   "outputs": [],
   "source": [
    "# Pooling variables that could be any, but are mostly between -1 and 1\n",
    "anyof = [\"extra_profit_loss_pl\",\n",
    "         \"inc_bef_tax_pl\",\n",
    "         \"profit_loss_year_pl\",\n",
    "         \"share_eq_bs\"]\n",
    "\n",
    "# Raplcing negative values with -1\n",
    "data[[col + \"_flag_low\" for col in anyof]] = np.where(\n",
    "    data[anyof].isna(), np.nan, (data[anyof] < -1).astype(int)\n",
    ")\n",
    "data[[col for col in anyof]] = np.where(\n",
    "    data[anyof].isna(), np.nan, np.where((data[anyof] < -1), -1, data[anyof])\n",
    ")\n",
    "# Replacing values above 1 with 1\n",
    "data[[col + \"_flag_high\" for col in anyof]] = np.where(\n",
    "    data[anyof].isna(), np.nan, (data[anyof] > 1).astype(int)\n",
    ")\n",
    "data[[col for col in anyof]] = np.where(\n",
    "    data[anyof].isna(), np.nan, np.where((data[anyof] > 1), 1, data[anyof])\n",
    ")\n",
    "# Creating a column to flag errors\n",
    "data[[col + \"_flag_zero\" for col in anyof]] = np.where(\n",
    "    data[anyof].isna(), np.nan, (data[anyof] == 0).astype(int)\n",
    ")\n",
    "# Creating a column for the quadratic values\n",
    "data[[col + \"_quad\" for col in anyof]] = np.where(\n",
    "    data[anyof].isna(), np.nan, data[anyof] ** 2\n",
    ")\n"
   ]
  },
  {
   "cell_type": "code",
   "execution_count": 31,
   "id": "16785601-a03d-45d4-9685-d7e9fc209f97",
   "metadata": {
    "tags": []
   },
   "outputs": [],
   "source": [
    "# Dropping 'flag' columns with no variation\n",
    "flag_columns = [col for col in data.columns if \"flag\" in col]\n",
    "data = data.drop(\n",
    "    data[flag_columns].std()[(data[flag_columns].std() == 0)].index, axis=1\n",
    ")\n"
   ]
  },
  {
   "cell_type": "markdown",
   "id": "0ccb7e18-a244-4a28-8365-8dedfa62657a",
   "metadata": {},
   "source": [
    "### Defining additional financial ratios"
   ]
  },
  {
   "cell_type": "code",
   "execution_count": 32,
   "id": "de0cbc60-70fc-4ef9-a235-adf404b10738",
   "metadata": {
    "tags": []
   },
   "outputs": [],
   "source": [
    "# Gross Profit Margin\n",
    "data['gross_profit_margin'] = (data['sales'] - (data['material_exp'] + data['personnel_exp'])) / data['sales']\n",
    "\n",
    "# Net Profit Margin\n",
    "data['net_profit_margin'] = data['profit_loss_year'] / data['sales']\n",
    "\n",
    "# Return on Equity (ROE)\n",
    "data['return_on_equity'] = data['profit_loss_year'] / data['share_eq']\n",
    "\n",
    "# Debt-Equity Ratio\n",
    "# Note: we need to adjust 'curr_liab' to total liabilities if we have that information. Need to further investigate the data.\n",
    "data['debt_equity_ratio'] = data['curr_liab'] / data['share_eq']\n",
    "\n",
    "# Current Ratio\n",
    "data['current_ratio'] = data['curr_assets'] / data['curr_liab']\n",
    "\n",
    "# Quick Ratio\n",
    "data['quick_ratio'] = (data['curr_assets'] - data['inventories']) / data['curr_liab']\n",
    "\n",
    "# Return on Assets (ROA)\n",
    "data['return_on_assets'] = data['profit_loss_year'] / data['total_assets_bs']\n"
   ]
  },
  {
   "cell_type": "markdown",
   "id": "da1dce2d-6c6e-486c-b5b2-12d990674c11",
   "metadata": {},
   "source": [
    "### Including some additional imputation"
   ]
  },
  {
   "cell_type": "code",
   "execution_count": 33,
   "id": "8bf74f9b-b4c0-4bd0-ae18-93ea9129494d",
   "metadata": {
    "tags": []
   },
   "outputs": [],
   "source": [
    "# Calculating the CEO's age\n",
    "data[\"ceo_age\"] = data[\"year\"] - data[\"birth_year\"]\n",
    "data = data.assign(\n",
    "    flag_low_ceo_age=(data[\"ceo_age\"] < 25).astype(int),\n",
    "    flag_high_ceo_age=(data[\"ceo_age\"] > 75).astype(int),\n",
    "    flag_miss_ceo_age=(data[\"ceo_age\"].isna()).astype(int),\n",
    ")\n",
    "\n",
    "# Capping and imputing the missing values for CEO age\n",
    "data[\"ceo_age\"] = np.where(data[\"ceo_age\"] < 25, 25, data[\"ceo_age\"])\n",
    "data[\"ceo_age\"] = np.where(data[\"ceo_age\"] > 75, 75, data[\"ceo_age\"])\n",
    "data[\"ceo_age\"] = np.where(\n",
    "    data[\"ceo_age\"].isna(), data[\"ceo_age\"].mean(), data[\"ceo_age\"]\n",
    ")\n",
    "\n",
    "# Creating a new binary column for young CEOs\n",
    "data[\"ceo_young\"] = (data[\"ceo_age\"] < 40).astype(int)\n"
   ]
  },
  {
   "cell_type": "code",
   "execution_count": 34,
   "id": "d4a173a7-2c35-4f09-a84e-cc4c8f05600d",
   "metadata": {
    "tags": []
   },
   "outputs": [],
   "source": [
    "# Creating category type variables\n",
    "data[\"urban_m\"] = data[\"urban_m\"].astype(\"category\")\n",
    "data[\"ind2_cat\"] = data[\"ind2_cat\"].astype(\"category\")\n",
    "data[\"default_f\"] = data[\"default\"].astype(\"category\")\n",
    "data[\"default_f\"] = data[\"default_f\"].cat.rename_categories([\"no_default\", \"default\"])\n"
   ]
  },
  {
   "cell_type": "markdown",
   "id": "f176a76e-85e5-4523-b724-b859e371e0ea",
   "metadata": {},
   "source": [
    "### Handling the sales variable (target variable)"
   ]
  },
  {
   "cell_type": "code",
   "execution_count": 35,
   "id": "64c6cc1c-4645-4011-817f-4a43fc2b2f00",
   "metadata": {
    "tags": []
   },
   "outputs": [],
   "source": [
    "# Squaring the log sales\n",
    "data[\"sales_mil_log_sq\"] = data[\"sales_mil_log\"] ** 2"
   ]
  },
  {
   "cell_type": "code",
   "execution_count": 36,
   "id": "2a5e9890-76be-4bc2-b19b-073c709cd102",
   "metadata": {
    "tags": []
   },
   "outputs": [
    {
     "data": {
      "image/png": "[encoded data removed]",
      "text/plain": [
       "<Figure size 640x480 with 1 Axes>"
      ]
     },
     "metadata": {
      "image/png": {
       "height": 480,
       "width": 640
      }
     },
     "output_type": "display_data"
    },
    {
     "data": {
      "text/plain": [
       "<Figure Size: (640 x 480)>"
      ]
     },
     "execution_count": 36,
     "metadata": {},
     "output_type": "execute_result"
    }
   ],
   "source": [
    "# Plotting the logarithmic sales and company statuses with linear regression and lowess\n",
    "\n",
    "ggplot(data, aes(x=\"sales_mil_log\", y=\"default\")) + geom_point(\n",
    "    color=\"#214459\"\n",
    ") + geom_smooth(\n",
    "    method=\"lm\", formula=\"y ~ x + I(x**2)\", color=\"#3498db\", se=False  # Assuming #3498db as a placeholder color\n",
    ") + geom_smooth(\n",
    "    method=\"loess\", color=\"#e74c3c\", se=False, size=1.5, span=0.9  # Assuming #e74c3c as a placeholder color\n",
    ") + labs(\n",
    "    x=\"sales_mil_log\", y=\"default\"\n",
    ") + theme_bw()\n"
   ]
  },
  {
   "cell_type": "code",
   "execution_count": 37,
   "id": "dd6220ec-e3a2-4525-8297-c83a5abb8d9a",
   "metadata": {
    "tags": []
   },
   "outputs": [
    {
     "name": "stdout",
     "output_type": "stream",
     "text": [
      "                            OLS Regression Results                            \n",
      "==============================================================================\n",
      "Dep. Variable:                default   R-squared:                       0.107\n",
      "Model:                            OLS   Adj. R-squared:                  0.107\n",
      "Method:                 Least Squares   F-statistic:                 1.673e+04\n",
      "Date:                Sun, 25 Feb 2024   Prob (F-statistic):               0.00\n",
      "Time:                        12:03:25   Log-Likelihood:            -1.1139e+05\n",
      "No. Observations:              280392   AIC:                         2.228e+05\n",
      "Df Residuals:                  280389   BIC:                         2.228e+05\n",
      "Df Model:                           2                                         \n",
      "Covariance Type:            nonrobust                                         \n",
      "====================================================================================\n",
      "                       coef    std err          t      P>|t|      [0.025      0.975]\n",
      "------------------------------------------------------------------------------------\n",
      "Intercept            0.0370      0.001     33.444      0.000       0.035       0.039\n",
      "sales_mil_log       -0.0443      0.001    -71.683      0.000      -0.045      -0.043\n",
      "sales_mil_log_sq     0.0021   9.18e-05     23.141      0.000       0.002       0.002\n",
      "==============================================================================\n",
      "Omnibus:                    58482.320   Durbin-Watson:                   1.817\n",
      "Prob(Omnibus):                  0.000   Jarque-Bera (JB):           102294.389\n",
      "Skew:                           1.425   Prob(JB):                         0.00\n",
      "Kurtosis:                       3.797   Cond. No.                         32.9\n",
      "==============================================================================\n",
      "\n",
      "Notes:\n",
      "[1] Standard Errors assume that the covariance matrix of the errors is correctly specified.\n"
     ]
    }
   ],
   "source": [
    "# Performing linear regression: deault on logarithmic sales and squared logarithmic sales\n",
    "ols_s = smf.ols(\"default ~ sales_mil_log + sales_mil_log_sq\", data=data).fit()\n",
    "print(ols_s.summary())"
   ]
  },
  {
   "cell_type": "markdown",
   "id": "c6dc12a0-1fcd-4ce2-855f-d6ad6a78d07d",
   "metadata": {},
   "source": [
    "The OLS regression shown here displays the unconditional regression of sales on the probability of a company defaulting. The coefficients here suggest there is an association between the probability a company will default and sales. The log sales coefficient suggests that a deecrease in sales is associated with an increase in the probability that a company will default. This is statistically significant at the 1% threshold.  "
   ]
  },
  {
   "cell_type": "code",
   "execution_count": 38,
   "id": "fe98bd91-9c9e-46ab-a559-c91a0b462fa6",
   "metadata": {
    "tags": []
   },
   "outputs": [],
   "source": [
    "##############################################################################\n",
    "\n",
    "# We should write a few sentences about the coefficients --> can also be included in the doc\n",
    "\n",
    "##############################################################################"
   ]
  },
  {
   "cell_type": "markdown",
   "id": "f5d45dde-5a8b-48fd-8d89-fc59dd1544b4",
   "metadata": {},
   "source": [
    "### Change in sales\n",
    "\n",
    "*Note:* Graphs are not in the book!"
   ]
  },
  {
   "cell_type": "code",
   "execution_count": 39,
   "id": "4aa20bf4-060f-4652-91f5-b946fd3e7344",
   "metadata": {
    "tags": []
   },
   "outputs": [
    {
     "data": {
      "text/plain": [
       "count    556944.000000\n",
       "mean          0.023417\n",
       "std           0.870581\n",
       "min         -13.815511\n",
       "25%           0.000000\n",
       "50%           0.000000\n",
       "75%           0.000000\n",
       "max          14.634809\n",
       "Name: d1_sales_mil_log, dtype: float64"
      ]
     },
     "execution_count": 39,
     "metadata": {},
     "output_type": "execute_result"
    }
   ],
   "source": [
    "# lowess\n",
    "data[\"d1_sales_mil_log\"].describe()"
   ]
  },
  {
   "cell_type": "markdown",
   "id": "411c87b6-e49d-47ed-bcd8-e911178cc7a3",
   "metadata": {
    "tags": []
   },
   "source": [
    "## 1.4 Hold Out Sample"
   ]
  },
  {
   "cell_type": "code",
   "execution_count": 40,
   "id": "dda3b336-db4f-4bae-befe-f064ed870b6a",
   "metadata": {
    "tags": []
   },
   "outputs": [],
   "source": [
    "# Reshaping the DataFrame by pivoting it around \"year\" and \"comp_id\" columns\n",
    "\n",
    "data = (\n",
    "    data.set_index([\"year\", \"comp_id\"])\n",
    "    .unstack(fill_value=\"toReplace\")\n",
    "    .stack()\n",
    "    .reset_index()\n",
    ")\n",
    "data = data.replace(\"toReplace\", np.nan)  # only way I could define it as NaN\n",
    "\n",
    "# Generating status_alive; if sales larger than zero and not-NA, then firm is alive\n",
    "data[\"status_alive\"] = (data[\"sales\"] > 0 & (False == data[\"sales\"].isna())).astype(int)\n",
    "\n",
    "# It defaults in two years if there are sales in this year but no sales two years later\n",
    "# Status_in_two_years: data.groupby('comp_id')['status_alive'].shift(-2)\n",
    "data[\"default\"] = (\n",
    "    (data[\"status_alive\"] == 1)\n",
    "    & (data.groupby(\"comp_id\")[\"status_alive\"].shift(-1) == 0)\n",
    ").astype(int)\n"
   ]
  },
  {
   "cell_type": "code",
   "execution_count": 41,
   "id": "8f6b463f-d0a3-4891-85f8-fe5895a18815",
   "metadata": {
    "tags": []
   },
   "outputs": [
    {
     "data": {
      "text/html": [
       "<div>\n",
       "<style scoped>\n",
       "    .dataframe tbody tr th:only-of-type {\n",
       "        vertical-align: middle;\n",
       "    }\n",
       "\n",
       "    .dataframe tbody tr th {\n",
       "        vertical-align: top;\n",
       "    }\n",
       "\n",
       "    .dataframe thead th {\n",
       "        text-align: right;\n",
       "    }\n",
       "</style>\n",
       "<table border=\"1\" class=\"dataframe\">\n",
       "  <thead>\n",
       "    <tr style=\"text-align: right;\">\n",
       "      <th></th>\n",
       "      <th>year</th>\n",
       "      <th>comp_id</th>\n",
       "      <th>begin</th>\n",
       "      <th>end</th>\n",
       "      <th>COGS</th>\n",
       "      <th>amort</th>\n",
       "      <th>curr_assets</th>\n",
       "      <th>curr_liab</th>\n",
       "      <th>extra_exp</th>\n",
       "      <th>extra_inc</th>\n",
       "      <th>...</th>\n",
       "      <th>current_ratio</th>\n",
       "      <th>quick_ratio</th>\n",
       "      <th>return_on_assets</th>\n",
       "      <th>ceo_age</th>\n",
       "      <th>flag_low_ceo_age</th>\n",
       "      <th>flag_high_ceo_age</th>\n",
       "      <th>flag_miss_ceo_age</th>\n",
       "      <th>ceo_young</th>\n",
       "      <th>default_f</th>\n",
       "      <th>sales_mil_log_sq</th>\n",
       "    </tr>\n",
       "  </thead>\n",
       "  <tbody>\n",
       "    <tr>\n",
       "      <th>417864</th>\n",
       "      <td>2014</td>\n",
       "      <td>6.538183e+06</td>\n",
       "      <td>2014-01-01</td>\n",
       "      <td>2014-12-31</td>\n",
       "      <td>NaN</td>\n",
       "      <td>1018.518494</td>\n",
       "      <td>17022.222656</td>\n",
       "      <td>3040.740723</td>\n",
       "      <td>0.0</td>\n",
       "      <td>0.0</td>\n",
       "      <td>...</td>\n",
       "      <td>5.598051</td>\n",
       "      <td>5.598051</td>\n",
       "      <td>0.203344</td>\n",
       "      <td>52.5</td>\n",
       "      <td>0</td>\n",
       "      <td>0</td>\n",
       "      <td>0</td>\n",
       "      <td>0</td>\n",
       "      <td>default</td>\n",
       "      <td>9.011847</td>\n",
       "    </tr>\n",
       "    <tr>\n",
       "      <th>417890</th>\n",
       "      <td>2014</td>\n",
       "      <td>8.416055e+06</td>\n",
       "      <td>2014-01-01</td>\n",
       "      <td>2014-12-31</td>\n",
       "      <td>NaN</td>\n",
       "      <td>425.925934</td>\n",
       "      <td>105740.742188</td>\n",
       "      <td>6918.518555</td>\n",
       "      <td>0.0</td>\n",
       "      <td>0.0</td>\n",
       "      <td>...</td>\n",
       "      <td>15.283726</td>\n",
       "      <td>13.489829</td>\n",
       "      <td>-0.027249</td>\n",
       "      <td>54.0</td>\n",
       "      <td>0</td>\n",
       "      <td>0</td>\n",
       "      <td>0</td>\n",
       "      <td>0</td>\n",
       "      <td>default</td>\n",
       "      <td>9.939450</td>\n",
       "    </tr>\n",
       "    <tr>\n",
       "      <th>417942</th>\n",
       "      <td>2014</td>\n",
       "      <td>1.242838e+07</td>\n",
       "      <td>2014-01-01</td>\n",
       "      <td>2014-12-31</td>\n",
       "      <td>NaN</td>\n",
       "      <td>0.000000</td>\n",
       "      <td>0.000000</td>\n",
       "      <td>9277.777344</td>\n",
       "      <td>0.0</td>\n",
       "      <td>0.0</td>\n",
       "      <td>...</td>\n",
       "      <td>0.000000</td>\n",
       "      <td>0.000000</td>\n",
       "      <td>-inf</td>\n",
       "      <td>52.0</td>\n",
       "      <td>0</td>\n",
       "      <td>0</td>\n",
       "      <td>0</td>\n",
       "      <td>0</td>\n",
       "      <td>default</td>\n",
       "      <td>30.507003</td>\n",
       "    </tr>\n",
       "    <tr>\n",
       "      <th>417989</th>\n",
       "      <td>2014</td>\n",
       "      <td>1.777654e+07</td>\n",
       "      <td>2014-01-01</td>\n",
       "      <td>2014-12-31</td>\n",
       "      <td>NaN</td>\n",
       "      <td>48.148148</td>\n",
       "      <td>142296.296875</td>\n",
       "      <td>164237.031250</td>\n",
       "      <td>0.0</td>\n",
       "      <td>0.0</td>\n",
       "      <td>...</td>\n",
       "      <td>0.866408</td>\n",
       "      <td>0.109056</td>\n",
       "      <td>0.010282</td>\n",
       "      <td>43.5</td>\n",
       "      <td>0</td>\n",
       "      <td>0</td>\n",
       "      <td>0</td>\n",
       "      <td>0</td>\n",
       "      <td>no_default</td>\n",
       "      <td>2.402822</td>\n",
       "    </tr>\n",
       "    <tr>\n",
       "      <th>417994</th>\n",
       "      <td>2014</td>\n",
       "      <td>1.862676e+07</td>\n",
       "      <td>2014-01-01</td>\n",
       "      <td>2014-12-31</td>\n",
       "      <td>NaN</td>\n",
       "      <td>5755.555664</td>\n",
       "      <td>95185.187500</td>\n",
       "      <td>45766.667969</td>\n",
       "      <td>0.0</td>\n",
       "      <td>0.0</td>\n",
       "      <td>...</td>\n",
       "      <td>2.079793</td>\n",
       "      <td>1.755847</td>\n",
       "      <td>0.053106</td>\n",
       "      <td>36.0</td>\n",
       "      <td>0</td>\n",
       "      <td>0</td>\n",
       "      <td>0</td>\n",
       "      <td>1</td>\n",
       "      <td>default</td>\n",
       "      <td>3.176648</td>\n",
       "    </tr>\n",
       "    <tr>\n",
       "      <th>...</th>\n",
       "      <td>...</td>\n",
       "      <td>...</td>\n",
       "      <td>...</td>\n",
       "      <td>...</td>\n",
       "      <td>...</td>\n",
       "      <td>...</td>\n",
       "      <td>...</td>\n",
       "      <td>...</td>\n",
       "      <td>...</td>\n",
       "      <td>...</td>\n",
       "      <td>...</td>\n",
       "      <td>...</td>\n",
       "      <td>...</td>\n",
       "      <td>...</td>\n",
       "      <td>...</td>\n",
       "      <td>...</td>\n",
       "      <td>...</td>\n",
       "      <td>...</td>\n",
       "      <td>...</td>\n",
       "      <td>...</td>\n",
       "      <td>...</td>\n",
       "    </tr>\n",
       "    <tr>\n",
       "      <th>463875</th>\n",
       "      <td>2014</td>\n",
       "      <td>4.593723e+11</td>\n",
       "      <td>2014-01-01</td>\n",
       "      <td>2014-12-31</td>\n",
       "      <td>NaN</td>\n",
       "      <td>0.000000</td>\n",
       "      <td>40740.742188</td>\n",
       "      <td>559.259277</td>\n",
       "      <td>0.0</td>\n",
       "      <td>0.0</td>\n",
       "      <td>...</td>\n",
       "      <td>72.847682</td>\n",
       "      <td>72.847682</td>\n",
       "      <td>0.272000</td>\n",
       "      <td>39.0</td>\n",
       "      <td>0</td>\n",
       "      <td>0</td>\n",
       "      <td>0</td>\n",
       "      <td>1</td>\n",
       "      <td>default</td>\n",
       "      <td>15.972916</td>\n",
       "    </tr>\n",
       "    <tr>\n",
       "      <th>463965</th>\n",
       "      <td>2014</td>\n",
       "      <td>4.610112e+11</td>\n",
       "      <td>2014-01-01</td>\n",
       "      <td>2014-12-31</td>\n",
       "      <td>NaN</td>\n",
       "      <td>429.629639</td>\n",
       "      <td>58781.480469</td>\n",
       "      <td>2651.851807</td>\n",
       "      <td>0.0</td>\n",
       "      <td>0.0</td>\n",
       "      <td>...</td>\n",
       "      <td>22.166201</td>\n",
       "      <td>18.601955</td>\n",
       "      <td>0.028824</td>\n",
       "      <td>55.0</td>\n",
       "      <td>0</td>\n",
       "      <td>0</td>\n",
       "      <td>0</td>\n",
       "      <td>0</td>\n",
       "      <td>no_default</td>\n",
       "      <td>6.270351</td>\n",
       "    </tr>\n",
       "    <tr>\n",
       "      <th>464018</th>\n",
       "      <td>2014</td>\n",
       "      <td>4.620594e+11</td>\n",
       "      <td>2014-01-01</td>\n",
       "      <td>2014-12-31</td>\n",
       "      <td>NaN</td>\n",
       "      <td>1111.111084</td>\n",
       "      <td>68274.070312</td>\n",
       "      <td>16211.111328</td>\n",
       "      <td>0.0</td>\n",
       "      <td>0.0</td>\n",
       "      <td>...</td>\n",
       "      <td>4.211560</td>\n",
       "      <td>3.291981</td>\n",
       "      <td>0.007774</td>\n",
       "      <td>61.0</td>\n",
       "      <td>0</td>\n",
       "      <td>0</td>\n",
       "      <td>0</td>\n",
       "      <td>0</td>\n",
       "      <td>no_default</td>\n",
       "      <td>7.099340</td>\n",
       "    </tr>\n",
       "    <tr>\n",
       "      <th>464032</th>\n",
       "      <td>2014</td>\n",
       "      <td>4.623300e+11</td>\n",
       "      <td>2014-01-01</td>\n",
       "      <td>2014-12-31</td>\n",
       "      <td>NaN</td>\n",
       "      <td>0.000000</td>\n",
       "      <td>17192.591797</td>\n",
       "      <td>7325.925781</td>\n",
       "      <td>0.0</td>\n",
       "      <td>0.0</td>\n",
       "      <td>...</td>\n",
       "      <td>2.346815</td>\n",
       "      <td>2.346815</td>\n",
       "      <td>0.068191</td>\n",
       "      <td>52.5</td>\n",
       "      <td>0</td>\n",
       "      <td>0</td>\n",
       "      <td>0</td>\n",
       "      <td>0</td>\n",
       "      <td>default</td>\n",
       "      <td>12.497002</td>\n",
       "    </tr>\n",
       "    <tr>\n",
       "      <th>464055</th>\n",
       "      <td>2014</td>\n",
       "      <td>4.628231e+11</td>\n",
       "      <td>2014-01-01</td>\n",
       "      <td>2014-12-31</td>\n",
       "      <td>NaN</td>\n",
       "      <td>2581.481445</td>\n",
       "      <td>70059.257812</td>\n",
       "      <td>74911.109375</td>\n",
       "      <td>0.0</td>\n",
       "      <td>0.0</td>\n",
       "      <td>...</td>\n",
       "      <td>0.935232</td>\n",
       "      <td>0.935232</td>\n",
       "      <td>0.002990</td>\n",
       "      <td>30.0</td>\n",
       "      <td>0</td>\n",
       "      <td>0</td>\n",
       "      <td>0</td>\n",
       "      <td>1</td>\n",
       "      <td>no_default</td>\n",
       "      <td>2.294062</td>\n",
       "    </tr>\n",
       "  </tbody>\n",
       "</table>\n",
       "<p>1037 rows × 125 columns</p>\n",
       "</div>"
      ],
      "text/plain": [
       "        year       comp_id       begin         end  COGS        amort  \\\n",
       "417864  2014  6.538183e+06  2014-01-01  2014-12-31   NaN  1018.518494   \n",
       "417890  2014  8.416055e+06  2014-01-01  2014-12-31   NaN   425.925934   \n",
       "417942  2014  1.242838e+07  2014-01-01  2014-12-31   NaN     0.000000   \n",
       "417989  2014  1.777654e+07  2014-01-01  2014-12-31   NaN    48.148148   \n",
       "417994  2014  1.862676e+07  2014-01-01  2014-12-31   NaN  5755.555664   \n",
       "...      ...           ...         ...         ...   ...          ...   \n",
       "463875  2014  4.593723e+11  2014-01-01  2014-12-31   NaN     0.000000   \n",
       "463965  2014  4.610112e+11  2014-01-01  2014-12-31   NaN   429.629639   \n",
       "464018  2014  4.620594e+11  2014-01-01  2014-12-31   NaN  1111.111084   \n",
       "464032  2014  4.623300e+11  2014-01-01  2014-12-31   NaN     0.000000   \n",
       "464055  2014  4.628231e+11  2014-01-01  2014-12-31   NaN  2581.481445   \n",
       "\n",
       "          curr_assets      curr_liab  extra_exp  extra_inc  ...  \\\n",
       "417864   17022.222656    3040.740723        0.0        0.0  ...   \n",
       "417890  105740.742188    6918.518555        0.0        0.0  ...   \n",
       "417942       0.000000    9277.777344        0.0        0.0  ...   \n",
       "417989  142296.296875  164237.031250        0.0        0.0  ...   \n",
       "417994   95185.187500   45766.667969        0.0        0.0  ...   \n",
       "...               ...            ...        ...        ...  ...   \n",
       "463875   40740.742188     559.259277        0.0        0.0  ...   \n",
       "463965   58781.480469    2651.851807        0.0        0.0  ...   \n",
       "464018   68274.070312   16211.111328        0.0        0.0  ...   \n",
       "464032   17192.591797    7325.925781        0.0        0.0  ...   \n",
       "464055   70059.257812   74911.109375        0.0        0.0  ...   \n",
       "\n",
       "        current_ratio  quick_ratio  return_on_assets  ceo_age  \\\n",
       "417864       5.598051     5.598051          0.203344     52.5   \n",
       "417890      15.283726    13.489829         -0.027249     54.0   \n",
       "417942       0.000000     0.000000              -inf     52.0   \n",
       "417989       0.866408     0.109056          0.010282     43.5   \n",
       "417994       2.079793     1.755847          0.053106     36.0   \n",
       "...               ...          ...               ...      ...   \n",
       "463875      72.847682    72.847682          0.272000     39.0   \n",
       "463965      22.166201    18.601955          0.028824     55.0   \n",
       "464018       4.211560     3.291981          0.007774     61.0   \n",
       "464032       2.346815     2.346815          0.068191     52.5   \n",
       "464055       0.935232     0.935232          0.002990     30.0   \n",
       "\n",
       "        flag_low_ceo_age  flag_high_ceo_age  flag_miss_ceo_age  ceo_young  \\\n",
       "417864                 0                  0                  0          0   \n",
       "417890                 0                  0                  0          0   \n",
       "417942                 0                  0                  0          0   \n",
       "417989                 0                  0                  0          0   \n",
       "417994                 0                  0                  0          1   \n",
       "...                  ...                ...                ...        ...   \n",
       "463875                 0                  0                  0          1   \n",
       "463965                 0                  0                  0          0   \n",
       "464018                 0                  0                  0          0   \n",
       "464032                 0                  0                  0          0   \n",
       "464055                 0                  0                  0          1   \n",
       "\n",
       "         default_f  sales_mil_log_sq  \n",
       "417864     default          9.011847  \n",
       "417890     default          9.939450  \n",
       "417942     default         30.507003  \n",
       "417989  no_default          2.402822  \n",
       "417994     default          3.176648  \n",
       "...            ...               ...  \n",
       "463875     default         15.972916  \n",
       "463965  no_default          6.270351  \n",
       "464018  no_default          7.099340  \n",
       "464032     default         12.497002  \n",
       "464055  no_default          2.294062  \n",
       "\n",
       "[1037 rows x 125 columns]"
      ]
     },
     "execution_count": 41,
     "metadata": {},
     "output_type": "execute_result"
    }
   ],
   "source": [
    "hold_out_sample = data[(data['ind2'] == 26) &\n",
    "                     (data['sales'] >= 1000) &\n",
    "                     (data['sales'] <= 10000000) &\n",
    "                     (data['year'] == 2014)]\n",
    "hold_out_sample"
   ]
  },
  {
   "cell_type": "code",
   "execution_count": 42,
   "id": "6cdd9593-db59-45ad-af6f-c9a6f4986534",
   "metadata": {
    "tags": []
   },
   "outputs": [
    {
     "data": {
      "text/plain": [
       "8599"
      ]
     },
     "execution_count": 42,
     "metadata": {},
     "output_type": "execute_result"
    }
   ],
   "source": [
    "hold_out_sample.isnull().sum().sum()"
   ]
  },
  {
   "cell_type": "code",
   "execution_count": 43,
   "id": "0948bf56-03a7-4f27-8f4d-196c00499063",
   "metadata": {
    "tags": []
   },
   "outputs": [
    {
     "data": {
      "text/plain": [
       "43"
      ]
     },
     "execution_count": 43,
     "metadata": {},
     "output_type": "execute_result"
    }
   ],
   "source": [
    "numeric_cols = hold_out_sample.select_dtypes(include=[np.number])\n",
    "inf_values_per_numeric_column = numeric_cols.apply(lambda x: np.isinf(x).sum())\n",
    "inf_values_per_numeric_column.sum()"
   ]
  },
  {
   "cell_type": "code",
   "execution_count": 44,
   "id": "39e50bbe-9639-4757-a943-e795b4a32f69",
   "metadata": {
    "tags": []
   },
   "outputs": [
    {
     "name": "stdout",
     "output_type": "stream",
     "text": [
      "MISSING VALUES FROM HOLDOUT SAMPLE\n",
      "-----------------------------------\n"
     ]
    },
    {
     "data": {
      "text/plain": [
       "COGS                            948\n",
       "amort                             2\n",
       "finished_prod                   950\n",
       "material_exp                      2\n",
       "net_dom_sales                   948\n",
       "net_exp_sales                   948\n",
       "personnel_exp                     2\n",
       "wages                           949\n",
       "D                              1037\n",
       "founded_year                     31\n",
       "exit_year                      1014\n",
       "ceo_count                        31\n",
       "foreign                          31\n",
       "female                           31\n",
       "birth_year                      114\n",
       "inoffice_days                    31\n",
       "gender                           31\n",
       "origin                           31\n",
       "region_m                          2\n",
       "exit_date                      1012\n",
       "labor_avg                       312\n",
       "age                              31\n",
       "age2                             31\n",
       "foreign_management               31\n",
       "gender_m                         31\n",
       "m_region_loc                      2\n",
       "material_exp_pl                   2\n",
       "personnel_exp_pl                  2\n",
       "material_exp_pl_flag_high         2\n",
       "personnel_exp_pl_flag_high        2\n",
       "material_exp_pl_flag_error        2\n",
       "personnel_exp_pl_flag_error       2\n",
       "gross_profit_margin               2\n",
       "current_ratio                     1\n",
       "quick_ratio                       1\n",
       "dtype: int64"
      ]
     },
     "execution_count": 44,
     "metadata": {},
     "output_type": "execute_result"
    }
   ],
   "source": [
    "print(\"MISSING VALUES FROM HOLDOUT SAMPLE\")\n",
    "print(\"-\"*35)\n",
    "to_filter = hold_out_sample.isnull().sum()\n",
    "to_filter[to_filter > 0]"
   ]
  },
  {
   "cell_type": "markdown",
   "id": "a30d6c8b-d5cd-4fe7-b975-60f41f8b8830",
   "metadata": {},
   "source": [
    "#### Hold Out Sample Summary Table"
   ]
  },
  {
   "cell_type": "code",
   "execution_count": 45,
   "id": "b8a560a5-79cb-4a2d-91c4-e83d67478e7e",
   "metadata": {
    "tags": []
   },
   "outputs": [
    {
     "data": {
      "text/html": [
       "<div>\n",
       "<style scoped>\n",
       "    .dataframe tbody tr th:only-of-type {\n",
       "        vertical-align: middle;\n",
       "    }\n",
       "\n",
       "    .dataframe tbody tr th {\n",
       "        vertical-align: top;\n",
       "    }\n",
       "\n",
       "    .dataframe thead th {\n",
       "        text-align: right;\n",
       "    }\n",
       "</style>\n",
       "<table border=\"1\" class=\"dataframe\">\n",
       "  <thead>\n",
       "    <tr style=\"text-align: right;\">\n",
       "      <th></th>\n",
       "      <th>Number of Firms</th>\n",
       "      <th>Mean Sales</th>\n",
       "      <th>Min Sales</th>\n",
       "      <th>Max Sales</th>\n",
       "      <th>Defaulted Firms</th>\n",
       "      <th>Stayed Alive Firms</th>\n",
       "    </tr>\n",
       "  </thead>\n",
       "  <tbody>\n",
       "    <tr>\n",
       "      <th>0</th>\n",
       "      <td>1037</td>\n",
       "      <td>490202.217927</td>\n",
       "      <td>1070.370361</td>\n",
       "      <td>9576485.0</td>\n",
       "      <td>55</td>\n",
       "      <td>982</td>\n",
       "    </tr>\n",
       "  </tbody>\n",
       "</table>\n",
       "</div>"
      ],
      "text/plain": [
       "   Number of Firms     Mean Sales    Min Sales  Max Sales  Defaulted Firms  \\\n",
       "0             1037  490202.217927  1070.370361  9576485.0               55   \n",
       "\n",
       "   Stayed Alive Firms  \n",
       "0                 982  "
      ]
     },
     "execution_count": 45,
     "metadata": {},
     "output_type": "execute_result"
    }
   ],
   "source": [
    "hold_out_summary = {\n",
    "    'Number of Firms': [hold_out_sample.shape[0]],\n",
    "    'Mean Sales': [hold_out_sample['sales'].mean()],\n",
    "    'Min Sales': [hold_out_sample['sales'].min()],\n",
    "    'Max Sales': [hold_out_sample['sales'].max()],\n",
    "    'Defaulted Firms': [hold_out_sample['default'].sum()],\n",
    "    'Stayed Alive Firms': [(hold_out_sample['default'] == 0).sum()]\n",
    "\n",
    "}\n",
    "\n",
    "hold_out_summary_df = pd.DataFrame(hold_out_summary)\n",
    "hold_out_summary_df"
   ]
  },
  {
   "cell_type": "code",
   "execution_count": 46,
   "id": "67ddb5a9-c2d4-4b81-9bda-f0eed8614a74",
   "metadata": {
    "tags": []
   },
   "outputs": [
    {
     "name": "stdout",
     "output_type": "stream",
     "text": [
      "float64\n"
     ]
    }
   ],
   "source": [
    "hold_out_sample['sales'] = pd.to_numeric(hold_out_sample['sales'], errors='coerce')\n",
    "\n",
    "# Check the data type of the 'sales' column after conversion\n",
    "print(hold_out_sample['sales'].dtype)\n"
   ]
  },
  {
   "cell_type": "markdown",
   "id": "f7494238-1f07-4c34-a777-f42f98730751",
   "metadata": {},
   "source": [
    "#### Hold Out Cleaning"
   ]
  },
  {
   "cell_type": "code",
   "execution_count": null,
   "id": "c9ea3a93-8f5e-496f-9e44-cb86903144ea",
   "metadata": {},
   "outputs": [],
   "source": []
  },
  {
   "cell_type": "markdown",
   "id": "1818dc85-1d7a-4f44-889b-a1a77c38764f",
   "metadata": {
    "tags": []
   },
   "source": [
    "## 1.5 Data Cleaning pt. 1\n",
    "\n",
    "Missing values for a specific year (2014) and the entire dataset will be compared. "
   ]
  },
  {
   "cell_type": "code",
   "execution_count": 47,
   "id": "705caddb-72de-4583-bdd9-98798b0bc9f0",
   "metadata": {
    "tags": []
   },
   "outputs": [
    {
     "data": {
      "text/html": [
       "<div>\n",
       "<style scoped>\n",
       "    .dataframe tbody tr th:only-of-type {\n",
       "        vertical-align: middle;\n",
       "    }\n",
       "\n",
       "    .dataframe tbody tr th {\n",
       "        vertical-align: top;\n",
       "    }\n",
       "\n",
       "    .dataframe thead th {\n",
       "        text-align: right;\n",
       "    }\n",
       "</style>\n",
       "<table border=\"1\" class=\"dataframe\">\n",
       "  <thead>\n",
       "    <tr style=\"text-align: right;\">\n",
       "      <th></th>\n",
       "      <th>year</th>\n",
       "      <th>comp_id</th>\n",
       "      <th>begin</th>\n",
       "      <th>end</th>\n",
       "      <th>COGS</th>\n",
       "      <th>amort</th>\n",
       "      <th>curr_assets</th>\n",
       "      <th>curr_liab</th>\n",
       "      <th>extra_exp</th>\n",
       "      <th>extra_inc</th>\n",
       "      <th>...</th>\n",
       "      <th>current_ratio</th>\n",
       "      <th>quick_ratio</th>\n",
       "      <th>return_on_assets</th>\n",
       "      <th>ceo_age</th>\n",
       "      <th>flag_low_ceo_age</th>\n",
       "      <th>flag_high_ceo_age</th>\n",
       "      <th>flag_miss_ceo_age</th>\n",
       "      <th>ceo_young</th>\n",
       "      <th>default_f</th>\n",
       "      <th>sales_mil_log_sq</th>\n",
       "    </tr>\n",
       "  </thead>\n",
       "  <tbody>\n",
       "    <tr>\n",
       "      <th>417864</th>\n",
       "      <td>2014</td>\n",
       "      <td>6.538183e+06</td>\n",
       "      <td>2014-01-01</td>\n",
       "      <td>2014-12-31</td>\n",
       "      <td>NaN</td>\n",
       "      <td>1018.518494</td>\n",
       "      <td>17022.222656</td>\n",
       "      <td>3040.740723</td>\n",
       "      <td>0.0</td>\n",
       "      <td>0.0</td>\n",
       "      <td>...</td>\n",
       "      <td>5.598051</td>\n",
       "      <td>5.598051</td>\n",
       "      <td>0.203344</td>\n",
       "      <td>52.50000</td>\n",
       "      <td>0</td>\n",
       "      <td>0</td>\n",
       "      <td>0</td>\n",
       "      <td>0</td>\n",
       "      <td>default</td>\n",
       "      <td>9.011847</td>\n",
       "    </tr>\n",
       "    <tr>\n",
       "      <th>417890</th>\n",
       "      <td>2014</td>\n",
       "      <td>8.416055e+06</td>\n",
       "      <td>2014-01-01</td>\n",
       "      <td>2014-12-31</td>\n",
       "      <td>NaN</td>\n",
       "      <td>425.925934</td>\n",
       "      <td>105740.742188</td>\n",
       "      <td>6918.518555</td>\n",
       "      <td>0.0</td>\n",
       "      <td>0.0</td>\n",
       "      <td>...</td>\n",
       "      <td>15.283726</td>\n",
       "      <td>13.489829</td>\n",
       "      <td>-0.027249</td>\n",
       "      <td>54.00000</td>\n",
       "      <td>0</td>\n",
       "      <td>0</td>\n",
       "      <td>0</td>\n",
       "      <td>0</td>\n",
       "      <td>default</td>\n",
       "      <td>9.939450</td>\n",
       "    </tr>\n",
       "    <tr>\n",
       "      <th>417922</th>\n",
       "      <td>2014</td>\n",
       "      <td>1.089394e+07</td>\n",
       "      <td>2014-07-24</td>\n",
       "      <td>2014-12-31</td>\n",
       "      <td>NaN</td>\n",
       "      <td>0.000000</td>\n",
       "      <td>30614.814453</td>\n",
       "      <td>128055.546875</td>\n",
       "      <td>0.0</td>\n",
       "      <td>0.0</td>\n",
       "      <td>...</td>\n",
       "      <td>0.239074</td>\n",
       "      <td>0.144469</td>\n",
       "      <td>0.000000</td>\n",
       "      <td>46.00000</td>\n",
       "      <td>0</td>\n",
       "      <td>0</td>\n",
       "      <td>0</td>\n",
       "      <td>0</td>\n",
       "      <td>no_default</td>\n",
       "      <td>0.000000</td>\n",
       "    </tr>\n",
       "    <tr>\n",
       "      <th>417942</th>\n",
       "      <td>2014</td>\n",
       "      <td>1.242838e+07</td>\n",
       "      <td>2014-01-01</td>\n",
       "      <td>2014-12-31</td>\n",
       "      <td>NaN</td>\n",
       "      <td>0.000000</td>\n",
       "      <td>0.000000</td>\n",
       "      <td>9277.777344</td>\n",
       "      <td>0.0</td>\n",
       "      <td>0.0</td>\n",
       "      <td>...</td>\n",
       "      <td>0.000000</td>\n",
       "      <td>0.000000</td>\n",
       "      <td>-inf</td>\n",
       "      <td>52.00000</td>\n",
       "      <td>0</td>\n",
       "      <td>0</td>\n",
       "      <td>0</td>\n",
       "      <td>0</td>\n",
       "      <td>default</td>\n",
       "      <td>30.507003</td>\n",
       "    </tr>\n",
       "    <tr>\n",
       "      <th>417969</th>\n",
       "      <td>2014</td>\n",
       "      <td>1.571155e+07</td>\n",
       "      <td>2014-01-01</td>\n",
       "      <td>2014-12-31</td>\n",
       "      <td>NaN</td>\n",
       "      <td>0.000000</td>\n",
       "      <td>2477.777832</td>\n",
       "      <td>0.000000</td>\n",
       "      <td>0.0</td>\n",
       "      <td>0.0</td>\n",
       "      <td>...</td>\n",
       "      <td>inf</td>\n",
       "      <td>inf</td>\n",
       "      <td>0.000000</td>\n",
       "      <td>46.68887</td>\n",
       "      <td>0</td>\n",
       "      <td>0</td>\n",
       "      <td>1</td>\n",
       "      <td>0</td>\n",
       "      <td>no_default</td>\n",
       "      <td>0.000000</td>\n",
       "    </tr>\n",
       "    <tr>\n",
       "      <th>...</th>\n",
       "      <td>...</td>\n",
       "      <td>...</td>\n",
       "      <td>...</td>\n",
       "      <td>...</td>\n",
       "      <td>...</td>\n",
       "      <td>...</td>\n",
       "      <td>...</td>\n",
       "      <td>...</td>\n",
       "      <td>...</td>\n",
       "      <td>...</td>\n",
       "      <td>...</td>\n",
       "      <td>...</td>\n",
       "      <td>...</td>\n",
       "      <td>...</td>\n",
       "      <td>...</td>\n",
       "      <td>...</td>\n",
       "      <td>...</td>\n",
       "      <td>...</td>\n",
       "      <td>...</td>\n",
       "      <td>...</td>\n",
       "      <td>...</td>\n",
       "    </tr>\n",
       "    <tr>\n",
       "      <th>463940</th>\n",
       "      <td>2014</td>\n",
       "      <td>4.604901e+11</td>\n",
       "      <td>2014-01-01</td>\n",
       "      <td>2014-12-31</td>\n",
       "      <td>NaN</td>\n",
       "      <td>0.000000</td>\n",
       "      <td>33.333332</td>\n",
       "      <td>585.185181</td>\n",
       "      <td>0.0</td>\n",
       "      <td>0.0</td>\n",
       "      <td>...</td>\n",
       "      <td>0.056962</td>\n",
       "      <td>0.056962</td>\n",
       "      <td>-6.666667</td>\n",
       "      <td>59.00000</td>\n",
       "      <td>0</td>\n",
       "      <td>0</td>\n",
       "      <td>0</td>\n",
       "      <td>0</td>\n",
       "      <td>no_default</td>\n",
       "      <td>0.000000</td>\n",
       "    </tr>\n",
       "    <tr>\n",
       "      <th>463965</th>\n",
       "      <td>2014</td>\n",
       "      <td>4.610112e+11</td>\n",
       "      <td>2014-01-01</td>\n",
       "      <td>2014-12-31</td>\n",
       "      <td>NaN</td>\n",
       "      <td>429.629639</td>\n",
       "      <td>58781.480469</td>\n",
       "      <td>2651.851807</td>\n",
       "      <td>0.0</td>\n",
       "      <td>0.0</td>\n",
       "      <td>...</td>\n",
       "      <td>22.166201</td>\n",
       "      <td>18.601955</td>\n",
       "      <td>0.028824</td>\n",
       "      <td>55.00000</td>\n",
       "      <td>0</td>\n",
       "      <td>0</td>\n",
       "      <td>0</td>\n",
       "      <td>0</td>\n",
       "      <td>no_default</td>\n",
       "      <td>6.270351</td>\n",
       "    </tr>\n",
       "    <tr>\n",
       "      <th>464018</th>\n",
       "      <td>2014</td>\n",
       "      <td>4.620594e+11</td>\n",
       "      <td>2014-01-01</td>\n",
       "      <td>2014-12-31</td>\n",
       "      <td>NaN</td>\n",
       "      <td>1111.111084</td>\n",
       "      <td>68274.070312</td>\n",
       "      <td>16211.111328</td>\n",
       "      <td>0.0</td>\n",
       "      <td>0.0</td>\n",
       "      <td>...</td>\n",
       "      <td>4.211560</td>\n",
       "      <td>3.291981</td>\n",
       "      <td>0.007774</td>\n",
       "      <td>61.00000</td>\n",
       "      <td>0</td>\n",
       "      <td>0</td>\n",
       "      <td>0</td>\n",
       "      <td>0</td>\n",
       "      <td>no_default</td>\n",
       "      <td>7.099340</td>\n",
       "    </tr>\n",
       "    <tr>\n",
       "      <th>464032</th>\n",
       "      <td>2014</td>\n",
       "      <td>4.623300e+11</td>\n",
       "      <td>2014-01-01</td>\n",
       "      <td>2014-12-31</td>\n",
       "      <td>NaN</td>\n",
       "      <td>0.000000</td>\n",
       "      <td>17192.591797</td>\n",
       "      <td>7325.925781</td>\n",
       "      <td>0.0</td>\n",
       "      <td>0.0</td>\n",
       "      <td>...</td>\n",
       "      <td>2.346815</td>\n",
       "      <td>2.346815</td>\n",
       "      <td>0.068191</td>\n",
       "      <td>52.50000</td>\n",
       "      <td>0</td>\n",
       "      <td>0</td>\n",
       "      <td>0</td>\n",
       "      <td>0</td>\n",
       "      <td>default</td>\n",
       "      <td>12.497002</td>\n",
       "    </tr>\n",
       "    <tr>\n",
       "      <th>464055</th>\n",
       "      <td>2014</td>\n",
       "      <td>4.628231e+11</td>\n",
       "      <td>2014-01-01</td>\n",
       "      <td>2014-12-31</td>\n",
       "      <td>NaN</td>\n",
       "      <td>2581.481445</td>\n",
       "      <td>70059.257812</td>\n",
       "      <td>74911.109375</td>\n",
       "      <td>0.0</td>\n",
       "      <td>0.0</td>\n",
       "      <td>...</td>\n",
       "      <td>0.935232</td>\n",
       "      <td>0.935232</td>\n",
       "      <td>0.002990</td>\n",
       "      <td>30.00000</td>\n",
       "      <td>0</td>\n",
       "      <td>0</td>\n",
       "      <td>0</td>\n",
       "      <td>1</td>\n",
       "      <td>no_default</td>\n",
       "      <td>2.294062</td>\n",
       "    </tr>\n",
       "  </tbody>\n",
       "</table>\n",
       "<p>1317 rows × 125 columns</p>\n",
       "</div>"
      ],
      "text/plain": [
       "        year       comp_id       begin         end  COGS        amort  \\\n",
       "417864  2014  6.538183e+06  2014-01-01  2014-12-31   NaN  1018.518494   \n",
       "417890  2014  8.416055e+06  2014-01-01  2014-12-31   NaN   425.925934   \n",
       "417922  2014  1.089394e+07  2014-07-24  2014-12-31   NaN     0.000000   \n",
       "417942  2014  1.242838e+07  2014-01-01  2014-12-31   NaN     0.000000   \n",
       "417969  2014  1.571155e+07  2014-01-01  2014-12-31   NaN     0.000000   \n",
       "...      ...           ...         ...         ...   ...          ...   \n",
       "463940  2014  4.604901e+11  2014-01-01  2014-12-31   NaN     0.000000   \n",
       "463965  2014  4.610112e+11  2014-01-01  2014-12-31   NaN   429.629639   \n",
       "464018  2014  4.620594e+11  2014-01-01  2014-12-31   NaN  1111.111084   \n",
       "464032  2014  4.623300e+11  2014-01-01  2014-12-31   NaN     0.000000   \n",
       "464055  2014  4.628231e+11  2014-01-01  2014-12-31   NaN  2581.481445   \n",
       "\n",
       "          curr_assets      curr_liab  extra_exp  extra_inc  ...  \\\n",
       "417864   17022.222656    3040.740723        0.0        0.0  ...   \n",
       "417890  105740.742188    6918.518555        0.0        0.0  ...   \n",
       "417922   30614.814453  128055.546875        0.0        0.0  ...   \n",
       "417942       0.000000    9277.777344        0.0        0.0  ...   \n",
       "417969    2477.777832       0.000000        0.0        0.0  ...   \n",
       "...               ...            ...        ...        ...  ...   \n",
       "463940      33.333332     585.185181        0.0        0.0  ...   \n",
       "463965   58781.480469    2651.851807        0.0        0.0  ...   \n",
       "464018   68274.070312   16211.111328        0.0        0.0  ...   \n",
       "464032   17192.591797    7325.925781        0.0        0.0  ...   \n",
       "464055   70059.257812   74911.109375        0.0        0.0  ...   \n",
       "\n",
       "        current_ratio  quick_ratio  return_on_assets   ceo_age  \\\n",
       "417864       5.598051     5.598051          0.203344  52.50000   \n",
       "417890      15.283726    13.489829         -0.027249  54.00000   \n",
       "417922       0.239074     0.144469          0.000000  46.00000   \n",
       "417942       0.000000     0.000000              -inf  52.00000   \n",
       "417969            inf          inf          0.000000  46.68887   \n",
       "...               ...          ...               ...       ...   \n",
       "463940       0.056962     0.056962         -6.666667  59.00000   \n",
       "463965      22.166201    18.601955          0.028824  55.00000   \n",
       "464018       4.211560     3.291981          0.007774  61.00000   \n",
       "464032       2.346815     2.346815          0.068191  52.50000   \n",
       "464055       0.935232     0.935232          0.002990  30.00000   \n",
       "\n",
       "        flag_low_ceo_age  flag_high_ceo_age  flag_miss_ceo_age  ceo_young  \\\n",
       "417864                 0                  0                  0          0   \n",
       "417890                 0                  0                  0          0   \n",
       "417922                 0                  0                  0          0   \n",
       "417942                 0                  0                  0          0   \n",
       "417969                 0                  0                  1          0   \n",
       "...                  ...                ...                ...        ...   \n",
       "463940                 0                  0                  0          0   \n",
       "463965                 0                  0                  0          0   \n",
       "464018                 0                  0                  0          0   \n",
       "464032                 0                  0                  0          0   \n",
       "464055                 0                  0                  0          1   \n",
       "\n",
       "         default_f  sales_mil_log_sq  \n",
       "417864     default          9.011847  \n",
       "417890     default          9.939450  \n",
       "417922  no_default          0.000000  \n",
       "417942     default         30.507003  \n",
       "417969  no_default          0.000000  \n",
       "...            ...               ...  \n",
       "463940  no_default          0.000000  \n",
       "463965  no_default          6.270351  \n",
       "464018  no_default          7.099340  \n",
       "464032     default         12.497002  \n",
       "464055  no_default          2.294062  \n",
       "\n",
       "[1317 rows x 125 columns]"
      ]
     },
     "execution_count": 47,
     "metadata": {},
     "output_type": "execute_result"
    }
   ],
   "source": [
    "# Filtering and creating a separate data set for 2014 data\n",
    "data_2014 = data[(data['ind2'] == 26) &\n",
    "                     (data['year'] == 2014)]\n",
    "data_2014"
   ]
  },
  {
   "cell_type": "code",
   "execution_count": 48,
   "id": "5a39f8f2-078c-4aad-ac71-aa9d411fe636",
   "metadata": {
    "scrolled": true,
    "tags": []
   },
   "outputs": [
    {
     "name": "stdout",
     "output_type": "stream",
     "text": [
      "MISSING VALUES FROM ENTIRE DATASET\n",
      "-----------------------------------\n"
     ]
    },
    {
     "data": {
      "text/plain": [
       "begin                269115\n",
       "end                  269115\n",
       "COGS                 538687\n",
       "amort                277155\n",
       "curr_assets          269246\n",
       "                      ...  \n",
       "debt_equity_ratio    270613\n",
       "current_ratio        271011\n",
       "quick_ratio          271070\n",
       "return_on_assets     280772\n",
       "sales_mil_log_sq     276552\n",
       "Length: 112, dtype: int64"
      ]
     },
     "execution_count": 48,
     "metadata": {},
     "output_type": "execute_result"
    }
   ],
   "source": [
    "# Comparing the missing values from the entire data set and data from 2014\n",
    "print(\"MISSING VALUES FROM ENTIRE DATASET\")\n",
    "print(\"-\"*35)\n",
    "to_filter = data.isnull().sum()\n",
    "to_filter[to_filter > 0]"
   ]
  },
  {
   "cell_type": "markdown",
   "id": "4e0c3088-89a1-4e0a-b050-8342e9766bb5",
   "metadata": {},
   "source": [
    "- After reviewing the null values, `COGS`, `finished_production`, `net_dom_sale`, `net_exp_sales`, and `wages` will most likely need to be dropped. \n",
    "\n",
    "- The null values will need to be viewed for one specific year to get an understanding of null values where the company only iterates once in the dataframe.\n",
    "- This way the null values can be better interpreted. "
   ]
  },
  {
   "cell_type": "code",
   "execution_count": 49,
   "id": "9a0fdaee-51c5-4cf4-b7a0-d1cc1ab87bf0",
   "metadata": {
    "scrolled": true,
    "tags": []
   },
   "outputs": [
    {
     "name": "stdout",
     "output_type": "stream",
     "text": [
      "MISSING VALUES FROM 2014 DATASET\n",
      "---------------------------------\n"
     ]
    },
    {
     "data": {
      "text/plain": [
       "COGS                 1176\n",
       "amort                   5\n",
       "extra_exp               1\n",
       "extra_inc               1\n",
       "extra_profit_loss       1\n",
       "                     ... \n",
       "debt_equity_ratio       7\n",
       "current_ratio           9\n",
       "quick_ratio            11\n",
       "return_on_assets        8\n",
       "sales_mil_log_sq        1\n",
       "Length: 72, dtype: int64"
      ]
     },
     "execution_count": 49,
     "metadata": {},
     "output_type": "execute_result"
    }
   ],
   "source": [
    "data_2014.isnull().sum()\n",
    "print(\"MISSING VALUES FROM 2014 DATASET\")\n",
    "print(\"-\"*33)\n",
    "to_filter = data_2014.isnull().sum()\n",
    "to_filter[to_filter > 0]"
   ]
  },
  {
   "cell_type": "markdown",
   "id": "d5ed077f-1927-42ac-9b12-7a592a21de67",
   "metadata": {},
   "source": [
    "- Here, we can verify that `COGS`, `finished_prod`, `net_dom_sale`, `net_exp_sales`, and `wages` will need to be dropped from the analysis. \n",
    "\n",
    "- `exit_year` and `exit date` can stay since not all companies are exiting, and we are trying to predict how many companies will exit.\n",
    "\n",
    "- The `D` column will also be dropped for it's high frequency of missing values\n",
    "\n",
    "- Also dropping `ind` column, as it does not serve any use in this specific project.\n",
    "\n",
    "- With `labor_avg` having such a high number of missing values, this column will also be dropped."
   ]
  },
  {
   "cell_type": "markdown",
   "id": "cf238041-6454-47ac-9858-4710c18fdbff",
   "metadata": {
    "tags": []
   },
   "source": [
    "# Dropping the columns with too many missing values in the original data\n",
    "data = data.drop(columns = ['COGS',\n",
    "                            'finished_prod',\n",
    "                            'net_dom_sales',\n",
    "                            'net_exp_sales',\n",
    "                            'wages',\n",
    "                            'D',\n",
    "                            'ind',\n",
    "                            'labor_avg'])"
   ]
  },
  {
   "cell_type": "code",
   "execution_count": 50,
   "id": "c1ba5923-6ff9-48c6-9ca2-8de41c70e084",
   "metadata": {
    "scrolled": true,
    "tags": []
   },
   "outputs": [
    {
     "data": {
      "text/plain": [
       "begin                269115\n",
       "end                  269115\n",
       "COGS                 538687\n",
       "amort                277155\n",
       "curr_assets          269246\n",
       "                      ...  \n",
       "debt_equity_ratio    270613\n",
       "current_ratio        271011\n",
       "quick_ratio          271070\n",
       "return_on_assets     280772\n",
       "sales_mil_log_sq     276552\n",
       "Length: 112, dtype: int64"
      ]
     },
     "execution_count": 50,
     "metadata": {},
     "output_type": "execute_result"
    }
   ],
   "source": [
    "to_filter = data.isnull().sum()\n",
    "to_filter[to_filter > 0]"
   ]
  },
  {
   "cell_type": "markdown",
   "id": "ea78e52f-65d2-4754-8e4b-1ffd79d37a1d",
   "metadata": {
    "tags": []
   },
   "source": [
    "# Dropping the columns with too many missing values from the 2014 data\n",
    "data_2014 = data_2014.drop(columns = ['COGS',\n",
    "                                      'finished_prod',\n",
    "                                      'net_dom_sales',\n",
    "                                      'net_exp_sales',\n",
    "                                      'wages',\n",
    "                                      'D',\n",
    "                                      'ind',\n",
    "                                      'labor_avg'])"
   ]
  },
  {
   "cell_type": "code",
   "execution_count": 51,
   "id": "eaca8ef5-7cee-44e4-a3f9-eef074ce9836",
   "metadata": {
    "scrolled": true,
    "tags": []
   },
   "outputs": [
    {
     "data": {
      "text/plain": [
       "COGS                 1176\n",
       "amort                   5\n",
       "extra_exp               1\n",
       "extra_inc               1\n",
       "extra_profit_loss       1\n",
       "                     ... \n",
       "debt_equity_ratio       7\n",
       "current_ratio           9\n",
       "quick_ratio            11\n",
       "return_on_assets        8\n",
       "sales_mil_log_sq        1\n",
       "Length: 72, dtype: int64"
      ]
     },
     "execution_count": 51,
     "metadata": {},
     "output_type": "execute_result"
    }
   ],
   "source": [
    "to_filter_2014 = data_2014.isnull().sum()\n",
    "to_filter_2014[to_filter_2014 > 0]"
   ]
  },
  {
   "cell_type": "code",
   "execution_count": 52,
   "id": "fc973631-6974-4a52-9fc0-3f1d50c39597",
   "metadata": {
    "tags": []
   },
   "outputs": [],
   "source": [
    "# Filtering the dataset to be 2013 or before, and between 1000 and 10000000\n",
    "data = data[(data['sales'] >= 1000) &\n",
    "            (data['ind2'] == 26) &\n",
    "            (data['sales'] <= 10000000) &\n",
    "            (data['year'] <= 2013)]"
   ]
  },
  {
   "cell_type": "code",
   "execution_count": 60,
   "id": "8ba0a1da-1522-4996-9db1-ccbe15de66f3",
   "metadata": {
    "scrolled": true,
    "tags": []
   },
   "outputs": [
    {
     "data": {
      "text/html": [
       "<div>\n",
       "<style scoped>\n",
       "    .dataframe tbody tr th:only-of-type {\n",
       "        vertical-align: middle;\n",
       "    }\n",
       "\n",
       "    .dataframe tbody tr th {\n",
       "        vertical-align: top;\n",
       "    }\n",
       "\n",
       "    .dataframe thead th {\n",
       "        text-align: right;\n",
       "    }\n",
       "</style>\n",
       "<table border=\"1\" class=\"dataframe\">\n",
       "  <thead>\n",
       "    <tr style=\"text-align: right;\">\n",
       "      <th></th>\n",
       "      <th>year</th>\n",
       "      <th>comp_id</th>\n",
       "      <th>begin</th>\n",
       "      <th>end</th>\n",
       "      <th>amort</th>\n",
       "      <th>curr_assets</th>\n",
       "      <th>curr_liab</th>\n",
       "      <th>extra_exp</th>\n",
       "      <th>extra_inc</th>\n",
       "      <th>extra_profit_loss</th>\n",
       "      <th>...</th>\n",
       "      <th>current_ratio</th>\n",
       "      <th>quick_ratio</th>\n",
       "      <th>return_on_assets</th>\n",
       "      <th>ceo_age</th>\n",
       "      <th>flag_low_ceo_age</th>\n",
       "      <th>flag_high_ceo_age</th>\n",
       "      <th>flag_miss_ceo_age</th>\n",
       "      <th>ceo_young</th>\n",
       "      <th>default_f</th>\n",
       "      <th>sales_mil_log_sq</th>\n",
       "    </tr>\n",
       "  </thead>\n",
       "  <tbody>\n",
       "    <tr>\n",
       "      <th>156</th>\n",
       "      <td>2005</td>\n",
       "      <td>6.538183e+06</td>\n",
       "      <td>2005-01-01</td>\n",
       "      <td>2005-12-31</td>\n",
       "      <td>792.592590</td>\n",
       "      <td>6237.037109</td>\n",
       "      <td>348.148163</td>\n",
       "      <td>0.000000</td>\n",
       "      <td>0.000000</td>\n",
       "      <td>0.000000</td>\n",
       "      <td>...</td>\n",
       "      <td>17.914893</td>\n",
       "      <td>17.914893</td>\n",
       "      <td>-0.144123</td>\n",
       "      <td>46.68887</td>\n",
       "      <td>0</td>\n",
       "      <td>0</td>\n",
       "      <td>1</td>\n",
       "      <td>0</td>\n",
       "      <td>no_default</td>\n",
       "      <td>12.464763</td>\n",
       "    </tr>\n",
       "    <tr>\n",
       "      <th>182</th>\n",
       "      <td>2005</td>\n",
       "      <td>8.416055e+06</td>\n",
       "      <td>2005-01-01</td>\n",
       "      <td>2005-12-31</td>\n",
       "      <td>3155.555664</td>\n",
       "      <td>71070.367188</td>\n",
       "      <td>25514.814453</td>\n",
       "      <td>74.074074</td>\n",
       "      <td>0.000000</td>\n",
       "      <td>-74.074074</td>\n",
       "      <td>...</td>\n",
       "      <td>2.785455</td>\n",
       "      <td>2.632893</td>\n",
       "      <td>0.000000</td>\n",
       "      <td>45.00000</td>\n",
       "      <td>0</td>\n",
       "      <td>0</td>\n",
       "      <td>0</td>\n",
       "      <td>0</td>\n",
       "      <td>no_default</td>\n",
       "      <td>2.985813</td>\n",
       "    </tr>\n",
       "    <tr>\n",
       "      <th>234</th>\n",
       "      <td>2005</td>\n",
       "      <td>1.242838e+07</td>\n",
       "      <td>2005-01-01</td>\n",
       "      <td>2005-12-31</td>\n",
       "      <td>3137.037109</td>\n",
       "      <td>1740.740723</td>\n",
       "      <td>2192.592529</td>\n",
       "      <td>0.000000</td>\n",
       "      <td>0.000000</td>\n",
       "      <td>0.000000</td>\n",
       "      <td>...</td>\n",
       "      <td>0.793919</td>\n",
       "      <td>0.793919</td>\n",
       "      <td>0.137374</td>\n",
       "      <td>46.68887</td>\n",
       "      <td>0</td>\n",
       "      <td>0</td>\n",
       "      <td>1</td>\n",
       "      <td>0</td>\n",
       "      <td>no_default</td>\n",
       "      <td>12.291621</td>\n",
       "    </tr>\n",
       "    <tr>\n",
       "      <th>261</th>\n",
       "      <td>2005</td>\n",
       "      <td>1.571155e+07</td>\n",
       "      <td>2005-01-01</td>\n",
       "      <td>2005-12-31</td>\n",
       "      <td>1592.592651</td>\n",
       "      <td>4740.740723</td>\n",
       "      <td>4970.370605</td>\n",
       "      <td>0.000000</td>\n",
       "      <td>7407.407227</td>\n",
       "      <td>7407.407227</td>\n",
       "      <td>...</td>\n",
       "      <td>0.953800</td>\n",
       "      <td>0.822653</td>\n",
       "      <td>0.056311</td>\n",
       "      <td>46.68887</td>\n",
       "      <td>0</td>\n",
       "      <td>0</td>\n",
       "      <td>1</td>\n",
       "      <td>0</td>\n",
       "      <td>no_default</td>\n",
       "      <td>22.081296</td>\n",
       "    </tr>\n",
       "    <tr>\n",
       "      <th>264</th>\n",
       "      <td>2005</td>\n",
       "      <td>1.600518e+07</td>\n",
       "      <td>2005-01-01</td>\n",
       "      <td>2005-12-31</td>\n",
       "      <td>5659.259277</td>\n",
       "      <td>71714.812500</td>\n",
       "      <td>40607.406250</td>\n",
       "      <td>0.000000</td>\n",
       "      <td>0.000000</td>\n",
       "      <td>0.000000</td>\n",
       "      <td>...</td>\n",
       "      <td>1.766053</td>\n",
       "      <td>0.771616</td>\n",
       "      <td>-0.049577</td>\n",
       "      <td>30.00000</td>\n",
       "      <td>0</td>\n",
       "      <td>0</td>\n",
       "      <td>0</td>\n",
       "      <td>1</td>\n",
       "      <td>no_default</td>\n",
       "      <td>2.241016</td>\n",
       "    </tr>\n",
       "    <tr>\n",
       "      <th>...</th>\n",
       "      <td>...</td>\n",
       "      <td>...</td>\n",
       "      <td>...</td>\n",
       "      <td>...</td>\n",
       "      <td>...</td>\n",
       "      <td>...</td>\n",
       "      <td>...</td>\n",
       "      <td>...</td>\n",
       "      <td>...</td>\n",
       "      <td>...</td>\n",
       "      <td>...</td>\n",
       "      <td>...</td>\n",
       "      <td>...</td>\n",
       "      <td>...</td>\n",
       "      <td>...</td>\n",
       "      <td>...</td>\n",
       "      <td>...</td>\n",
       "      <td>...</td>\n",
       "      <td>...</td>\n",
       "      <td>...</td>\n",
       "      <td>...</td>\n",
       "    </tr>\n",
       "    <tr>\n",
       "      <th>417463</th>\n",
       "      <td>2013</td>\n",
       "      <td>4.593723e+11</td>\n",
       "      <td>2013-01-01</td>\n",
       "      <td>2013-12-31</td>\n",
       "      <td>0.000000</td>\n",
       "      <td>29992.591797</td>\n",
       "      <td>888.888916</td>\n",
       "      <td>0.000000</td>\n",
       "      <td>0.000000</td>\n",
       "      <td>0.000000</td>\n",
       "      <td>...</td>\n",
       "      <td>33.741665</td>\n",
       "      <td>33.741665</td>\n",
       "      <td>0.440109</td>\n",
       "      <td>38.00000</td>\n",
       "      <td>0</td>\n",
       "      <td>0</td>\n",
       "      <td>0</td>\n",
       "      <td>1</td>\n",
       "      <td>no_default</td>\n",
       "      <td>16.543565</td>\n",
       "    </tr>\n",
       "    <tr>\n",
       "      <th>417553</th>\n",
       "      <td>2013</td>\n",
       "      <td>4.610112e+11</td>\n",
       "      <td>2013-01-01</td>\n",
       "      <td>2013-12-31</td>\n",
       "      <td>744.444458</td>\n",
       "      <td>57648.148438</td>\n",
       "      <td>3518.518555</td>\n",
       "      <td>0.000000</td>\n",
       "      <td>0.000000</td>\n",
       "      <td>0.000000</td>\n",
       "      <td>...</td>\n",
       "      <td>16.384210</td>\n",
       "      <td>14.350526</td>\n",
       "      <td>-0.076422</td>\n",
       "      <td>54.00000</td>\n",
       "      <td>0</td>\n",
       "      <td>0</td>\n",
       "      <td>0</td>\n",
       "      <td>0</td>\n",
       "      <td>no_default</td>\n",
       "      <td>6.922360</td>\n",
       "    </tr>\n",
       "    <tr>\n",
       "      <th>417606</th>\n",
       "      <td>2013</td>\n",
       "      <td>4.620594e+11</td>\n",
       "      <td>2013-01-01</td>\n",
       "      <td>2013-12-31</td>\n",
       "      <td>670.370361</td>\n",
       "      <td>65170.371094</td>\n",
       "      <td>17066.666016</td>\n",
       "      <td>0.000000</td>\n",
       "      <td>0.000000</td>\n",
       "      <td>0.000000</td>\n",
       "      <td>...</td>\n",
       "      <td>3.818577</td>\n",
       "      <td>2.706597</td>\n",
       "      <td>0.000837</td>\n",
       "      <td>60.00000</td>\n",
       "      <td>0</td>\n",
       "      <td>0</td>\n",
       "      <td>0</td>\n",
       "      <td>0</td>\n",
       "      <td>no_default</td>\n",
       "      <td>8.743910</td>\n",
       "    </tr>\n",
       "    <tr>\n",
       "      <th>417620</th>\n",
       "      <td>2013</td>\n",
       "      <td>4.623300e+11</td>\n",
       "      <td>2013-01-01</td>\n",
       "      <td>2013-12-31</td>\n",
       "      <td>0.000000</td>\n",
       "      <td>11551.851562</td>\n",
       "      <td>5174.074219</td>\n",
       "      <td>0.000000</td>\n",
       "      <td>0.000000</td>\n",
       "      <td>0.000000</td>\n",
       "      <td>...</td>\n",
       "      <td>2.232641</td>\n",
       "      <td>2.232641</td>\n",
       "      <td>0.152211</td>\n",
       "      <td>51.50000</td>\n",
       "      <td>0</td>\n",
       "      <td>0</td>\n",
       "      <td>0</td>\n",
       "      <td>0</td>\n",
       "      <td>no_default</td>\n",
       "      <td>12.411447</td>\n",
       "    </tr>\n",
       "    <tr>\n",
       "      <th>417643</th>\n",
       "      <td>2013</td>\n",
       "      <td>4.628231e+11</td>\n",
       "      <td>2013-01-01</td>\n",
       "      <td>2013-12-31</td>\n",
       "      <td>3159.259277</td>\n",
       "      <td>15488.888672</td>\n",
       "      <td>21440.740234</td>\n",
       "      <td>0.000000</td>\n",
       "      <td>0.000000</td>\n",
       "      <td>0.000000</td>\n",
       "      <td>...</td>\n",
       "      <td>0.722405</td>\n",
       "      <td>0.722405</td>\n",
       "      <td>0.012485</td>\n",
       "      <td>29.00000</td>\n",
       "      <td>0</td>\n",
       "      <td>0</td>\n",
       "      <td>0</td>\n",
       "      <td>1</td>\n",
       "      <td>no_default</td>\n",
       "      <td>4.515216</td>\n",
       "    </tr>\n",
       "  </tbody>\n",
       "</table>\n",
       "<p>7704 rows × 116 columns</p>\n",
       "</div>"
      ],
      "text/plain": [
       "        year       comp_id      begin        end        amort   curr_assets  \\\n",
       "156     2005  6.538183e+06 2005-01-01 2005-12-31   792.592590   6237.037109   \n",
       "182     2005  8.416055e+06 2005-01-01 2005-12-31  3155.555664  71070.367188   \n",
       "234     2005  1.242838e+07 2005-01-01 2005-12-31  3137.037109   1740.740723   \n",
       "261     2005  1.571155e+07 2005-01-01 2005-12-31  1592.592651   4740.740723   \n",
       "264     2005  1.600518e+07 2005-01-01 2005-12-31  5659.259277  71714.812500   \n",
       "...      ...           ...        ...        ...          ...           ...   \n",
       "417463  2013  4.593723e+11 2013-01-01 2013-12-31     0.000000  29992.591797   \n",
       "417553  2013  4.610112e+11 2013-01-01 2013-12-31   744.444458  57648.148438   \n",
       "417606  2013  4.620594e+11 2013-01-01 2013-12-31   670.370361  65170.371094   \n",
       "417620  2013  4.623300e+11 2013-01-01 2013-12-31     0.000000  11551.851562   \n",
       "417643  2013  4.628231e+11 2013-01-01 2013-12-31  3159.259277  15488.888672   \n",
       "\n",
       "           curr_liab  extra_exp    extra_inc  extra_profit_loss  ...  \\\n",
       "156       348.148163   0.000000     0.000000           0.000000  ...   \n",
       "182     25514.814453  74.074074     0.000000         -74.074074  ...   \n",
       "234      2192.592529   0.000000     0.000000           0.000000  ...   \n",
       "261      4970.370605   0.000000  7407.407227        7407.407227  ...   \n",
       "264     40607.406250   0.000000     0.000000           0.000000  ...   \n",
       "...              ...        ...          ...                ...  ...   \n",
       "417463    888.888916   0.000000     0.000000           0.000000  ...   \n",
       "417553   3518.518555   0.000000     0.000000           0.000000  ...   \n",
       "417606  17066.666016   0.000000     0.000000           0.000000  ...   \n",
       "417620   5174.074219   0.000000     0.000000           0.000000  ...   \n",
       "417643  21440.740234   0.000000     0.000000           0.000000  ...   \n",
       "\n",
       "        current_ratio  quick_ratio  return_on_assets   ceo_age  \\\n",
       "156         17.914893    17.914893         -0.144123  46.68887   \n",
       "182          2.785455     2.632893          0.000000  45.00000   \n",
       "234          0.793919     0.793919          0.137374  46.68887   \n",
       "261          0.953800     0.822653          0.056311  46.68887   \n",
       "264          1.766053     0.771616         -0.049577  30.00000   \n",
       "...               ...          ...               ...       ...   \n",
       "417463      33.741665    33.741665          0.440109  38.00000   \n",
       "417553      16.384210    14.350526         -0.076422  54.00000   \n",
       "417606       3.818577     2.706597          0.000837  60.00000   \n",
       "417620       2.232641     2.232641          0.152211  51.50000   \n",
       "417643       0.722405     0.722405          0.012485  29.00000   \n",
       "\n",
       "        flag_low_ceo_age  flag_high_ceo_age  flag_miss_ceo_age  ceo_young  \\\n",
       "156                    0                  0                  1          0   \n",
       "182                    0                  0                  0          0   \n",
       "234                    0                  0                  1          0   \n",
       "261                    0                  0                  1          0   \n",
       "264                    0                  0                  0          1   \n",
       "...                  ...                ...                ...        ...   \n",
       "417463                 0                  0                  0          1   \n",
       "417553                 0                  0                  0          0   \n",
       "417606                 0                  0                  0          0   \n",
       "417620                 0                  0                  0          0   \n",
       "417643                 0                  0                  0          1   \n",
       "\n",
       "         default_f  sales_mil_log_sq  \n",
       "156     no_default         12.464763  \n",
       "182     no_default          2.985813  \n",
       "234     no_default         12.291621  \n",
       "261     no_default         22.081296  \n",
       "264     no_default          2.241016  \n",
       "...            ...               ...  \n",
       "417463  no_default         16.543565  \n",
       "417553  no_default          6.922360  \n",
       "417606  no_default          8.743910  \n",
       "417620  no_default         12.411447  \n",
       "417643  no_default          4.515216  \n",
       "\n",
       "[7704 rows x 116 columns]"
      ]
     },
     "execution_count": 60,
     "metadata": {},
     "output_type": "execute_result"
    }
   ],
   "source": [
    "# Creating a function to handle missing values\n",
    "\n",
    "def data_dish_washer(data):\n",
    "    # Step 1: Imputing with 0: Fill specific columns with 0 in case of numerical values\n",
    "    zero_fill_cols = ['amort',\n",
    "                      'curr_assets',\n",
    "                      'personnel_exp', \n",
    "                      'material_exp',\n",
    "                      'liq_assets',\n",
    "                      'inventories',\n",
    "                      'intang_assets', \n",
    "                      'fixed_assets',\n",
    "                      'extra_profit_loss',\n",
    "                      'extra_inc',\n",
    "                      'extra_exp', \n",
    "                      'curr_liab',\n",
    "                      'tang_assets']\n",
    "    data[zero_fill_cols] = data[zero_fill_cols].fillna(0)\n",
    "\n",
    "\n",
    "    # Step 2: Imputing with median: Fill missing values with median where it makes sense\n",
    "    median_fill_cols = ['sales',\n",
    "                        'profit_loss_year',\n",
    "                        'inc_bef_tax', \n",
    "                        'share_eq',\n",
    "                        'subscribed_cap']\n",
    "    for col in median_fill_cols:\n",
    "        data[col] = data[col].fillna(data[col].median())\n",
    "\n",
    "    # Step 3: Change: Drop rows with missing values in specified categorical columns\n",
    "    row_drops = ['nace_main',\n",
    "                 'ind2',\n",
    "                 'ceo_count', \n",
    "                 'foreign', \n",
    "                 'female',\n",
    "                 'inoffice_days',\n",
    "                 'gender',\n",
    "                 'origin']\n",
    "    data = data.dropna(subset=row_drops)\n",
    "\n",
    "    # Step 4: Fill missing regions with 'NaN'\n",
    "    data['region_m'] = data['region_m'].fillna('Missing')\n",
    "    \n",
    "    \n",
    "    # Add \"Missing\" as a category for the 'm_region_loc' column\n",
    "    if \"Missing\" not in data['m_region_loc'].astype('category').cat.categories:\n",
    "        data['m_region_loc'] = data['m_region_loc'].astype('category').cat.add_categories(\"Missing\")\n",
    "\n",
    "    # Now you can safely replace NA values with \"Missing\"\n",
    "    data['m_region_loc'] = data['m_region_loc'].fillna(\"Missing\")\n",
    "\n",
    "\n",
    "    # Step 5: Convert Date variables to datetime types\n",
    "    datetime_columns = ['begin',\n",
    "                        'end',\n",
    "                        'founded_date',\n",
    "                        'exit_date']\n",
    "    for col in datetime_columns:\n",
    "        data[col] = pd.to_datetime(data[col], errors='coerce')\n",
    "\n",
    "    # Step 6: Verify Numeric Columns\n",
    "    numeric_columns = ['year',\n",
    "                       'founded_year',\n",
    "                       'exit_year',\n",
    "                       'birth_year']\n",
    "    for col in numeric_columns:\n",
    "        data[col] = pd.to_numeric(data[col], errors='coerce')\n",
    "\n",
    "    # Transforming the Infinite values with NaNs in data\n",
    "    data = data.replace([np.inf, -np.inf], np.nan)\n",
    "    \n",
    "    # Apply fillna(0) only to numeric columns to avoid the TypeError\n",
    "    data[zero_fill_cols + median_fill_cols] = data[zero_fill_cols + median_fill_cols].fillna(0)\n",
    "    \n",
    "    numerical_columns = data.select_dtypes(include=[np.number]).columns\n",
    "    data[numerical_columns] = data[numerical_columns].fillna(0)\n",
    "    \n",
    "    \n",
    "    # Dropping the columns with too many missing values in the original data\n",
    "    data = data.drop(columns = ['COGS',\n",
    "                                'finished_prod',\n",
    "                                'net_dom_sales',\n",
    "                                'net_exp_sales',\n",
    "                                'wages',\n",
    "                                'D',\n",
    "                                'ind',\n",
    "                                'labor_avg',\n",
    "                               'exit_date'])\n",
    "    \n",
    "    return data\n",
    "\n",
    "data = data_dish_washer(data)\n",
    "data"
   ]
  },
  {
   "cell_type": "code",
   "execution_count": 61,
   "id": "8a579ee0-d0cb-49d3-915d-c594fdad014d",
   "metadata": {
    "tags": []
   },
   "outputs": [
    {
     "data": {
      "text/plain": [
       "Central    5635\n",
       "East       1252\n",
       "West        809\n",
       "Missing       8\n",
       "Name: m_region_loc, dtype: int64"
      ]
     },
     "execution_count": 61,
     "metadata": {},
     "output_type": "execute_result"
    }
   ],
   "source": [
    "data.m_region_loc.value_counts()"
   ]
  },
  {
   "cell_type": "code",
   "execution_count": null,
   "id": "262faf1f-8354-4670-b1e6-47917e429deb",
   "metadata": {
    "tags": []
   },
   "outputs": [],
   "source": [
    "# Adjust pandas display options to show more rows\n",
    "pd.set_option('display.max_rows', None)\n",
    "to_filter = data.isnull().sum()\n",
    "missing_values_columns = to_filter[to_filter > 0]\n",
    "\n",
    "# Display all columns with missing values and their counts\n",
    "print(missing_values_columns)"
   ]
  },
  {
   "cell_type": "code",
   "execution_count": null,
   "id": "afd60922-486b-41f9-a734-2e665da9d943",
   "metadata": {
    "scrolled": true,
    "tags": []
   },
   "outputs": [],
   "source": [
    "data.isnull().sum().sum()"
   ]
  },
  {
   "cell_type": "code",
   "execution_count": null,
   "id": "902a9641-142e-4b9a-a28e-63e555a2a7bf",
   "metadata": {
    "tags": []
   },
   "outputs": [],
   "source": [
    "data.columns"
   ]
  },
  {
   "cell_type": "code",
   "execution_count": null,
   "id": "6f4a42d7-b744-4551-8e25-a76c2e2c6601",
   "metadata": {
    "scrolled": true,
    "tags": []
   },
   "outputs": [],
   "source": [
    "data.dtypes"
   ]
  },
  {
   "cell_type": "code",
   "execution_count": null,
   "id": "c773dc6d-1cd1-4583-8f33-70fc4ad94fda",
   "metadata": {
    "scrolled": true,
    "tags": []
   },
   "outputs": [],
   "source": [
    "hold_out_sample = data_dish_washer(hold_out_sample)\n",
    "hold_out_sample"
   ]
  },
  {
   "cell_type": "code",
   "execution_count": null,
   "id": "d8208217-296f-422b-a063-4669b4ab3c29",
   "metadata": {
    "tags": []
   },
   "outputs": [],
   "source": [
    "# data['sales_log']"
   ]
  },
  {
   "cell_type": "code",
   "execution_count": null,
   "id": "f499868d-ea39-4ad7-9017-c8e08b5bde30",
   "metadata": {
    "tags": []
   },
   "outputs": [],
   "source": [
    "data['sales'].describe()"
   ]
  },
  {
   "cell_type": "code",
   "execution_count": null,
   "id": "fede6010-f1db-458c-bb3a-b6e96da24877",
   "metadata": {
    "tags": []
   },
   "outputs": [],
   "source": [
    "# Custom function to format the describe output\n",
    "def format_describe(describe_dict):\n",
    "\n",
    "    formatted_describe = {k: '{:,.2f}'.format(v) for k, v in describe_dict.items()}\n",
    "    return formatted_describe\n",
    "\n",
    "# Format the mock describe data\n",
    "formatted_sales_describe = format_describe(data['sales'].describe())\n",
    "formatted_sales_describe"
   ]
  },
  {
   "cell_type": "code",
   "execution_count": null,
   "id": "ec62ab7c-5a2e-4c41-8aa6-a8331d3c4275",
   "metadata": {
    "tags": []
   },
   "outputs": [],
   "source": [
    "data.sales.hist()"
   ]
  },
  {
   "cell_type": "markdown",
   "id": "c7fa1a5b-ad48-4d41-a514-295973e10a52",
   "metadata": {},
   "source": [
    "With such a large range, the sales are getting automatically transformed in an unreadable way for visualizations."
   ]
  },
  {
   "cell_type": "code",
   "execution_count": null,
   "id": "b5fdab89-4d0f-40ae-826d-77518960e850",
   "metadata": {
    "tags": []
   },
   "outputs": [],
   "source": [
    "# Filter the data to include only sales within the specified range\n",
    "filtered_sales = data['sales'][(data['sales'] >= 1000) & (data['sales'] <= 10000000)]\n",
    "\n",
    "plt.figure(figsize=(10, 6))\n",
    "plt.hist(filtered_sales, bins=50, color='blue', edgecolor='black')\n",
    "plt.title('Histogram of Sales Data ($1,000 - $10,000,000 range)')\n",
    "plt.xlabel('Sales')\n",
    "plt.ylabel('Frequency')\n",
    "plt.yscale('log')  # Log scale for better visualization\n",
    "\n",
    "# Set x-axis to show actual values with custom formatting\n",
    "plt.gca().xaxis.set_major_formatter(plt.matplotlib.ticker.FuncFormatter(lambda x, _: f'{int(x):,}'))\n",
    "\n",
    "plt.show()\n"
   ]
  },
  {
   "cell_type": "markdown",
   "id": "d05158df-10fc-46fb-b32f-432b573cf486",
   "metadata": {},
   "source": [
    "Fitting the sales in a range gives it a much more readable view. There is a huge skew of data, so log trasformation is appropriate."
   ]
  },
  {
   "cell_type": "code",
   "execution_count": null,
   "id": "e95740c5-a93f-4915-b6f0-b46fda148f42",
   "metadata": {
    "tags": []
   },
   "outputs": [],
   "source": [
    "# Apply log transformation to sales data\n",
    "data['sales_log'] = np.log1p(filtered_sales)\n",
    "plt.hist(data['sales_log'], bins=50)\n",
    "plt.xlabel('Log of Sales')\n",
    "plt.ylabel('Frequency')\n",
    "plt.title('Log-transformed Sales Distribution')\n",
    "plt.show()\n"
   ]
  },
  {
   "cell_type": "markdown",
   "id": "fd5a835f-0125-413f-bc88-155ae529067e",
   "metadata": {
    "tags": []
   },
   "source": [
    "## 1.6 Model Building"
   ]
  },
  {
   "cell_type": "markdown",
   "id": "1be3f63c-f9bf-4968-b59a-3768c74ffdff",
   "metadata": {
    "tags": []
   },
   "source": [
    "### 1.6.1 Define Variable Sets"
   ]
  },
  {
   "cell_type": "markdown",
   "id": "90254d44-43c2-487b-83bc-4a2bba9a2b59",
   "metadata": {},
   "source": [
    "#### Main Firm Variables"
   ]
  },
  {
   "cell_type": "code",
   "execution_count": null,
   "id": "f02aea63-cb99-47f4-9dce-b45552c41a21",
   "metadata": {
    "tags": []
   },
   "outputs": [],
   "source": [
    "rawvars = [\n",
    "    \"curr_assets\",\n",
    "    \"curr_liab\",\n",
    "    \"extra_exp\",\n",
    "    \"extra_inc\",\n",
    "    \"extra_profit_loss\",\n",
    "    \"fixed_assets\",\n",
    "    \"inc_bef_tax\",\n",
    "    \"intang_assets\",\n",
    "    \"inventories\",\n",
    "    \"liq_assets\",\n",
    "    \"material_exp\",\n",
    "    \"personnel_exp\",\n",
    "    \"profit_loss_year\",\n",
    "    \"sales\",\n",
    "    \"share_eq\",\n",
    "    \"subscribed_cap\",\n",
    "]"
   ]
  },
  {
   "cell_type": "markdown",
   "id": "0d945d17-8d71-4f96-b094-383dc4cb4056",
   "metadata": {
    "tags": []
   },
   "source": [
    "#### Further financial variables"
   ]
  },
  {
   "cell_type": "code",
   "execution_count": null,
   "id": "97ced08c-1567-4673-ad6f-9c40ff14f006",
   "metadata": {
    "tags": []
   },
   "outputs": [],
   "source": [
    "qualityvars = [\"balsheet_flag\", \"balsheet_length\", \"balsheet_notfullyear\"]\n",
    "engvar = [\n",
    "    \"total_assets_bs\",\n",
    "    \"fixed_assets_bs\",\n",
    "    \"liq_assets_bs\",\n",
    "    \"curr_assets_bs\",\n",
    "    \"share_eq_bs\",\n",
    "    \"subscribed_cap_bs\",\n",
    "    \"intang_assets_bs\",\n",
    "    \"extra_exp_pl\",\n",
    "    \"extra_inc_pl\",\n",
    "    \"extra_profit_loss_pl\",\n",
    "    \"inc_bef_tax_pl\",\n",
    "    \"inventories_pl\",\n",
    "    \"material_exp_pl\",\n",
    "    \"profit_loss_year_pl\",\n",
    "    \"personnel_exp_pl\",\n",
    "]\n",
    "engvar2 = [\n",
    "    \"extra_profit_loss_pl_quad\",\n",
    "    \"inc_bef_tax_pl_quad\",\n",
    "    \"profit_loss_year_pl_quad\",\n",
    "    \"share_eq_bs_quad\",\n",
    "]"
   ]
  },
  {
   "cell_type": "markdown",
   "id": "b47bd513-05f9-4507-bc27-801e34399365",
   "metadata": {},
   "source": [
    "#### Financial Ratios"
   ]
  },
  {
   "cell_type": "code",
   "execution_count": null,
   "id": "9351a7c4-6ee7-4927-a589-08f29db1a546",
   "metadata": {
    "tags": []
   },
   "outputs": [],
   "source": [
    "financial_ratios = [\n",
    "    \"gross_profit_margin\",\n",
    "    \"net_profit_margin\",\n",
    "    \"return_on_equity\",\n",
    "    \"debt_equity_ratio\",\n",
    "    \"current_ratio\",\n",
    "    \"quick_ratio\",\n",
    "    \"return_on_assets\"\n",
    "]"
   ]
  },
  {
   "cell_type": "markdown",
   "id": "09f7b1f9-5738-4175-afae-3f0ad85a3e14",
   "metadata": {},
   "source": [
    "#### Flag Variables"
   ]
  },
  {
   "cell_type": "code",
   "execution_count": null,
   "id": "b42f35a1-21ea-47b6-b6af-b60e30ab89e0",
   "metadata": {
    "tags": []
   },
   "outputs": [],
   "source": [
    "engvar3 = []\n",
    "for col in data.columns:\n",
    "    if (\n",
    "        col.endswith(\"flag_low\")\n",
    "        or col.endswith(\"flag_high\")\n",
    "        or col.endswith(\"flag_error\")\n",
    "        or col.endswith(\"flag_zero\")\n",
    "    ):\n",
    "        engvar3.append(col)"
   ]
  },
  {
   "cell_type": "markdown",
   "id": "42dd5cfc-f21c-45ad-acb8-d1da98bd75af",
   "metadata": {},
   "source": [
    "#### Growth Variables"
   ]
  },
  {
   "cell_type": "markdown",
   "id": "732ee8bf-ca3f-4038-a8e0-d528fc5cd965",
   "metadata": {
    "tags": []
   },
   "source": [
    "d1 = [\n",
    "    \"d1_sales_mil_log\",\n",
    "    \"d1_sales_mil_log_sq\",\n",
    "    \"flag_low_d1_sales_mil_log\",\n",
    "    \"flag_high_d1_sales_mil_log\",\n",
    "]"
   ]
  },
  {
   "cell_type": "markdown",
   "id": "eaee0427-f1ec-4013-8d28-a4a9c9c08cd3",
   "metadata": {},
   "source": [
    "#### Human capital related variables"
   ]
  },
  {
   "cell_type": "code",
   "execution_count": null,
   "id": "55bcb5fc-e7c2-43c1-af7c-947ce3cd6f1c",
   "metadata": {
    "tags": []
   },
   "outputs": [],
   "source": [
    "hr = [\n",
    "    \"female\",\n",
    "    \"ceo_age\",\n",
    "    \"flag_high_ceo_age\",\n",
    "    \"flag_low_ceo_age\",\n",
    "    \"flag_miss_ceo_age\",\n",
    "    \"ceo_count\",\n",
    "    \"foreign_management\",\n",
    "]"
   ]
  },
  {
   "cell_type": "markdown",
   "id": "600f2808-078c-45d9-83b8-f8b6ea567c46",
   "metadata": {
    "tags": []
   },
   "source": [
    "#### Firms history related variables"
   ]
  },
  {
   "cell_type": "code",
   "execution_count": null,
   "id": "79a1a6a0-a17f-40a5-ad03-e1161eac5848",
   "metadata": {
    "tags": []
   },
   "outputs": [],
   "source": [
    "firm = [\"age\",\n",
    "        \"age2\",\n",
    "        \"new\",\n",
    "        \"C(ind2_cat)\",\n",
    "        \"C(m_region_loc)\",\n",
    "        \"C(urban_m)\"]"
   ]
  },
  {
   "cell_type": "markdown",
   "id": "c7fb6157-965b-440f-8699-a5538fdd10a7",
   "metadata": {
    "tags": []
   },
   "source": [
    "#### Interactions for logit, LASSO"
   ]
  },
  {
   "cell_type": "markdown",
   "id": "94276a55-b3a8-4f8c-abab-f31f7052467b",
   "metadata": {},
   "source": [
    "interactions1 = [\n",
    "    \"C(ind2_cat)*age\",\n",
    "    \"C(ind2_cat)*age2\",\n",
    "    \"C(ind2_cat)*sales_mil_log\",\n",
    "    \"C(ind2_cat)*ceo_age\",\n",
    "    \"C(ind2_cat)*foreign_management\",\n",
    "    \"C(ind2_cat)*female\",\n",
    "    \"C(ind2_cat)*C(urban_m)\"\n",
    "]"
   ]
  },
  {
   "cell_type": "code",
   "execution_count": null,
   "id": "bcea5a74-57f4-4ada-a6a0-48ca0f7facf4",
   "metadata": {
    "tags": []
   },
   "outputs": [],
   "source": [
    "# Adding interactions with log sales \n",
    "interactions2 = [\n",
    "    \"sales_mil_log*age\",\n",
    "    \"sales_mil_log*female\",\n",
    "    \"sales_mil_log*profit_loss_year_pl\",\n",
    "    \"sales_mil_log*foreign_management\",\n",
    "]"
   ]
  },
  {
   "cell_type": "code",
   "execution_count": null,
   "id": "da99ddd6-f33b-43fc-be3b-9b578da9fe0f",
   "metadata": {
    "tags": []
   },
   "outputs": [],
   "source": [
    "# Adding further interactions with our financial ratios\n",
    "interactions3 = [\n",
    "    \"sales_mil_log*gross_profit_margin\",\n",
    "    \"sales_mil_log*net_profit_margin\",\n",
    "    \"sales_mil_log*return_on_equity\",\n",
    "    \"sales_mil_log*debt_equity_ratio\",\n",
    "    \"sales_mil_log*current_ratio\",\n",
    "    \"sales_mil_log*quick_ratio\",\n",
    "    \"sales_mil_log*return_on_assets\"\n",
    "]\n",
    "\n",
    "# Adding further interactions which can affect sales of the firm\n",
    "interactions4 = [\n",
    "    \"female*foreign_management\",\n",
    "    \"ceo_young*share_eq_bs\",\n",
    "    \"ceo_young*extra_profit_loss_pl\",\n",
    "    \"origin*foreign_management\",\n",
    "    \"ceo_young*year\"\n",
    "]"
   ]
  },
  {
   "cell_type": "markdown",
   "id": "499dd176-737a-4c79-baae-c5f6c6155141",
   "metadata": {
    "tags": []
   },
   "source": [
    "### 1.6.2 Model Setups"
   ]
  },
  {
   "cell_type": "markdown",
   "id": "940610c4-5f30-4d21-b826-279f45b3bf4f",
   "metadata": {
    "tags": []
   },
   "source": [
    "#### 1. Simple Logit Models"
   ]
  },
  {
   "cell_type": "code",
   "execution_count": null,
   "id": "4013ab6c-b601-4a71-b6fb-3d94c9a897e0",
   "metadata": {
    "tags": []
   },
   "outputs": [],
   "source": [
    "M1 = [\n",
    "    \"sales_mil_log\",\n",
    "    \"sales_mil_log_sq\",\n",
    "    \"profit_loss_year_pl\",\n",
    "    \"C(ind2_cat)\",\n",
    "]\n",
    "M2 = [\n",
    "    \"sales_mil_log\",\n",
    "    \"sales_mil_log_sq\",\n",
    "    \"profit_loss_year_pl\",\n",
    "    \"fixed_assets_bs\",\n",
    "    \"share_eq_bs\",\n",
    "    \"curr_liab_bs \",\n",
    "    \"curr_liab_bs_flag_high \",\n",
    "    \"curr_liab_bs_flag_error\",\n",
    "    \"age\",\n",
    "    \"foreign_management\"\n",
    "]\n",
    "M3 = [\"sales_mil_log\", \"sales_mil_log_sq\"] + firm + engvar\n",
    "M4 = (\n",
    "    [\"sales_mil_log\", \"sales_mil_log_sq\"]\n",
    "    + firm\n",
    "    + engvar\n",
    "    + engvar2\n",
    "    + engvar3\n",
    "    + hr\n",
    "    + qualityvars\n",
    "    + financial_ratios\n",
    ")\n",
    "M5 = (\n",
    "    [\"sales_mil_log\", \"sales_mil_log_sq\"]\n",
    "    + firm\n",
    "    + engvar\n",
    "    + engvar2\n",
    "    + engvar3\n",
    "    + hr\n",
    "    + qualityvars\n",
    "    + financial_ratios\n",
    "    + interactions2\n",
    ")"
   ]
  },
  {
   "cell_type": "markdown",
   "id": "72250e87-6b88-4cb3-b559-a739a25dd57a",
   "metadata": {
    "tags": []
   },
   "source": [
    "#### 2. Logit+LASSO"
   ]
  },
  {
   "cell_type": "code",
   "execution_count": null,
   "id": "d59c6404-3f31-4357-b877-69cc2464ef2b",
   "metadata": {
    "tags": []
   },
   "outputs": [],
   "source": [
    "logit_lasso_vars = (\n",
    "    [\"sales_mil_log\", \"sales_mil_log_sq\"]\n",
    "    + engvar\n",
    "    + engvar2\n",
    "    + engvar3\n",
    "    + hr\n",
    "    + firm\n",
    "    + qualityvars\n",
    "    + financial_ratios\n",
    "    + interactions2\n",
    ")"
   ]
  },
  {
   "cell_type": "markdown",
   "id": "b2c9ed35-e573-4ac2-866a-33b950d9ef1f",
   "metadata": {
    "tags": []
   },
   "source": [
    "#### 3. CART and RF (no interactions, no modified features)"
   ]
  },
  {
   "cell_type": "code",
   "execution_count": null,
   "id": "372747ab-e94d-453f-8459-dbee7fc63a97",
   "metadata": {
    "tags": []
   },
   "outputs": [],
   "source": [
    "rfvars = [\"sales_mil\", \"d1_sales_mil_log\"] + rawvars + hr + firm + qualityvars + financial_ratios"
   ]
  },
  {
   "cell_type": "markdown",
   "id": "f9901c8a-033b-443f-a837-ad71c314d296",
   "metadata": {
    "tags": []
   },
   "source": [
    "# ***Predictive Models***"
   ]
  },
  {
   "cell_type": "markdown",
   "id": "84244bc8-3790-41cd-ad71-5cabe59ff3c4",
   "metadata": {
    "tags": []
   },
   "source": [
    "## Linear Probability Models"
   ]
  },
  {
   "cell_type": "code",
   "execution_count": null,
   "id": "73352aff-02eb-41a4-a44c-55f2154631d8",
   "metadata": {
    "tags": []
   },
   "outputs": [],
   "source": [
    "ols_modelx2 = smf.ols(\"default~\" + \"+\".join(M2), data).fit(cov_type=\"HC1\")\n",
    "ols_modelx2.summary()"
   ]
  },
  {
   "cell_type": "code",
   "execution_count": null,
   "id": "003b02b6-ee01-42ab-b637-82b8f1e03d7b",
   "metadata": {
    "tags": []
   },
   "outputs": [],
   "source": [
    "logit_modelx2 = smf.logit(\"default~\" + \"+\".join(M2), data).fit()"
   ]
  },
  {
   "cell_type": "code",
   "execution_count": null,
   "id": "b86698b2-ee78-44fb-9795-ec698008d6a3",
   "metadata": {
    "tags": []
   },
   "outputs": [],
   "source": [
    "logit_modelx2.summary()"
   ]
  },
  {
   "cell_type": "code",
   "execution_count": null,
   "id": "7a839683-484f-4f29-81cc-cc379fc8df55",
   "metadata": {
    "tags": []
   },
   "outputs": [],
   "source": [
    "logit_modelx2.get_margeff().summary()"
   ]
  },
  {
   "cell_type": "markdown",
   "id": "35e4326c-0a84-4232-8d90-08e9d96eb0ca",
   "metadata": {
    "tags": []
   },
   "source": [
    "## 1. Predict probabilities with logit and Lasso with CV\n",
    "\n",
    "Specify 5 fold cross-validation method"
   ]
  },
  {
   "cell_type": "code",
   "execution_count": null,
   "id": "69e7f29c-c086-4ef5-872a-8bd125387d1f",
   "metadata": {
    "tags": []
   },
   "outputs": [],
   "source": [
    "data_train = data.copy()"
   ]
  },
  {
   "cell_type": "code",
   "execution_count": null,
   "id": "779e7f17-f6df-4ff6-853c-f82cd7c321fc",
   "metadata": {
    "tags": []
   },
   "outputs": [],
   "source": [
    "k = KFold(n_splits=5, shuffle=True, random_state=42)"
   ]
  },
  {
   "cell_type": "markdown",
   "id": "c495193a-3b5c-4872-95ed-6a5bc49f06ad",
   "metadata": {},
   "source": [
    "### a) cross validate logit models"
   ]
  },
  {
   "cell_type": "markdown",
   "id": "04435f86-84ab-489e-8bd2-dffa9323cd21",
   "metadata": {},
   "source": [
    "Set up X-vars"
   ]
  },
  {
   "cell_type": "code",
   "execution_count": null,
   "id": "a6e00e06-62fe-4e8c-be72-2345ca87a414",
   "metadata": {
    "tags": []
   },
   "outputs": [],
   "source": [
    "logit_model_vars = [M1, M2, M3, M4, M5]"
   ]
  },
  {
   "cell_type": "markdown",
   "id": "b7435794-898f-440d-b5f0-ad5209f170dc",
   "metadata": {},
   "source": [
    "Set up Logit model object\n",
    "\n",
    "No regularisation needed so setting the paremeter to very high value"
   ]
  },
  {
   "cell_type": "code",
   "execution_count": null,
   "id": "a62766d7-4946-4f16-901e-9a2929df454b",
   "metadata": {
    "tags": []
   },
   "outputs": [],
   "source": [
    "C_value_logit = [1e20]"
   ]
  },
  {
   "cell_type": "code",
   "execution_count": null,
   "id": "e5ba1d5c-0fb9-4047-9dd2-76f260d92f65",
   "metadata": {
    "tags": []
   },
   "outputs": [],
   "source": [
    "logit_models = dict()\n",
    "CV_RMSE_folds = dict()\n",
    "\n",
    "for i, model_vars in enumerate(logit_model_vars):\n",
    "\n",
    "    model_equation = \"default~\" + \"+\".join(model_vars)\n",
    "    y_train, X_train = patsy.dmatrices(model_equation, data_train)\n",
    "\n",
    "    LRCV_brier = LogisticRegressionCV(\n",
    "        Cs=C_value_logit,\n",
    "        cv=k,\n",
    "        refit=True,\n",
    "        scoring=\"neg_brier_score\",\n",
    "        solver=\"newton-cg\",\n",
    "        tol=1e-7,\n",
    "        random_state=42,\n",
    "    )\n",
    "\n",
    "    logit_models[\"M\" + str(i + 1)] = LRCV_brier.fit(X_train, y_train)\n",
    "\n",
    "    # Calculate RMSE on test for each fold\n",
    "    CV_RMSE_folds[\"M\" + str(i + 1)] = np.sqrt(\n",
    "        -1 * logit_models[\"M\" + str(i + 1)].scores_[1].ravel()\n",
    "    )"
   ]
  },
  {
   "cell_type": "code",
   "execution_count": null,
   "id": "a49f232c-8042-47c7-b060-8b22aa8beeeb",
   "metadata": {
    "tags": []
   },
   "outputs": [],
   "source": [
    "pd.DataFrame(CV_RMSE_folds)"
   ]
  },
  {
   "cell_type": "markdown",
   "id": "2d86e8f3-9717-4715-a004-87f44a36b536",
   "metadata": {},
   "source": [
    "### b) Logit + LASSO"
   ]
  },
  {
   "cell_type": "code",
   "execution_count": null,
   "id": "0297dbe5-e9b7-4f28-bdef-8fed4ebff7b8",
   "metadata": {
    "tags": []
   },
   "outputs": [],
   "source": [
    "# Adding the logit lasso variables to our model equation\n",
    "model_equation = \"default~\" + \"+\".join(logit_lasso_vars)\n",
    "y_train, X_train = patsy.dmatrices(model_equation, data_train)"
   ]
  },
  {
   "cell_type": "code",
   "execution_count": null,
   "id": "2676a40a-2974-45f9-9bcc-ef9ec28e8555",
   "metadata": {
    "tags": []
   },
   "outputs": [],
   "source": [
    "normalized_logitvars = pd.DataFrame(\n",
    "    StandardScaler().fit_transform(X_train),\n",
    "    columns=X_train.design_info.column_names,\n",
    ")"
   ]
  },
  {
   "cell_type": "code",
   "execution_count": null,
   "id": "d74c3076-8658-4bc0-b7b4-0c44c522cb8f",
   "metadata": {
    "tags": []
   },
   "outputs": [],
   "source": [
    "lambdas = list(10 ** np.arange(-1, -4.01, -1 / 3))\n",
    "n_obs = normalized_logitvars.shape[0] * 4 / 5\n",
    "C_values = [\n",
    "    1 / (l * n_obs) for l in lambdas\n",
    "]  # Cs are the inverse of regularization strength"
   ]
  },
  {
   "cell_type": "code",
   "execution_count": null,
   "id": "5bc63360-4d17-4fa5-90a9-bba998dae4c2",
   "metadata": {
    "tags": []
   },
   "outputs": [],
   "source": [
    "logLasso_brier = LogisticRegressionCV(\n",
    "    Cs=C_values,\n",
    "    penalty=\"l1\",\n",
    "    cv=k,\n",
    "    refit=True,\n",
    "    scoring=\"neg_brier_score\",\n",
    "    solver=\"liblinear\",\n",
    "    random_state=42,\n",
    ")\n",
    "\n",
    "logit_models[\"LASSO\"] = logLasso_brier.fit(normalized_logitvars, y_train)"
   ]
  },
  {
   "cell_type": "code",
   "execution_count": null,
   "id": "2eb7a919-f505-4b45-ad48-9035e7f6daf0",
   "metadata": {
    "tags": []
   },
   "outputs": [],
   "source": [
    "# Summarizing the regularization parameters\n",
    "cv_summary_lasso = cv_summary(lambdas, C_values, logit_models[\"LASSO\"])\n",
    "cv_summary_lasso[\"mean_cv_score\"] = np.sqrt(cv_summary_lasso[\"mean_cv_score\"] * -1)\n",
    "cv_summary_lasso"
   ]
  },
  {
   "cell_type": "code",
   "execution_count": null,
   "id": "e3b3ba7b-dffd-4130-921d-824b55fce865",
   "metadata": {
    "tags": []
   },
   "outputs": [],
   "source": [
    "# Returning the index of the minimum mean cv score\n",
    "best_lambda_i = cv_summary_lasso[\"mean_cv_score\"].idxmin()"
   ]
  },
  {
   "cell_type": "code",
   "execution_count": null,
   "id": "322f8054-220b-441c-9d56-d323278ba6ec",
   "metadata": {
    "tags": []
   },
   "outputs": [],
   "source": [
    "CV_RMSE_folds[\"LASSO\"] = np.sqrt(\n",
    "    -1 * logit_models[\"LASSO\"].scores_[1][:, best_lambda_i]\n",
    ")"
   ]
  },
  {
   "cell_type": "code",
   "execution_count": null,
   "id": "f1ad6a18-a5ee-43bc-8b0a-cb957d893fee",
   "metadata": {
    "tags": []
   },
   "outputs": [],
   "source": [
    "pd.DataFrame(CV_RMSE_folds)"
   ]
  },
  {
   "cell_type": "markdown",
   "id": "af5ba6bf-b44b-4c47-b23c-2b13533b2e34",
   "metadata": {
    "tags": []
   },
   "source": [
    "## 2.  AUC, Calibration Curve, Confusion Matrix, ROC\n",
    "\n",
    "0. Calculate AUC for folds\n",
    "\n",
    "\n",
    "First, for logits"
   ]
  },
  {
   "cell_type": "code",
   "execution_count": null,
   "id": "213aaa71-9259-43e2-b909-a564e54d90dd",
   "metadata": {
    "tags": []
   },
   "outputs": [],
   "source": [
    "CV_AUC_folds = dict()\n",
    "for i, model_vars in enumerate(logit_model_vars):\n",
    "\n",
    "    model_equation = \"default~\" + \"+\".join(model_vars)\n",
    "    y_train, X_train = patsy.dmatrices(model_equation, data_train)\n",
    "\n",
    "    LRCV_auc = LogisticRegressionCV(\n",
    "        Cs=C_value_logit,\n",
    "        cv=k,\n",
    "        refit=True,\n",
    "        scoring=\"roc_auc\",\n",
    "        solver=\"newton-cg\",\n",
    "        tol=1e-7,\n",
    "        random_state=42,\n",
    "    )\n",
    "\n",
    "    logit_models[\"M\" + str(i + 1)] = LRCV_auc.fit(X_train, y_train)\n",
    "\n",
    "    # Calculate AUC on test for each fold\n",
    "    CV_AUC_folds[\"M\" + str(i + 1)] = logit_models[\"M\" + str(i + 1)].scores_[1].ravel()"
   ]
  },
  {
   "cell_type": "markdown",
   "id": "9d230881-ba3c-4466-a494-49b33d07cd32",
   "metadata": {},
   "source": [
    "For Lasso"
   ]
  },
  {
   "cell_type": "code",
   "execution_count": null,
   "id": "10eec812-96ac-43b6-af63-aaaaea8a0558",
   "metadata": {
    "tags": []
   },
   "outputs": [],
   "source": [
    "logLasso_auc = LogisticRegressionCV(\n",
    "    Cs=C_values,\n",
    "    penalty=\"l1\",\n",
    "    cv=k,\n",
    "    refit=True,\n",
    "    scoring=\"roc_auc\",\n",
    "    solver=\"liblinear\",\n",
    "    random_state=42,\n",
    ")\n",
    "logLasso_auc_fitted = logLasso_auc.fit(normalized_logitvars, y_train)\n",
    "\n",
    "CV_AUC_folds[\"LASSO\"] = logLasso_auc_fitted.scores_[1][\n",
    "    :, cv_summary_lasso[\"mean_cv_score\"].idxmin()\n",
    "]"
   ]
  },
  {
   "cell_type": "code",
   "execution_count": null,
   "id": "00cc376e-42fc-44cd-a2c8-da8665ce8b60",
   "metadata": {
    "tags": []
   },
   "outputs": [],
   "source": [
    "model_fits = pd.DataFrame(logit_models, index=[\"Model fit\"]).T\n",
    "\n",
    "summary = (\n",
    "    model_fits[\"Model fit\"]\n",
    "    .apply(lambda x: x.n_features_in_)\n",
    "    .to_frame(name=\"Number of Coefficients\")\n",
    ")\n",
    "\n",
    "summary.loc[\"LASSO\", \"Number of Coefficients\"] = len(\n",
    "    [i for i in model_fits.loc[\"LASSO\"].values[0].coef_[0] if i != 0]\n",
    ")\n",
    "\n",
    "summary[\"CV RMSE\"] = pd.DataFrame(CV_RMSE_folds).T.mean(axis=1)\n",
    "summary[\"CV AUC\"] = pd.DataFrame(CV_AUC_folds).T.mean(axis=1)"
   ]
  },
  {
   "cell_type": "code",
   "execution_count": null,
   "id": "3d741835-c6f3-4fa4-b281-03b37b568fbd",
   "metadata": {
    "tags": []
   },
   "outputs": [],
   "source": [
    "sum(x != 0 for x in model_fits.loc[\"LASSO\"].values[0].coef_[0].tolist())"
   ]
  },
  {
   "cell_type": "code",
   "execution_count": null,
   "id": "c9b7d0cd-72ea-4296-8222-a838c08a0be2",
   "metadata": {
    "tags": []
   },
   "outputs": [],
   "source": [
    "len(\n",
    "    [i for i in model_fits.loc[\"LASSO\"].values[0].coef_[0] if i != 0]\n",
    ")"
   ]
  },
  {
   "cell_type": "code",
   "execution_count": null,
   "id": "93aad63a-fc99-4c66-9cd9-c5e0c7581e0a",
   "metadata": {
    "tags": []
   },
   "outputs": [],
   "source": [
    "summary"
   ]
  },
  {
   "cell_type": "markdown",
   "id": "e11a1e4a-d680-4181-9943-c34a2e39a8ac",
   "metadata": {},
   "source": [
    "### Take best model and estimate RMSE on holdout  \n",
    "\n",
    "We will go with M2 since it is a simpler model with one of the lowest RMSE\n",
    "\n",
    "\n",
    "there were a ton of errors coming up about legnths and infinte values. the following three code blocks \"correct\" those errors. but, the real issue is probably something deeper in the code that could be fixed and resolve the issue. "
   ]
  },
  {
   "cell_type": "code",
   "execution_count": null,
   "id": "47ee67b4-1953-4df4-af1d-85cf6236d8aa",
   "metadata": {
    "tags": []
   },
   "outputs": [],
   "source": [
    "best_logit = logit_models[\"M2\"]\n",
    "model_equation = \"default~\" + \"+\".join(M2)\n",
    "_, X_holdout = patsy.dmatrices(model_equation, hold_out_sample)"
   ]
  },
  {
   "cell_type": "code",
   "execution_count": null,
   "id": "a5da7e44-d63e-40ae-9c35-f4f356c2e511",
   "metadata": {
    "tags": []
   },
   "outputs": [],
   "source": [
    "# Assuming X_holdout can be directly converted\n",
    "X_holdout_df = pd.DataFrame(X_holdout, columns=[f'feature_{i}' for i in range(X_holdout.shape[1])])\n",
    "predictions = pd.Series(best_logit.predict_proba(X_holdout_df)[:, 1], index=X_holdout_df.index)\n",
    "hold_out_sample[\"best_logit_pred_proba\"] = predictions\n"
   ]
  },
  {
   "cell_type": "code",
   "execution_count": null,
   "id": "0c8f8ca7-76c1-4f2b-98a6-1576b2db3db1",
   "metadata": {
    "tags": []
   },
   "outputs": [],
   "source": [
    "num_predictions = len(best_logit.predict_proba(X_holdout)[:, 1])\n",
    "num_rows_hold_out_sample = len(hold_out_sample)\n",
    "print(f\"Number of predictions: {num_predictions}\")\n",
    "print(f\"Number of rows in hold_out_sample: {num_rows_hold_out_sample}\")\n"
   ]
  },
  {
   "cell_type": "code",
   "execution_count": null,
   "id": "ee12ba26-d10f-4729-afb0-e617b4478cea",
   "metadata": {
    "tags": []
   },
   "outputs": [],
   "source": [
    "from math import sqrt\n",
    "\n",
    "# Direct assignment assuming the first 'num_predictions' rows in 'hold_out_sample' match 'X_holdout'\n",
    "hold_out_sample['best_logit_pred_proba'] = None  # Initialize the column\n",
    "hold_out_sample.iloc[:num_predictions, hold_out_sample.columns.get_loc(\"best_logit_pred_proba\")] = predictions\n",
    "\n",
    "# Proceed with RMSE calculation on the rows with predictions\n",
    "filtered_hold_out_sample = hold_out_sample.dropna(subset=[\"best_logit_pred_proba\"])\n",
    "\n",
    "rmse_value = sqrt(mean_squared_error(filtered_hold_out_sample[\"default\"], filtered_hold_out_sample[\"best_logit_pred_proba\"]))\n",
    "print(f\"RMSE: {round(rmse_value, 3)}\")\n"
   ]
  },
  {
   "cell_type": "markdown",
   "id": "670a9a7f-1d15-46d3-becc-16fcbc5e3dae",
   "metadata": {
    "tags": []
   },
   "source": [
    "y_train = data['default']\n",
    "X_train = data.drop('default', axis=1)  # This removes the target column from the features\n",
    "\n",
    "model_equation = \"default ~ \" + \" + \".join(logit_lasso_vars)  # features_vars should be the list of your feature variable names\n",
    "y_train, X_train = patsy.dmatrices(model_equation, data)\n",
    "\n"
   ]
  },
  {
   "cell_type": "markdown",
   "id": "765fbef5-9427-46b9-ad72-31ce3eb386cc",
   "metadata": {
    "tags": []
   },
   "source": [
    "# Initialize the imputer\n",
    "imputer = SimpleImputer(missing_values=np.nan, strategy='mean')\n",
    "\n",
    "# Fit the imputer on X_train\n",
    "# If X_train is a patsy DesignMatrix, convert it to DataFrame first\n",
    "X_train_df = pd.DataFrame(X_train, columns=X_train.design_info.column_names)\n",
    "imputer.fit(X_train_df)\n"
   ]
  },
  {
   "cell_type": "markdown",
   "id": "c77389c9-e866-4b4a-9bf5-a8bc2438c79d",
   "metadata": {
    "tags": []
   },
   "source": [
    "# Initialize the scaler\n",
    "scaler = StandardScaler()\n",
    "\n",
    "# transform X_train using the fitted imputer before fitting the scaler\n",
    "X_train_imputed = imputer.transform(X_train_df)\n",
    "\n",
    "# Fit the scaler on the imputed data\n",
    "scaler.fit(X_train_imputed)\n"
   ]
  },
  {
   "cell_type": "markdown",
   "id": "a9c4d5c7-6473-4403-b2e0-fd9019a7c676",
   "metadata": {
    "tags": []
   },
   "source": [
    "best_logit = logit_models[\"LASSO\"]\n",
    "_, X_holdout = patsy.dmatrices(\"default~\" + \"+\".join(logit_lasso_vars), hold_out_sample)\n",
    "X_holdout_df = pd.DataFrame(X_holdout, columns=X_holdout.design_info.column_names)\n",
    "X_holdout_df.replace([np.inf, -np.inf], np.nan, inplace=True)\n",
    "X_holdout_imputed = imputer.transform(X_holdout_df)\n",
    "X_holdout_scaled = scaler.transform(X_holdout_imputed)\n",
    "proba_predictions = best_logit.predict_proba(X_holdout_scaled)[:, 1]\n",
    "\n",
    "# Adjust hold_out_sample to match the length of proba_predictions if necessary\n",
    "hold_out_sample_adjusted = hold_out_sample.iloc[:len(proba_predictions)].copy()\n",
    "hold_out_sample_adjusted[\"best_logit_pred_proba\"] = proba_predictions\n",
    "rmse_value = np.sqrt(mean_squared_error(hold_out_sample_adjusted[\"default\"], hold_out_sample_adjusted[\"best_logit_pred_proba\"]))\n",
    "print(\"RMSE:\", round(rmse_value, 3))\n"
   ]
  },
  {
   "cell_type": "markdown",
   "id": "6dd4bf49-988f-4139-a8ea-7faf476a453b",
   "metadata": {
    "tags": []
   },
   "source": [
    "### a) Calibration curve\n",
    "\n",
    "how well do estimated vs actual event probabilities relate to each other?\n"
   ]
  },
  {
   "cell_type": "code",
   "execution_count": null,
   "id": "9314dca0-dc4b-43e2-b4dc-db5d96b5fb33",
   "metadata": {
    "tags": []
   },
   "outputs": [],
   "source": [
    "print(hold_out_sample['best_logit_pred_proba'].isnull().sum())\n",
    "print(hold_out_sample['default'].isnull().sum())\n"
   ]
  },
  {
   "cell_type": "code",
   "execution_count": null,
   "id": "24685bf1-79cb-4c3e-b3a8-517aaaffdaa1",
   "metadata": {
    "tags": []
   },
   "outputs": [],
   "source": [
    "hold_out_sample = hold_out_sample.dropna(subset=['best_logit_pred_proba', 'default'])\n",
    "# Example: Impute with 0 or a suitable value for 'best_logit_pred_proba'\n",
    "# Ensure this is appropriate for your context before applying\n",
    "hold_out_sample['best_logit_pred_proba'] = hold_out_sample['best_logit_pred_proba'].fillna(0)\n"
   ]
  },
  {
   "cell_type": "code",
   "execution_count": null,
   "id": "151fbccb-5f38-473f-89b0-a5a3f28fb3ac",
   "metadata": {
    "tags": []
   },
   "outputs": [],
   "source": [
    "create_calibration_plot(\n",
    "    data=hold_out_sample,\n",
    "    file_name=\"figure-1-logit-lasso-calibration\",\n",
    "    prob_var=\"best_logit_pred_proba\",\n",
    "    actual_var=\"default\",\n",
    "    y_lab=\"Actual event probability\",\n",
    "    n_bins=10,\n",
    "    breaks=None\n",
    ")"
   ]
  },
  {
   "cell_type": "markdown",
   "id": "3bcdb08d-8829-4158-bca7-1a70385234e9",
   "metadata": {},
   "source": [
    "something is wrong with the calibration, we will need to go back through everything and try to figure it out"
   ]
  },
  {
   "cell_type": "markdown",
   "id": "75123f64-bf15-4fc9-a2c7-2c59e75a1fc4",
   "metadata": {},
   "source": [
    "### b) Confusion table with different tresholds\n",
    "\n",
    "Default: the threshold 0.5 is used to convert probabilities to binary classes"
   ]
  },
  {
   "cell_type": "code",
   "execution_count": null,
   "id": "ee0f133a-a331-4ead-a4cc-bf3ef4026377",
   "metadata": {
    "tags": []
   },
   "outputs": [],
   "source": [
    "logit_class_prediction = best_logit.predict(X_holdout)\n",
    "\n",
    "values, counts = np.unique(logit_class_prediction.tolist(), return_counts=True)\n",
    "print(values[0], \" (no default): \", counts[0])\n",
    "print(values[1], \" (default): \", counts[1])"
   ]
  },
  {
   "cell_type": "markdown",
   "id": "82209061-8f83-4616-a3cf-5a1461195277",
   "metadata": {},
   "source": [
    "Confusion matrix: summarize different type of errors and successfully predicted cases\n",
    "\n",
    "positive = \"yes\": explicitly specify the positive case"
   ]
  },
  {
   "cell_type": "code",
   "execution_count": null,
   "id": "52a507d0-3088-4556-b1b0-6b69506f7bfb",
   "metadata": {
    "tags": []
   },
   "outputs": [],
   "source": [
    "cm_object1 = confusion_matrix(\n",
    "    hold_out_sample[\"default\"], logit_class_prediction, labels=[0, 1]\n",
    ")\n",
    "cm1 = pd.DataFrame(\n",
    "    cm_object1,\n",
    "    index=[\"Actual no default\", \"Actual default\"],\n",
    "    columns=[\"Predicted no default\", \"Predicted default\"],\n",
    ")\n",
    "cm1"
   ]
  },
  {
   "cell_type": "code",
   "execution_count": null,
   "id": "32ce7d2b-f87b-4cad-a18d-6286bb7be370",
   "metadata": {
    "tags": []
   },
   "outputs": [],
   "source": [
    "# we can apply different thresholds\n",
    "\n",
    "# 0.5 same as before\n",
    "holdout_prediction = np.where(hold_out_sample[\"best_logit_pred_proba\"] < 0.5, 0, 1)\n",
    "cm_object1b = confusion_matrix(\n",
    "    hold_out_sample[\"default\"], holdout_prediction, labels=[0, 1]\n",
    ")\n",
    "cm1b = pd.DataFrame(\n",
    "    cm_object1b,\n",
    "    index=[\"Actual no default\", \"Actual default\"],\n",
    "    columns=[\"Predicted no default\", \"Predicted default\"],\n",
    ")\n",
    "cm1b"
   ]
  },
  {
   "cell_type": "code",
   "execution_count": null,
   "id": "0c794026-17c3-4c63-98c3-5d7758ecfb9e",
   "metadata": {
    "tags": []
   },
   "outputs": [],
   "source": [
    "mean_predicted_default_prob = np.mean(hold_out_sample[\"best_logit_pred_proba\"])\n",
    "round(mean_predicted_default_prob, 3)"
   ]
  },
  {
   "cell_type": "code",
   "execution_count": null,
   "id": "f6c39645-fb62-454e-9bff-15f4b9661c98",
   "metadata": {
    "tags": []
   },
   "outputs": [],
   "source": [
    "holdout_prediction = np.where(\n",
    "    hold_out_sample[\"best_logit_pred_proba\"] < mean_predicted_default_prob, 0, 1\n",
    ")\n",
    "cm_object2 = confusion_matrix(\n",
    "    hold_out_sample[\"default\"], holdout_prediction, labels=[0, 1]\n",
    ")\n",
    "cm2 = pd.DataFrame(\n",
    "    cm_object2,\n",
    "    index=[\"Actual no default\", \"Actual default\"],\n",
    "    columns=[\"Predicted no default\", \"Predicted default\"],\n",
    ")\n",
    "cm2"
   ]
  },
  {
   "cell_type": "markdown",
   "id": "f4d4b7d8-fa58-418e-b8a8-3498b78c7ab9",
   "metadata": {
    "tags": []
   },
   "source": [
    "### c) Visualize ROC (with thresholds in steps) on holdout\n",
    "\n",
    "What if we want to compare multiple thresholds?\n",
    "\n",
    "First, discrete ROC (with thresholds in steps) on holdout"
   ]
  },
  {
   "cell_type": "code",
   "execution_count": null,
   "id": "e99e9788-b7b7-461c-99a7-7b595f1ae5f0",
   "metadata": {
    "tags": []
   },
   "outputs": [],
   "source": [
    "thresholds = np.arange(0.05, 0.76, 0.05)\n",
    "#thresholds = sorted(np.geomspace(0.95, 0.05, num=17)) # set these treshold values to get even points in the plot\n",
    "cm = dict()\n",
    "true_positive_rates = []\n",
    "false_positive_rates = []\n",
    "holdout_prediction = []\n",
    "for thr in thresholds:\n",
    "    holdout_prediction = np.where(hold_out_sample[\"best_logit_pred_proba\"] < thr, 0, 1)\n",
    "    cm_thr = confusion_matrix(hold_out_sample[\"default\"], holdout_prediction, labels=[0, 1])\n",
    "    cm[thr] = cm_thr\n",
    "    tn, fp, fn, tp = cm_thr.ravel()\n",
    "    true_positive_rates.append(tp / (tp + fn))\n",
    "    false_positive_rates.append(fp / (fp + tn))"
   ]
  },
  {
   "cell_type": "code",
   "execution_count": null,
   "id": "4e7168fe-aaac-4a3a-a1ba-ff9458c848bf",
   "metadata": {
    "tags": []
   },
   "outputs": [],
   "source": [
    "tpr_fpr_for_thresholds = pd.DataFrame(\n",
    "    {\n",
    "        \"thresholds\": thresholds,\n",
    "        \"true_positive_rates\": true_positive_rates,\n",
    "        \"false_positive_rates\": false_positive_rates,\n",
    "    }\n",
    ")"
   ]
  },
  {
   "cell_type": "code",
   "execution_count": null,
   "id": "7cd583f5-15de-4856-8a32-5aa84e6e5150",
   "metadata": {
    "tags": []
   },
   "outputs": [],
   "source": [
    "(\n",
    "    ggplot(\n",
    "        tpr_fpr_for_thresholds,\n",
    "        aes(x=\"false_positive_rates\", y=\"true_positive_rates\", color=\"thresholds\"),\n",
    "    )\n",
    "    + labs(\n",
    "        x=\"False positive rate (1 - Specificity)\", y=\"True positive rate (Sensitivity)\"\n",
    "    )\n",
    "    + geom_point(size=4, alpha=0.8)\n",
    "    + scale_color_continuous(trans=\"reverse\", name=\"threshold\")\n",
    "    + scale_x_continuous(limits=(0, 1), breaks=np.arange(0, 1.01, 0.1))\n",
    "    + scale_y_continuous(limits=(0, 1), breaks=np.arange(0, 1.01, 0.1))\n",
    "    + theme_bw()\n",
    "    + theme(legend_position=\"right\")\n",
    ")"
   ]
  },
  {
   "cell_type": "code",
   "execution_count": null,
   "id": "565c42c6-7672-46f1-b402-3db5e6e01bb8",
   "metadata": {
    "tags": []
   },
   "outputs": [],
   "source": [
    "color = 'red'\n",
    "create_roc_plot(hold_out_sample[\"default\"], hold_out_sample[\"best_logit_pred_proba\"])"
   ]
  },
  {
   "cell_type": "markdown",
   "id": "015efad5-25aa-44da-9373-ad8ee598af4d",
   "metadata": {},
   "source": [
    "## 3. We have a loss function\n",
    "\n",
    "Introduce loss function\n",
    "\n",
    "Relative cost of of a false negative classification (as compared with a false positive classification)\n"
   ]
  },
  {
   "cell_type": "code",
   "execution_count": null,
   "id": "3510b043-8e60-4ead-a4e1-d7c629f06648",
   "metadata": {
    "tags": []
   },
   "outputs": [],
   "source": [
    "FP = 1\n",
    "FN = 10\n",
    "cost = FN / FP"
   ]
  },
  {
   "cell_type": "code",
   "execution_count": null,
   "id": "c48950d3-94da-4d69-8f9b-a8f52e236f92",
   "metadata": {
    "tags": []
   },
   "outputs": [],
   "source": [
    "prevelance = y_train.sum() / len(y_train)"
   ]
  },
  {
   "cell_type": "markdown",
   "id": "116d9008-08f9-4a8b-9780-fa588a696057",
   "metadata": {},
   "source": [
    "Draw ROC Curve and find optimal threshold with loss function \n",
    "\n",
    "The optimal cut-off is the threshold that maximizes the distance to the identity (diagonal) line\n",
    "\n",
    "Iterate through:\n",
    " 1. models\n",
    " 2. Folds"
   ]
  },
  {
   "cell_type": "code",
   "execution_count": null,
   "id": "9b90ec62-cfdd-4048-8f77-51855bb6d648",
   "metadata": {
    "tags": []
   },
   "outputs": [],
   "source": [
    "best_thresholds_cv = dict()\n",
    "expected_loss_cv = dict()\n",
    "fold5_threshold = dict()\n",
    "fold5_expected_loss = dict()\n",
    "fold5_all_coords = dict()\n",
    "\n",
    "for i, model_name in enumerate(logit_models):\n",
    "    best_thresholds = []\n",
    "    expected_loss = []\n",
    "\n",
    "    if model_name != \"LASSO\":\n",
    "        _, X = patsy.dmatrices(\"default ~\" + \"+\".join(logit_model_vars[i]), data_train)\n",
    "        X = pd.DataFrame(X)\n",
    "        c_index = 0\n",
    "    else:\n",
    "        X = normalized_logitvars\n",
    "        c_index = best_lambda_i\n",
    "    fold = 0\n",
    "    for train_index, test_index in k.split(X):\n",
    "        X_fold = X.iloc[test_index, :]\n",
    "        y_fold = data_train[\"default\"].iloc[test_index]\n",
    "        pred_fold = generate_fold_prediction(\n",
    "            logit_models[model_name], X_fold, fold, c_index\n",
    "        )\n",
    "        false_pos_rate, true_pos_rate, thresholds = roc_curve(y_fold, pred_fold)\n",
    "        optimal_threshold = sorted(\n",
    "            list(\n",
    "                zip(\n",
    "                    np.abs(\n",
    "                        true_pos_rate\n",
    "                        + (1 - prevelance) / (cost * prevelance) * (1 - false_pos_rate)\n",
    "                    ),\n",
    "                    thresholds,\n",
    "                )\n",
    "            ),\n",
    "            key=lambda i: i[0],\n",
    "            reverse=True,\n",
    "        )[0][1]\n",
    "        best_thresholds.append(optimal_threshold)\n",
    "        threshold_prediction = np.where(pred_fold < optimal_threshold, 0, 1)\n",
    "        tn, fp, fn, tp = confusion_matrix(\n",
    "            y_fold, threshold_prediction, labels=[0, 1]\n",
    "        ).ravel()\n",
    "        curr_exp_loss = (fp * FP + fn * FN) / len(y_fold)\n",
    "        expected_loss.append(curr_exp_loss)\n",
    "        fold = fold + 1\n",
    "\n",
    "    best_thresholds_cv[model_name] = np.mean(best_thresholds)\n",
    "    expected_loss_cv[model_name] = np.mean(expected_loss)\n",
    "\n",
    "    # for fold #5\n",
    "    fold5_threshold[model_name] = optimal_threshold\n",
    "    fold5_expected_loss[model_name] = curr_exp_loss\n",
    "\n",
    "    all_coords = pd.DataFrame(\n",
    "        {\n",
    "            \"false_pos\": false_pos_rate * sum(y_fold == 0),\n",
    "            \"true_pos\": true_pos_rate * sum(y_fold == 1),\n",
    "            \"false_neg\": sum(y_fold == 1) - true_pos_rate * sum(y_fold == 1),\n",
    "            \"true_neg\": sum(y_fold == 0) - false_pos_rate * sum(y_fold == 0),\n",
    "            \"pos\": sum(y_fold == 1),\n",
    "            \"neg\": sum(y_fold == 0),\n",
    "            \"n\": len(y_fold),\n",
    "            \"thresholds\": thresholds,\n",
    "        }\n",
    "    )\n",
    "\n",
    "    fold5_all_coords[model_name] = all_coords"
   ]
  },
  {
   "cell_type": "code",
   "execution_count": null,
   "id": "b32c7f0c-0ca9-4b5e-9268-52daa22005d1",
   "metadata": {
    "tags": []
   },
   "outputs": [],
   "source": [
    "summary_with_lossfnc = pd.DataFrame(\n",
    "    best_thresholds_cv.items(), columns=[\"Model\", \"Avg of optimal thresholds\"]\n",
    ")\n",
    "summary_with_lossfnc[\"Threshold for Fold5\"] = fold5_threshold.values()\n",
    "summary_with_lossfnc[\"Avg expected loss\"] = expected_loss_cv.values()\n",
    "summary_with_lossfnc[\"Expected loss for Fold5\"] = fold5_expected_loss.values()\n"
   ]
  },
  {
   "cell_type": "code",
   "execution_count": null,
   "id": "bd51a8e6-f73b-40f5-9787-125125066f99",
   "metadata": {
    "tags": []
   },
   "outputs": [],
   "source": [
    "summary_with_lossfnc"
   ]
  },
  {
   "cell_type": "markdown",
   "id": "89ef9f21-f5b8-4626-aaac-ad95f384804c",
   "metadata": {},
   "source": [
    "the inf average of optimal thresholds is problematic "
   ]
  },
  {
   "cell_type": "markdown",
   "id": "af445833-c4c4-4bc0-8ab9-a026456d8742",
   "metadata": {
    "tags": []
   },
   "source": [
    "Create loss plot based on Fold5 in CV "
   ]
  },
  {
   "cell_type": "code",
   "execution_count": null,
   "id": "994e3adc-3c0b-4b80-98d1-e436dccb258f",
   "metadata": {
    "tags": []
   },
   "outputs": [],
   "source": [
    "model_to_plot = \"M4\"  # select model to plot\n",
    "create_loss_plot(\n",
    "    fold5_all_coords[model_to_plot],\n",
    "    fold5_threshold[model_to_plot],\n",
    "    fold5_expected_loss[model_to_plot],\n",
    ")"
   ]
  },
  {
   "cell_type": "markdown",
   "id": "7dc1c9da-6b06-4058-87cc-962dd031a308",
   "metadata": {},
   "source": [
    "Create roc plot plot based on Fold5 in CV"
   ]
  },
  {
   "cell_type": "code",
   "execution_count": null,
   "id": "0a18070c-31de-4b4c-b40f-5ce57d97648d",
   "metadata": {
    "tags": []
   },
   "outputs": [],
   "source": [
    "create_roc_plot_with_optimal(\n",
    "    fold5_all_coords[model_to_plot], fold5_threshold[model_to_plot]\n",
    ")\n"
   ]
  },
  {
   "cell_type": "markdown",
   "id": "5fa9d229-52d8-489a-a350-32b26d43ccfd",
   "metadata": {},
   "source": [
    "Let's see our chosen model, M4's holdout expected loss"
   ]
  },
  {
   "cell_type": "code",
   "execution_count": null,
   "id": "aec81aba-bd92-4bdb-b55a-d2e2b83ac8ba",
   "metadata": {
    "tags": []
   },
   "outputs": [],
   "source": [
    "best_logit_optimal_treshold = best_thresholds_cv[\"M4\"]\n",
    "\n",
    "# Get expected loss on holdout\n",
    "holdout_treshold = np.where(\n",
    "    hold_out_sample[\"best_logit_pred_proba\"] < best_logit_optimal_treshold, 0, 1\n",
    ")\n",
    "tn, fp, fn, tp = confusion_matrix(\n",
    "    hold_out_sample[\"default\"], holdout_treshold, labels=[0, 1]\n",
    ").ravel()\n",
    "expected_loss_holdout = (fp * FP + fn * FN) / len(hold_out_sample[\"default\"])\n",
    "round(expected_loss_holdout, 3)"
   ]
  },
  {
   "cell_type": "markdown",
   "id": "e385f95d-4a1b-4ecb-8759-684fed7cccf9",
   "metadata": {
    "tags": []
   },
   "source": [
    "CM on holdout"
   ]
  },
  {
   "cell_type": "code",
   "execution_count": null,
   "id": "407559c8-7245-4988-bcb1-a70ebc2a1ee8",
   "metadata": {
    "tags": []
   },
   "outputs": [],
   "source": [
    "cm_object3 = confusion_matrix(hold_out_sample[\"default\"], holdout_treshold, labels=[0, 1])\n",
    "cm3 = pd.DataFrame(\n",
    "    cm_object3,\n",
    "    index=[\"Actual no default\", \"Actual default\"],\n",
    "    columns=[\"Predicted no default\", \"Predicted default\"],\n",
    ")\n",
    "cm3"
   ]
  },
  {
   "cell_type": "markdown",
   "id": "0b914970-a30e-400a-b57d-1c5de218b20a",
   "metadata": {},
   "source": [
    "# PREDICTION WITH RANDOM FOREST"
   ]
  },
  {
   "cell_type": "code",
   "execution_count": null,
   "id": "5601744e-d3f0-49ea-a2b9-cac869d88cf4",
   "metadata": {
    "tags": []
   },
   "outputs": [],
   "source": [
    "# Example of handling missing values before using patsy.dmatrices\n",
    "data_train_filled = data_train.fillna(method='ffill')  # Forward fill as an example\n",
    "y_train, rfvars_train = patsy.dmatrices(\"default~\" + \"+\".join(rfvars), data_train_filled)\n"
   ]
  },
  {
   "cell_type": "code",
   "execution_count": null,
   "id": "78aca7ce-9508-4da6-bb54-4282608ad6a7",
   "metadata": {
    "tags": []
   },
   "outputs": [],
   "source": [
    "y_train, rfvars_train = patsy.dmatrices(\"default~\" + \"+\".join(rfvars), data_train)\n",
    "y_holdout, rfvars_holdout = patsy.dmatrices(\"default~\" + \"+\".join(rfvars), hold_out_sample)"
   ]
  },
  {
   "cell_type": "code",
   "execution_count": null,
   "id": "0557838c-1302-43d0-8394-24b651ba6187",
   "metadata": {
    "tags": []
   },
   "outputs": [],
   "source": [
    "print(data_for_graph.shape)  # Should show (7872, number_of_features)\n",
    "print(y_train.shape)  # Should also show (7872, 1) or similar, indicating matching number of rows\n"
   ]
  },
  {
   "cell_type": "code",
   "execution_count": null,
   "id": "a0f90a19-5431-4df5-837e-57fad13ed3ca",
   "metadata": {
    "tags": []
   },
   "outputs": [],
   "source": [
    "if y_train.shape[1] > 1:  # Assuming y_train is a two-dimensional structure like (n_samples, 1)\n",
    "    y_train = y_train[:, 0]  # This assumes your labels are in the first column of y_train\n"
   ]
  },
  {
   "cell_type": "code",
   "execution_count": null,
   "id": "2d691d5d-bb54-45ae-ba10-b5aeef78e301",
   "metadata": {
    "tags": []
   },
   "outputs": [],
   "source": [
    "y_train = np.ravel(y_train)  # Converts y_train to a 1D array if it's 2D\n"
   ]
  },
  {
   "cell_type": "code",
   "execution_count": null,
   "id": "4afe0a6c-6ad8-4b94-8785-a9fa033ab444",
   "metadata": {
    "tags": []
   },
   "outputs": [],
   "source": [
    "from sklearn.tree import DecisionTreeClassifier\n",
    "from sklearn.tree import plot_tree\n",
    "\n",
    "data_for_graph = data_train[[\"sales_mil\", \"profit_loss_year\", \"foreign_management\"]]\n",
    "rf_for_graph = DecisionTreeClassifier(\n",
    "    ccp_alpha=0.0028, min_samples_leaf=100, max_depth=3, random_state=41\n",
    ").fit(data_for_graph, y_train)\n",
    "\n",
    "plt.figure()\n",
    "plt.figure(figsize=(11, 11))\n",
    "plot_tree(\n",
    "    rf_for_graph,\n",
    "    feature_names=list(data_for_graph.columns),\n",
    "    filled=True,\n",
    "    rounded=True,\n",
    "    proportion=True,\n",
    "    fontsize=10,\n",
    ")\n",
    "plt.title(\"Decision tree\")\n",
    "plt.show()\n"
   ]
  },
  {
   "cell_type": "markdown",
   "id": "9d4fb6d9-e12c-4e12-b7c4-8bae6df19cca",
   "metadata": {},
   "source": [
    "## Probability forest\n",
    "\n",
    "Split by gini, ratio of 1's in each tree, average over trees"
   ]
  },
  {
   "cell_type": "code",
   "execution_count": null,
   "id": "db6bef34-2e06-4bca-add0-0c8c1d14d283",
   "metadata": {
    "tags": []
   },
   "outputs": [],
   "source": [
    "grid = {\n",
    "    \"max_features\": [5, 6, 7],\n",
    "    \"criterion\": [\"gini\"],\n",
    "    \"min_samples_split\": [11, 16],\n",
    "} "
   ]
  },
  {
   "cell_type": "markdown",
   "id": "8b3b558c-b4b5-40d7-95b0-d8c237c08b6c",
   "metadata": {},
   "source": [
    "5 fold cross validation"
   ]
  },
  {
   "cell_type": "code",
   "execution_count": null,
   "id": "9932847b-d61e-4731-bbe5-80b36c630a8e",
   "metadata": {
    "tags": []
   },
   "outputs": [],
   "source": [
    "prob_forest = RandomForestClassifier(random_state=42, n_estimators=500, oob_score=True)\n",
    "prob_forest_grid = GridSearchCV(\n",
    "    prob_forest,\n",
    "    grid,\n",
    "    cv=k,\n",
    "    refit=\"roc_auc\",\n",
    "    scoring=[\"roc_auc\", \"neg_brier_score\"],\n",
    ")"
   ]
  },
  {
   "cell_type": "code",
   "execution_count": null,
   "id": "40710846-41b1-48b0-b081-d4531d3d4371",
   "metadata": {
    "tags": []
   },
   "outputs": [],
   "source": [
    "prob_forest_fit = prob_forest_grid.fit(rfvars_train, y_train)"
   ]
  },
  {
   "cell_type": "code",
   "execution_count": null,
   "id": "84cc064e-b13f-4804-b9d2-a55727e2313f",
   "metadata": {
    "tags": []
   },
   "outputs": [],
   "source": [
    "prob_forest_cv_results = pd.DataFrame(\n",
    "    {\n",
    "        \"max_features\": prob_forest_fit.cv_results_[\"param_max_features\"],\n",
    "        \"min_samples_split\": prob_forest_fit.cv_results_[\"param_min_samples_split\"],\n",
    "        \"cv_auc\": prob_forest_fit.cv_results_[\"mean_test_roc_auc\"],\n",
    "        \"cv_rmse\": np.sqrt(\n",
    "            prob_forest_fit.cv_results_[\"mean_test_neg_brier_score\"] * -1\n",
    "        ),\n",
    "    }\n",
    ")\n",
    "\n",
    "prob_forest_cv_results"
   ]
  },
  {
   "cell_type": "code",
   "execution_count": null,
   "id": "1feae35e-1340-465d-93f4-13f0056fe0ca",
   "metadata": {
    "tags": []
   },
   "outputs": [],
   "source": [
    "best_mtry = prob_forest_fit.best_params_[\"max_features\"]\n",
    "best_min_node_size = prob_forest_fit.best_params_[\"min_samples_split\"]\n",
    "prob_forest_fit.best_params_\n"
   ]
  },
  {
   "cell_type": "code",
   "execution_count": null,
   "id": "8123143f-bb3b-43dc-99c3-041557eb900b",
   "metadata": {
    "tags": []
   },
   "outputs": [],
   "source": [
    "prob_forest_best_results = prob_forest_cv_results[\n",
    "    (prob_forest_cv_results.max_features == best_mtry)\n",
    "    & (prob_forest_cv_results.min_samples_split == best_min_node_size)\n",
    "]\n",
    "prob_forest_best_results_index = prob_forest_best_results.index.values[0]"
   ]
  },
  {
   "cell_type": "code",
   "execution_count": null,
   "id": "a9d37af9-4f2f-4e28-b86e-e4462dac7ba5",
   "metadata": {
    "tags": []
   },
   "outputs": [],
   "source": [
    "summary.loc[\"RF\", \"Number of Coefficients\"] = \"n.a.\"\n",
    "summary.loc[\"RF\", \"CV RMSE\"] = prob_forest_best_results[\"cv_rmse\"].values[0]\n",
    "summary.loc[\"RF\", \"CV AUC\"] = prob_forest_best_results[\"cv_auc\"].values[0]\n",
    "summary"
   ]
  },
  {
   "cell_type": "code",
   "execution_count": null,
   "id": "1d3f45a3-e0ce-4f41-a951-65e1d631ccca",
   "metadata": {
    "tags": []
   },
   "outputs": [],
   "source": [
    "CV_RMSE_folds[\"RF\"] = np.sqrt(\n",
    "    pd.DataFrame(prob_forest_fit.cv_results_)\n",
    "    .filter(like=\"_test_neg_brier_score\")\n",
    "    .loc[lambda x: x[\"rank_test_neg_brier_score\"] == 1]\n",
    "    .filter(like=\"split\")\n",
    "    .values[0]\n",
    "    * -1\n",
    ")\n",
    "CV_AUC_folds[\"RF\"] = (\n",
    "    pd.DataFrame(prob_forest_fit.cv_results_)\n",
    "    .filter(like=\"_test_roc_auc\")\n",
    "    .loc[lambda x: x[\"rank_test_roc_auc\"] == 1]\n",
    "    .filter(like=\"split\")\n",
    "    .values[0]\n",
    ")"
   ]
  },
  {
   "cell_type": "code",
   "execution_count": null,
   "id": "0bc92fb9-cab5-47f0-95c4-6cd030ab1957",
   "metadata": {
    "tags": []
   },
   "outputs": [],
   "source": [
    "pd.DataFrame(CV_RMSE_folds)"
   ]
  },
  {
   "cell_type": "code",
   "execution_count": null,
   "id": "ed2e17f8-efac-4abf-99d5-ace13f557234",
   "metadata": {
    "tags": []
   },
   "outputs": [],
   "source": [
    "pd.DataFrame(CV_AUC_folds)"
   ]
  },
  {
   "cell_type": "code",
   "execution_count": null,
   "id": "468e00d4-cf4a-4891-85c3-b5642df380d5",
   "metadata": {
    "tags": []
   },
   "outputs": [],
   "source": [
    "best_thresholds = list()\n",
    "expected_loss = list()\n",
    "rfvars_train = pd.DataFrame(rfvars_train)\n",
    "\n",
    "fold = 0\n",
    "for train_index, test_index in k.split(rfvars_train):\n",
    "    X_fold = rfvars_train.iloc[test_index, :]\n",
    "    y_fold = data_train[\"default\"].iloc[test_index]\n",
    "\n",
    "    X_fold_train = rfvars_train.iloc[train_index, :]\n",
    "    y_fold_train = data_train[\"default\"].iloc[train_index]\n",
    "\n",
    "    prob_forest_best = RandomForestClassifier(\n",
    "        random_state=42,\n",
    "        n_estimators=500,\n",
    "        oob_score=True,\n",
    "        criterion=\"gini\",\n",
    "        max_features=best_mtry,\n",
    "        min_samples_split=best_min_node_size,\n",
    "    )\n",
    "    prob_forest_best_fold = prob_forest_best.fit(X_fold_train, y_fold_train)\n",
    "    pred_fold = prob_forest_best_fold.predict_proba(X_fold)[:, 1]\n",
    "\n",
    "    false_pos_rate, true_pos_rate, threshold = roc_curve(y_fold, pred_fold)\n",
    "    best_threshold = sorted(\n",
    "        list(\n",
    "            zip(\n",
    "                np.abs(\n",
    "                    true_pos_rate\n",
    "                    + (1 - prevelance) / (cost * prevelance) * (1 - false_pos_rate)\n",
    "                ),\n",
    "                threshold,\n",
    "            )\n",
    "        ),\n",
    "        key=lambda x: x[0],\n",
    "        reverse=True,\n",
    "    )[0][1]\n",
    "    best_thresholds.append(best_threshold)\n",
    "    threshold_prediction = np.where(pred_fold < best_threshold, 0, 1)\n",
    "    tn, fp, fn, tp = confusion_matrix(\n",
    "        y_fold, threshold_prediction, labels=[0, 1]\n",
    "    ).ravel()\n",
    "    curr_exp_loss = (fp * FP + fn * FN) / len(y_fold)\n",
    "    expected_loss.append(curr_exp_loss)\n",
    "\n",
    "fold5_threshold_rf = best_threshold\n",
    "fold5_expected_loss_rf = curr_exp_loss\n",
    "\n",
    "all_coords_rf = pd.DataFrame(\n",
    "    {\n",
    "        \"false_pos\": false_pos_rate * sum(y_fold == 0),\n",
    "        \"true_pos\": true_pos_rate * sum(y_fold == 1),\n",
    "        \"false_neg\": sum(y_fold == 1) - true_pos_rate * sum(y_fold == 1),\n",
    "        \"true_neg\": sum(y_fold == 0) - false_pos_rate * sum(y_fold == 0),\n",
    "        \"pos\": sum(y_fold == 1),\n",
    "        \"neg\": sum(y_fold == 0),\n",
    "        \"n\": len(y_fold),\n",
    "        \"thresholds\": threshold,\n",
    "    }\n",
    ")\n"
   ]
  },
  {
   "cell_type": "code",
   "execution_count": null,
   "id": "e5515431-daeb-4850-98d4-230aa07f4df2",
   "metadata": {
    "tags": []
   },
   "outputs": [],
   "source": [
    "expected_loss_cv[\"RF\"] = np.mean(expected_loss)\n",
    "best_thresholds_cv[\"RF\"] = np.mean(best_thresholds)\n"
   ]
  },
  {
   "cell_type": "code",
   "execution_count": null,
   "id": "aaf4bc77-140c-43d7-9bde-7e1bf05ebbf5",
   "metadata": {
    "tags": []
   },
   "outputs": [],
   "source": [
    "rf_summary = pd.DataFrame(\n",
    "    {\n",
    "        \"CV RMSE\": [round(prob_forest_best_results[\"cv_rmse\"].values[0], 3)],\n",
    "        \"CV AUC\": [round(prob_forest_best_results[\"cv_auc\"].values[0], 3)],\n",
    "        \"Avg of optimal thresholds\": [round(best_thresholds_cv[\"RF\"], 3)],\n",
    "        \"Threshold for Fold5\": [round(best_threshold, 3)],\n",
    "        \"Avg expected loss\": [round(expected_loss_cv[\"RF\"], 3)],\n",
    "        \"Expected loss for Fold5\": [round(curr_exp_loss, 3)],\n",
    "    }\n",
    ")\n",
    "\n",
    "rf_summary"
   ]
  },
  {
   "cell_type": "code",
   "execution_count": null,
   "id": "ec1c9ecb-5561-4e25-bf23-b9b5887054b2",
   "metadata": {
    "tags": []
   },
   "outputs": [],
   "source": [
    "create_loss_plot(all_coords_rf, fold5_threshold_rf, fold5_expected_loss_rf)"
   ]
  },
  {
   "cell_type": "code",
   "execution_count": null,
   "id": "7a21b4cf-8b4f-4da8-9db1-6ad90b0d2515",
   "metadata": {
    "tags": []
   },
   "outputs": [],
   "source": [
    "create_roc_plot_with_optimal(all_coords_rf, fold5_threshold_rf)"
   ]
  },
  {
   "cell_type": "markdown",
   "id": "744f8e40-dec1-48ce-a768-235f6e46d2d3",
   "metadata": {},
   "source": [
    "Take model to holdout and estimate RMSE, AUC and expected loss "
   ]
  },
  {
   "cell_type": "code",
   "execution_count": null,
   "id": "45ff82ef-7395-4dfa-8364-ca21e8c3da94",
   "metadata": {
    "tags": []
   },
   "outputs": [],
   "source": [
    "prob_forest_fit_best = prob_forest_fit.best_estimator_\n",
    "rf_predicted_probabilities_holdout = prob_forest_fit_best.predict_proba(rfvars_holdout)[\n",
    "    :, 1\n",
    "]\n",
    "rmse_rf = np.sqrt(mean_squared_error(y_holdout, rf_predicted_probabilities_holdout))\n",
    "round(rmse_rf, 3)\n"
   ]
  },
  {
   "cell_type": "markdown",
   "id": "3b322ecc-e236-4c12-b237-cc4396f0ca2c",
   "metadata": {},
   "source": [
    "ROC AUC  on holdout"
   ]
  },
  {
   "cell_type": "code",
   "execution_count": null,
   "id": "bb6f0f94-dbef-4d3e-8b3f-79a73d1b3166",
   "metadata": {
    "tags": []
   },
   "outputs": [],
   "source": [
    "auc_rf = roc_auc_score(y_holdout, rf_predicted_probabilities_holdout)\n",
    "round(auc_rf, 3)\n"
   ]
  },
  {
   "cell_type": "markdown",
   "id": "54e896f4-2454-4617-b23e-677b680247a2",
   "metadata": {},
   "source": [
    " Get expected loss on holdout"
   ]
  },
  {
   "cell_type": "code",
   "execution_count": null,
   "id": "f704beaf-1646-48c0-8c63-c908159350e4",
   "metadata": {},
   "outputs": [],
   "source": [
    "holdout_treshold = np.where(\n",
    "    rf_predicted_probabilities_holdout < best_thresholds_cv[\"RF\"], 0, 1\n",
    ")\n",
    "tn, fp, fn, tp = confusion_matrix(y_holdout, holdout_treshold, labels=[0, 1]).ravel()\n",
    "expected_loss_holdout = (fp * FP + fn * FN) / len(y_holdout)\n",
    "round(expected_loss_holdout, 3)\n"
   ]
  },
  {
   "cell_type": "markdown",
   "id": "0ba797bd-cded-4183-9f97-c7fc6a5f7992",
   "metadata": {},
   "source": [
    "## Final results"
   ]
  },
  {
   "cell_type": "code",
   "execution_count": null,
   "id": "53ea22af-7d89-445c-a4e3-695c4f9a9563",
   "metadata": {},
   "outputs": [],
   "source": [
    "summary[\"CV treshold\"] = best_thresholds_cv\n",
    "summary[\"CV expected Loss\"] = expected_loss_cv"
   ]
  },
  {
   "cell_type": "code",
   "execution_count": null,
   "id": "fa8bbe98-9e6f-43bd-9c7b-247c6a7e3384",
   "metadata": {
    "tags": []
   },
   "outputs": [],
   "source": [
    "summary"
   ]
  }
 ],
 "metadata": {
  "kernelspec": {
   "display_name": "Python 3 (ipykernel)",
   "language": "python",
   "name": "python3"
  },
  "language_info": {
   "codemirror_mode": {
    "name": "ipython",
    "version": 3
   },
   "file_extension": ".py",
   "mimetype": "text/x-python",
   "name": "python",
   "nbconvert_exporter": "python",
   "pygments_lexer": "ipython3",
   "version": "3.11.4"
  }
 },
 "nbformat": 4,
 "nbformat_minor": 5
}
