{
 "cells": [
  {
   "cell_type": "markdown",
   "id": "410c7f5a-fac0-482f-bc6e-e491d129d746",
   "metadata": {
    "tags": []
   },
   "source": [
    "# ***Assignment 3 for Data Analysis 3***\n",
    "\n",
    "Conducted by Ian Brandenburg and Zsófia Rebeka Katona\n",
    "\n",
    "[GitHub Repo](https://github.com/Iandrewburg/DA3_Brandenburg/tree/main/Assignment_3)\n",
    "\n",
    "\n",
    "\n",
    "Developing a predictive model to identify which small or medium-sized firms in the \"Manufacture of computer, electronic, and optical products\" industry might fail in 2015, based on their activity in 2014.\n",
    "\n",
    "[**Data source**](https://osf.io/b2ft9/?view_only=):\n",
    "Detailed company data from a middle-sized country in the European Union\n",
    "All registered companies in 2005-2016 in three selected industries \n",
    "  (auto manufacturing, equipment manufacturing, hotels and restaurants)\n",
    "This rich database was constructed for from multiple publicly available sources \n",
    "by Bisnode, a business data and anlytics company www.bisnode.com\n",
    "for educational purposes\n",
    "\n",
    "Dependent Variable - Dummy Variable for if the company defaulted or not"
   ]
  },
  {
   "cell_type": "code",
   "execution_count": 1,
   "id": "4aadb832-7ded-45c7-87b5-4e340c5394ee",
   "metadata": {
    "tags": []
   },
   "outputs": [],
   "source": [
    "import warnings\n",
    "warnings.filterwarnings('ignore')\n",
    "\n",
    "import pandas as pd\n",
    "import numpy as np\n",
    "import math\n",
    "import os\n",
    "from pathlib import Path\n",
    "import sys\n",
    "from plotnine import *\n",
    "from mizani.formatters import percent_format\n",
    "import ast\n",
    "from patsy import dmatrices\n",
    "from sklearn.model_selection import train_test_split\n",
    "import matplotlib.pyplot as plt\n",
    "import statsmodels.formula.api as smf\n",
    "import time\n",
    "\n",
    "from sklearn.ensemble import RandomForestRegressor\n",
    "from sklearn.model_selection import GridSearchCV\n",
    "from sklearn.model_selection import RandomizedSearchCV\n",
    "from sklearn.impute import SimpleImputer\n",
    "from sklearn.inspection import permutation_importance\n",
    "from sklearn.inspection import PartialDependenceDisplay\n",
    "from sklearn.inspection import partial_dependence\n",
    "from sklearn.compose import ColumnTransformer\n",
    "from sklearn.pipeline import Pipeline\n",
    "from sklearn.preprocessing import OneHotEncoder\n",
    "from sklearn.metrics import mean_squared_error\n",
    "from sklearn.linear_model import LinearRegression\n",
    "from sklearn.tree import DecisionTreeRegressor"
   ]
  },
  {
   "cell_type": "code",
   "execution_count": 2,
   "id": "3389a893-9410-46f1-855f-90c8336ea140",
   "metadata": {
    "tags": []
   },
   "outputs": [],
   "source": [
    "# Helper Functions\n",
    "\n",
    "def regression_results(y_true, y_pred):\n",
    "\n",
    "    # Regression metrics\n",
    "    explained_variance=metrics.explained_variance_score(y_true, y_pred)\n",
    "    mean_absolute_error=metrics.mean_absolute_error(y_true, y_pred) \n",
    "    mse=metrics.mean_squared_error(y_true, y_pred) \n",
    "    median_absolute_error=metrics.median_absolute_error(y_true, y_pred)\n",
    "    r2=metrics.r2_score(y_true, y_pred)\n",
    "\n",
    "    print('explained_variance: ', round(explained_variance,4))    \n",
    "    print('r2: ', round(r2,4))\n",
    "    print('MAE: ', round(mean_absolute_error,4))\n",
    "    print('MSE: ', round(mse,4))\n",
    "    print('RMSE: ', round(np.sqrt(mse),4))\n",
    "    \n",
    "def create_coef_matrix(X, model):\n",
    "    coef_matrix = pd.concat(\n",
    "        [pd.DataFrame(X.columns),pd.DataFrame(model.coef_.flatten())], axis = 1\n",
    "    )\n",
    "    coef_matrix.columns = ['variable', 'coefficient']\n",
    "    coef_matrix.iloc[-1] = ['Intercept', model.intercept_.flatten()[0]]\n",
    "    return coef_matrix\n",
    "\n",
    "def cv_summary(lambdas, C_values, model):\n",
    "    d = {'lambdas': lambdas, 'C_values': C_values, 'mean_cv_score': model.scores_[1].mean(axis = 0)}\n",
    "    return(pd.DataFrame(data=d))\n",
    "\n",
    "def create_roc_plot(y_true, y_pred):\n",
    "    fpr, tpr, thresholds = roc_curve(y_true, y_pred)\n",
    "    all_coords = pd.DataFrame({\n",
    "        'fpr': fpr,\n",
    "        'tpr': tpr,\n",
    "        'thresholds': thresholds\n",
    "    })\n",
    "    \n",
    "    plot = ggplot(all_coords, aes(x = 'fpr', y = 'tpr')) \\\n",
    "        + geom_line(color=color[0], size = 0.7) \\\n",
    "        + geom_area(position = 'identity', fill = 'mediumaquamarine', alpha = 0.3) \\\n",
    "        + xlab(\"False Positive Rate (1-Specifity)\") \\\n",
    "        + ylab(\"True Positive Rate (Sensitivity)\") \\\n",
    "        + geom_abline(intercept = 0, slope = 1,  linetype = \"dotted\", color = \"black\") \\\n",
    "        + scale_y_continuous(limits = (0, 1), breaks = seq(0, 1, .1), expand = (0, 0.01)) \\\n",
    "        + scale_x_continuous(limits = (0, 1), breaks = seq(0, 1, .1), expand = (0.01, 0)) \\\n",
    "        + theme_bw()\n",
    "    return(plot)\n",
    "\n",
    "def sigmoid_array(x):\n",
    "    return(1 / (1 + np.exp(-x)))\n",
    "\n",
    "def generate_fold_prediction(model, X, fold, param_index):\n",
    "    fold_coef = model.coefs_paths_[1][fold,param_index,:]\n",
    "    return(sigmoid_array(np.dot(X, np.transpose(fold_coef)[:-1]) +  np.transpose(fold_coef)[-1]))\n",
    "\n",
    "def create_loss_plot(all_coords, optimal_threshold, curr_exp_loss):\n",
    "    all_coords_copy = all_coords.copy()\n",
    "    all_coords_copy['loss'] = (all_coords_copy.false_pos*FP + all_coords_copy.false_neg*FN)/all_coords_copy.n\n",
    "    \n",
    "    t = optimal_threshold\n",
    "    l = curr_exp_loss\n",
    "    \n",
    "    plot = ggplot(all_coords_copy, aes(x = 'thresholds', y = 'loss')) + \\\n",
    "        geom_line(color=color[0], size=0.7) + \\\n",
    "        scale_x_continuous(breaks = seq(0, 1.1, by = 0.1)) + \\\n",
    "        coord_cartesian(xlim=(0,1))+ \\\n",
    "        geom_vline(xintercept = t , color = color[0] ) + \\\n",
    "        annotate(geom = \"text\", x = t - 0.01, y= max(all_coords_copy.loss) - 0.4,\n",
    "                 label=\"best threshold: \" + str(round(t,2)),\n",
    "                 colour=color[1], angle=90, size = 7) +\\\n",
    "        annotate(geom = \"text\", x = t + 0.06, y= l,\\\n",
    "                 label= str(round(l, 2)), size = 7) +\\\n",
    "        theme_bw()\n",
    "    return(plot)\n",
    "\n",
    "\n",
    "def create_roc_plot_with_optimal(all_coords, optimal_threshold):\n",
    "    all_coords_copy = all_coords.copy()\n",
    "    all_coords_copy['sp'] = all_coords_copy.true_neg/all_coords_copy.neg\n",
    "    all_coords_copy['se'] = all_coords_copy.true_pos/all_coords_copy.pos\n",
    "    \n",
    "    best_coords = all_coords_copy[all_coords_copy.thresholds == optimal_threshold]\n",
    "    sp = best_coords.sp.values[0]\n",
    "    se = best_coords.se.values[0]\n",
    "\n",
    "    plot = ggplot(all_coords_copy, aes(x = 'sp', y = 'se')) +\\\n",
    "        geom_line(color=color[0], size=0.7) +\\\n",
    "        scale_y_continuous(breaks = seq(0, 1.1, by = 0.1)) +\\\n",
    "        scale_x_reverse(breaks = seq(0, 1.1, by = 0.1)) +\\\n",
    "        geom_point(data = pd.DataFrame({'sp': [sp], 'se': [se]})) +\\\n",
    "        annotate(geom = \"text\", x = sp, y = se + 0.03,\n",
    "                 label = str(round(sp, 2)) + ', ' + str(round(se, 2)), size = 7) +\\\n",
    "        theme_bw()\n",
    "    return(plot)"
   ]
  },
  {
   "cell_type": "markdown",
   "id": "b96c2501-893a-4517-ab08-b34ac4ea19e5",
   "metadata": {},
   "source": [
    "# ***1. Data Processing***"
   ]
  },
  {
   "cell_type": "markdown",
   "id": "2c1c488f-73e2-48ad-b991-16b256d8ce97",
   "metadata": {
    "tags": []
   },
   "source": [
    "## 1.1 Import Data Directly from GitHub"
   ]
  },
  {
   "cell_type": "code",
   "execution_count": null,
   "id": "ec2ca7d5-8035-43e4-a917-4922a1ebff0d",
   "metadata": {
    "tags": []
   },
   "outputs": [],
   "source": [
    "data = pd.read_csv('https://github.com/Iandrewburg/DA3_Brandenburg/raw/main/Assignment_3/cs_bisnode_panel.csv')\n",
    "data.head()"
   ]
  },
  {
   "cell_type": "code",
   "execution_count": null,
   "id": "7422ae90-29a2-4784-b51a-1ebc9b8fe5cc",
   "metadata": {
    "tags": []
   },
   "outputs": [],
   "source": [
    "data"
   ]
  },
  {
   "cell_type": "code",
   "execution_count": null,
   "id": "f3946dc4-31d2-46cf-ba0f-02399963f4c0",
   "metadata": {
    "tags": []
   },
   "outputs": [],
   "source": [
    "# Checking out the column names\n",
    "data.columns"
   ]
  },
  {
   "cell_type": "code",
   "execution_count": null,
   "id": "0b297574-c4cb-465c-aa0e-83bc0c01acd6",
   "metadata": {
    "scrolled": true,
    "tags": []
   },
   "outputs": [],
   "source": [
    "# Checking out the info of the data set\n",
    "data.info()"
   ]
  },
  {
   "cell_type": "markdown",
   "id": "411c87b6-e49d-47ed-bcd8-e911178cc7a3",
   "metadata": {
    "tags": []
   },
   "source": [
    "## 1.2 Hold Out Sample"
   ]
  },
  {
   "cell_type": "code",
   "execution_count": null,
   "id": "dda3b336-db4f-4bae-befe-f064ed870b6a",
   "metadata": {
    "tags": []
   },
   "outputs": [],
   "source": [
    "data = (\n",
    "    data.set_index([\"year\", \"comp_id\"])\n",
    "    .unstack(fill_value=\"toReplace\")\n",
    "    .stack()\n",
    "    .reset_index()\n",
    ")\n",
    "data = data.replace(\"toReplace\", np.nan)  # only way I could define it as NaN\n",
    "# generate status_alive; if sales larger than zero and not-NA, then firm is alive\n",
    "data[\"status_alive\"] = (data[\"sales\"] > 0 & (False == data[\"sales\"].isna())).astype(int)\n",
    "\n",
    "# defaults in two years if there are sales in this year but no sales two years later\n",
    "# Status_in_two_years: data.groupby('comp_id')['status_alive'].shift(-2)\n",
    "data[\"default\"] = (\n",
    "    (data[\"status_alive\"] == 1)\n",
    "    & (data.groupby(\"comp_id\")[\"status_alive\"].shift(-1) == 0)\n",
    ").astype(int)\n"
   ]
  },
  {
   "cell_type": "code",
   "execution_count": null,
   "id": "8f6b463f-d0a3-4891-85f8-fe5895a18815",
   "metadata": {
    "tags": []
   },
   "outputs": [],
   "source": [
    "hold_out_sample = data[(data['ind2'] == 26) &\n",
    "                     (data['sales'] >= 1000) &\n",
    "                     (data['sales'] <= 10000000) &\n",
    "                     (data['year'] == 2014)]\n",
    "hold_out_sample"
   ]
  },
  {
   "cell_type": "code",
   "execution_count": 127,
   "id": "39e50bbe-9639-4757-a943-e795b4a32f69",
   "metadata": {
    "tags": []
   },
   "outputs": [
    {
     "name": "stdout",
     "output_type": "stream",
     "text": [
      "MISSING VALUES FROM HOLDOUT SAMPLE\n",
      "-----------------------------------\n"
     ]
    },
    {
     "data": {
      "text/plain": [
       "COGS              948\n",
       "amort               2\n",
       "finished_prod     950\n",
       "material_exp        2\n",
       "net_dom_sales     948\n",
       "net_exp_sales     948\n",
       "personnel_exp       2\n",
       "wages             949\n",
       "D                1037\n",
       "founded_year       31\n",
       "exit_year        1014\n",
       "ceo_count          31\n",
       "foreign            31\n",
       "female             31\n",
       "birth_year        114\n",
       "inoffice_days      31\n",
       "gender             31\n",
       "origin             31\n",
       "region_m            2\n",
       "exit_date        1012\n",
       "labor_avg         312\n",
       "dtype: int64"
      ]
     },
     "execution_count": 127,
     "metadata": {},
     "output_type": "execute_result"
    }
   ],
   "source": [
    "print(\"MISSING VALUES FROM HOLDOUT SAMPLE\")\n",
    "print(\"-\"*35)\n",
    "to_filter = hold_out_sample.isnull().sum()\n",
    "to_filter[to_filter > 0]"
   ]
  },
  {
   "cell_type": "markdown",
   "id": "a30d6c8b-d5cd-4fe7-b975-60f41f8b8830",
   "metadata": {},
   "source": [
    "#### Hold Out Sample Summary Table"
   ]
  },
  {
   "cell_type": "code",
   "execution_count": 128,
   "id": "b8a560a5-79cb-4a2d-91c4-e83d67478e7e",
   "metadata": {
    "tags": []
   },
   "outputs": [
    {
     "data": {
      "text/html": [
       "<div>\n",
       "<style scoped>\n",
       "    .dataframe tbody tr th:only-of-type {\n",
       "        vertical-align: middle;\n",
       "    }\n",
       "\n",
       "    .dataframe tbody tr th {\n",
       "        vertical-align: top;\n",
       "    }\n",
       "\n",
       "    .dataframe thead th {\n",
       "        text-align: right;\n",
       "    }\n",
       "</style>\n",
       "<table border=\"1\" class=\"dataframe\">\n",
       "  <thead>\n",
       "    <tr style=\"text-align: right;\">\n",
       "      <th></th>\n",
       "      <th>Number of Firms</th>\n",
       "      <th>Mean Sales</th>\n",
       "      <th>Min Sales</th>\n",
       "      <th>Max Sales</th>\n",
       "      <th>Defaulted Firms</th>\n",
       "      <th>Stayed Alive Firms</th>\n",
       "    </tr>\n",
       "  </thead>\n",
       "  <tbody>\n",
       "    <tr>\n",
       "      <th>0</th>\n",
       "      <td>1037</td>\n",
       "      <td>490202.217927</td>\n",
       "      <td>1070.370361</td>\n",
       "      <td>9576485.0</td>\n",
       "      <td>56</td>\n",
       "      <td>981</td>\n",
       "    </tr>\n",
       "  </tbody>\n",
       "</table>\n",
       "</div>"
      ],
      "text/plain": [
       "   Number of Firms     Mean Sales    Min Sales  Max Sales  Defaulted Firms  \\\n",
       "0             1037  490202.217927  1070.370361  9576485.0               56   \n",
       "\n",
       "   Stayed Alive Firms  \n",
       "0                 981  "
      ]
     },
     "execution_count": 128,
     "metadata": {},
     "output_type": "execute_result"
    }
   ],
   "source": [
    "hold_out_summary = {\n",
    "    'Number of Firms': [hold_out_sample.shape[0]],\n",
    "    'Mean Sales': [hold_out_sample['sales'].mean()],\n",
    "    'Min Sales': [hold_out_sample['sales'].min()],\n",
    "    'Max Sales': [hold_out_sample['sales'].max()],\n",
    "    'Defaulted Firms': [hold_out_sample['default'].sum()],\n",
    "    'Stayed Alive Firms': [(hold_out_sample['default'] == 0).sum()]\n",
    "\n",
    "}\n",
    "\n",
    "hold_out_summary_df = pd.DataFrame(hold_out_summary)\n",
    "hold_out_summary_df"
   ]
  },
  {
   "cell_type": "markdown",
   "id": "1818dc85-1d7a-4f44-889b-a1a77c38764f",
   "metadata": {
    "tags": []
   },
   "source": [
    "## 1.3 Data Cleaning\n",
    "\n",
    "Missing values for a specific year (2014) and the entire dataset will be compared. "
   ]
  },
  {
   "cell_type": "code",
   "execution_count": 129,
   "id": "705caddb-72de-4583-bdd9-98798b0bc9f0",
   "metadata": {
    "tags": []
   },
   "outputs": [
    {
     "data": {
      "text/html": [
       "<div>\n",
       "<style scoped>\n",
       "    .dataframe tbody tr th:only-of-type {\n",
       "        vertical-align: middle;\n",
       "    }\n",
       "\n",
       "    .dataframe tbody tr th {\n",
       "        vertical-align: top;\n",
       "    }\n",
       "\n",
       "    .dataframe thead th {\n",
       "        text-align: right;\n",
       "    }\n",
       "</style>\n",
       "<table border=\"1\" class=\"dataframe\">\n",
       "  <thead>\n",
       "    <tr style=\"text-align: right;\">\n",
       "      <th></th>\n",
       "      <th>year</th>\n",
       "      <th>comp_id</th>\n",
       "      <th>begin</th>\n",
       "      <th>end</th>\n",
       "      <th>COGS</th>\n",
       "      <th>amort</th>\n",
       "      <th>curr_assets</th>\n",
       "      <th>curr_liab</th>\n",
       "      <th>extra_exp</th>\n",
       "      <th>extra_inc</th>\n",
       "      <th>...</th>\n",
       "      <th>nace_main</th>\n",
       "      <th>ind2</th>\n",
       "      <th>ind</th>\n",
       "      <th>urban_m</th>\n",
       "      <th>region_m</th>\n",
       "      <th>founded_date</th>\n",
       "      <th>exit_date</th>\n",
       "      <th>labor_avg</th>\n",
       "      <th>status_alive</th>\n",
       "      <th>default</th>\n",
       "    </tr>\n",
       "  </thead>\n",
       "  <tbody>\n",
       "    <tr>\n",
       "      <th>417864</th>\n",
       "      <td>2014</td>\n",
       "      <td>6.538183e+06</td>\n",
       "      <td>2014-01-01</td>\n",
       "      <td>2014-12-31</td>\n",
       "      <td>NaN</td>\n",
       "      <td>1018.518494</td>\n",
       "      <td>17022.222656</td>\n",
       "      <td>3040.740723</td>\n",
       "      <td>0.0</td>\n",
       "      <td>0.0</td>\n",
       "      <td>...</td>\n",
       "      <td>2630.0</td>\n",
       "      <td>26.0</td>\n",
       "      <td>2.0</td>\n",
       "      <td>2.0</td>\n",
       "      <td>East</td>\n",
       "      <td>1992-08-25</td>\n",
       "      <td>NaN</td>\n",
       "      <td>NaN</td>\n",
       "      <td>1</td>\n",
       "      <td>0</td>\n",
       "    </tr>\n",
       "    <tr>\n",
       "      <th>417890</th>\n",
       "      <td>2014</td>\n",
       "      <td>8.416055e+06</td>\n",
       "      <td>2014-01-01</td>\n",
       "      <td>2014-12-31</td>\n",
       "      <td>NaN</td>\n",
       "      <td>425.925934</td>\n",
       "      <td>105740.742188</td>\n",
       "      <td>6918.518555</td>\n",
       "      <td>0.0</td>\n",
       "      <td>0.0</td>\n",
       "      <td>...</td>\n",
       "      <td>2651.0</td>\n",
       "      <td>26.0</td>\n",
       "      <td>2.0</td>\n",
       "      <td>1.0</td>\n",
       "      <td>Central</td>\n",
       "      <td>1995-08-28</td>\n",
       "      <td>NaN</td>\n",
       "      <td>0.083333</td>\n",
       "      <td>1</td>\n",
       "      <td>0</td>\n",
       "    </tr>\n",
       "    <tr>\n",
       "      <th>417922</th>\n",
       "      <td>2014</td>\n",
       "      <td>1.089394e+07</td>\n",
       "      <td>2014-07-24</td>\n",
       "      <td>2014-12-31</td>\n",
       "      <td>NaN</td>\n",
       "      <td>0.000000</td>\n",
       "      <td>30614.814453</td>\n",
       "      <td>128055.546875</td>\n",
       "      <td>0.0</td>\n",
       "      <td>0.0</td>\n",
       "      <td>...</td>\n",
       "      <td>2651.0</td>\n",
       "      <td>26.0</td>\n",
       "      <td>2.0</td>\n",
       "      <td>1.0</td>\n",
       "      <td>Central</td>\n",
       "      <td>2004-12-13</td>\n",
       "      <td>NaN</td>\n",
       "      <td>NaN</td>\n",
       "      <td>0</td>\n",
       "      <td>0</td>\n",
       "    </tr>\n",
       "    <tr>\n",
       "      <th>417942</th>\n",
       "      <td>2014</td>\n",
       "      <td>1.242838e+07</td>\n",
       "      <td>2014-01-01</td>\n",
       "      <td>2014-12-31</td>\n",
       "      <td>NaN</td>\n",
       "      <td>0.000000</td>\n",
       "      <td>0.000000</td>\n",
       "      <td>9277.777344</td>\n",
       "      <td>0.0</td>\n",
       "      <td>0.0</td>\n",
       "      <td>...</td>\n",
       "      <td>2660.0</td>\n",
       "      <td>26.0</td>\n",
       "      <td>2.0</td>\n",
       "      <td>2.0</td>\n",
       "      <td>Central</td>\n",
       "      <td>1991-06-27</td>\n",
       "      <td>NaN</td>\n",
       "      <td>0.083333</td>\n",
       "      <td>1</td>\n",
       "      <td>0</td>\n",
       "    </tr>\n",
       "    <tr>\n",
       "      <th>417969</th>\n",
       "      <td>2014</td>\n",
       "      <td>1.571155e+07</td>\n",
       "      <td>2014-01-01</td>\n",
       "      <td>2014-12-31</td>\n",
       "      <td>NaN</td>\n",
       "      <td>0.000000</td>\n",
       "      <td>2477.777832</td>\n",
       "      <td>0.000000</td>\n",
       "      <td>0.0</td>\n",
       "      <td>0.0</td>\n",
       "      <td>...</td>\n",
       "      <td>2630.0</td>\n",
       "      <td>26.0</td>\n",
       "      <td>2.0</td>\n",
       "      <td>1.0</td>\n",
       "      <td>Central</td>\n",
       "      <td>2001-09-01</td>\n",
       "      <td>NaN</td>\n",
       "      <td>NaN</td>\n",
       "      <td>0</td>\n",
       "      <td>0</td>\n",
       "    </tr>\n",
       "    <tr>\n",
       "      <th>...</th>\n",
       "      <td>...</td>\n",
       "      <td>...</td>\n",
       "      <td>...</td>\n",
       "      <td>...</td>\n",
       "      <td>...</td>\n",
       "      <td>...</td>\n",
       "      <td>...</td>\n",
       "      <td>...</td>\n",
       "      <td>...</td>\n",
       "      <td>...</td>\n",
       "      <td>...</td>\n",
       "      <td>...</td>\n",
       "      <td>...</td>\n",
       "      <td>...</td>\n",
       "      <td>...</td>\n",
       "      <td>...</td>\n",
       "      <td>...</td>\n",
       "      <td>...</td>\n",
       "      <td>...</td>\n",
       "      <td>...</td>\n",
       "      <td>...</td>\n",
       "    </tr>\n",
       "    <tr>\n",
       "      <th>463940</th>\n",
       "      <td>2014</td>\n",
       "      <td>4.604901e+11</td>\n",
       "      <td>2014-01-01</td>\n",
       "      <td>2014-12-31</td>\n",
       "      <td>NaN</td>\n",
       "      <td>0.000000</td>\n",
       "      <td>33.333332</td>\n",
       "      <td>585.185181</td>\n",
       "      <td>0.0</td>\n",
       "      <td>0.0</td>\n",
       "      <td>...</td>\n",
       "      <td>2640.0</td>\n",
       "      <td>26.0</td>\n",
       "      <td>2.0</td>\n",
       "      <td>2.0</td>\n",
       "      <td>East</td>\n",
       "      <td>2000-06-14</td>\n",
       "      <td>NaN</td>\n",
       "      <td>NaN</td>\n",
       "      <td>0</td>\n",
       "      <td>0</td>\n",
       "    </tr>\n",
       "    <tr>\n",
       "      <th>463965</th>\n",
       "      <td>2014</td>\n",
       "      <td>4.610112e+11</td>\n",
       "      <td>2014-01-01</td>\n",
       "      <td>2014-12-31</td>\n",
       "      <td>NaN</td>\n",
       "      <td>429.629639</td>\n",
       "      <td>58781.480469</td>\n",
       "      <td>2651.851807</td>\n",
       "      <td>0.0</td>\n",
       "      <td>0.0</td>\n",
       "      <td>...</td>\n",
       "      <td>2620.0</td>\n",
       "      <td>26.0</td>\n",
       "      <td>2.0</td>\n",
       "      <td>3.0</td>\n",
       "      <td>Central</td>\n",
       "      <td>1997-12-10</td>\n",
       "      <td>NaN</td>\n",
       "      <td>0.166667</td>\n",
       "      <td>1</td>\n",
       "      <td>0</td>\n",
       "    </tr>\n",
       "    <tr>\n",
       "      <th>464018</th>\n",
       "      <td>2014</td>\n",
       "      <td>4.620594e+11</td>\n",
       "      <td>2014-01-01</td>\n",
       "      <td>2014-12-31</td>\n",
       "      <td>NaN</td>\n",
       "      <td>1111.111084</td>\n",
       "      <td>68274.070312</td>\n",
       "      <td>16211.111328</td>\n",
       "      <td>0.0</td>\n",
       "      <td>0.0</td>\n",
       "      <td>...</td>\n",
       "      <td>2630.0</td>\n",
       "      <td>26.0</td>\n",
       "      <td>2.0</td>\n",
       "      <td>1.0</td>\n",
       "      <td>Central</td>\n",
       "      <td>1996-12-30</td>\n",
       "      <td>NaN</td>\n",
       "      <td>0.250000</td>\n",
       "      <td>1</td>\n",
       "      <td>0</td>\n",
       "    </tr>\n",
       "    <tr>\n",
       "      <th>464032</th>\n",
       "      <td>2014</td>\n",
       "      <td>4.623300e+11</td>\n",
       "      <td>2014-01-01</td>\n",
       "      <td>2014-12-31</td>\n",
       "      <td>NaN</td>\n",
       "      <td>0.000000</td>\n",
       "      <td>17192.591797</td>\n",
       "      <td>7325.925781</td>\n",
       "      <td>0.0</td>\n",
       "      <td>0.0</td>\n",
       "      <td>...</td>\n",
       "      <td>2611.0</td>\n",
       "      <td>26.0</td>\n",
       "      <td>2.0</td>\n",
       "      <td>2.0</td>\n",
       "      <td>East</td>\n",
       "      <td>2010-12-15</td>\n",
       "      <td>NaN</td>\n",
       "      <td>0.166667</td>\n",
       "      <td>1</td>\n",
       "      <td>0</td>\n",
       "    </tr>\n",
       "    <tr>\n",
       "      <th>464055</th>\n",
       "      <td>2014</td>\n",
       "      <td>4.628231e+11</td>\n",
       "      <td>2014-01-01</td>\n",
       "      <td>2014-12-31</td>\n",
       "      <td>NaN</td>\n",
       "      <td>2581.481445</td>\n",
       "      <td>70059.257812</td>\n",
       "      <td>74911.109375</td>\n",
       "      <td>0.0</td>\n",
       "      <td>0.0</td>\n",
       "      <td>...</td>\n",
       "      <td>2630.0</td>\n",
       "      <td>26.0</td>\n",
       "      <td>2.0</td>\n",
       "      <td>1.0</td>\n",
       "      <td>Central</td>\n",
       "      <td>2009-12-06</td>\n",
       "      <td>NaN</td>\n",
       "      <td>0.486111</td>\n",
       "      <td>1</td>\n",
       "      <td>0</td>\n",
       "    </tr>\n",
       "  </tbody>\n",
       "</table>\n",
       "<p>1317 rows × 50 columns</p>\n",
       "</div>"
      ],
      "text/plain": [
       "        year       comp_id       begin         end  COGS        amort  \\\n",
       "417864  2014  6.538183e+06  2014-01-01  2014-12-31   NaN  1018.518494   \n",
       "417890  2014  8.416055e+06  2014-01-01  2014-12-31   NaN   425.925934   \n",
       "417922  2014  1.089394e+07  2014-07-24  2014-12-31   NaN     0.000000   \n",
       "417942  2014  1.242838e+07  2014-01-01  2014-12-31   NaN     0.000000   \n",
       "417969  2014  1.571155e+07  2014-01-01  2014-12-31   NaN     0.000000   \n",
       "...      ...           ...         ...         ...   ...          ...   \n",
       "463940  2014  4.604901e+11  2014-01-01  2014-12-31   NaN     0.000000   \n",
       "463965  2014  4.610112e+11  2014-01-01  2014-12-31   NaN   429.629639   \n",
       "464018  2014  4.620594e+11  2014-01-01  2014-12-31   NaN  1111.111084   \n",
       "464032  2014  4.623300e+11  2014-01-01  2014-12-31   NaN     0.000000   \n",
       "464055  2014  4.628231e+11  2014-01-01  2014-12-31   NaN  2581.481445   \n",
       "\n",
       "          curr_assets      curr_liab  extra_exp  extra_inc  ...  nace_main  \\\n",
       "417864   17022.222656    3040.740723        0.0        0.0  ...     2630.0   \n",
       "417890  105740.742188    6918.518555        0.0        0.0  ...     2651.0   \n",
       "417922   30614.814453  128055.546875        0.0        0.0  ...     2651.0   \n",
       "417942       0.000000    9277.777344        0.0        0.0  ...     2660.0   \n",
       "417969    2477.777832       0.000000        0.0        0.0  ...     2630.0   \n",
       "...               ...            ...        ...        ...  ...        ...   \n",
       "463940      33.333332     585.185181        0.0        0.0  ...     2640.0   \n",
       "463965   58781.480469    2651.851807        0.0        0.0  ...     2620.0   \n",
       "464018   68274.070312   16211.111328        0.0        0.0  ...     2630.0   \n",
       "464032   17192.591797    7325.925781        0.0        0.0  ...     2611.0   \n",
       "464055   70059.257812   74911.109375        0.0        0.0  ...     2630.0   \n",
       "\n",
       "        ind2  ind  urban_m  region_m  founded_date  exit_date  labor_avg  \\\n",
       "417864  26.0  2.0      2.0      East    1992-08-25        NaN        NaN   \n",
       "417890  26.0  2.0      1.0   Central    1995-08-28        NaN   0.083333   \n",
       "417922  26.0  2.0      1.0   Central    2004-12-13        NaN        NaN   \n",
       "417942  26.0  2.0      2.0   Central    1991-06-27        NaN   0.083333   \n",
       "417969  26.0  2.0      1.0   Central    2001-09-01        NaN        NaN   \n",
       "...      ...  ...      ...       ...           ...        ...        ...   \n",
       "463940  26.0  2.0      2.0      East    2000-06-14        NaN        NaN   \n",
       "463965  26.0  2.0      3.0   Central    1997-12-10        NaN   0.166667   \n",
       "464018  26.0  2.0      1.0   Central    1996-12-30        NaN   0.250000   \n",
       "464032  26.0  2.0      2.0      East    2010-12-15        NaN   0.166667   \n",
       "464055  26.0  2.0      1.0   Central    2009-12-06        NaN   0.486111   \n",
       "\n",
       "        status_alive  default  \n",
       "417864             1        0  \n",
       "417890             1        0  \n",
       "417922             0        0  \n",
       "417942             1        0  \n",
       "417969             0        0  \n",
       "...              ...      ...  \n",
       "463940             0        0  \n",
       "463965             1        0  \n",
       "464018             1        0  \n",
       "464032             1        0  \n",
       "464055             1        0  \n",
       "\n",
       "[1317 rows x 50 columns]"
      ]
     },
     "execution_count": 129,
     "metadata": {},
     "output_type": "execute_result"
    }
   ],
   "source": [
    "# Filtering and creating a separate data set for 2014 data\n",
    "data_2014 = data[(data['ind2'] == 26) &\n",
    "                     (data['year'] == 2014)]\n",
    "data_2014"
   ]
  },
  {
   "cell_type": "code",
   "execution_count": 130,
   "id": "5a39f8f2-078c-4aad-ac71-aa9d411fe636",
   "metadata": {
    "scrolled": true,
    "tags": []
   },
   "outputs": [
    {
     "name": "stdout",
     "output_type": "stream",
     "text": [
      "MISSING VALUES FROM ENTIRE DATASET\n",
      "-----------------------------------\n"
     ]
    },
    {
     "data": {
      "text/plain": [
       "begin                   269115\n",
       "end                     269115\n",
       "COGS                    538687\n",
       "amort                   277155\n",
       "curr_assets             269246\n",
       "curr_liab               269246\n",
       "extra_exp               287644\n",
       "extra_inc               287644\n",
       "extra_profit_loss       286318\n",
       "finished_prod           539459\n",
       "fixed_assets            269246\n",
       "inc_bef_tax             276552\n",
       "intang_assets           269255\n",
       "inventories             269246\n",
       "liq_assets              269246\n",
       "material_exp            277155\n",
       "net_dom_sales           538687\n",
       "net_exp_sales           538687\n",
       "personnel_exp           277155\n",
       "profit_loss_year        278999\n",
       "sales                   276552\n",
       "share_eq                269246\n",
       "subscribed_cap          269246\n",
       "tang_assets             270585\n",
       "wages                   538961\n",
       "D                       556944\n",
       "balsheet_flag           269115\n",
       "balsheet_length         269115\n",
       "balsheet_notfullyear    269115\n",
       "founded_year            325572\n",
       "exit_year               518085\n",
       "ceo_count               325542\n",
       "foreign                 325542\n",
       "female                  325542\n",
       "birth_year              380933\n",
       "inoffice_days           325542\n",
       "gender                  325542\n",
       "origin                  325542\n",
       "nace_main               270153\n",
       "ind2                    270153\n",
       "ind                     278884\n",
       "urban_m                 269115\n",
       "region_m                269955\n",
       "founded_date            269166\n",
       "exit_date               500764\n",
       "labor_avg               415647\n",
       "dtype: int64"
      ]
     },
     "execution_count": 130,
     "metadata": {},
     "output_type": "execute_result"
    }
   ],
   "source": [
    "# Comparing the missing values from the entire data set and data from 2014\n",
    "print(\"MISSING VALUES FROM ENTIRE DATASET\")\n",
    "print(\"-\"*35)\n",
    "to_filter = data.isnull().sum()\n",
    "to_filter[to_filter > 0]"
   ]
  },
  {
   "cell_type": "markdown",
   "id": "4e0c3088-89a1-4e0a-b050-8342e9766bb5",
   "metadata": {},
   "source": [
    "After reviewing the null values, `COGS`, `finished_production`, `net_dom_sale`, `net_exp_sales`, and `wages` will most likely need to be dropped. \n",
    "\n",
    "The null values will need to be viewed for one specific year to get an understanding of null values where the company only iterates once in the dataframe.\n",
    "This way the null values can be better interpreted. "
   ]
  },
  {
   "cell_type": "code",
   "execution_count": 131,
   "id": "9a0fdaee-51c5-4cf4-b7a0-d1cc1ab87bf0",
   "metadata": {
    "scrolled": true,
    "tags": []
   },
   "outputs": [
    {
     "name": "stdout",
     "output_type": "stream",
     "text": [
      "MISSING VALUES FROM 2014 DATASET\n",
      "---------------------------------\n"
     ]
    },
    {
     "data": {
      "text/plain": [
       "COGS                 1176\n",
       "amort                   5\n",
       "extra_exp               1\n",
       "extra_inc               1\n",
       "extra_profit_loss       1\n",
       "finished_prod        1178\n",
       "inc_bef_tax             1\n",
       "material_exp            5\n",
       "net_dom_sales        1176\n",
       "net_exp_sales        1176\n",
       "personnel_exp           5\n",
       "sales                   1\n",
       "wages                1179\n",
       "D                    1317\n",
       "founded_year           58\n",
       "exit_year            1276\n",
       "ceo_count              58\n",
       "foreign                58\n",
       "female                 58\n",
       "birth_year            210\n",
       "inoffice_days          58\n",
       "gender                 58\n",
       "origin                 58\n",
       "region_m                3\n",
       "exit_date            1268\n",
       "labor_avg             521\n",
       "dtype: int64"
      ]
     },
     "execution_count": 131,
     "metadata": {},
     "output_type": "execute_result"
    }
   ],
   "source": [
    "data_2014.isnull().sum()\n",
    "print(\"MISSING VALUES FROM 2014 DATASET\")\n",
    "print(\"-\"*33)\n",
    "to_filter = data_2014.isnull().sum()\n",
    "to_filter[to_filter > 0]"
   ]
  },
  {
   "cell_type": "markdown",
   "id": "d5ed077f-1927-42ac-9b12-7a592a21de67",
   "metadata": {},
   "source": [
    "Here, we can verify that `COGS`, `finished_prod`, `net_dom_sale`, `net_exp_sales`, and `wages` will need to be dropped from the analysis. \n",
    "\n",
    "`exit_year` and `exit date` can stay since not all companies are exiting, and we are trying to predict how many companies will exit.\n",
    "\n",
    "The `D` column will also be dropped for it's high frequency of missing values\n",
    "\n",
    "Also dropping `ind` column, as it does not serve any use in this specific project.\n",
    "\n",
    "With `labor_avg` having such a high number of missing values, this column will also be dropped."
   ]
  },
  {
   "cell_type": "code",
   "execution_count": 132,
   "id": "13019524-8226-4474-b97d-f4159ff0859b",
   "metadata": {
    "tags": []
   },
   "outputs": [],
   "source": [
    "# Dropping the columns with too many missing values in the original data\n",
    "data = data.drop(columns = ['COGS',\n",
    "                            'finished_prod',\n",
    "                            'net_dom_sales',\n",
    "                            'net_exp_sales',\n",
    "                            'wages',\n",
    "                            'D',\n",
    "                            'ind',\n",
    "                            'labor_avg'])"
   ]
  },
  {
   "cell_type": "code",
   "execution_count": 133,
   "id": "c1ba5923-6ff9-48c6-9ca2-8de41c70e084",
   "metadata": {
    "scrolled": true,
    "tags": []
   },
   "outputs": [
    {
     "data": {
      "text/plain": [
       "begin                   269115\n",
       "end                     269115\n",
       "amort                   277155\n",
       "curr_assets             269246\n",
       "curr_liab               269246\n",
       "extra_exp               287644\n",
       "extra_inc               287644\n",
       "extra_profit_loss       286318\n",
       "fixed_assets            269246\n",
       "inc_bef_tax             276552\n",
       "intang_assets           269255\n",
       "inventories             269246\n",
       "liq_assets              269246\n",
       "material_exp            277155\n",
       "personnel_exp           277155\n",
       "profit_loss_year        278999\n",
       "sales                   276552\n",
       "share_eq                269246\n",
       "subscribed_cap          269246\n",
       "tang_assets             270585\n",
       "balsheet_flag           269115\n",
       "balsheet_length         269115\n",
       "balsheet_notfullyear    269115\n",
       "founded_year            325572\n",
       "exit_year               518085\n",
       "ceo_count               325542\n",
       "foreign                 325542\n",
       "female                  325542\n",
       "birth_year              380933\n",
       "inoffice_days           325542\n",
       "gender                  325542\n",
       "origin                  325542\n",
       "nace_main               270153\n",
       "ind2                    270153\n",
       "urban_m                 269115\n",
       "region_m                269955\n",
       "founded_date            269166\n",
       "exit_date               500764\n",
       "dtype: int64"
      ]
     },
     "execution_count": 133,
     "metadata": {},
     "output_type": "execute_result"
    }
   ],
   "source": [
    "to_filter = data.isnull().sum()\n",
    "to_filter[to_filter > 0]"
   ]
  },
  {
   "cell_type": "code",
   "execution_count": 134,
   "id": "e8beb363-2626-4e11-8014-a3ef07f61331",
   "metadata": {
    "tags": []
   },
   "outputs": [],
   "source": [
    "# Dropping the columns with too many missing values from the 2014 data\n",
    "data_2014 = data_2014.drop(columns = ['COGS',\n",
    "                                      'finished_prod',\n",
    "                                      'net_dom_sales',\n",
    "                                      'net_exp_sales',\n",
    "                                      'wages',\n",
    "                                      'D',\n",
    "                                      'ind',\n",
    "                                      'labor_avg'])"
   ]
  },
  {
   "cell_type": "code",
   "execution_count": 135,
   "id": "eaca8ef5-7cee-44e4-a3f9-eef074ce9836",
   "metadata": {
    "scrolled": true,
    "tags": []
   },
   "outputs": [
    {
     "data": {
      "text/plain": [
       "amort                   5\n",
       "extra_exp               1\n",
       "extra_inc               1\n",
       "extra_profit_loss       1\n",
       "inc_bef_tax             1\n",
       "material_exp            5\n",
       "personnel_exp           5\n",
       "sales                   1\n",
       "founded_year           58\n",
       "exit_year            1276\n",
       "ceo_count              58\n",
       "foreign                58\n",
       "female                 58\n",
       "birth_year            210\n",
       "inoffice_days          58\n",
       "gender                 58\n",
       "origin                 58\n",
       "region_m                3\n",
       "exit_date            1268\n",
       "dtype: int64"
      ]
     },
     "execution_count": 135,
     "metadata": {},
     "output_type": "execute_result"
    }
   ],
   "source": [
    "to_filter_2014 = data_2014.isnull().sum()\n",
    "to_filter_2014[to_filter_2014 > 0]"
   ]
  },
  {
   "cell_type": "code",
   "execution_count": 143,
   "id": "8ba0a1da-1522-4996-9db1-ccbe15de66f3",
   "metadata": {
    "tags": []
   },
   "outputs": [],
   "source": [
    "# Creating a function to handle missing values\n",
    "\n",
    "def data_dish_washer(data):\n",
    "    # Step 1: Imputing with 0: Fill specific columns with 0 in case of numerical values\n",
    "    zero_fill_cols = ['amort',\n",
    "                      'curr_assets',\n",
    "                      'personnel_exp', \n",
    "                      'material_exp',\n",
    "                      'liq_assets',\n",
    "                      'inventories',\n",
    "                      'intang_assets', \n",
    "                      'fixed_assets',\n",
    "                      'extra_profit_loss',\n",
    "                      'extra_inc',\n",
    "                      'extra_exp', \n",
    "                      'curr_liab',\n",
    "                      'tang_assets']\n",
    "    data[zero_fill_cols] = data[zero_fill_cols].fillna(0)\n",
    "\n",
    "\n",
    "    # Step 2: Imputing with median: Fill missing values with median where it makes sense\n",
    "    median_fill_cols = ['sales',\n",
    "                        'profit_loss_year',\n",
    "                        'inc_bef_tax', \n",
    "                        'share_eq',\n",
    "                        'subscribed_cap']\n",
    "    for col in median_fill_cols:\n",
    "        data[col] = data[col].fillna(data[col].median())\n",
    "\n",
    "    # Step 3: Change: Drop rows with missing values in specified categorical columns\n",
    "    row_drops = ['nace_main',\n",
    "                 'ind2',\n",
    "                 'ceo_count', \n",
    "                 'foreign', \n",
    "                 'female',\n",
    "                 'inoffice_days',\n",
    "                 'gender',\n",
    "                 'origin']\n",
    "    data = data.dropna(subset=row_drops)\n",
    "\n",
    "    # Step 4: Fill missing regions with 'NaN'\n",
    "    data['region_m'] = data['region_m'].fillna('NaN')\n",
    "\n",
    "    # Step 5: Convert Date variables to datetime types\n",
    "    datetime_columns = ['begin',\n",
    "                        'end',\n",
    "                        'founded_date',\n",
    "                        'exit_date']\n",
    "    for col in datetime_columns:\n",
    "        data[col] = pd.to_datetime(data[col], errors='coerce')\n",
    "\n",
    "    # Step 6: Verify Numeric Columns\n",
    "    numeric_columns = ['year',\n",
    "                       'founded_year',\n",
    "                       'exit_year',\n",
    "                       'birth_year']\n",
    "    for col in numeric_columns:\n",
    "        data[col] = pd.to_numeric(data[col], errors='coerce')\n",
    "\n",
    "    # Transforming the Infinite values with NaNs in data\n",
    "    data = data.replace([np.inf, -np.inf], np.nan)\n",
    "    \n",
    "    # filter the dataset to be 2013 or before, and between 1000 and 10000000\n",
    "    data = data[(data['sales'] >= 1000) &\n",
    "            (data['sales'] <= 10000000) &\n",
    "            (data['year'] <= 2013)]\n",
    "    \n",
    "    return data"
   ]
  },
  {
   "cell_type": "code",
   "execution_count": 142,
   "id": "7c07a70f-b805-45ed-a4c0-3dda89d7905d",
   "metadata": {
    "tags": []
   },
   "outputs": [
    {
     "data": {
      "text/html": [
       "<div>\n",
       "<style scoped>\n",
       "    .dataframe tbody tr th:only-of-type {\n",
       "        vertical-align: middle;\n",
       "    }\n",
       "\n",
       "    .dataframe tbody tr th {\n",
       "        vertical-align: top;\n",
       "    }\n",
       "\n",
       "    .dataframe thead th {\n",
       "        text-align: right;\n",
       "    }\n",
       "</style>\n",
       "<table border=\"1\" class=\"dataframe\">\n",
       "  <thead>\n",
       "    <tr style=\"text-align: right;\">\n",
       "      <th></th>\n",
       "      <th>year</th>\n",
       "      <th>comp_id</th>\n",
       "      <th>begin</th>\n",
       "      <th>end</th>\n",
       "      <th>amort</th>\n",
       "      <th>curr_assets</th>\n",
       "      <th>curr_liab</th>\n",
       "      <th>extra_exp</th>\n",
       "      <th>extra_inc</th>\n",
       "      <th>extra_profit_loss</th>\n",
       "      <th>...</th>\n",
       "      <th>gender</th>\n",
       "      <th>origin</th>\n",
       "      <th>nace_main</th>\n",
       "      <th>ind2</th>\n",
       "      <th>urban_m</th>\n",
       "      <th>region_m</th>\n",
       "      <th>founded_date</th>\n",
       "      <th>exit_date</th>\n",
       "      <th>status_alive</th>\n",
       "      <th>default</th>\n",
       "    </tr>\n",
       "  </thead>\n",
       "  <tbody>\n",
       "    <tr>\n",
       "      <th>0</th>\n",
       "      <td>2005</td>\n",
       "      <td>1.001034e+06</td>\n",
       "      <td>2005-01-01</td>\n",
       "      <td>2005-12-31</td>\n",
       "      <td>692.592590</td>\n",
       "      <td>7.266667e+03</td>\n",
       "      <td>7.574074e+03</td>\n",
       "      <td>0.0</td>\n",
       "      <td>0.000000</td>\n",
       "      <td>0.000000</td>\n",
       "      <td>...</td>\n",
       "      <td>mix</td>\n",
       "      <td>Domestic</td>\n",
       "      <td>5630.0</td>\n",
       "      <td>56.0</td>\n",
       "      <td>1.0</td>\n",
       "      <td>Central</td>\n",
       "      <td>1990-11-19</td>\n",
       "      <td>NaT</td>\n",
       "      <td>1</td>\n",
       "      <td>0</td>\n",
       "    </tr>\n",
       "    <tr>\n",
       "      <th>4</th>\n",
       "      <td>2005</td>\n",
       "      <td>1.004012e+06</td>\n",
       "      <td>2005-01-01</td>\n",
       "      <td>2005-12-31</td>\n",
       "      <td>114.814812</td>\n",
       "      <td>1.648148e+03</td>\n",
       "      <td>3.777778e+03</td>\n",
       "      <td>0.0</td>\n",
       "      <td>0.000000</td>\n",
       "      <td>0.000000</td>\n",
       "      <td>...</td>\n",
       "      <td>male</td>\n",
       "      <td>Domestic</td>\n",
       "      <td>3314.0</td>\n",
       "      <td>33.0</td>\n",
       "      <td>3.0</td>\n",
       "      <td>West</td>\n",
       "      <td>1991-11-24</td>\n",
       "      <td>2013-06-19</td>\n",
       "      <td>1</td>\n",
       "      <td>0</td>\n",
       "    </tr>\n",
       "    <tr>\n",
       "      <th>7</th>\n",
       "      <td>2005</td>\n",
       "      <td>1.011889e+06</td>\n",
       "      <td>2005-01-01</td>\n",
       "      <td>2005-12-31</td>\n",
       "      <td>51625.925781</td>\n",
       "      <td>3.500370e+04</td>\n",
       "      <td>4.988889e+03</td>\n",
       "      <td>0.0</td>\n",
       "      <td>31925.925781</td>\n",
       "      <td>31925.925781</td>\n",
       "      <td>...</td>\n",
       "      <td>male</td>\n",
       "      <td>Domestic</td>\n",
       "      <td>5510.0</td>\n",
       "      <td>55.0</td>\n",
       "      <td>2.0</td>\n",
       "      <td>West</td>\n",
       "      <td>1992-11-09</td>\n",
       "      <td>NaT</td>\n",
       "      <td>1</td>\n",
       "      <td>0</td>\n",
       "    </tr>\n",
       "    <tr>\n",
       "      <th>8</th>\n",
       "      <td>2005</td>\n",
       "      <td>1.014183e+06</td>\n",
       "      <td>2005-01-01</td>\n",
       "      <td>2005-12-31</td>\n",
       "      <td>12692.592773</td>\n",
       "      <td>7.918889e+04</td>\n",
       "      <td>2.777778e+03</td>\n",
       "      <td>0.0</td>\n",
       "      <td>1481.481445</td>\n",
       "      <td>1481.481445</td>\n",
       "      <td>...</td>\n",
       "      <td>female</td>\n",
       "      <td>Domestic</td>\n",
       "      <td>5510.0</td>\n",
       "      <td>55.0</td>\n",
       "      <td>2.0</td>\n",
       "      <td>Central</td>\n",
       "      <td>2001-12-21</td>\n",
       "      <td>NaT</td>\n",
       "      <td>1</td>\n",
       "      <td>0</td>\n",
       "    </tr>\n",
       "    <tr>\n",
       "      <th>10</th>\n",
       "      <td>2005</td>\n",
       "      <td>1.022796e+06</td>\n",
       "      <td>2005-01-01</td>\n",
       "      <td>2005-12-31</td>\n",
       "      <td>870.370361</td>\n",
       "      <td>2.073333e+04</td>\n",
       "      <td>4.840741e+03</td>\n",
       "      <td>0.0</td>\n",
       "      <td>2500.000000</td>\n",
       "      <td>2500.000000</td>\n",
       "      <td>...</td>\n",
       "      <td>male</td>\n",
       "      <td>Domestic</td>\n",
       "      <td>5630.0</td>\n",
       "      <td>56.0</td>\n",
       "      <td>1.0</td>\n",
       "      <td>Central</td>\n",
       "      <td>2001-02-01</td>\n",
       "      <td>2016-06-06</td>\n",
       "      <td>1</td>\n",
       "      <td>0</td>\n",
       "    </tr>\n",
       "    <tr>\n",
       "      <th>...</th>\n",
       "      <td>...</td>\n",
       "      <td>...</td>\n",
       "      <td>...</td>\n",
       "      <td>...</td>\n",
       "      <td>...</td>\n",
       "      <td>...</td>\n",
       "      <td>...</td>\n",
       "      <td>...</td>\n",
       "      <td>...</td>\n",
       "      <td>...</td>\n",
       "      <td>...</td>\n",
       "      <td>...</td>\n",
       "      <td>...</td>\n",
       "      <td>...</td>\n",
       "      <td>...</td>\n",
       "      <td>...</td>\n",
       "      <td>...</td>\n",
       "      <td>...</td>\n",
       "      <td>...</td>\n",
       "      <td>...</td>\n",
       "      <td>...</td>\n",
       "    </tr>\n",
       "    <tr>\n",
       "      <th>417696</th>\n",
       "      <td>2013</td>\n",
       "      <td>4.638739e+11</td>\n",
       "      <td>2013-01-01</td>\n",
       "      <td>2013-12-31</td>\n",
       "      <td>244.444443</td>\n",
       "      <td>1.912593e+04</td>\n",
       "      <td>5.674074e+03</td>\n",
       "      <td>0.0</td>\n",
       "      <td>0.000000</td>\n",
       "      <td>0.000000</td>\n",
       "      <td>...</td>\n",
       "      <td>male</td>\n",
       "      <td>Domestic</td>\n",
       "      <td>5629.0</td>\n",
       "      <td>56.0</td>\n",
       "      <td>3.0</td>\n",
       "      <td>West</td>\n",
       "      <td>2011-06-21</td>\n",
       "      <td>NaT</td>\n",
       "      <td>1</td>\n",
       "      <td>0</td>\n",
       "    </tr>\n",
       "    <tr>\n",
       "      <th>417697</th>\n",
       "      <td>2013</td>\n",
       "      <td>4.638854e+11</td>\n",
       "      <td>2013-01-01</td>\n",
       "      <td>2013-12-31</td>\n",
       "      <td>4977.777832</td>\n",
       "      <td>6.201111e+04</td>\n",
       "      <td>3.924074e+04</td>\n",
       "      <td>0.0</td>\n",
       "      <td>0.000000</td>\n",
       "      <td>0.000000</td>\n",
       "      <td>...</td>\n",
       "      <td>male</td>\n",
       "      <td>Domestic</td>\n",
       "      <td>4331.0</td>\n",
       "      <td>43.0</td>\n",
       "      <td>3.0</td>\n",
       "      <td>East</td>\n",
       "      <td>2009-02-25</td>\n",
       "      <td>NaT</td>\n",
       "      <td>1</td>\n",
       "      <td>0</td>\n",
       "    </tr>\n",
       "    <tr>\n",
       "      <th>417700</th>\n",
       "      <td>2013</td>\n",
       "      <td>4.639820e+11</td>\n",
       "      <td>2013-01-01</td>\n",
       "      <td>2013-12-31</td>\n",
       "      <td>12003.704102</td>\n",
       "      <td>1.091148e+05</td>\n",
       "      <td>1.506185e+05</td>\n",
       "      <td>0.0</td>\n",
       "      <td>0.000000</td>\n",
       "      <td>0.000000</td>\n",
       "      <td>...</td>\n",
       "      <td>male</td>\n",
       "      <td>Domestic</td>\n",
       "      <td>2822.0</td>\n",
       "      <td>28.0</td>\n",
       "      <td>1.0</td>\n",
       "      <td>Central</td>\n",
       "      <td>1995-05-14</td>\n",
       "      <td>NaT</td>\n",
       "      <td>1</td>\n",
       "      <td>0</td>\n",
       "    </tr>\n",
       "    <tr>\n",
       "      <th>417703</th>\n",
       "      <td>2013</td>\n",
       "      <td>4.640446e+11</td>\n",
       "      <td>2013-01-01</td>\n",
       "      <td>2013-12-31</td>\n",
       "      <td>77248.148438</td>\n",
       "      <td>6.055000e+06</td>\n",
       "      <td>1.930922e+06</td>\n",
       "      <td>0.0</td>\n",
       "      <td>0.000000</td>\n",
       "      <td>0.000000</td>\n",
       "      <td>...</td>\n",
       "      <td>male</td>\n",
       "      <td>Foreign</td>\n",
       "      <td>3312.0</td>\n",
       "      <td>33.0</td>\n",
       "      <td>3.0</td>\n",
       "      <td>Central</td>\n",
       "      <td>2008-10-09</td>\n",
       "      <td>NaT</td>\n",
       "      <td>1</td>\n",
       "      <td>0</td>\n",
       "    </tr>\n",
       "    <tr>\n",
       "      <th>417706</th>\n",
       "      <td>2013</td>\n",
       "      <td>4.641050e+11</td>\n",
       "      <td>2013-01-01</td>\n",
       "      <td>2013-12-31</td>\n",
       "      <td>633.333313</td>\n",
       "      <td>3.971482e+04</td>\n",
       "      <td>1.342963e+04</td>\n",
       "      <td>0.0</td>\n",
       "      <td>0.000000</td>\n",
       "      <td>0.000000</td>\n",
       "      <td>...</td>\n",
       "      <td>mix</td>\n",
       "      <td>Domestic</td>\n",
       "      <td>5610.0</td>\n",
       "      <td>56.0</td>\n",
       "      <td>3.0</td>\n",
       "      <td>West</td>\n",
       "      <td>1989-04-28</td>\n",
       "      <td>NaT</td>\n",
       "      <td>1</td>\n",
       "      <td>0</td>\n",
       "    </tr>\n",
       "  </tbody>\n",
       "</table>\n",
       "<p>136620 rows × 42 columns</p>\n",
       "</div>"
      ],
      "text/plain": [
       "        year       comp_id      begin        end         amort   curr_assets  \\\n",
       "0       2005  1.001034e+06 2005-01-01 2005-12-31    692.592590  7.266667e+03   \n",
       "4       2005  1.004012e+06 2005-01-01 2005-12-31    114.814812  1.648148e+03   \n",
       "7       2005  1.011889e+06 2005-01-01 2005-12-31  51625.925781  3.500370e+04   \n",
       "8       2005  1.014183e+06 2005-01-01 2005-12-31  12692.592773  7.918889e+04   \n",
       "10      2005  1.022796e+06 2005-01-01 2005-12-31    870.370361  2.073333e+04   \n",
       "...      ...           ...        ...        ...           ...           ...   \n",
       "417696  2013  4.638739e+11 2013-01-01 2013-12-31    244.444443  1.912593e+04   \n",
       "417697  2013  4.638854e+11 2013-01-01 2013-12-31   4977.777832  6.201111e+04   \n",
       "417700  2013  4.639820e+11 2013-01-01 2013-12-31  12003.704102  1.091148e+05   \n",
       "417703  2013  4.640446e+11 2013-01-01 2013-12-31  77248.148438  6.055000e+06   \n",
       "417706  2013  4.641050e+11 2013-01-01 2013-12-31    633.333313  3.971482e+04   \n",
       "\n",
       "           curr_liab  extra_exp     extra_inc  extra_profit_loss  ...  gender  \\\n",
       "0       7.574074e+03        0.0      0.000000           0.000000  ...     mix   \n",
       "4       3.777778e+03        0.0      0.000000           0.000000  ...    male   \n",
       "7       4.988889e+03        0.0  31925.925781       31925.925781  ...    male   \n",
       "8       2.777778e+03        0.0   1481.481445        1481.481445  ...  female   \n",
       "10      4.840741e+03        0.0   2500.000000        2500.000000  ...    male   \n",
       "...              ...        ...           ...                ...  ...     ...   \n",
       "417696  5.674074e+03        0.0      0.000000           0.000000  ...    male   \n",
       "417697  3.924074e+04        0.0      0.000000           0.000000  ...    male   \n",
       "417700  1.506185e+05        0.0      0.000000           0.000000  ...    male   \n",
       "417703  1.930922e+06        0.0      0.000000           0.000000  ...    male   \n",
       "417706  1.342963e+04        0.0      0.000000           0.000000  ...     mix   \n",
       "\n",
       "          origin  nace_main  ind2  urban_m  region_m  founded_date  exit_date  \\\n",
       "0       Domestic     5630.0  56.0      1.0   Central    1990-11-19        NaT   \n",
       "4       Domestic     3314.0  33.0      3.0      West    1991-11-24 2013-06-19   \n",
       "7       Domestic     5510.0  55.0      2.0      West    1992-11-09        NaT   \n",
       "8       Domestic     5510.0  55.0      2.0   Central    2001-12-21        NaT   \n",
       "10      Domestic     5630.0  56.0      1.0   Central    2001-02-01 2016-06-06   \n",
       "...          ...        ...   ...      ...       ...           ...        ...   \n",
       "417696  Domestic     5629.0  56.0      3.0      West    2011-06-21        NaT   \n",
       "417697  Domestic     4331.0  43.0      3.0      East    2009-02-25        NaT   \n",
       "417700  Domestic     2822.0  28.0      1.0   Central    1995-05-14        NaT   \n",
       "417703   Foreign     3312.0  33.0      3.0   Central    2008-10-09        NaT   \n",
       "417706  Domestic     5610.0  56.0      3.0      West    1989-04-28        NaT   \n",
       "\n",
       "        status_alive  default  \n",
       "0                  1        0  \n",
       "4                  1        0  \n",
       "7                  1        0  \n",
       "8                  1        0  \n",
       "10                 1        0  \n",
       "...              ...      ...  \n",
       "417696             1        0  \n",
       "417697             1        0  \n",
       "417700             1        0  \n",
       "417703             1        0  \n",
       "417706             1        0  \n",
       "\n",
       "[136620 rows x 42 columns]"
      ]
     },
     "execution_count": 142,
     "metadata": {},
     "output_type": "execute_result"
    }
   ],
   "source": [
    "data = data_dish_washer(data)\n",
    "data"
   ]
  },
  {
   "cell_type": "code",
   "execution_count": 146,
   "id": "262faf1f-8354-4670-b1e6-47917e429deb",
   "metadata": {
    "tags": []
   },
   "outputs": [
    {
     "data": {
      "text/plain": [
       "founded_year        15\n",
       "exit_year       110252\n",
       "birth_year       35146\n",
       "founded_date        15\n",
       "exit_date       110252\n",
       "dtype: int64"
      ]
     },
     "execution_count": 146,
     "metadata": {},
     "output_type": "execute_result"
    }
   ],
   "source": [
    "to_filter = data.isnull().sum()\n",
    "to_filter[to_filter > 0]"
   ]
  },
  {
   "cell_type": "code",
   "execution_count": 147,
   "id": "afd60922-486b-41f9-a734-2e665da9d943",
   "metadata": {
    "scrolled": true,
    "tags": []
   },
   "outputs": [
    {
     "data": {
      "text/plain": [
       "255680"
      ]
     },
     "execution_count": 147,
     "metadata": {},
     "output_type": "execute_result"
    }
   ],
   "source": [
    "data.isnull().sum().sum()"
   ]
  },
  {
   "cell_type": "code",
   "execution_count": 148,
   "id": "902a9641-142e-4b9a-a28e-63e555a2a7bf",
   "metadata": {
    "tags": []
   },
   "outputs": [
    {
     "data": {
      "text/plain": [
       "Index(['year', 'comp_id', 'begin', 'end', 'amort', 'curr_assets', 'curr_liab',\n",
       "       'extra_exp', 'extra_inc', 'extra_profit_loss', 'fixed_assets',\n",
       "       'inc_bef_tax', 'intang_assets', 'inventories', 'liq_assets',\n",
       "       'material_exp', 'personnel_exp', 'profit_loss_year', 'sales',\n",
       "       'share_eq', 'subscribed_cap', 'tang_assets', 'balsheet_flag',\n",
       "       'balsheet_length', 'balsheet_notfullyear', 'founded_year', 'exit_year',\n",
       "       'ceo_count', 'foreign', 'female', 'birth_year', 'inoffice_days',\n",
       "       'gender', 'origin', 'nace_main', 'ind2', 'urban_m', 'region_m',\n",
       "       'founded_date', 'exit_date', 'status_alive', 'default'],\n",
       "      dtype='object')"
      ]
     },
     "execution_count": 148,
     "metadata": {},
     "output_type": "execute_result"
    }
   ],
   "source": [
    "data.columns"
   ]
  },
  {
   "cell_type": "code",
   "execution_count": 149,
   "id": "6f4a42d7-b744-4551-8e25-a76c2e2c6601",
   "metadata": {
    "scrolled": true,
    "tags": []
   },
   "outputs": [
    {
     "data": {
      "text/plain": [
       "year                             int64\n",
       "comp_id                        float64\n",
       "begin                   datetime64[ns]\n",
       "end                     datetime64[ns]\n",
       "amort                          float64\n",
       "curr_assets                    float64\n",
       "curr_liab                      float64\n",
       "extra_exp                      float64\n",
       "extra_inc                      float64\n",
       "extra_profit_loss              float64\n",
       "fixed_assets                   float64\n",
       "inc_bef_tax                    float64\n",
       "intang_assets                  float64\n",
       "inventories                    float64\n",
       "liq_assets                     float64\n",
       "material_exp                   float64\n",
       "personnel_exp                  float64\n",
       "profit_loss_year               float64\n",
       "sales                          float64\n",
       "share_eq                       float64\n",
       "subscribed_cap                 float64\n",
       "tang_assets                    float64\n",
       "balsheet_flag                  float64\n",
       "balsheet_length                float64\n",
       "balsheet_notfullyear           float64\n",
       "founded_year                   float64\n",
       "exit_year                      float64\n",
       "ceo_count                      float64\n",
       "foreign                        float64\n",
       "female                         float64\n",
       "birth_year                     float64\n",
       "inoffice_days                  float64\n",
       "gender                          object\n",
       "origin                          object\n",
       "nace_main                      float64\n",
       "ind2                           float64\n",
       "urban_m                        float64\n",
       "region_m                        object\n",
       "founded_date            datetime64[ns]\n",
       "exit_date               datetime64[ns]\n",
       "status_alive                     int32\n",
       "default                          int32\n",
       "dtype: object"
      ]
     },
     "execution_count": 149,
     "metadata": {},
     "output_type": "execute_result"
    }
   ],
   "source": [
    "data.dtypes"
   ]
  },
  {
   "cell_type": "code",
   "execution_count": 150,
   "id": "d8208217-296f-422b-a063-4669b4ab3c29",
   "metadata": {
    "tags": []
   },
   "outputs": [],
   "source": [
    "# data['sales_log']"
   ]
  },
  {
   "cell_type": "code",
   "execution_count": 151,
   "id": "f499868d-ea39-4ad7-9017-c8e08b5bde30",
   "metadata": {
    "tags": []
   },
   "outputs": [
    {
     "data": {
      "text/plain": [
       "count    1.366200e+05\n",
       "mean     2.308856e+05\n",
       "std      7.329933e+05\n",
       "min      1.000000e+03\n",
       "25%      1.618148e+04\n",
       "50%      4.608889e+04\n",
       "75%      1.366185e+05\n",
       "max      9.989311e+06\n",
       "Name: sales, dtype: float64"
      ]
     },
     "execution_count": 151,
     "metadata": {},
     "output_type": "execute_result"
    }
   ],
   "source": [
    "data['sales'].describe()"
   ]
  },
  {
   "cell_type": "code",
   "execution_count": 152,
   "id": "fede6010-f1db-458c-bb3a-b6e96da24877",
   "metadata": {
    "tags": []
   },
   "outputs": [
    {
     "data": {
      "text/plain": [
       "{'count': '136,620.00',\n",
       " 'mean': '230,885.64',\n",
       " 'std': '732,993.28',\n",
       " 'min': '1,000.00',\n",
       " '25%': '16,181.48',\n",
       " '50%': '46,088.89',\n",
       " '75%': '136,618.52',\n",
       " 'max': '9,989,311.00'}"
      ]
     },
     "execution_count": 152,
     "metadata": {},
     "output_type": "execute_result"
    }
   ],
   "source": [
    "# Custom function to format the describe output\n",
    "def format_describe(describe_dict):\n",
    "\n",
    "    formatted_describe = {k: '{:,.2f}'.format(v) for k, v in describe_dict.items()}\n",
    "    return formatted_describe\n",
    "\n",
    "# Format the mock describe data\n",
    "formatted_sales_describe = format_describe(data['sales'].describe())\n",
    "formatted_sales_describe"
   ]
  },
  {
   "cell_type": "code",
   "execution_count": 153,
   "id": "ec62ab7c-5a2e-4c41-8aa6-a8331d3c4275",
   "metadata": {
    "tags": []
   },
   "outputs": [
    {
     "data": {
      "text/plain": [
       "<Axes: >"
      ]
     },
     "execution_count": 153,
     "metadata": {},
     "output_type": "execute_result"
    },
    {
     "data": {
      "image/png": "[encoded data removed]",
      "text/plain": [
       "<Figure size 640x480 with 1 Axes>"
      ]
     },
     "metadata": {
      "image/png": {
       "height": 480,
       "width": 640
      }
     },
     "output_type": "display_data"
    }
   ],
   "source": [
    "data.sales.hist()"
   ]
  },
  {
   "cell_type": "markdown",
   "id": "c7fa1a5b-ad48-4d41-a514-295973e10a52",
   "metadata": {},
   "source": [
    "With such a large range, the sales are getting automatically transformed in an unreadable way for visualizations."
   ]
  },
  {
   "cell_type": "code",
   "execution_count": 154,
   "id": "b5fdab89-4d0f-40ae-826d-77518960e850",
   "metadata": {
    "tags": []
   },
   "outputs": [
    {
     "data": {
      "image/png": "[encoded data removed]",
      "text/plain": [
       "<Figure size 1000x600 with 1 Axes>"
      ]
     },
     "metadata": {
      "image/png": {
       "height": 600,
       "width": 1000
      }
     },
     "output_type": "display_data"
    }
   ],
   "source": [
    "# Filter the data to include only sales within the specified range\n",
    "filtered_sales = data['sales'][(data['sales'] >= 1000) & (data['sales'] <= 10000000)]\n",
    "\n",
    "plt.figure(figsize=(10, 6))\n",
    "plt.hist(filtered_sales, bins=50, color='blue', edgecolor='black')\n",
    "plt.title('Histogram of Sales Data ($1,000 - $10,000,000 range)')\n",
    "plt.xlabel('Sales')\n",
    "plt.ylabel('Frequency')\n",
    "plt.yscale('log')  # Log scale for better visualization\n",
    "\n",
    "# Set x-axis to show actual values with custom formatting\n",
    "plt.gca().xaxis.set_major_formatter(plt.matplotlib.ticker.FuncFormatter(lambda x, _: f'{int(x):,}'))\n",
    "\n",
    "plt.show()\n"
   ]
  },
  {
   "cell_type": "markdown",
   "id": "d05158df-10fc-46fb-b32f-432b573cf486",
   "metadata": {},
   "source": [
    "Fitting the sales in a range gives it a much more readable view. There is a huge skew of data, so log trasformation is appropriate."
   ]
  },
  {
   "cell_type": "code",
   "execution_count": 155,
   "id": "e95740c5-a93f-4915-b6f0-b46fda148f42",
   "metadata": {
    "tags": []
   },
   "outputs": [
    {
     "data": {
      "image/png": "[encoded data removed]",
      "text/plain": [
       "<Figure size 640x480 with 1 Axes>"
      ]
     },
     "metadata": {
      "image/png": {
       "height": 480,
       "width": 640
      }
     },
     "output_type": "display_data"
    }
   ],
   "source": [
    "# Apply log transformation to sales data\n",
    "data['sales_log'] = np.log1p(filtered_sales)\n",
    "plt.hist(data['sales_log'], bins=50)\n",
    "plt.xlabel('Log of Sales')\n",
    "plt.ylabel('Frequency')\n",
    "plt.title('Log-transformed Sales Distribution')\n",
    "plt.show()\n"
   ]
  },
  {
   "cell_type": "markdown",
   "id": "bf81ae59-72ae-4ffe-95bf-20e23770ed39",
   "metadata": {
    "tags": []
   },
   "source": [
    "## 1.4 Label Engineering"
   ]
  },
  {
   "cell_type": "code",
   "execution_count": 156,
   "id": "b96bbb60-ab28-49a9-bcd6-a9f09ae0039b",
   "metadata": {
    "tags": []
   },
   "outputs": [],
   "source": [
    "# Set the index to the columns of interest\n",
    "data = data.set_index([\"year\", \"comp_id\"])\n",
    "\n",
    "# Perform the unstack operation, which will automatically introduce NaNs for missing combinations\n",
    "data = data.unstack().stack(dropna=False)\n",
    "\n",
    "# Reset the index to make 'year' and 'comp_id' regular columns again\n",
    "data = data.reset_index()\n",
    "\n",
    "# Note: The unstack() and stack(dropna=False) operations introduce NaNs for missing entries automatically.\n"
   ]
  },
  {
   "cell_type": "code",
   "execution_count": 157,
   "id": "0013df0d-b759-4284-acce-7777a50e5f65",
   "metadata": {
    "tags": []
   },
   "outputs": [],
   "source": [
    "# Generate status_alive; if sales are larger than zero and not-NA, then firm is alive\n",
    "data[\"status_alive\"] = (data[\"sales\"] > 0 & (False == data[\"sales\"].isna())).astype(int)\n",
    "\n",
    "\n",
    "# It defaults in two years if there are sales in this year but no sales two years later\n",
    "# Status_in_two_years: data.groupby('comp_id')['status_alive'].shift(-2)\n",
    "data[\"default\"] = (\n",
    "    (data[\"status_alive\"] == 1)\n",
    "    & (data.groupby(\"comp_id\")[\"status_alive\"].shift(-2) == 0)\n",
    ").astype(int)\n"
   ]
  },
  {
   "cell_type": "code",
   "execution_count": 158,
   "id": "c8619a01-248e-491c-9de5-24ff0159c7dd",
   "metadata": {
    "tags": []
   },
   "outputs": [
    {
     "data": {
      "text/plain": [
       "status_alive\n",
       "0    161190\n",
       "1    136620\n",
       "Name: count, dtype: int64"
      ]
     },
     "execution_count": 158,
     "metadata": {},
     "output_type": "execute_result"
    }
   ],
   "source": [
    "data['status_alive'].value_counts()"
   ]
  },
  {
   "cell_type": "code",
   "execution_count": 159,
   "id": "6e26387c-464d-4ef9-8c2a-0727b125a53b",
   "metadata": {
    "tags": []
   },
   "outputs": [
    {
     "data": {
      "text/plain": [
       "default\n",
       "0    275738\n",
       "1     22072\n",
       "Name: count, dtype: int64"
      ]
     },
     "execution_count": 159,
     "metadata": {},
     "output_type": "execute_result"
    }
   ],
   "source": [
    "data['default'].value_counts()"
   ]
  },
  {
   "cell_type": "code",
   "execution_count": 160,
   "id": "1d9fc7aa-40fe-4aba-a99c-7ed1880fc6f1",
   "metadata": {
    "tags": []
   },
   "outputs": [
    {
     "data": {
      "text/plain": [
       "count    297810.000000\n",
       "mean          0.074114\n",
       "std           0.261957\n",
       "min           0.000000\n",
       "25%           0.000000\n",
       "50%           0.000000\n",
       "75%           0.000000\n",
       "max           1.000000\n",
       "Name: default, dtype: float64"
      ]
     },
     "execution_count": 160,
     "metadata": {},
     "output_type": "execute_result"
    }
   ],
   "source": [
    "data['default'].describe()"
   ]
  },
  {
   "cell_type": "markdown",
   "id": "ff7f729c-47d9-452e-b04e-2894ac5906cd",
   "metadata": {},
   "source": [
    "This concludes that 311,016 firms defaulted and 245,928 firms stayed alive, and 2 years later, 274,393 will stay alive and 13,436 firms will default."
   ]
  },
  {
   "cell_type": "code",
   "execution_count": 161,
   "id": "53ffdbfc-a3f2-4497-b300-e2e2e817520f",
   "metadata": {
    "tags": []
   },
   "outputs": [
    {
     "data": {
      "text/plain": [
       "count    1.366200e+05\n",
       "mean     2.308856e+05\n",
       "std      7.329933e+05\n",
       "min      1.000000e+03\n",
       "25%      1.618148e+04\n",
       "50%      4.608889e+04\n",
       "75%      1.366185e+05\n",
       "max      9.989311e+06\n",
       "Name: sales, dtype: float64"
      ]
     },
     "execution_count": 161,
     "metadata": {},
     "output_type": "execute_result"
    }
   ],
   "source": [
    "data['sales'].describe()"
   ]
  },
  {
   "cell_type": "code",
   "execution_count": 162,
   "id": "f3483476-c2c6-45d3-8204-67a17e133c67",
   "metadata": {
    "tags": []
   },
   "outputs": [],
   "source": [
    "# Replacimg negative sales values with 1. This operation is done outside of \n",
    "# ...the `assign` method because it's a direct modification of the dataframe.\n",
    "data[\"sales\"] = np.where(\n",
    "    data[\"sales\"] < 0, 1, data[\"sales\"]\n",
    ")\n",
    "\n",
    "# Adding new columns to the dataframe through the `assign` method.\n",
    "data = data.assign(\n",
    "    # Create a new column 'ln_sales'. If sales are greater than 0, calculate the natural logarithm of sales.\n",
    "    # If sales are NaN, keep them as NaN. Otherwise, set to 0. This ensures that negative sales, \n",
    "    # ...if any existed before the first operation, now converted to 1, won't result in a math error.\n",
    "    ln_sales=np.where(\n",
    "        data[\"sales\"] > 0,\n",
    "        np.log(data[\"sales\"]),\n",
    "        (np.where(data[\"sales\"].isna(), np.nan, 0)),\n",
    "    ),\n",
    "    # Convert sales to millions by dividing by 1,000,000 for easier readability and analysis.\n",
    "    sales_mil=data[\"sales\"] / 1000000,\n",
    "    # Similar to 'ln_sales', but this time applying the logarithm to the sales converted to millions. \n",
    "    # ...Handles NaN and non-positive values similarly.\n",
    "    sales_mil_log=np.where(\n",
    "        data[\"sales\"] > 0,\n",
    "        np.log(data[\"sales\"] / 1000000),\n",
    "        (np.where(data[\"sales\"].isna(), np.nan, 0)),\n",
    "    ),\n",
    ")"
   ]
  },
  {
   "cell_type": "code",
   "execution_count": 163,
   "id": "86eb8f55-6f54-41c9-a7bc-6a77dcd7293c",
   "metadata": {
    "tags": []
   },
   "outputs": [],
   "source": [
    "# Calculating the year-over-year change in the logarithm of sales (in millions) by subtracting \n",
    "# ...the previous year's value from the current year's value for each company.\n",
    "data['d1_sales_mil_log']=data['sales_mil_log']-data.groupby('comp_id')['sales_mil_log'].shift(1)\n"
   ]
  },
  {
   "cell_type": "code",
   "execution_count": 164,
   "id": "4d96578e-b1e8-409c-b0f7-92069056fcec",
   "metadata": {
    "tags": []
   },
   "outputs": [],
   "source": [
    "# Calculating the age of each company by subtracting the founding year from the current year. \n",
    "# ...If the result is negative (which might happen due to data errors), set the age to 0.\n",
    "data[\"age\"] = np.where(\n",
    "    data[\"year\"] - data[\"founded_year\"] < 0, 0, data[\"year\"] - data[\"founded_year\"]\n",
    ")\n",
    "\n",
    "# Identifying new companies or those without a full year of balance sheet data. \n",
    "# ...Mark them with a 1, others with a 0. If 'age' is NaN, keep it as NaN.\n",
    "data[\"new\"] = np.where(\n",
    "    ((data[\"age\"] <= 1) | (data[\"balsheet_notfullyear\"] == 1)),\n",
    "    1,\n",
    "    (np.where(data[\"age\"].isna(), np.nan, 0)),\n",
    ")\n",
    "\n",
    "# For new companies, set the year-over-year change in log sales to 0. \n",
    "# ...This adjustment is for handling new entries or missing data appropriately.\n",
    "data[\"d1_sales_mil_log\"] = np.where(\n",
    "    data[\"new\"] == 1, 0, np.where(data[\"new\"].isna(), np.nan, data[\"d1_sales_mil_log\"])\n",
    ")\n",
    "\n",
    "# If the year-over-year change in log sales is NaN, consider the company \n",
    "# ...as new and update the 'new' column accordingly.\n",
    "data[\"new\"] = np.where(data[\"d1_sales_mil_log\"].isna(), 1, data[\"new\"])\n",
    "\n",
    "# Replacing NaN values in 'd1_sales_mil_log' with 0, ensuring the dataset \n",
    "# ...does not have missing values in this calculation.\n",
    "data[\"d1_sales_mil_log\"] = np.where(\n",
    "    data[\"d1_sales_mil_log\"].isna(), 0, data[\"d1_sales_mil_log\"]\n",
    ")"
   ]
  },
  {
   "cell_type": "code",
   "execution_count": 165,
   "id": "f1644e72-a689-43dd-917b-56755016f0e6",
   "metadata": {
    "tags": []
   },
   "outputs": [
    {
     "data": {
      "text/plain": [
       "count    297810.000000\n",
       "mean          0.680477\n",
       "std           0.466292\n",
       "min           0.000000\n",
       "25%           0.000000\n",
       "50%           1.000000\n",
       "75%           1.000000\n",
       "max           1.000000\n",
       "Name: new, dtype: float64"
      ]
     },
     "execution_count": 165,
     "metadata": {},
     "output_type": "execute_result"
    }
   ],
   "source": [
    "data['new'].describe()"
   ]
  },
  {
   "cell_type": "markdown",
   "id": "966080a6-d7e0-4525-b6b7-76412d9131c4",
   "metadata": {},
   "source": [
    "This concludes that there are 556,944 new firms."
   ]
  },
  {
   "cell_type": "code",
   "execution_count": 166,
   "id": "150ef83e-709f-4506-b939-931b09e4743d",
   "metadata": {
    "scrolled": true,
    "tags": []
   },
   "outputs": [
    {
     "data": {
      "text/plain": [
       "year                         0\n",
       "comp_id                      0\n",
       "begin                   161190\n",
       "end                     161190\n",
       "amort                   161190\n",
       "curr_assets             161190\n",
       "curr_liab               161190\n",
       "extra_exp               161190\n",
       "extra_inc               161190\n",
       "extra_profit_loss       161190\n",
       "fixed_assets            161190\n",
       "inc_bef_tax             161190\n",
       "intang_assets           161190\n",
       "inventories             161190\n",
       "liq_assets              161190\n",
       "material_exp            161190\n",
       "personnel_exp           161190\n",
       "profit_loss_year        161190\n",
       "sales                   161190\n",
       "share_eq                161190\n",
       "subscribed_cap          161190\n",
       "tang_assets             161190\n",
       "balsheet_flag           161190\n",
       "balsheet_length         161190\n",
       "balsheet_notfullyear    161190\n",
       "founded_year            161205\n",
       "exit_year               271442\n",
       "ceo_count               161190\n",
       "foreign                 161190\n",
       "female                  161190\n",
       "birth_year              196336\n",
       "inoffice_days           161190\n",
       "gender                  161190\n",
       "origin                  161190\n",
       "nace_main               161190\n",
       "ind2                    161190\n",
       "urban_m                 161190\n",
       "region_m                161190\n",
       "founded_date            161205\n",
       "exit_date               271442\n",
       "status_alive                 0\n",
       "default                      0\n",
       "sales_log               161190\n",
       "ln_sales                161190\n",
       "sales_mil               161190\n",
       "sales_mil_log           161190\n",
       "d1_sales_mil_log             0\n",
       "age                     161205\n",
       "new                          0\n",
       "dtype: int64"
      ]
     },
     "execution_count": 166,
     "metadata": {},
     "output_type": "execute_result"
    }
   ],
   "source": [
    "data.isna().sum()"
   ]
  },
  {
   "cell_type": "markdown",
   "id": "3bcc3cc7-144b-49fe-bce3-dfef8e02434e",
   "metadata": {
    "tags": []
   },
   "source": [
    "## 1.5 Feature Engineering"
   ]
  },
  {
   "cell_type": "code",
   "execution_count": 168,
   "id": "4d220d12-4149-4e8f-a126-650540614bd0",
   "metadata": {
    "tags": []
   },
   "outputs": [],
   "source": [
    "# Categorizing the industry codes into broader groups\n",
    "data[\"ind2_cat\"] = data[\"ind2\"].copy()\n",
    "data[\"ind2_cat\"] = np.where(data[\"ind2\"] > 56, 60, data[\"ind2_cat\"])\n",
    "data[\"ind2_cat\"] = np.where(data[\"ind2\"] < 26, 20, data[\"ind2_cat\"])\n",
    "data[\"ind2_cat\"] = np.where(\n",
    "    (data[\"ind2\"] < 55) & (data[\"ind2\"] > 35), 40, data[\"ind2_cat\"]\n",
    ")\n",
    "data[\"ind2_cat\"] = np.where(data[\"ind2\"] == 31, 30, data[\"ind2_cat\"])\n",
    "data[\"ind2_cat\"] = np.where(data[\"ind2\"].isna(), 99, data[\"ind2_cat\"])"
   ]
  },
  {
   "cell_type": "code",
   "execution_count": 81,
   "id": "a983386a-6524-4040-8a68-68f3bcba26b6",
   "metadata": {
    "tags": []
   },
   "outputs": [
    {
     "data": {
      "text/plain": [
       "ind2_cat\n",
       "20.0       50\n",
       "26.0     1007\n",
       "27.0      613\n",
       "28.0     1835\n",
       "29.0      263\n",
       "30.0      164\n",
       "32.0      121\n",
       "33.0     1892\n",
       "35.0        1\n",
       "40.0      196\n",
       "55.0     2241\n",
       "56.0    11642\n",
       "60.0      230\n",
       "Name: comp_id, dtype: int64"
      ]
     },
     "execution_count": 81,
     "metadata": {},
     "output_type": "execute_result"
    }
   ],
   "source": [
    "# Checking out the industry codes using comp_id as a reference\n",
    "data.groupby('ind2_cat').count()['comp_id']"
   ]
  },
  {
   "cell_type": "code",
   "execution_count": 82,
   "id": "182fd6a9-c356-4e06-af5e-086911a4e6f6",
   "metadata": {
    "tags": []
   },
   "outputs": [],
   "source": [
    "# Adding more variables as firm characteristics\n",
    "data[\"age2\"] = data[\"age\"] ** 2\n",
    "\n",
    "# Grouping values for foreign_management as dummies \n",
    "data[\"foreign_management\"] = np.where(\n",
    "    data[\"foreign\"] >= 0.5, 1, np.where(data[\"foreign\"].isna(), np.nan, 0)\n",
    ")\n",
    "\n",
    "# Creating new columns for the categorical gender and and region variables\n",
    "data[\"gender_m\"] = data[\"gender\"].astype(\"category\")\n",
    "data[\"m_region_loc\"] = data[\"region_m\"].astype(\"category\")"
   ]
  },
  {
   "cell_type": "markdown",
   "id": "deb33eeb-c5bd-47bc-90ee-555ed14ea9f1",
   "metadata": {},
   "source": [
    "### Looking at financial variables and creating additional ones"
   ]
  },
  {
   "cell_type": "code",
   "execution_count": 83,
   "id": "f8780a66-8711-48cc-bf82-0ecc8ff4de66",
   "metadata": {
    "tags": []
   },
   "outputs": [
    {
     "data": {
      "text/plain": [
       "flag_asset_problem\n",
       "0.0    20255\n",
       "Name: comp_id, dtype: int64"
      ]
     },
     "execution_count": 83,
     "metadata": {},
     "output_type": "execute_result"
    }
   ],
   "source": [
    "# Looking at financial variables and creating new financial ratios\n",
    "\n",
    "# As assets cannot be negative: transforming the negative asset values to 0 and flagging them\n",
    "data[\"flag_asset_problem\"] = np.where(\n",
    "    (\n",
    "        (data[\"intang_assets\"] < 0)\n",
    "        | (data[\"curr_assets\"] < 0)\n",
    "        | (data[\"fixed_assets\"] < 0)\n",
    "    ),\n",
    "    1,\n",
    "    0,\n",
    ")\n",
    "data[\"flag_asset_problem\"] = np.where(\n",
    "    (\n",
    "        (data[\"intang_assets\"].isna())\n",
    "        | (data[\"curr_assets\"].isna())\n",
    "        | (data[\"fixed_assets\"].isna())\n",
    "    ),\n",
    "    np.nan,\n",
    "    data[\"flag_asset_problem\"],\n",
    ")\n",
    "data.groupby(\"flag_asset_problem\").count()[\"comp_id\"]"
   ]
  },
  {
   "cell_type": "code",
   "execution_count": 84,
   "id": "47a411dd-d39f-4cc1-9eef-0fa77f23fb2a",
   "metadata": {
    "tags": []
   },
   "outputs": [],
   "source": [
    "# Tranforming the negative asset variables to 0\n",
    "data[\"intang_assets\"] = np.where(data[\"intang_assets\"] < 0, 0, data[\"intang_assets\"])\n",
    "data[\"curr_assets\"] = np.where(data[\"curr_assets\"] < 0, 0, data[\"curr_assets\"])\n",
    "data[\"fixed_assets\"] = np.where(data[\"fixed_assets\"] < 0, 0, data[\"fixed_assets\"])"
   ]
  },
  {
   "cell_type": "code",
   "execution_count": 85,
   "id": "834d1599-b416-40d4-a519-9478afc68acc",
   "metadata": {
    "tags": []
   },
   "outputs": [
    {
     "data": {
      "text/plain": [
       "count    2.025500e+04\n",
       "mean     2.990882e+05\n",
       "std      2.925404e+06\n",
       "min      0.000000e+00\n",
       "25%      8.994445e+03\n",
       "50%      3.094815e+04\n",
       "75%      1.187130e+05\n",
       "max      3.190691e+08\n",
       "Name: total_assets_bs, dtype: float64"
      ]
     },
     "execution_count": 85,
     "metadata": {},
     "output_type": "execute_result"
    }
   ],
   "source": [
    "# Generating the total assets balance sheet variable by adding up the intangible, current and fixed assets\n",
    "data[\"total_assets_bs\"] = (\n",
    "    data[\"intang_assets\"] + data[\"curr_assets\"] + data[\"fixed_assets\"]\n",
    ")\n",
    "data[\"total_assets_bs\"].describe()"
   ]
  },
  {
   "cell_type": "code",
   "execution_count": 86,
   "id": "a4f33ffa-e557-4563-a667-1097a2d0458d",
   "metadata": {
    "tags": []
   },
   "outputs": [],
   "source": [
    "# Collecting the profit and loss names\n",
    "pl_names = ['extra_exp',\n",
    "            'extra_inc',\n",
    "            'extra_profit_loss',\n",
    "            'inc_bef_tax',\n",
    "            'inventories',\n",
    "            'material_exp',\n",
    "            'profit_loss_year',\n",
    "            'personnel_exp']\n",
    "# Collecting the balance sheet names\n",
    "bs_names = ['intang_assets',\n",
    "            'curr_liab',\n",
    "            'fixed_assets',\n",
    "            'liq_assets',\n",
    "            'curr_assets',\n",
    "            'share_eq',\n",
    "            'subscribed_cap',\n",
    "            'tang_assets' ]"
   ]
  },
  {
   "cell_type": "code",
   "execution_count": 87,
   "id": "989584b4-db6d-4ad4-bb78-ac9d99f970f1",
   "metadata": {
    "tags": []
   },
   "outputs": [],
   "source": [
    "# Scaling the the pl_names elements by dividing them with sales and creating a new column for them\n",
    "data[[col + \"_pl\" for col in pl_names]] = data[pl_names].div(\n",
    "    data[\"sales\"], axis=\"index\"\n",
    ")"
   ]
  },
  {
   "cell_type": "code",
   "execution_count": 88,
   "id": "a9c643fa-dd5b-436b-9dd1-69129be27e8e",
   "metadata": {
    "tags": []
   },
   "outputs": [],
   "source": [
    "# Creating new columns for bs_names by dividing each specified column by total_assets_bs\n",
    "for col in bs_names:\n",
    "    # Assuming bs_names does not already include \"_bs\"\n",
    "    new_col_name = f\"{col}_bs\"\n",
    "    # Replacing Infinite and NaN values with 0 in the new column\n",
    "    data[new_col_name] = data[col].div(data[\"total_assets_bs\"]).replace((np.inf, -np.inf, np.nan), 0)\n",
    "    \n",
    "    # Set values to NaN where total_assets_bs is NaN\n",
    "    data[new_col_name] = np.where(data[\"total_assets_bs\"].isna(), np.nan, data[new_col_name])\n"
   ]
  },
  {
   "cell_type": "code",
   "execution_count": 89,
   "id": "906a6509-0356-41b5-b9f7-5162ddad6d85",
   "metadata": {
    "tags": []
   },
   "outputs": [],
   "source": [
    "# Creating new columns for bs_names by dividing each specified column by total_assets_bs\n",
    "for col in bs_names:\n",
    "    # Assuming bs_names does not already include \"_bs\"\n",
    "    new_col_name = f\"{col}_bs\" \n",
    "    # Directly assigning the result of division, handling NaN in total_assets_bs inline\n",
    "    data[new_col_name] = np.where(\n",
    "        data[\"total_assets_bs\"].isna(), \n",
    "        # If total_assets_bs is NaN, assign NaN\n",
    "        np.nan, \n",
    "        # Handling division by zero by replacing NaN values resulting from division by zero with 0\n",
    "        # ... and replacing Infinite values with 0\n",
    "        data[col].div(data[\"total_assets_bs\"], fill_value=0).replace((np.inf, -np.inf), 0)\n",
    "    )"
   ]
  },
  {
   "cell_type": "code",
   "execution_count": 90,
   "id": "7a73753f-c229-4c9f-aa98-802db27ae620",
   "metadata": {
    "tags": []
   },
   "outputs": [],
   "source": [
    "# Dividing all bs_names elements by total_assets_bs and creating new column for it\n",
    "data[[col + \"_bs\" for col in bs_names]] = (\n",
    "    data[bs_names]\n",
    "    .div(data[\"total_assets_bs\"], axis=\"index\")\n",
    "    # Replacing Infinite values with 0\n",
    "    .replace((np.inf, -np.inf, np.nan), (0, 0, 0))\n",
    ")\n",
    "# Getting Nan values where total_assets_bs is NaN\n",
    "for col in bs_names:\n",
    "    data[col + \"_bs\"] = np.where(\n",
    "        data[\"total_assets_bs\"].isna(), np.nan, data[col + \"_bs\"]\n",
    "    )\n",
    "    "
   ]
  },
  {
   "cell_type": "markdown",
   "id": "7c799e24-2771-4ebe-b3d3-9608c250d9d7",
   "metadata": {},
   "source": [
    "### Creating flags and winsorizing tails\n",
    "\n",
    "Winsorizing is dropping extreme values, usually by setting a threshold at a certain percentile in the distribution, and replacing values beyond that threshold with the threshold value itself."
   ]
  },
  {
   "cell_type": "code",
   "execution_count": 91,
   "id": "91d21f72-00d5-4f61-bc5f-8bb2bc8e18c6",
   "metadata": {
    "tags": []
   },
   "outputs": [],
   "source": [
    "# Creating a list for the variables that represent accounting items that cannot be negative (e.g. materials)\n",
    "zero = [\n",
    "    \"extra_exp_pl\",\n",
    "    \"extra_inc_pl\",\n",
    "    \"inventories_pl\",\n",
    "    \"material_exp_pl\",\n",
    "    \"personnel_exp_pl\",\n",
    "    \"curr_liab_bs\",\n",
    "    \"fixed_assets_bs\",\n",
    "    \"liq_assets_bs\",\n",
    "    \"curr_assets_bs\",\n",
    "    \"subscribed_cap_bs\",\n",
    "    \"intang_assets_bs\",\n",
    "]\n",
    "\n",
    "# Creating a new column for values above 1, and leaving NaN values unchanged\n",
    "data[[col + \"_flag_high\" for col in zero]] = np.where(\n",
    "    data[zero].isna(), np.nan, (data[zero] > 1).astype(int)\n",
    ")\n",
    "# Replacing values above 1 with 1\n",
    "data[[col for col in zero]] = np.where(\n",
    "    data[zero].isna(), np.nan, np.where(data[zero] > 1, 1, data[zero])\n",
    ")\n",
    "# Creating a column to flag error\n",
    "data[[col + \"_flag_error\" for col in zero]] = np.where(\n",
    "    data[zero].isna(), np.nan, (data[zero] < 0).astype(int)\n",
    ")\n",
    "# Replacing negative values with 0\n",
    "data[[col for col in zero]] = np.where(\n",
    "    data[zero].isna(), np.nan, np.where(data[zero] < 0, 0, data[zero])\n",
    ")"
   ]
  },
  {
   "cell_type": "code",
   "execution_count": 92,
   "id": "64eb790d-2c39-4983-80a4-07189206740e",
   "metadata": {
    "tags": []
   },
   "outputs": [],
   "source": [
    "# Pooling variables that could be any, but are mostly between -1 and 1\n",
    "anyof = [\"extra_profit_loss_pl\",\n",
    "         \"inc_bef_tax_pl\",\n",
    "         \"profit_loss_year_pl\",\n",
    "         \"share_eq_bs\"]\n",
    "\n",
    "# Raplcing negative values with -1\n",
    "data[[col + \"_flag_low\" for col in anyof]] = np.where(\n",
    "    data[anyof].isna(), np.nan, (data[anyof] < -1).astype(int)\n",
    ")\n",
    "data[[col for col in anyof]] = np.where(\n",
    "    data[anyof].isna(), np.nan, np.where((data[anyof] < -1), -1, data[anyof])\n",
    ")\n",
    "# Replacing values above 1 with 1\n",
    "data[[col + \"_flag_high\" for col in anyof]] = np.where(\n",
    "    data[anyof].isna(), np.nan, (data[anyof] > 1).astype(int)\n",
    ")\n",
    "data[[col for col in anyof]] = np.where(\n",
    "    data[anyof].isna(), np.nan, np.where((data[anyof] > 1), 1, data[anyof])\n",
    ")\n",
    "# Creating a column to flag errors\n",
    "data[[col + \"_flag_zero\" for col in anyof]] = np.where(\n",
    "    data[anyof].isna(), np.nan, (data[anyof] == 0).astype(int)\n",
    ")\n",
    "# Creating a column for the quadratic values\n",
    "data[[col + \"_quad\" for col in anyof]] = np.where(\n",
    "    data[anyof].isna(), np.nan, data[anyof] ** 2\n",
    ")\n"
   ]
  },
  {
   "cell_type": "code",
   "execution_count": 93,
   "id": "16785601-a03d-45d4-9685-d7e9fc209f97",
   "metadata": {
    "tags": []
   },
   "outputs": [],
   "source": [
    "# Dropping 'flag' columns with no variation\n",
    "flag_columns = [col for col in data.columns if \"flag\" in col]\n",
    "data = data.drop(\n",
    "    data[flag_columns].std()[(data[flag_columns].std() == 0)].index, axis=1\n",
    ")\n"
   ]
  },
  {
   "cell_type": "markdown",
   "id": "0ccb7e18-a244-4a28-8365-8dedfa62657a",
   "metadata": {},
   "source": [
    "### Defining additional financial ratios"
   ]
  },
  {
   "cell_type": "code",
   "execution_count": 94,
   "id": "de0cbc60-70fc-4ef9-a235-adf404b10738",
   "metadata": {
    "tags": []
   },
   "outputs": [],
   "source": [
    "#############################################################################\n",
    "\n",
    "# We could put our new financial ratios here\n",
    "\n",
    "#############################################################################\n",
    "\n",
    "# Gross Profit Margin\n",
    "data['gross_profit_margin'] = (data['sales'] - (data['material_exp'] + data['personnel_exp'])) / data['sales']\n",
    "\n",
    "# Net Profit Margin\n",
    "data['net_profit_margin'] = data['profit_loss_year'] / data['sales']\n",
    "\n",
    "# Return on Equity (ROE)\n",
    "data['return_on_equity'] = data['profit_loss_year'] / data['share_eq']\n",
    "\n",
    "# Debt-Equity Ratio\n",
    "# Note: we need to adjust 'curr_liab' to total liabilities if we have that information. Need to further investigate the data.\n",
    "data['debt_equity_ratio'] = data['curr_liab'] / data['share_eq']\n",
    "\n",
    "# Current Ratio\n",
    "data['current_ratio'] = data['curr_assets'] / data['curr_liab']\n",
    "\n",
    "# Quick Ratio\n",
    "data['quick_ratio'] = (data['curr_assets'] - data['inventories']) / data['curr_liab']\n",
    "\n",
    "# Return on Assets (ROA)\n",
    "data['return_on_assets'] = data['profit_loss_year'] / data['total_assets_bs']\n"
   ]
  },
  {
   "cell_type": "markdown",
   "id": "da1dce2d-6c6e-486c-b5b2-12d990674c11",
   "metadata": {},
   "source": [
    "### Including some additional imputation"
   ]
  },
  {
   "cell_type": "code",
   "execution_count": 95,
   "id": "8bf74f9b-b4c0-4bd0-ae18-93ea9129494d",
   "metadata": {
    "tags": []
   },
   "outputs": [],
   "source": [
    "# Calculating the CEO's age\n",
    "data[\"ceo_age\"] = data[\"year\"] - data[\"birth_year\"]\n",
    "data = data.assign(\n",
    "    flag_low_ceo_age=(data[\"ceo_age\"] < 25).astype(int),\n",
    "    flag_high_ceo_age=(data[\"ceo_age\"] > 75).astype(int),\n",
    "    flag_miss_ceo_age=(data[\"ceo_age\"].isna()).astype(int),\n",
    ")\n",
    "\n",
    "# Capping and imputing the missing values for CEO age\n",
    "data[\"ceo_age\"] = np.where(data[\"ceo_age\"] < 25, 25, data[\"ceo_age\"])\n",
    "data[\"ceo_age\"] = np.where(data[\"ceo_age\"] > 75, 75, data[\"ceo_age\"])\n",
    "data[\"ceo_age\"] = np.where(\n",
    "    data[\"ceo_age\"].isna(), data[\"ceo_age\"].mean(), data[\"ceo_age\"]\n",
    ")\n",
    "\n",
    "# Creating a new binary column for young CEOs\n",
    "data[\"ceo_young\"] = (data[\"ceo_age\"] < 40).astype(int)\n"
   ]
  },
  {
   "cell_type": "code",
   "execution_count": 96,
   "id": "d4a173a7-2c35-4f09-a84e-cc4c8f05600d",
   "metadata": {
    "tags": []
   },
   "outputs": [],
   "source": [
    "# Creating category type variables\n",
    "data[\"urban_m\"] = data[\"urban_m\"].astype(\"category\")\n",
    "data[\"ind2_cat\"] = data[\"ind2_cat\"].astype(\"category\")\n",
    "data[\"default_f\"] = data[\"default\"].astype(\"category\")\n",
    "data[\"default_f\"] = data[\"default_f\"].cat.rename_categories([\"no_default\", \"default\"])\n"
   ]
  },
  {
   "cell_type": "markdown",
   "id": "f176a76e-85e5-4523-b724-b859e371e0ea",
   "metadata": {},
   "source": [
    "### Handling the sales variable (target variable)"
   ]
  },
  {
   "cell_type": "code",
   "execution_count": 97,
   "id": "64c6cc1c-4645-4011-817f-4a43fc2b2f00",
   "metadata": {
    "tags": []
   },
   "outputs": [],
   "source": [
    "# Squaring the log sales\n",
    "data[\"sales_mil_log_sq\"] = data[\"sales_mil_log\"] ** 2"
   ]
  },
  {
   "cell_type": "code",
   "execution_count": 98,
   "id": "2a5e9890-76be-4bc2-b19b-073c709cd102",
   "metadata": {
    "tags": []
   },
   "outputs": [
    {
     "data": {
      "image/png": "[encoded data removed]",
      "text/plain": [
       "<Figure size 640x480 with 1 Axes>"
      ]
     },
     "metadata": {
      "image/png": {
       "height": 480,
       "width": 640
      }
     },
     "output_type": "display_data"
    },
    {
     "data": {
      "text/plain": [
       "<Figure Size: (640 x 480)>"
      ]
     },
     "execution_count": 98,
     "metadata": {},
     "output_type": "execute_result"
    }
   ],
   "source": [
    "ggplot(data, aes(x=\"sales_mil_log\", y=\"default\")) + geom_point(\n",
    "    color=\"#214459\"\n",
    ") + geom_smooth(\n",
    "    method=\"lm\", formula=\"y ~ x + I(x**2)\", color=\"#3498db\", se=False  # Assuming #3498db as a placeholder color\n",
    ") + geom_smooth(\n",
    "    method=\"loess\", color=\"#e74c3c\", se=False, size=1.5, span=0.9  # Assuming #e74c3c as a placeholder color\n",
    ") + labs(\n",
    "    x=\"sales_mil_log\", y=\"default\"\n",
    ") + theme_bw()\n"
   ]
  },
  {
   "cell_type": "code",
   "execution_count": 99,
   "id": "dd6220ec-e3a2-4525-8297-c83a5abb8d9a",
   "metadata": {
    "tags": []
   },
   "outputs": [
    {
     "name": "stdout",
     "output_type": "stream",
     "text": [
      "                            OLS Regression Results                            \n",
      "==============================================================================\n",
      "Dep. Variable:                default   R-squared:                       0.445\n",
      "Model:                            OLS   Adj. R-squared:                  0.445\n",
      "Method:                 Least Squares   F-statistic:                     8128.\n",
      "Date:                Fri, 23 Feb 2024   Prob (F-statistic):               0.00\n",
      "Time:                        14:28:07   Log-Likelihood:                -8583.6\n",
      "No. Observations:               20255   AIC:                         1.717e+04\n",
      "Df Residuals:                   20252   BIC:                         1.720e+04\n",
      "Df Model:                           2                                         \n",
      "Covariance Type:            nonrobust                                         \n",
      "====================================================================================\n",
      "                       coef    std err          t      P>|t|      [0.025      0.975]\n",
      "------------------------------------------------------------------------------------\n",
      "Intercept            0.0364      0.006      6.294      0.000       0.025       0.048\n",
      "sales_mil_log       -0.1512      0.004    -39.995      0.000      -0.159      -0.144\n",
      "sales_mil_log_sq     0.0079      0.001     12.254      0.000       0.007       0.009\n",
      "==============================================================================\n",
      "Omnibus:                      482.819   Durbin-Watson:                   1.996\n",
      "Prob(Omnibus):                  0.000   Jarque-Bera (JB):              318.825\n",
      "Skew:                           0.184   Prob(JB):                     5.86e-70\n",
      "Kurtosis:                       2.508   Cond. No.                         38.7\n",
      "==============================================================================\n",
      "\n",
      "Notes:\n",
      "[1] Standard Errors assume that the covariance matrix of the errors is correctly specified.\n"
     ]
    }
   ],
   "source": [
    "# Performing linear regression: deault on logarithmic sales and squared logarithmic sales\n",
    "ols_s = smf.ols(\"default ~ sales_mil_log + sales_mil_log_sq\", data=data).fit()\n",
    "print(ols_s.summary())"
   ]
  },
  {
   "cell_type": "markdown",
   "id": "f5d45dde-5a8b-48fd-8d89-fc59dd1544b4",
   "metadata": {},
   "source": [
    "### Change in sales\n",
    "\n",
    "*Note:* Graphs are not in the book!"
   ]
  },
  {
   "cell_type": "code",
   "execution_count": 100,
   "id": "4aa20bf4-060f-4652-91f5-b946fd3e7344",
   "metadata": {
    "tags": []
   },
   "outputs": [
    {
     "data": {
      "text/plain": [
       "count    20255.000000\n",
       "mean        -0.003987\n",
       "std          0.934162\n",
       "min         -6.889406\n",
       "25%         -0.086864\n",
       "50%          0.000000\n",
       "75%          0.222255\n",
       "max         11.299683\n",
       "Name: d1_sales_mil_log, dtype: float64"
      ]
     },
     "execution_count": 100,
     "metadata": {},
     "output_type": "execute_result"
    }
   ],
   "source": [
    "# lowess\n",
    "data[\"d1_sales_mil_log\"].describe()"
   ]
  },
  {
   "cell_type": "markdown",
   "id": "fd5a835f-0125-413f-bc88-155ae529067e",
   "metadata": {
    "tags": []
   },
   "source": [
    "## 1.7 Model Building"
   ]
  },
  {
   "cell_type": "markdown",
   "id": "1be3f63c-f9bf-4968-b59a-3768c74ffdff",
   "metadata": {
    "tags": []
   },
   "source": [
    "### 1.7.1 Define Variable Sets"
   ]
  },
  {
   "cell_type": "markdown",
   "id": "90254d44-43c2-487b-83bc-4a2bba9a2b59",
   "metadata": {},
   "source": [
    "#### Main Firm Variables"
   ]
  },
  {
   "cell_type": "code",
   "execution_count": 101,
   "id": "f02aea63-cb99-47f4-9dce-b45552c41a21",
   "metadata": {
    "tags": []
   },
   "outputs": [],
   "source": [
    "rawvars = [\n",
    "    \"curr_assets\",\n",
    "    \"curr_liab\",\n",
    "    \"extra_exp\",\n",
    "    \"extra_inc\",\n",
    "    \"extra_profit_loss\",\n",
    "    \"fixed_assets\",\n",
    "    \"inc_bef_tax\",\n",
    "    \"intang_assets\",\n",
    "    \"inventories\",\n",
    "    \"liq_assets\",\n",
    "    \"material_exp\",\n",
    "    \"personnel_exp\",\n",
    "    \"profit_loss_year\",\n",
    "    \"sales\",\n",
    "    \"share_eq\",\n",
    "    \"subscribed_cap\",\n",
    "]"
   ]
  },
  {
   "cell_type": "markdown",
   "id": "0d945d17-8d71-4f96-b094-383dc4cb4056",
   "metadata": {
    "tags": []
   },
   "source": [
    "#### Further financial variables"
   ]
  },
  {
   "cell_type": "code",
   "execution_count": 102,
   "id": "97ced08c-1567-4673-ad6f-9c40ff14f006",
   "metadata": {
    "tags": []
   },
   "outputs": [],
   "source": [
    "qualityvars = [\"balsheet_flag\", \"balsheet_length\", \"balsheet_notfullyear\"]\n",
    "engvar = [\n",
    "    \"total_assets_bs\",\n",
    "    \"fixed_assets_bs\",\n",
    "    \"liq_assets_bs\",\n",
    "    \"curr_assets_bs\",\n",
    "    \"share_eq_bs\",\n",
    "    \"subscribed_cap_bs\",\n",
    "    \"intang_assets_bs\",\n",
    "    \"extra_exp_pl\",\n",
    "    \"extra_inc_pl\",\n",
    "    \"extra_profit_loss_pl\",\n",
    "    \"inc_bef_tax_pl\",\n",
    "    \"inventories_pl\",\n",
    "    \"material_exp_pl\",\n",
    "    \"profit_loss_year_pl\",\n",
    "    \"personnel_exp_pl\",\n",
    "]\n",
    "engvar2 = [\n",
    "    \"extra_profit_loss_pl_quad\",\n",
    "    \"inc_bef_tax_pl_quad\",\n",
    "    \"profit_loss_year_pl_quad\",\n",
    "    \"share_eq_bs_quad\",\n",
    "]"
   ]
  },
  {
   "cell_type": "markdown",
   "id": "b47bd513-05f9-4507-bc27-801e34399365",
   "metadata": {},
   "source": [
    "#### Financial Ratios"
   ]
  },
  {
   "cell_type": "code",
   "execution_count": 103,
   "id": "9351a7c4-6ee7-4927-a589-08f29db1a546",
   "metadata": {
    "tags": []
   },
   "outputs": [],
   "source": [
    "financial_ratios = [\n",
    "    \"gross_profit_margin\",\n",
    "    \"net_profit_margin\",\n",
    "    \"return_on_equity\",\n",
    "    \"debt_equity_ratio\",\n",
    "    \"current_ratio\",\n",
    "    \"quick_ratio\",\n",
    "    \"return_on_assets\"\n",
    "]"
   ]
  },
  {
   "cell_type": "markdown",
   "id": "09f7b1f9-5738-4175-afae-3f0ad85a3e14",
   "metadata": {},
   "source": [
    "#### Flag Variables"
   ]
  },
  {
   "cell_type": "code",
   "execution_count": 104,
   "id": "b42f35a1-21ea-47b6-b6af-b60e30ab89e0",
   "metadata": {
    "tags": []
   },
   "outputs": [],
   "source": [
    "engvar3 = []\n",
    "for col in data.columns:\n",
    "    if (\n",
    "        col.endswith(\"flag_low\")\n",
    "        or col.endswith(\"flag_high\")\n",
    "        or col.endswith(\"flag_error\")\n",
    "        or col.endswith(\"flag_zero\")\n",
    "    ):\n",
    "        engvar3.append(col)"
   ]
  },
  {
   "cell_type": "markdown",
   "id": "42dd5cfc-f21c-45ad-acb8-d1da98bd75af",
   "metadata": {},
   "source": [
    "#### Growth Variables"
   ]
  },
  {
   "cell_type": "code",
   "execution_count": 105,
   "id": "37c8fd53-3f64-4846-a37c-8a59bd945410",
   "metadata": {
    "tags": []
   },
   "outputs": [],
   "source": [
    "d1 = [\n",
    "    \"d1_sales_mil_log_mod\",\n",
    "    \"d1_sales_mil_log_mod_sq\",\n",
    "    \"flag_low_d1_sales_mil_log\",\n",
    "    \"flag_high_d1_sales_mil_log\",\n",
    "]"
   ]
  },
  {
   "cell_type": "markdown",
   "id": "eaee0427-f1ec-4013-8d28-a4a9c9c08cd3",
   "metadata": {},
   "source": [
    "#### Human capital related variables"
   ]
  },
  {
   "cell_type": "code",
   "execution_count": 106,
   "id": "55bcb5fc-e7c2-43c1-af7c-947ce3cd6f1c",
   "metadata": {
    "tags": []
   },
   "outputs": [],
   "source": [
    "hr = [\n",
    "    \"female\",\n",
    "    \"ceo_age\",\n",
    "    \"flag_high_ceo_age\",\n",
    "    \"flag_low_ceo_age\",\n",
    "    \"flag_miss_ceo_age\",\n",
    "    \"ceo_count\",\n",
    "    \"labor_avg_mod\",\n",
    "    \"flag_miss_labor_avg\",\n",
    "    \"foreign_management\",\n",
    "]"
   ]
  },
  {
   "cell_type": "markdown",
   "id": "600f2808-078c-45d9-83b8-f8b6ea567c46",
   "metadata": {
    "tags": []
   },
   "source": [
    "#### Firms history related variables"
   ]
  },
  {
   "cell_type": "code",
   "execution_count": 107,
   "id": "79a1a6a0-a17f-40a5-ad03-e1161eac5848",
   "metadata": {
    "tags": []
   },
   "outputs": [],
   "source": [
    "firm = [\"age\",\n",
    "        \"age2\",\n",
    "        \"new\",\n",
    "        \"C(ind2_cat)\",\n",
    "        \"C(m_region_loc)\",\n",
    "        \"C(urban_m)\"]"
   ]
  },
  {
   "cell_type": "markdown",
   "id": "c7fb6157-965b-440f-8699-a5538fdd10a7",
   "metadata": {
    "tags": []
   },
   "source": [
    "#### Interactions for logit, LASSO"
   ]
  },
  {
   "cell_type": "code",
   "execution_count": 108,
   "id": "bcea5a74-57f4-4ada-a6a0-48ca0f7facf4",
   "metadata": {
    "tags": []
   },
   "outputs": [],
   "source": [
    "interactions1 = [\n",
    "    \"C(ind2_cat)*age\",\n",
    "    \"C(ind2_cat)*age2\",\n",
    "    \"C(ind2_cat)*d1_sales_mil_log_mod\",\n",
    "    \"C(ind2_cat)*sales_mil_log\",\n",
    "    \"C(ind2_cat)*ceo_age\",\n",
    "    \"C(ind2_cat)*foreign_management\",\n",
    "    \"C(ind2_cat)*female\",\n",
    "    \"C(ind2_cat)*C(urban_m)\",\n",
    "    \"C(ind2_cat)*labor_avg_mod\",\n",
    "]\n",
    "interactions2 = [\n",
    "    \"sales_mil_log*age\",\n",
    "    \"sales_mil_log*female\",\n",
    "    \"sales_mil_log*profit_loss_year_pl\",\n",
    "    \"sales_mil_log*foreign_management\",\n",
    "]\n",
    "\n"
   ]
  },
  {
   "cell_type": "markdown",
   "id": "499dd176-737a-4c79-baae-c5f6c6155141",
   "metadata": {
    "tags": []
   },
   "source": [
    "### 1.7.2 Model Setups"
   ]
  },
  {
   "cell_type": "markdown",
   "id": "940610c4-5f30-4d21-b826-279f45b3bf4f",
   "metadata": {},
   "source": [
    "#### 1. Simple Logit Models"
   ]
  },
  {
   "cell_type": "code",
   "execution_count": 109,
   "id": "4013ab6c-b601-4a71-b6fb-3d94c9a897e0",
   "metadata": {
    "tags": []
   },
   "outputs": [],
   "source": [
    "M1 = [\n",
    "    \"sales_mil_log\",\n",
    "    \"sales_mil_log_sq\",\n",
    "    \"d1_sales_mil_log_mod\",\n",
    "    \"profit_loss_year_pl\",\n",
    "    \"C(ind2_cat)\",\n",
    "]\n",
    "M2 = [\n",
    "    \"sales_mil_log\",\n",
    "    \"sales_mil_log_sq\",\n",
    "    \"d1_sales_mil_log_mod\",\n",
    "    \"profit_loss_year_pl\",\n",
    "    \"fixed_assets_bs\",\n",
    "    \"share_eq_bs\",\n",
    "    \"curr_liab_bs \",\n",
    "    \"curr_liab_bs_flag_high \",\n",
    "    \"curr_liab_bs_flag_error\",\n",
    "    \"age\",\n",
    "    \"foreign_management\",\n",
    "    \"C(ind2_cat)\",\n",
    "]\n",
    "M3 = [\"sales_mil_log\", \"sales_mil_log_sq\"] + firm + engvar + d1\n",
    "M4 = (\n",
    "    [\"sales_mil_log\", \"sales_mil_log_sq\"]\n",
    "    + firm\n",
    "    + engvar\n",
    "    + engvar2\n",
    "    + engvar3\n",
    "    + d1\n",
    "    + hr\n",
    "    + qualityvars\n",
    "    + financial_ratios\n",
    ")\n",
    "M5 = (\n",
    "    [\"sales_mil_log\", \"sales_mil_log_sq\"]\n",
    "    + firm\n",
    "    + engvar\n",
    "    + engvar2\n",
    "    + engvar3\n",
    "    + d1\n",
    "    + hr\n",
    "    + qualityvars\n",
    "    + financial_ratios\n",
    "    + interactions1\n",
    "    + interactions2\n",
    ")"
   ]
  },
  {
   "cell_type": "markdown",
   "id": "72250e87-6b88-4cb3-b559-a739a25dd57a",
   "metadata": {},
   "source": [
    "#### 2. Logit+LASSO"
   ]
  },
  {
   "cell_type": "code",
   "execution_count": 110,
   "id": "d59c6404-3f31-4357-b877-69cc2464ef2b",
   "metadata": {
    "tags": []
   },
   "outputs": [],
   "source": [
    "logit_lasso_vars = (\n",
    "    [\"sales_mil_log\", \"sales_mil_log_sq\"]\n",
    "    + engvar\n",
    "    + engvar2\n",
    "    + engvar3\n",
    "    + d1\n",
    "    + hr\n",
    "    + firm\n",
    "    + qualityvars\n",
    "    + financial_ratios\n",
    "    + interactions1\n",
    "    + interactions2\n",
    ")"
   ]
  },
  {
   "cell_type": "markdown",
   "id": "b2c9ed35-e573-4ac2-866a-33b950d9ef1f",
   "metadata": {
    "tags": []
   },
   "source": [
    "#### 3. CART and RF (no interactions, no modified features)"
   ]
  },
  {
   "cell_type": "code",
   "execution_count": 111,
   "id": "372747ab-e94d-453f-8459-dbee7fc63a97",
   "metadata": {
    "tags": []
   },
   "outputs": [],
   "source": [
    "rfvars = [\"sales_mil\", \"d1_sales_mil_log\"] + rawvars + hr + firm + qualityvars + financial_ratios"
   ]
  }
 ],
 "metadata": {
  "kernelspec": {
   "display_name": "Python 3 (ipykernel)",
   "language": "python",
   "name": "python3"
  },
  "language_info": {
   "codemirror_mode": {
    "name": "ipython",
    "version": 3
   },
   "file_extension": ".py",
   "mimetype": "text/x-python",
   "name": "python",
   "nbconvert_exporter": "python",
   "pygments_lexer": "ipython3",
   "version": "3.11.4"
  }
 },
 "nbformat": 4,
 "nbformat_minor": 5
}
