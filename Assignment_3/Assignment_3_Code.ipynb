{
 "cells": [
  {
   "cell_type": "markdown",
   "id": "410c7f5a-fac0-482f-bc6e-e491d129d746",
   "metadata": {
    "tags": []
   },
   "source": [
    "# ***Assignment 3 for Data Analysis 3***\n",
    "\n",
    "Conducted by Ian Brandenburg and Zsófia Rebeka Katona\n",
    "\n",
    "[GitHub Repo](https://github.com/Iandrewburg/DA3_Brandenburg/tree/main/Assignment_3)\n",
    "\n",
    "\n",
    "\n",
    "Developing a predictive model to identify which small or medium-sized firms in the \"Manufacture of computer, electronic, and optical products\" industry might fail in 2015, based on their activity in 2014.\n",
    "\n",
    "[**Data source**](https://osf.io/b2ft9/?view_only=):\n",
    "Detailed company data from a middle-sized country in the European Union\n",
    "All registered companies in 2005-2016 in three selected industries \n",
    "  (auto manufacturing, equipment manufacturing, hotels and restaurants)\n",
    "This rich database was constructed for from multiple publicly available sources \n",
    "by Bisnode, a business data and anlytics company www.bisnode.com\n",
    "for educational purposes\n",
    "\n",
    "Dependent Variable - Dummy Variable for if the company defaulted or not"
   ]
  },
  {
   "cell_type": "code",
   "execution_count": 656,
   "id": "4aadb832-7ded-45c7-87b5-4e340c5394ee",
   "metadata": {
    "tags": []
   },
   "outputs": [],
   "source": [
    "import warnings\n",
    "warnings.filterwarnings('ignore')\n",
    "\n",
    "import pandas as pd\n",
    "import numpy as np\n",
    "import patsy\n",
    "import matplotlib.pyplot as plt\n",
    "import os\n",
    "import sys\n",
    "from pathlib import Path\n",
    "from plotnine import *\n",
    "from mizani.formatters import percent_format\n",
    "import ast\n",
    "from patsy import dmatrices\n",
    "from sklearn.model_selection import train_test_split, GridSearchCV, RandomizedSearchCV, KFold\n",
    "import sklearn.metrics as metrics\n",
    "from sklearn.metrics import mean_squared_error, auc, brier_score_loss, confusion_matrix, roc_auc_score, roc_curve\n",
    "from sklearn.impute import SimpleImputer\n",
    "from sklearn.inspection import permutation_importance, PartialDependenceDisplay, partial_dependence\n",
    "from sklearn.compose import ColumnTransformer\n",
    "from sklearn.pipeline import Pipeline\n",
    "from sklearn.preprocessing import OneHotEncoder, StandardScaler\n",
    "from sklearn.ensemble import RandomForestRegressor, RandomForestClassifier\n",
    "from sklearn.linear_model import LinearRegression, LogisticRegression, LogisticRegressionCV\n",
    "from sklearn.tree import DecisionTreeRegressor\n",
    "import statsmodels.formula.api as smf\n",
    "from statsmodels.tools.eval_measures import rmse\n",
    "from sklearn.calibration import calibration_curve\n",
    "import time"
   ]
  },
  {
   "cell_type": "code",
   "execution_count": 653,
   "id": "3389a893-9410-46f1-855f-90c8336ea140",
   "metadata": {
    "tags": []
   },
   "outputs": [],
   "source": [
    "# Helper Functions\n",
    "\n",
    "def regression_results(y_true, y_pred):\n",
    "\n",
    "    # Regression metrics\n",
    "    explained_variance=metrics.explained_variance_score(y_true, y_pred)\n",
    "    mean_absolute_error=metrics.mean_absolute_error(y_true, y_pred) \n",
    "    mse=metrics.mean_squared_error(y_true, y_pred) \n",
    "    median_absolute_error=metrics.median_absolute_error(y_true, y_pred)\n",
    "    r2=metrics.r2_score(y_true, y_pred)\n",
    "\n",
    "    print('explained_variance: ', round(explained_variance,4))    \n",
    "    print('r2: ', round(r2,4))\n",
    "    print('MAE: ', round(mean_absolute_error,4))\n",
    "    print('MSE: ', round(mse,4))\n",
    "    print('RMSE: ', round(np.sqrt(mse),4))\n",
    "    \n",
    "def create_calibration_plot(data, file_name, prob_var, actual_var, y_lab, n_bins=10, breaks=None):\n",
    "    prob_true, prob_pred = calibration_curve(data[actual_var], data[prob_var], n_bins=n_bins, strategy='uniform')\n",
    "    \n",
    "    plt.figure(figsize=(8, 6))\n",
    "    plt.plot([0, 1], [0, 1], \"k:\", label=\"Perfectly calibrated\")\n",
    "    plt.plot(prob_pred, prob_true, \"s-\", label=\"Model\")\n",
    "    plt.xlabel(\"Predicted probability\")\n",
    "    plt.ylabel(y_lab)\n",
    "    plt.title(\"Calibration Plot\")\n",
    "    plt.legend()\n",
    "    plt.grid(True)\n",
    "    \n",
    "    plt.savefig(file_name + \".png\", dpi=300)\n",
    "    plt.show()\n",
    "    \n",
    "def create_coef_matrix(X, model):\n",
    "    coef_matrix = pd.concat(\n",
    "        [pd.DataFrame(X.columns),pd.DataFrame(model.coef_.flatten())], axis = 1\n",
    "    )\n",
    "    coef_matrix.columns = ['variable', 'coefficient']\n",
    "    coef_matrix.iloc[-1] = ['Intercept', model.intercept_.flatten()[0]]\n",
    "    return coef_matrix\n",
    "\n",
    "def cv_summary(lambdas, C_values, model):\n",
    "    d = {'lambdas': lambdas, 'C_values': C_values, 'mean_cv_score': model.scores_[1].mean(axis = 0)}\n",
    "    return(pd.DataFrame(data=d))\n",
    "\n",
    "def create_roc_plot(y_true, y_pred):\n",
    "    fpr, tpr, thresholds = roc_curve(y_true, y_pred)\n",
    "    all_coords = pd.DataFrame({\n",
    "        'fpr': fpr,\n",
    "        'tpr': tpr,\n",
    "        'thresholds': thresholds\n",
    "    })\n",
    "    \n",
    "    plot = ggplot(all_coords, aes(x = 'fpr', y = 'tpr')) \\\n",
    "        + geom_line(color=color[0], size = 0.7) \\\n",
    "        + geom_area(position = 'identity', fill = 'mediumaquamarine', alpha = 0.3) \\\n",
    "        + xlab(\"False Positive Rate (1-Specifity)\") \\\n",
    "        + ylab(\"True Positive Rate (Sensitivity)\") \\\n",
    "        + geom_abline(intercept = 0, slope = 1,  linetype = \"dotted\", color = \"black\") \\\n",
    "        + scale_y_continuous(limits = (0, 1), breaks = seq(0, 1, .1), expand = (0, 0.01)) \\\n",
    "        + scale_x_continuous(limits = (0, 1), breaks = seq(0, 1, .1), expand = (0.01, 0)) \\\n",
    "        + theme_bw()\n",
    "    return(plot)\n",
    "\n",
    "def sigmoid_array(x):\n",
    "    return(1 / (1 + np.exp(-x)))\n",
    "\n",
    "def generate_fold_prediction(model, X, fold, param_index):\n",
    "    fold_coef = model.coefs_paths_[1][fold,param_index,:]\n",
    "    return(sigmoid_array(np.dot(X, np.transpose(fold_coef)[:-1]) +  np.transpose(fold_coef)[-1]))\n",
    "\n",
    "def create_loss_plot(all_coords, optimal_threshold, curr_exp_loss):\n",
    "    all_coords_copy = all_coords.copy()\n",
    "    all_coords_copy['loss'] = (all_coords_copy.false_pos*FP + all_coords_copy.false_neg*FN)/all_coords_copy.n\n",
    "    \n",
    "    t = optimal_threshold\n",
    "    l = curr_exp_loss\n",
    "    \n",
    "    plot = ggplot(all_coords_copy, aes(x = 'thresholds', y = 'loss')) + \\\n",
    "        geom_line(color=color[0], size=0.7) + \\\n",
    "        scale_x_continuous(breaks = seq(0, 1.1, by = 0.1)) + \\\n",
    "        coord_cartesian(xlim=(0,1))+ \\\n",
    "        geom_vline(xintercept = t , color = color[0] ) + \\\n",
    "        annotate(geom = \"text\", x = t - 0.01, y= max(all_coords_copy.loss) - 0.4,\n",
    "                 label=\"best threshold: \" + str(round(t,2)),\n",
    "                 colour=color[1], angle=90, size = 7) +\\\n",
    "        annotate(geom = \"text\", x = t + 0.06, y= l,\\\n",
    "                 label= str(round(l, 2)), size = 7) +\\\n",
    "        theme_bw()\n",
    "    return(plot)\n",
    "\n",
    "\n",
    "def create_roc_plot_with_optimal(all_coords, optimal_threshold):\n",
    "    all_coords_copy = all_coords.copy()\n",
    "    all_coords_copy['sp'] = all_coords_copy.true_neg/all_coords_copy.neg\n",
    "    all_coords_copy['se'] = all_coords_copy.true_pos/all_coords_copy.pos\n",
    "    \n",
    "    best_coords = all_coords_copy[all_coords_copy.thresholds == optimal_threshold]\n",
    "    sp = best_coords.sp.values[0]\n",
    "    se = best_coords.se.values[0]\n",
    "\n",
    "    plot = ggplot(all_coords_copy, aes(x = 'sp', y = 'se')) +\\\n",
    "        geom_line(color=color[0], size=0.7) +\\\n",
    "        scale_y_continuous(breaks = seq(0, 1.1, by = 0.1)) +\\\n",
    "        scale_x_reverse(breaks = seq(0, 1.1, by = 0.1)) +\\\n",
    "        geom_point(data = pd.DataFrame({'sp': [sp], 'se': [se]})) +\\\n",
    "        annotate(geom = \"text\", x = sp, y = se + 0.03,\n",
    "                 label = str(round(sp, 2)) + ', ' + str(round(se, 2)), size = 7) +\\\n",
    "        theme_bw()\n",
    "    return(plot)"
   ]
  },
  {
   "cell_type": "markdown",
   "id": "b96c2501-893a-4517-ab08-b34ac4ea19e5",
   "metadata": {},
   "source": [
    "# ***1. Data Processing***"
   ]
  },
  {
   "cell_type": "markdown",
   "id": "2c1c488f-73e2-48ad-b991-16b256d8ce97",
   "metadata": {
    "jp-MarkdownHeadingCollapsed": true,
    "tags": []
   },
   "source": [
    "## 1.1 Import Data Directly from GitHub"
   ]
  },
  {
   "cell_type": "code",
   "execution_count": 530,
   "id": "ec2ca7d5-8035-43e4-a917-4922a1ebff0d",
   "metadata": {
    "tags": []
   },
   "outputs": [
    {
     "data": {
      "text/html": [
       "<div>\n",
       "<style scoped>\n",
       "    .dataframe tbody tr th:only-of-type {\n",
       "        vertical-align: middle;\n",
       "    }\n",
       "\n",
       "    .dataframe tbody tr th {\n",
       "        vertical-align: top;\n",
       "    }\n",
       "\n",
       "    .dataframe thead th {\n",
       "        text-align: right;\n",
       "    }\n",
       "</style>\n",
       "<table border=\"1\" class=\"dataframe\">\n",
       "  <thead>\n",
       "    <tr style=\"text-align: right;\">\n",
       "      <th></th>\n",
       "      <th>comp_id</th>\n",
       "      <th>begin</th>\n",
       "      <th>end</th>\n",
       "      <th>COGS</th>\n",
       "      <th>amort</th>\n",
       "      <th>curr_assets</th>\n",
       "      <th>curr_liab</th>\n",
       "      <th>extra_exp</th>\n",
       "      <th>extra_inc</th>\n",
       "      <th>extra_profit_loss</th>\n",
       "      <th>...</th>\n",
       "      <th>gender</th>\n",
       "      <th>origin</th>\n",
       "      <th>nace_main</th>\n",
       "      <th>ind2</th>\n",
       "      <th>ind</th>\n",
       "      <th>urban_m</th>\n",
       "      <th>region_m</th>\n",
       "      <th>founded_date</th>\n",
       "      <th>exit_date</th>\n",
       "      <th>labor_avg</th>\n",
       "    </tr>\n",
       "  </thead>\n",
       "  <tbody>\n",
       "    <tr>\n",
       "      <th>0</th>\n",
       "      <td>1001034.0</td>\n",
       "      <td>2005-01-01</td>\n",
       "      <td>2005-12-31</td>\n",
       "      <td>NaN</td>\n",
       "      <td>692.592590</td>\n",
       "      <td>7266.666504</td>\n",
       "      <td>7574.074219</td>\n",
       "      <td>0.0</td>\n",
       "      <td>0.0</td>\n",
       "      <td>0.0</td>\n",
       "      <td>...</td>\n",
       "      <td>mix</td>\n",
       "      <td>Domestic</td>\n",
       "      <td>5630.0</td>\n",
       "      <td>56.0</td>\n",
       "      <td>3.0</td>\n",
       "      <td>1</td>\n",
       "      <td>Central</td>\n",
       "      <td>1990-11-19</td>\n",
       "      <td>NaN</td>\n",
       "      <td>NaN</td>\n",
       "    </tr>\n",
       "    <tr>\n",
       "      <th>1</th>\n",
       "      <td>1001034.0</td>\n",
       "      <td>2006-01-01</td>\n",
       "      <td>2006-12-31</td>\n",
       "      <td>NaN</td>\n",
       "      <td>603.703674</td>\n",
       "      <td>13122.222656</td>\n",
       "      <td>12211.111328</td>\n",
       "      <td>0.0</td>\n",
       "      <td>0.0</td>\n",
       "      <td>0.0</td>\n",
       "      <td>...</td>\n",
       "      <td>mix</td>\n",
       "      <td>Domestic</td>\n",
       "      <td>5630.0</td>\n",
       "      <td>56.0</td>\n",
       "      <td>3.0</td>\n",
       "      <td>1</td>\n",
       "      <td>Central</td>\n",
       "      <td>1990-11-19</td>\n",
       "      <td>NaN</td>\n",
       "      <td>NaN</td>\n",
       "    </tr>\n",
       "    <tr>\n",
       "      <th>2</th>\n",
       "      <td>1001034.0</td>\n",
       "      <td>2007-01-01</td>\n",
       "      <td>2007-12-31</td>\n",
       "      <td>NaN</td>\n",
       "      <td>425.925934</td>\n",
       "      <td>8196.295898</td>\n",
       "      <td>7800.000000</td>\n",
       "      <td>0.0</td>\n",
       "      <td>0.0</td>\n",
       "      <td>0.0</td>\n",
       "      <td>...</td>\n",
       "      <td>mix</td>\n",
       "      <td>Domestic</td>\n",
       "      <td>5630.0</td>\n",
       "      <td>56.0</td>\n",
       "      <td>3.0</td>\n",
       "      <td>1</td>\n",
       "      <td>Central</td>\n",
       "      <td>1990-11-19</td>\n",
       "      <td>NaN</td>\n",
       "      <td>NaN</td>\n",
       "    </tr>\n",
       "    <tr>\n",
       "      <th>3</th>\n",
       "      <td>1001034.0</td>\n",
       "      <td>2008-01-01</td>\n",
       "      <td>2008-12-31</td>\n",
       "      <td>NaN</td>\n",
       "      <td>300.000000</td>\n",
       "      <td>8485.185547</td>\n",
       "      <td>7781.481445</td>\n",
       "      <td>0.0</td>\n",
       "      <td>0.0</td>\n",
       "      <td>0.0</td>\n",
       "      <td>...</td>\n",
       "      <td>mix</td>\n",
       "      <td>Domestic</td>\n",
       "      <td>5630.0</td>\n",
       "      <td>56.0</td>\n",
       "      <td>3.0</td>\n",
       "      <td>1</td>\n",
       "      <td>Central</td>\n",
       "      <td>1990-11-19</td>\n",
       "      <td>NaN</td>\n",
       "      <td>NaN</td>\n",
       "    </tr>\n",
       "    <tr>\n",
       "      <th>4</th>\n",
       "      <td>1001034.0</td>\n",
       "      <td>2009-01-01</td>\n",
       "      <td>2009-12-31</td>\n",
       "      <td>NaN</td>\n",
       "      <td>207.407410</td>\n",
       "      <td>5137.037109</td>\n",
       "      <td>15300.000000</td>\n",
       "      <td>0.0</td>\n",
       "      <td>0.0</td>\n",
       "      <td>0.0</td>\n",
       "      <td>...</td>\n",
       "      <td>mix</td>\n",
       "      <td>Domestic</td>\n",
       "      <td>5630.0</td>\n",
       "      <td>56.0</td>\n",
       "      <td>3.0</td>\n",
       "      <td>1</td>\n",
       "      <td>Central</td>\n",
       "      <td>1990-11-19</td>\n",
       "      <td>NaN</td>\n",
       "      <td>0.083333</td>\n",
       "    </tr>\n",
       "  </tbody>\n",
       "</table>\n",
       "<p>5 rows × 48 columns</p>\n",
       "</div>"
      ],
      "text/plain": [
       "     comp_id       begin         end  COGS       amort   curr_assets  \\\n",
       "0  1001034.0  2005-01-01  2005-12-31   NaN  692.592590   7266.666504   \n",
       "1  1001034.0  2006-01-01  2006-12-31   NaN  603.703674  13122.222656   \n",
       "2  1001034.0  2007-01-01  2007-12-31   NaN  425.925934   8196.295898   \n",
       "3  1001034.0  2008-01-01  2008-12-31   NaN  300.000000   8485.185547   \n",
       "4  1001034.0  2009-01-01  2009-12-31   NaN  207.407410   5137.037109   \n",
       "\n",
       "      curr_liab  extra_exp  extra_inc  extra_profit_loss  ...  gender  \\\n",
       "0   7574.074219        0.0        0.0                0.0  ...     mix   \n",
       "1  12211.111328        0.0        0.0                0.0  ...     mix   \n",
       "2   7800.000000        0.0        0.0                0.0  ...     mix   \n",
       "3   7781.481445        0.0        0.0                0.0  ...     mix   \n",
       "4  15300.000000        0.0        0.0                0.0  ...     mix   \n",
       "\n",
       "     origin  nace_main  ind2  ind  urban_m  region_m  founded_date  exit_date  \\\n",
       "0  Domestic     5630.0  56.0  3.0        1   Central    1990-11-19        NaN   \n",
       "1  Domestic     5630.0  56.0  3.0        1   Central    1990-11-19        NaN   \n",
       "2  Domestic     5630.0  56.0  3.0        1   Central    1990-11-19        NaN   \n",
       "3  Domestic     5630.0  56.0  3.0        1   Central    1990-11-19        NaN   \n",
       "4  Domestic     5630.0  56.0  3.0        1   Central    1990-11-19        NaN   \n",
       "\n",
       "   labor_avg  \n",
       "0        NaN  \n",
       "1        NaN  \n",
       "2        NaN  \n",
       "3        NaN  \n",
       "4   0.083333  \n",
       "\n",
       "[5 rows x 48 columns]"
      ]
     },
     "execution_count": 530,
     "metadata": {},
     "output_type": "execute_result"
    }
   ],
   "source": [
    "data = pd.read_csv('https://github.com/Iandrewburg/DA3_Brandenburg/raw/main/Assignment_3/cs_bisnode_panel.csv')\n",
    "data.head()"
   ]
  },
  {
   "cell_type": "code",
   "execution_count": 531,
   "id": "7422ae90-29a2-4784-b51a-1ebc9b8fe5cc",
   "metadata": {
    "tags": []
   },
   "outputs": [
    {
     "data": {
      "text/html": [
       "<div>\n",
       "<style scoped>\n",
       "    .dataframe tbody tr th:only-of-type {\n",
       "        vertical-align: middle;\n",
       "    }\n",
       "\n",
       "    .dataframe tbody tr th {\n",
       "        vertical-align: top;\n",
       "    }\n",
       "\n",
       "    .dataframe thead th {\n",
       "        text-align: right;\n",
       "    }\n",
       "</style>\n",
       "<table border=\"1\" class=\"dataframe\">\n",
       "  <thead>\n",
       "    <tr style=\"text-align: right;\">\n",
       "      <th></th>\n",
       "      <th>comp_id</th>\n",
       "      <th>begin</th>\n",
       "      <th>end</th>\n",
       "      <th>COGS</th>\n",
       "      <th>amort</th>\n",
       "      <th>curr_assets</th>\n",
       "      <th>curr_liab</th>\n",
       "      <th>extra_exp</th>\n",
       "      <th>extra_inc</th>\n",
       "      <th>extra_profit_loss</th>\n",
       "      <th>...</th>\n",
       "      <th>gender</th>\n",
       "      <th>origin</th>\n",
       "      <th>nace_main</th>\n",
       "      <th>ind2</th>\n",
       "      <th>ind</th>\n",
       "      <th>urban_m</th>\n",
       "      <th>region_m</th>\n",
       "      <th>founded_date</th>\n",
       "      <th>exit_date</th>\n",
       "      <th>labor_avg</th>\n",
       "    </tr>\n",
       "  </thead>\n",
       "  <tbody>\n",
       "    <tr>\n",
       "      <th>0</th>\n",
       "      <td>1.001034e+06</td>\n",
       "      <td>2005-01-01</td>\n",
       "      <td>2005-12-31</td>\n",
       "      <td>NaN</td>\n",
       "      <td>692.592590</td>\n",
       "      <td>7266.666504</td>\n",
       "      <td>7574.074219</td>\n",
       "      <td>0.0</td>\n",
       "      <td>0.0</td>\n",
       "      <td>0.0</td>\n",
       "      <td>...</td>\n",
       "      <td>mix</td>\n",
       "      <td>Domestic</td>\n",
       "      <td>5630.0</td>\n",
       "      <td>56.0</td>\n",
       "      <td>3.0</td>\n",
       "      <td>1</td>\n",
       "      <td>Central</td>\n",
       "      <td>1990-11-19</td>\n",
       "      <td>NaN</td>\n",
       "      <td>NaN</td>\n",
       "    </tr>\n",
       "    <tr>\n",
       "      <th>1</th>\n",
       "      <td>1.001034e+06</td>\n",
       "      <td>2006-01-01</td>\n",
       "      <td>2006-12-31</td>\n",
       "      <td>NaN</td>\n",
       "      <td>603.703674</td>\n",
       "      <td>13122.222656</td>\n",
       "      <td>12211.111328</td>\n",
       "      <td>0.0</td>\n",
       "      <td>0.0</td>\n",
       "      <td>0.0</td>\n",
       "      <td>...</td>\n",
       "      <td>mix</td>\n",
       "      <td>Domestic</td>\n",
       "      <td>5630.0</td>\n",
       "      <td>56.0</td>\n",
       "      <td>3.0</td>\n",
       "      <td>1</td>\n",
       "      <td>Central</td>\n",
       "      <td>1990-11-19</td>\n",
       "      <td>NaN</td>\n",
       "      <td>NaN</td>\n",
       "    </tr>\n",
       "    <tr>\n",
       "      <th>2</th>\n",
       "      <td>1.001034e+06</td>\n",
       "      <td>2007-01-01</td>\n",
       "      <td>2007-12-31</td>\n",
       "      <td>NaN</td>\n",
       "      <td>425.925934</td>\n",
       "      <td>8196.295898</td>\n",
       "      <td>7800.000000</td>\n",
       "      <td>0.0</td>\n",
       "      <td>0.0</td>\n",
       "      <td>0.0</td>\n",
       "      <td>...</td>\n",
       "      <td>mix</td>\n",
       "      <td>Domestic</td>\n",
       "      <td>5630.0</td>\n",
       "      <td>56.0</td>\n",
       "      <td>3.0</td>\n",
       "      <td>1</td>\n",
       "      <td>Central</td>\n",
       "      <td>1990-11-19</td>\n",
       "      <td>NaN</td>\n",
       "      <td>NaN</td>\n",
       "    </tr>\n",
       "    <tr>\n",
       "      <th>3</th>\n",
       "      <td>1.001034e+06</td>\n",
       "      <td>2008-01-01</td>\n",
       "      <td>2008-12-31</td>\n",
       "      <td>NaN</td>\n",
       "      <td>300.000000</td>\n",
       "      <td>8485.185547</td>\n",
       "      <td>7781.481445</td>\n",
       "      <td>0.0</td>\n",
       "      <td>0.0</td>\n",
       "      <td>0.0</td>\n",
       "      <td>...</td>\n",
       "      <td>mix</td>\n",
       "      <td>Domestic</td>\n",
       "      <td>5630.0</td>\n",
       "      <td>56.0</td>\n",
       "      <td>3.0</td>\n",
       "      <td>1</td>\n",
       "      <td>Central</td>\n",
       "      <td>1990-11-19</td>\n",
       "      <td>NaN</td>\n",
       "      <td>NaN</td>\n",
       "    </tr>\n",
       "    <tr>\n",
       "      <th>4</th>\n",
       "      <td>1.001034e+06</td>\n",
       "      <td>2009-01-01</td>\n",
       "      <td>2009-12-31</td>\n",
       "      <td>NaN</td>\n",
       "      <td>207.407410</td>\n",
       "      <td>5137.037109</td>\n",
       "      <td>15300.000000</td>\n",
       "      <td>0.0</td>\n",
       "      <td>0.0</td>\n",
       "      <td>0.0</td>\n",
       "      <td>...</td>\n",
       "      <td>mix</td>\n",
       "      <td>Domestic</td>\n",
       "      <td>5630.0</td>\n",
       "      <td>56.0</td>\n",
       "      <td>3.0</td>\n",
       "      <td>1</td>\n",
       "      <td>Central</td>\n",
       "      <td>1990-11-19</td>\n",
       "      <td>NaN</td>\n",
       "      <td>0.083333</td>\n",
       "    </tr>\n",
       "    <tr>\n",
       "      <th>...</th>\n",
       "      <td>...</td>\n",
       "      <td>...</td>\n",
       "      <td>...</td>\n",
       "      <td>...</td>\n",
       "      <td>...</td>\n",
       "      <td>...</td>\n",
       "      <td>...</td>\n",
       "      <td>...</td>\n",
       "      <td>...</td>\n",
       "      <td>...</td>\n",
       "      <td>...</td>\n",
       "      <td>...</td>\n",
       "      <td>...</td>\n",
       "      <td>...</td>\n",
       "      <td>...</td>\n",
       "      <td>...</td>\n",
       "      <td>...</td>\n",
       "      <td>...</td>\n",
       "      <td>...</td>\n",
       "      <td>...</td>\n",
       "      <td>...</td>\n",
       "    </tr>\n",
       "    <tr>\n",
       "      <th>287824</th>\n",
       "      <td>4.641209e+11</td>\n",
       "      <td>2011-01-01</td>\n",
       "      <td>2011-12-31</td>\n",
       "      <td>NaN</td>\n",
       "      <td>0.000000</td>\n",
       "      <td>1807.407349</td>\n",
       "      <td>3.703704</td>\n",
       "      <td>0.0</td>\n",
       "      <td>0.0</td>\n",
       "      <td>0.0</td>\n",
       "      <td>...</td>\n",
       "      <td>female</td>\n",
       "      <td>Domestic</td>\n",
       "      <td>5510.0</td>\n",
       "      <td>55.0</td>\n",
       "      <td>3.0</td>\n",
       "      <td>2</td>\n",
       "      <td>East</td>\n",
       "      <td>1990-08-22</td>\n",
       "      <td>NaN</td>\n",
       "      <td>NaN</td>\n",
       "    </tr>\n",
       "    <tr>\n",
       "      <th>287825</th>\n",
       "      <td>4.641209e+11</td>\n",
       "      <td>2012-01-01</td>\n",
       "      <td>2012-12-31</td>\n",
       "      <td>NaN</td>\n",
       "      <td>0.000000</td>\n",
       "      <td>1518.518555</td>\n",
       "      <td>96.296295</td>\n",
       "      <td>0.0</td>\n",
       "      <td>0.0</td>\n",
       "      <td>0.0</td>\n",
       "      <td>...</td>\n",
       "      <td>female</td>\n",
       "      <td>Domestic</td>\n",
       "      <td>5510.0</td>\n",
       "      <td>55.0</td>\n",
       "      <td>3.0</td>\n",
       "      <td>2</td>\n",
       "      <td>East</td>\n",
       "      <td>1990-08-22</td>\n",
       "      <td>NaN</td>\n",
       "      <td>NaN</td>\n",
       "    </tr>\n",
       "    <tr>\n",
       "      <th>287826</th>\n",
       "      <td>4.641209e+11</td>\n",
       "      <td>2013-01-01</td>\n",
       "      <td>2013-12-31</td>\n",
       "      <td>NaN</td>\n",
       "      <td>0.000000</td>\n",
       "      <td>988.888916</td>\n",
       "      <td>77.777779</td>\n",
       "      <td>0.0</td>\n",
       "      <td>0.0</td>\n",
       "      <td>0.0</td>\n",
       "      <td>...</td>\n",
       "      <td>NaN</td>\n",
       "      <td>NaN</td>\n",
       "      <td>5510.0</td>\n",
       "      <td>55.0</td>\n",
       "      <td>3.0</td>\n",
       "      <td>2</td>\n",
       "      <td>East</td>\n",
       "      <td>1990-08-22</td>\n",
       "      <td>NaN</td>\n",
       "      <td>NaN</td>\n",
       "    </tr>\n",
       "    <tr>\n",
       "      <th>287827</th>\n",
       "      <td>4.641209e+11</td>\n",
       "      <td>2014-01-01</td>\n",
       "      <td>2014-12-31</td>\n",
       "      <td>NaN</td>\n",
       "      <td>0.000000</td>\n",
       "      <td>644.444458</td>\n",
       "      <td>233.333328</td>\n",
       "      <td>0.0</td>\n",
       "      <td>0.0</td>\n",
       "      <td>0.0</td>\n",
       "      <td>...</td>\n",
       "      <td>female</td>\n",
       "      <td>Domestic</td>\n",
       "      <td>5510.0</td>\n",
       "      <td>55.0</td>\n",
       "      <td>3.0</td>\n",
       "      <td>2</td>\n",
       "      <td>East</td>\n",
       "      <td>1990-08-22</td>\n",
       "      <td>NaN</td>\n",
       "      <td>NaN</td>\n",
       "    </tr>\n",
       "    <tr>\n",
       "      <th>287828</th>\n",
       "      <td>4.641209e+11</td>\n",
       "      <td>2015-01-01</td>\n",
       "      <td>2015-12-31</td>\n",
       "      <td>NaN</td>\n",
       "      <td>0.000000</td>\n",
       "      <td>166.666672</td>\n",
       "      <td>270.370361</td>\n",
       "      <td>0.0</td>\n",
       "      <td>0.0</td>\n",
       "      <td>0.0</td>\n",
       "      <td>...</td>\n",
       "      <td>female</td>\n",
       "      <td>Domestic</td>\n",
       "      <td>5510.0</td>\n",
       "      <td>55.0</td>\n",
       "      <td>3.0</td>\n",
       "      <td>2</td>\n",
       "      <td>East</td>\n",
       "      <td>1990-08-22</td>\n",
       "      <td>NaN</td>\n",
       "      <td>NaN</td>\n",
       "    </tr>\n",
       "  </tbody>\n",
       "</table>\n",
       "<p>287829 rows × 48 columns</p>\n",
       "</div>"
      ],
      "text/plain": [
       "             comp_id       begin         end  COGS       amort   curr_assets  \\\n",
       "0       1.001034e+06  2005-01-01  2005-12-31   NaN  692.592590   7266.666504   \n",
       "1       1.001034e+06  2006-01-01  2006-12-31   NaN  603.703674  13122.222656   \n",
       "2       1.001034e+06  2007-01-01  2007-12-31   NaN  425.925934   8196.295898   \n",
       "3       1.001034e+06  2008-01-01  2008-12-31   NaN  300.000000   8485.185547   \n",
       "4       1.001034e+06  2009-01-01  2009-12-31   NaN  207.407410   5137.037109   \n",
       "...              ...         ...         ...   ...         ...           ...   \n",
       "287824  4.641209e+11  2011-01-01  2011-12-31   NaN    0.000000   1807.407349   \n",
       "287825  4.641209e+11  2012-01-01  2012-12-31   NaN    0.000000   1518.518555   \n",
       "287826  4.641209e+11  2013-01-01  2013-12-31   NaN    0.000000    988.888916   \n",
       "287827  4.641209e+11  2014-01-01  2014-12-31   NaN    0.000000    644.444458   \n",
       "287828  4.641209e+11  2015-01-01  2015-12-31   NaN    0.000000    166.666672   \n",
       "\n",
       "           curr_liab  extra_exp  extra_inc  extra_profit_loss  ...  gender  \\\n",
       "0        7574.074219        0.0        0.0                0.0  ...     mix   \n",
       "1       12211.111328        0.0        0.0                0.0  ...     mix   \n",
       "2        7800.000000        0.0        0.0                0.0  ...     mix   \n",
       "3        7781.481445        0.0        0.0                0.0  ...     mix   \n",
       "4       15300.000000        0.0        0.0                0.0  ...     mix   \n",
       "...              ...        ...        ...                ...  ...     ...   \n",
       "287824      3.703704        0.0        0.0                0.0  ...  female   \n",
       "287825     96.296295        0.0        0.0                0.0  ...  female   \n",
       "287826     77.777779        0.0        0.0                0.0  ...     NaN   \n",
       "287827    233.333328        0.0        0.0                0.0  ...  female   \n",
       "287828    270.370361        0.0        0.0                0.0  ...  female   \n",
       "\n",
       "          origin  nace_main  ind2  ind  urban_m  region_m  founded_date  \\\n",
       "0       Domestic     5630.0  56.0  3.0        1   Central    1990-11-19   \n",
       "1       Domestic     5630.0  56.0  3.0        1   Central    1990-11-19   \n",
       "2       Domestic     5630.0  56.0  3.0        1   Central    1990-11-19   \n",
       "3       Domestic     5630.0  56.0  3.0        1   Central    1990-11-19   \n",
       "4       Domestic     5630.0  56.0  3.0        1   Central    1990-11-19   \n",
       "...          ...        ...   ...  ...      ...       ...           ...   \n",
       "287824  Domestic     5510.0  55.0  3.0        2      East    1990-08-22   \n",
       "287825  Domestic     5510.0  55.0  3.0        2      East    1990-08-22   \n",
       "287826       NaN     5510.0  55.0  3.0        2      East    1990-08-22   \n",
       "287827  Domestic     5510.0  55.0  3.0        2      East    1990-08-22   \n",
       "287828  Domestic     5510.0  55.0  3.0        2      East    1990-08-22   \n",
       "\n",
       "        exit_date  labor_avg  \n",
       "0             NaN        NaN  \n",
       "1             NaN        NaN  \n",
       "2             NaN        NaN  \n",
       "3             NaN        NaN  \n",
       "4             NaN   0.083333  \n",
       "...           ...        ...  \n",
       "287824        NaN        NaN  \n",
       "287825        NaN        NaN  \n",
       "287826        NaN        NaN  \n",
       "287827        NaN        NaN  \n",
       "287828        NaN        NaN  \n",
       "\n",
       "[287829 rows x 48 columns]"
      ]
     },
     "execution_count": 531,
     "metadata": {},
     "output_type": "execute_result"
    }
   ],
   "source": [
    "data"
   ]
  },
  {
   "cell_type": "code",
   "execution_count": 532,
   "id": "f3946dc4-31d2-46cf-ba0f-02399963f4c0",
   "metadata": {
    "tags": []
   },
   "outputs": [
    {
     "data": {
      "text/plain": [
       "Index(['comp_id', 'begin', 'end', 'COGS', 'amort', 'curr_assets', 'curr_liab',\n",
       "       'extra_exp', 'extra_inc', 'extra_profit_loss', 'finished_prod',\n",
       "       'fixed_assets', 'inc_bef_tax', 'intang_assets', 'inventories',\n",
       "       'liq_assets', 'material_exp', 'net_dom_sales', 'net_exp_sales',\n",
       "       'personnel_exp', 'profit_loss_year', 'sales', 'share_eq',\n",
       "       'subscribed_cap', 'tang_assets', 'wages', 'D', 'balsheet_flag',\n",
       "       'balsheet_length', 'balsheet_notfullyear', 'year', 'founded_year',\n",
       "       'exit_year', 'ceo_count', 'foreign', 'female', 'birth_year',\n",
       "       'inoffice_days', 'gender', 'origin', 'nace_main', 'ind2', 'ind',\n",
       "       'urban_m', 'region_m', 'founded_date', 'exit_date', 'labor_avg'],\n",
       "      dtype='object')"
      ]
     },
     "execution_count": 532,
     "metadata": {},
     "output_type": "execute_result"
    }
   ],
   "source": [
    "# Checking out the column names\n",
    "data.columns"
   ]
  },
  {
   "cell_type": "code",
   "execution_count": 533,
   "id": "0b297574-c4cb-465c-aa0e-83bc0c01acd6",
   "metadata": {
    "scrolled": true,
    "tags": []
   },
   "outputs": [
    {
     "name": "stdout",
     "output_type": "stream",
     "text": [
      "<class 'pandas.core.frame.DataFrame'>\n",
      "RangeIndex: 287829 entries, 0 to 287828\n",
      "Data columns (total 48 columns):\n",
      " #   Column                Non-Null Count   Dtype  \n",
      "---  ------                --------------   -----  \n",
      " 0   comp_id               287829 non-null  float64\n",
      " 1   begin                 287829 non-null  object \n",
      " 2   end                   287829 non-null  object \n",
      " 3   COGS                  18257 non-null   float64\n",
      " 4   amort                 279789 non-null  float64\n",
      " 5   curr_assets           287698 non-null  float64\n",
      " 6   curr_liab             287698 non-null  float64\n",
      " 7   extra_exp             269300 non-null  float64\n",
      " 8   extra_inc             269300 non-null  float64\n",
      " 9   extra_profit_loss     270626 non-null  float64\n",
      " 10  finished_prod         17485 non-null   float64\n",
      " 11  fixed_assets          287698 non-null  float64\n",
      " 12  inc_bef_tax           280392 non-null  float64\n",
      " 13  intang_assets         287689 non-null  float64\n",
      " 14  inventories           287698 non-null  float64\n",
      " 15  liq_assets            287698 non-null  float64\n",
      " 16  material_exp          279789 non-null  float64\n",
      " 17  net_dom_sales         18257 non-null   float64\n",
      " 18  net_exp_sales         18257 non-null   float64\n",
      " 19  personnel_exp         279789 non-null  float64\n",
      " 20  profit_loss_year      277945 non-null  float64\n",
      " 21  sales                 280392 non-null  float64\n",
      " 22  share_eq              287698 non-null  float64\n",
      " 23  subscribed_cap        287698 non-null  float64\n",
      " 24  tang_assets           286359 non-null  float64\n",
      " 25  wages                 17983 non-null   float64\n",
      " 26  D                     0 non-null       float64\n",
      " 27  balsheet_flag         287829 non-null  int64  \n",
      " 28  balsheet_length       287829 non-null  int64  \n",
      " 29  balsheet_notfullyear  287829 non-null  int64  \n",
      " 30  year                  287829 non-null  int64  \n",
      " 31  founded_year          231372 non-null  float64\n",
      " 32  exit_year             38859 non-null   float64\n",
      " 33  ceo_count             231402 non-null  float64\n",
      " 34  foreign               231402 non-null  float64\n",
      " 35  female                231402 non-null  float64\n",
      " 36  birth_year            176011 non-null  float64\n",
      " 37  inoffice_days         231402 non-null  float64\n",
      " 38  gender                231402 non-null  object \n",
      " 39  origin                231402 non-null  object \n",
      " 40  nace_main             286791 non-null  float64\n",
      " 41  ind2                  286791 non-null  float64\n",
      " 42  ind                   278060 non-null  float64\n",
      " 43  urban_m               287829 non-null  int64  \n",
      " 44  region_m              286989 non-null  object \n",
      " 45  founded_date          287778 non-null  object \n",
      " 46  exit_date             56180 non-null   object \n",
      " 47  labor_avg             141297 non-null  float64\n",
      "dtypes: float64(36), int64(5), object(7)\n",
      "memory usage: 105.4+ MB\n"
     ]
    }
   ],
   "source": [
    "# Checking out the info of the data set\n",
    "data.info()"
   ]
  },
  {
   "cell_type": "markdown",
   "id": "bf81ae59-72ae-4ffe-95bf-20e23770ed39",
   "metadata": {
    "tags": []
   },
   "source": [
    "## 1.2 Label Engineering"
   ]
  },
  {
   "cell_type": "code",
   "execution_count": 534,
   "id": "b96bbb60-ab28-49a9-bcd6-a9f09ae0039b",
   "metadata": {
    "tags": []
   },
   "outputs": [],
   "source": [
    "# Set the index to the columns of interest\n",
    "data = data.set_index([\"year\", \"comp_id\"])\n",
    "\n",
    "# Perform the unstack operation, which will automatically introduce NaNs for missing combinations\n",
    "data = data.unstack().stack(dropna=False)\n",
    "\n",
    "# Reset the index to make 'year' and 'comp_id' regular columns again\n",
    "data = data.reset_index()\n",
    "\n",
    "# Note: The unstack() and stack(dropna=False) operations introduce NaNs for missing entries automatically.\n"
   ]
  },
  {
   "cell_type": "code",
   "execution_count": 535,
   "id": "0013df0d-b759-4284-acce-7777a50e5f65",
   "metadata": {
    "tags": []
   },
   "outputs": [],
   "source": [
    "# Generate status_alive; if sales are larger than zero and not-NA, then firm is alive\n",
    "data[\"status_alive\"] = (data[\"sales\"] > 0 & (False == data[\"sales\"].isna())).astype(int)\n",
    "\n",
    "\n",
    "# It defaults in two years if there are sales in this year but no sales two years later\n",
    "# Status_in_two_years: data.groupby('comp_id')['status_alive'].shift(-2)\n",
    "data[\"default\"] = (\n",
    "    (data[\"status_alive\"] == 1)\n",
    "    & (data.groupby(\"comp_id\")[\"status_alive\"].shift(-2) == 0)\n",
    ").astype(int)\n"
   ]
  },
  {
   "cell_type": "code",
   "execution_count": 536,
   "id": "c8619a01-248e-491c-9de5-24ff0159c7dd",
   "metadata": {
    "tags": []
   },
   "outputs": [
    {
     "data": {
      "text/plain": [
       "status_alive\n",
       "0    318453\n",
       "1    238491\n",
       "Name: count, dtype: int64"
      ]
     },
     "execution_count": 536,
     "metadata": {},
     "output_type": "execute_result"
    }
   ],
   "source": [
    "data['status_alive'].value_counts()"
   ]
  },
  {
   "cell_type": "code",
   "execution_count": 537,
   "id": "6e26387c-464d-4ef9-8c2a-0727b125a53b",
   "metadata": {
    "tags": []
   },
   "outputs": [
    {
     "data": {
      "text/plain": [
       "default\n",
       "0    507577\n",
       "1     49367\n",
       "Name: count, dtype: int64"
      ]
     },
     "execution_count": 537,
     "metadata": {},
     "output_type": "execute_result"
    }
   ],
   "source": [
    "data['default'].value_counts()"
   ]
  },
  {
   "cell_type": "code",
   "execution_count": 538,
   "id": "1d9fc7aa-40fe-4aba-a99c-7ed1880fc6f1",
   "metadata": {
    "tags": []
   },
   "outputs": [
    {
     "data": {
      "text/plain": [
       "count    556944.000000\n",
       "mean          0.088639\n",
       "std           0.284222\n",
       "min           0.000000\n",
       "25%           0.000000\n",
       "50%           0.000000\n",
       "75%           0.000000\n",
       "max           1.000000\n",
       "Name: default, dtype: float64"
      ]
     },
     "execution_count": 538,
     "metadata": {},
     "output_type": "execute_result"
    }
   ],
   "source": [
    "data['default'].describe()"
   ]
  },
  {
   "cell_type": "markdown",
   "id": "ff7f729c-47d9-452e-b04e-2894ac5906cd",
   "metadata": {},
   "source": [
    "This concludes that 311,016 firms defaulted and 245,928 firms stayed alive, and 2 years later, 274,393 will stay alive and 13,436 firms will default."
   ]
  },
  {
   "cell_type": "code",
   "execution_count": 539,
   "id": "53ffdbfc-a3f2-4497-b300-e2e2e817520f",
   "metadata": {
    "tags": []
   },
   "outputs": [
    {
     "data": {
      "text/plain": [
       "count    2.803920e+05\n",
       "mean     5.042513e+05\n",
       "std      3.861890e+06\n",
       "min     -1.472559e+07\n",
       "25%      5.295370e+03\n",
       "50%      3.280741e+04\n",
       "75%      1.210056e+05\n",
       "max      1.110294e+08\n",
       "Name: sales, dtype: float64"
      ]
     },
     "execution_count": 539,
     "metadata": {},
     "output_type": "execute_result"
    }
   ],
   "source": [
    "data['sales'].describe()"
   ]
  },
  {
   "cell_type": "code",
   "execution_count": 540,
   "id": "f3483476-c2c6-45d3-8204-67a17e133c67",
   "metadata": {
    "tags": []
   },
   "outputs": [],
   "source": [
    "# Replacimg negative sales values with 1. This operation is done outside of \n",
    "# ...the `assign` method because it's a direct modification of the dataframe.\n",
    "data[\"sales\"] = np.where(\n",
    "    data[\"sales\"] < 0, 1, data[\"sales\"]\n",
    ")\n",
    "\n",
    "# Adding new columns to the dataframe through the `assign` method.\n",
    "data = data.assign(\n",
    "    # Create a new column 'ln_sales'. If sales are greater than 0, calculate the natural logarithm of sales.\n",
    "    # If sales are NaN, keep them as NaN. Otherwise, set to 0. This ensures that negative sales, \n",
    "    # ...if any existed before the first operation, now converted to 1, won't result in a math error.\n",
    "    ln_sales=np.where(\n",
    "        data[\"sales\"] > 0,\n",
    "        np.log(data[\"sales\"]),\n",
    "        (np.where(data[\"sales\"].isna(), np.nan, 0)),\n",
    "    ),\n",
    "    # Convert sales to millions by dividing by 1,000,000 for easier readability and analysis.\n",
    "    sales_mil=data[\"sales\"] / 1000000,\n",
    "    # Similar to 'ln_sales', but this time applying the logarithm to the sales converted to millions. \n",
    "    # ...Handles NaN and non-positive values similarly.\n",
    "    sales_mil_log=np.where(\n",
    "        data[\"sales\"] > 0,\n",
    "        np.log(data[\"sales\"] / 1000000),\n",
    "        (np.where(data[\"sales\"].isna(), np.nan, 0)),\n",
    "    ),\n",
    ")"
   ]
  },
  {
   "cell_type": "code",
   "execution_count": 541,
   "id": "86eb8f55-6f54-41c9-a7bc-6a77dcd7293c",
   "metadata": {
    "tags": []
   },
   "outputs": [],
   "source": [
    "# Calculating the year-over-year change in the logarithm of sales (in millions) by subtracting \n",
    "# ...the previous year's value from the current year's value for each company.\n",
    "data['d1_sales_mil_log']=data['sales_mil_log']-data.groupby('comp_id')['sales_mil_log'].shift(1)\n"
   ]
  },
  {
   "cell_type": "code",
   "execution_count": 542,
   "id": "4d96578e-b1e8-409c-b0f7-92069056fcec",
   "metadata": {
    "tags": []
   },
   "outputs": [],
   "source": [
    "# Calculating the age of each company by subtracting the founding year from the current year. \n",
    "# ...If the result is negative (which might happen due to data errors), set the age to 0.\n",
    "data[\"age\"] = np.where(\n",
    "    data[\"year\"] - data[\"founded_year\"] < 0, 0, data[\"year\"] - data[\"founded_year\"]\n",
    ")\n",
    "\n",
    "# Identifying new companies or those without a full year of balance sheet data. \n",
    "# ...Mark them with a 1, others with a 0. If 'age' is NaN, keep it as NaN.\n",
    "data[\"new\"] = np.where(\n",
    "    ((data[\"age\"] <= 1) | (data[\"balsheet_notfullyear\"] == 1)),\n",
    "    1,\n",
    "    (np.where(data[\"age\"].isna(), np.nan, 0)),\n",
    ")\n",
    "\n",
    "# For new companies, set the year-over-year change in log sales to 0. \n",
    "# ...This adjustment is for handling new entries or missing data appropriately.\n",
    "data[\"d1_sales_mil_log\"] = np.where(\n",
    "    data[\"new\"] == 1, 0, np.where(data[\"new\"].isna(), np.nan, data[\"d1_sales_mil_log\"])\n",
    ")\n",
    "\n",
    "# If the year-over-year change in log sales is NaN, consider the company \n",
    "# ...as new and update the 'new' column accordingly.\n",
    "data[\"new\"] = np.where(data[\"d1_sales_mil_log\"].isna(), 1, data[\"new\"])\n",
    "\n",
    "# Replacing NaN values in 'd1_sales_mil_log' with 0, ensuring the dataset \n",
    "# ...does not have missing values in this calculation.\n",
    "data[\"d1_sales_mil_log\"] = np.where(\n",
    "    data[\"d1_sales_mil_log\"].isna(), 0, data[\"d1_sales_mil_log\"]\n",
    ")"
   ]
  },
  {
   "cell_type": "code",
   "execution_count": 543,
   "id": "f1644e72-a689-43dd-917b-56755016f0e6",
   "metadata": {
    "tags": []
   },
   "outputs": [
    {
     "data": {
      "text/plain": [
       "count    556944.000000\n",
       "mean          0.680936\n",
       "std           0.466114\n",
       "min           0.000000\n",
       "25%           0.000000\n",
       "50%           1.000000\n",
       "75%           1.000000\n",
       "max           1.000000\n",
       "Name: new, dtype: float64"
      ]
     },
     "execution_count": 543,
     "metadata": {},
     "output_type": "execute_result"
    }
   ],
   "source": [
    "data['new'].describe()"
   ]
  },
  {
   "cell_type": "markdown",
   "id": "966080a6-d7e0-4525-b6b7-76412d9131c4",
   "metadata": {},
   "source": [
    "This concludes that there are 556,944 new firms."
   ]
  },
  {
   "cell_type": "code",
   "execution_count": 544,
   "id": "150ef83e-709f-4506-b939-931b09e4743d",
   "metadata": {
    "scrolled": true,
    "tags": []
   },
   "outputs": [
    {
     "data": {
      "text/plain": [
       "year                         0\n",
       "comp_id                      0\n",
       "begin                   269115\n",
       "end                     269115\n",
       "COGS                    538687\n",
       "amort                   277155\n",
       "curr_assets             269246\n",
       "curr_liab               269246\n",
       "extra_exp               287644\n",
       "extra_inc               287644\n",
       "extra_profit_loss       286318\n",
       "finished_prod           539459\n",
       "fixed_assets            269246\n",
       "inc_bef_tax             276552\n",
       "intang_assets           269255\n",
       "inventories             269246\n",
       "liq_assets              269246\n",
       "material_exp            277155\n",
       "net_dom_sales           538687\n",
       "net_exp_sales           538687\n",
       "personnel_exp           277155\n",
       "profit_loss_year        278999\n",
       "sales                   276552\n",
       "share_eq                269246\n",
       "subscribed_cap          269246\n",
       "tang_assets             270585\n",
       "wages                   538961\n",
       "D                       556944\n",
       "balsheet_flag           269115\n",
       "balsheet_length         269115\n",
       "balsheet_notfullyear    269115\n",
       "founded_year            325572\n",
       "exit_year               518085\n",
       "ceo_count               325542\n",
       "foreign                 325542\n",
       "female                  325542\n",
       "birth_year              380933\n",
       "inoffice_days           325542\n",
       "gender                  325542\n",
       "origin                  325542\n",
       "nace_main               270153\n",
       "ind2                    270153\n",
       "ind                     278884\n",
       "urban_m                 269115\n",
       "region_m                269955\n",
       "founded_date            269166\n",
       "exit_date               500764\n",
       "labor_avg               415647\n",
       "status_alive                 0\n",
       "default                      0\n",
       "ln_sales                276552\n",
       "sales_mil               276552\n",
       "sales_mil_log           276552\n",
       "d1_sales_mil_log             0\n",
       "age                     325572\n",
       "new                          0\n",
       "dtype: int64"
      ]
     },
     "execution_count": 544,
     "metadata": {},
     "output_type": "execute_result"
    }
   ],
   "source": [
    "data.isna().sum()"
   ]
  },
  {
   "cell_type": "markdown",
   "id": "3bcc3cc7-144b-49fe-bce3-dfef8e02434e",
   "metadata": {
    "tags": []
   },
   "source": [
    "## 1.3 Feature Engineering"
   ]
  },
  {
   "cell_type": "code",
   "execution_count": 545,
   "id": "4d220d12-4149-4e8f-a126-650540614bd0",
   "metadata": {
    "tags": []
   },
   "outputs": [],
   "source": [
    "# Categorizing the industry codes into broader groups\n",
    "data[\"ind2_cat\"] = data[\"ind2\"].copy()\n",
    "data[\"ind2_cat\"] = np.where(data[\"ind2\"] > 56, 60, data[\"ind2_cat\"])\n",
    "data[\"ind2_cat\"] = np.where(data[\"ind2\"] < 26, 20, data[\"ind2_cat\"])\n",
    "data[\"ind2_cat\"] = np.where(\n",
    "    (data[\"ind2\"] < 55) & (data[\"ind2\"] > 35), 40, data[\"ind2_cat\"]\n",
    ")\n",
    "data[\"ind2_cat\"] = np.where(data[\"ind2\"] == 31, 30, data[\"ind2_cat\"])\n",
    "data[\"ind2_cat\"] = np.where(data[\"ind2\"].isna(), 99, data[\"ind2_cat\"])"
   ]
  },
  {
   "cell_type": "code",
   "execution_count": 546,
   "id": "a983386a-6524-4040-8a68-68f3bcba26b6",
   "metadata": {
    "tags": []
   },
   "outputs": [
    {
     "data": {
      "text/plain": [
       "ind2_cat\n",
       "20.0       675\n",
       "26.0     14877\n",
       "27.0      9116\n",
       "28.0     26098\n",
       "29.0      4379\n",
       "30.0      2499\n",
       "32.0      1820\n",
       "33.0     21839\n",
       "35.0         6\n",
       "40.0      2766\n",
       "55.0     33756\n",
       "56.0    165521\n",
       "60.0      3439\n",
       "99.0    270153\n",
       "Name: comp_id, dtype: int64"
      ]
     },
     "execution_count": 546,
     "metadata": {},
     "output_type": "execute_result"
    }
   ],
   "source": [
    "# Checking out the industry codes using comp_id as a reference\n",
    "data.groupby('ind2_cat').count()['comp_id']"
   ]
  },
  {
   "cell_type": "code",
   "execution_count": 547,
   "id": "182fd6a9-c356-4e06-af5e-086911a4e6f6",
   "metadata": {
    "tags": []
   },
   "outputs": [],
   "source": [
    "# Adding more variables as firm characteristics\n",
    "data[\"age2\"] = data[\"age\"] ** 2\n",
    "\n",
    "# Grouping values for foreign_management as dummies \n",
    "data[\"foreign_management\"] = np.where(\n",
    "    data[\"foreign\"] >= 0.5, 1, np.where(data[\"foreign\"].isna(), np.nan, 0)\n",
    ")\n",
    "\n",
    "# Creating new columns for the categorical gender and and region variables\n",
    "data[\"gender_m\"] = data[\"gender\"].astype(\"category\")\n",
    "data[\"m_region_loc\"] = data[\"region_m\"].astype(\"category\")"
   ]
  },
  {
   "cell_type": "markdown",
   "id": "deb33eeb-c5bd-47bc-90ee-555ed14ea9f1",
   "metadata": {},
   "source": [
    "### Looking at financial variables and creating additional ones"
   ]
  },
  {
   "cell_type": "code",
   "execution_count": 548,
   "id": "f8780a66-8711-48cc-bf82-0ecc8ff4de66",
   "metadata": {
    "tags": []
   },
   "outputs": [
    {
     "data": {
      "text/plain": [
       "flag_asset_problem\n",
       "0.0    287466\n",
       "1.0       223\n",
       "Name: comp_id, dtype: int64"
      ]
     },
     "execution_count": 548,
     "metadata": {},
     "output_type": "execute_result"
    }
   ],
   "source": [
    "# Looking at financial variables and creating new financial ratios\n",
    "\n",
    "# As assets cannot be negative: transforming the negative asset values to 0 and flagging them\n",
    "data[\"flag_asset_problem\"] = np.where(\n",
    "    (\n",
    "        (data[\"intang_assets\"] < 0)\n",
    "        | (data[\"curr_assets\"] < 0)\n",
    "        | (data[\"fixed_assets\"] < 0)\n",
    "    ),\n",
    "    1,\n",
    "    0,\n",
    ")\n",
    "data[\"flag_asset_problem\"] = np.where(\n",
    "    (\n",
    "        (data[\"intang_assets\"].isna())\n",
    "        | (data[\"curr_assets\"].isna())\n",
    "        | (data[\"fixed_assets\"].isna())\n",
    "    ),\n",
    "    np.nan,\n",
    "    data[\"flag_asset_problem\"],\n",
    ")\n",
    "data.groupby(\"flag_asset_problem\").count()[\"comp_id\"]"
   ]
  },
  {
   "cell_type": "code",
   "execution_count": 549,
   "id": "47a411dd-d39f-4cc1-9eef-0fa77f23fb2a",
   "metadata": {
    "tags": []
   },
   "outputs": [],
   "source": [
    "# Tranforming the negative asset variables to 0\n",
    "data[\"intang_assets\"] = np.where(data[\"intang_assets\"] < 0, 0, data[\"intang_assets\"])\n",
    "data[\"curr_assets\"] = np.where(data[\"curr_assets\"] < 0, 0, data[\"curr_assets\"])\n",
    "data[\"fixed_assets\"] = np.where(data[\"fixed_assets\"] < 0, 0, data[\"fixed_assets\"])"
   ]
  },
  {
   "cell_type": "code",
   "execution_count": 550,
   "id": "834d1599-b416-40d4-a519-9478afc68acc",
   "metadata": {
    "tags": []
   },
   "outputs": [
    {
     "data": {
      "text/plain": [
       "count    2.876890e+05\n",
       "mean     5.980575e+05\n",
       "std      2.623770e+07\n",
       "min      0.000000e+00\n",
       "25%      4.792593e+03\n",
       "50%      2.024815e+04\n",
       "75%      8.810741e+04\n",
       "max      1.032471e+10\n",
       "Name: total_assets_bs, dtype: float64"
      ]
     },
     "execution_count": 550,
     "metadata": {},
     "output_type": "execute_result"
    }
   ],
   "source": [
    "# Generating the total assets balance sheet variable by adding up the intangible, current and fixed assets\n",
    "data[\"total_assets_bs\"] = (\n",
    "    data[\"intang_assets\"] + data[\"curr_assets\"] + data[\"fixed_assets\"]\n",
    ")\n",
    "data[\"total_assets_bs\"].describe()"
   ]
  },
  {
   "cell_type": "code",
   "execution_count": 551,
   "id": "a4f33ffa-e557-4563-a667-1097a2d0458d",
   "metadata": {
    "tags": []
   },
   "outputs": [],
   "source": [
    "# Collecting the profit and loss names\n",
    "pl_names = ['extra_exp',\n",
    "            'extra_inc',\n",
    "            'extra_profit_loss',\n",
    "            'inc_bef_tax',\n",
    "            'inventories',\n",
    "            'material_exp',\n",
    "            'profit_loss_year',\n",
    "            'personnel_exp']\n",
    "# Collecting the balance sheet names\n",
    "bs_names = ['intang_assets',\n",
    "            'curr_liab',\n",
    "            'fixed_assets',\n",
    "            'liq_assets',\n",
    "            'curr_assets',\n",
    "            'share_eq',\n",
    "            'subscribed_cap',\n",
    "            'tang_assets' ]"
   ]
  },
  {
   "cell_type": "code",
   "execution_count": 552,
   "id": "989584b4-db6d-4ad4-bb78-ac9d99f970f1",
   "metadata": {
    "tags": []
   },
   "outputs": [],
   "source": [
    "# Scaling the the pl_names elements by dividing them with sales and creating a new column for them\n",
    "data[[col + \"_pl\" for col in pl_names]] = data[pl_names].div(\n",
    "    data[\"sales\"], axis=\"index\"\n",
    ")"
   ]
  },
  {
   "cell_type": "code",
   "execution_count": 553,
   "id": "a9c643fa-dd5b-436b-9dd1-69129be27e8e",
   "metadata": {
    "tags": []
   },
   "outputs": [],
   "source": [
    "# Creating new columns for bs_names by dividing each specified column by total_assets_bs\n",
    "for col in bs_names:\n",
    "    # Assuming bs_names does not already include \"_bs\"\n",
    "    new_col_name = f\"{col}_bs\"\n",
    "    # Replacing Infinite and NaN values with 0 in the new column\n",
    "    data[new_col_name] = data[col].div(data[\"total_assets_bs\"]).replace((np.inf, -np.inf, np.nan), 0)\n",
    "    \n",
    "    # Set values to NaN where total_assets_bs is NaN\n",
    "    data[new_col_name] = np.where(data[\"total_assets_bs\"].isna(), np.nan, data[new_col_name])\n"
   ]
  },
  {
   "cell_type": "code",
   "execution_count": 554,
   "id": "906a6509-0356-41b5-b9f7-5162ddad6d85",
   "metadata": {
    "tags": []
   },
   "outputs": [],
   "source": [
    "# Creating new columns for bs_names by dividing each specified column by total_assets_bs\n",
    "for col in bs_names:\n",
    "    # Assuming bs_names does not already include \"_bs\"\n",
    "    new_col_name = f\"{col}_bs\" \n",
    "    # Directly assigning the result of division, handling NaN in total_assets_bs inline\n",
    "    data[new_col_name] = np.where(\n",
    "        data[\"total_assets_bs\"].isna(), \n",
    "        # If total_assets_bs is NaN, assign NaN\n",
    "        np.nan, \n",
    "        # Handling division by zero by replacing NaN values resulting from division by zero with 0\n",
    "        # ... and replacing Infinite values with 0\n",
    "        data[col].div(data[\"total_assets_bs\"], fill_value=0).replace((np.inf, -np.inf), 0)\n",
    "    )"
   ]
  },
  {
   "cell_type": "code",
   "execution_count": 555,
   "id": "7a73753f-c229-4c9f-aa98-802db27ae620",
   "metadata": {
    "tags": []
   },
   "outputs": [],
   "source": [
    "# Dividing all bs_names elements by total_assets_bs and creating new column for it\n",
    "data[[col + \"_bs\" for col in bs_names]] = (\n",
    "    data[bs_names]\n",
    "    .div(data[\"total_assets_bs\"], axis=\"index\")\n",
    "    # Replacing Infinite values with 0\n",
    "    .replace((np.inf, -np.inf, np.nan), (0, 0, 0))\n",
    ")\n",
    "# Getting Nan values where total_assets_bs is NaN\n",
    "for col in bs_names:\n",
    "    data[col + \"_bs\"] = np.where(\n",
    "        data[\"total_assets_bs\"].isna(), np.nan, data[col + \"_bs\"]\n",
    "    )\n",
    "    "
   ]
  },
  {
   "cell_type": "markdown",
   "id": "7c799e24-2771-4ebe-b3d3-9608c250d9d7",
   "metadata": {},
   "source": [
    "### Creating flags and winsorizing tails\n",
    "\n",
    "Winsorizing is dropping extreme values, usually by setting a threshold at a certain percentile in the distribution, and replacing values beyond that threshold with the threshold value itself."
   ]
  },
  {
   "cell_type": "code",
   "execution_count": 556,
   "id": "91d21f72-00d5-4f61-bc5f-8bb2bc8e18c6",
   "metadata": {
    "tags": []
   },
   "outputs": [],
   "source": [
    "# Creating a list for the variables that represent accounting items that cannot be negative (e.g. materials)\n",
    "zero = [\n",
    "    \"extra_exp_pl\",\n",
    "    \"extra_inc_pl\",\n",
    "    \"inventories_pl\",\n",
    "    \"material_exp_pl\",\n",
    "    \"personnel_exp_pl\",\n",
    "    \"curr_liab_bs\",\n",
    "    \"fixed_assets_bs\",\n",
    "    \"liq_assets_bs\",\n",
    "    \"curr_assets_bs\",\n",
    "    \"subscribed_cap_bs\",\n",
    "    \"intang_assets_bs\",\n",
    "]\n",
    "\n",
    "# Creating a new column for values above 1, and leaving NaN values unchanged\n",
    "data[[col + \"_flag_high\" for col in zero]] = np.where(\n",
    "    data[zero].isna(), np.nan, (data[zero] > 1).astype(int)\n",
    ")\n",
    "# Replacing values above 1 with 1\n",
    "data[[col for col in zero]] = np.where(\n",
    "    data[zero].isna(), np.nan, np.where(data[zero] > 1, 1, data[zero])\n",
    ")\n",
    "# Creating a column to flag error\n",
    "data[[col + \"_flag_error\" for col in zero]] = np.where(\n",
    "    data[zero].isna(), np.nan, (data[zero] < 0).astype(int)\n",
    ")\n",
    "# Replacing negative values with 0\n",
    "data[[col for col in zero]] = np.where(\n",
    "    data[zero].isna(), np.nan, np.where(data[zero] < 0, 0, data[zero])\n",
    ")"
   ]
  },
  {
   "cell_type": "code",
   "execution_count": 557,
   "id": "64eb790d-2c39-4983-80a4-07189206740e",
   "metadata": {
    "tags": []
   },
   "outputs": [],
   "source": [
    "# Pooling variables that could be any, but are mostly between -1 and 1\n",
    "anyof = [\"extra_profit_loss_pl\",\n",
    "         \"inc_bef_tax_pl\",\n",
    "         \"profit_loss_year_pl\",\n",
    "         \"share_eq_bs\"]\n",
    "\n",
    "# Raplcing negative values with -1\n",
    "data[[col + \"_flag_low\" for col in anyof]] = np.where(\n",
    "    data[anyof].isna(), np.nan, (data[anyof] < -1).astype(int)\n",
    ")\n",
    "data[[col for col in anyof]] = np.where(\n",
    "    data[anyof].isna(), np.nan, np.where((data[anyof] < -1), -1, data[anyof])\n",
    ")\n",
    "# Replacing values above 1 with 1\n",
    "data[[col + \"_flag_high\" for col in anyof]] = np.where(\n",
    "    data[anyof].isna(), np.nan, (data[anyof] > 1).astype(int)\n",
    ")\n",
    "data[[col for col in anyof]] = np.where(\n",
    "    data[anyof].isna(), np.nan, np.where((data[anyof] > 1), 1, data[anyof])\n",
    ")\n",
    "# Creating a column to flag errors\n",
    "data[[col + \"_flag_zero\" for col in anyof]] = np.where(\n",
    "    data[anyof].isna(), np.nan, (data[anyof] == 0).astype(int)\n",
    ")\n",
    "# Creating a column for the quadratic values\n",
    "data[[col + \"_quad\" for col in anyof]] = np.where(\n",
    "    data[anyof].isna(), np.nan, data[anyof] ** 2\n",
    ")\n"
   ]
  },
  {
   "cell_type": "code",
   "execution_count": 558,
   "id": "16785601-a03d-45d4-9685-d7e9fc209f97",
   "metadata": {
    "tags": []
   },
   "outputs": [],
   "source": [
    "# Dropping 'flag' columns with no variation\n",
    "flag_columns = [col for col in data.columns if \"flag\" in col]\n",
    "data = data.drop(\n",
    "    data[flag_columns].std()[(data[flag_columns].std() == 0)].index, axis=1\n",
    ")\n"
   ]
  },
  {
   "cell_type": "markdown",
   "id": "0ccb7e18-a244-4a28-8365-8dedfa62657a",
   "metadata": {},
   "source": [
    "### Defining additional financial ratios"
   ]
  },
  {
   "cell_type": "code",
   "execution_count": 559,
   "id": "de0cbc60-70fc-4ef9-a235-adf404b10738",
   "metadata": {
    "tags": []
   },
   "outputs": [],
   "source": [
    "#############################################################################\n",
    "\n",
    "# We could put our new financial ratios here\n",
    "\n",
    "#############################################################################\n",
    "\n",
    "# Gross Profit Margin\n",
    "data['gross_profit_margin'] = (data['sales'] - (data['material_exp'] + data['personnel_exp'])) / data['sales']\n",
    "\n",
    "# Net Profit Margin\n",
    "data['net_profit_margin'] = data['profit_loss_year'] / data['sales']\n",
    "\n",
    "# Return on Equity (ROE)\n",
    "data['return_on_equity'] = data['profit_loss_year'] / data['share_eq']\n",
    "\n",
    "# Debt-Equity Ratio\n",
    "# Note: we need to adjust 'curr_liab' to total liabilities if we have that information. Need to further investigate the data.\n",
    "data['debt_equity_ratio'] = data['curr_liab'] / data['share_eq']\n",
    "\n",
    "# Current Ratio\n",
    "data['current_ratio'] = data['curr_assets'] / data['curr_liab']\n",
    "\n",
    "# Quick Ratio\n",
    "data['quick_ratio'] = (data['curr_assets'] - data['inventories']) / data['curr_liab']\n",
    "\n",
    "# Return on Assets (ROA)\n",
    "data['return_on_assets'] = data['profit_loss_year'] / data['total_assets_bs']\n"
   ]
  },
  {
   "cell_type": "markdown",
   "id": "da1dce2d-6c6e-486c-b5b2-12d990674c11",
   "metadata": {},
   "source": [
    "### Including some additional imputation"
   ]
  },
  {
   "cell_type": "code",
   "execution_count": 560,
   "id": "8bf74f9b-b4c0-4bd0-ae18-93ea9129494d",
   "metadata": {
    "tags": []
   },
   "outputs": [],
   "source": [
    "# Calculating the CEO's age\n",
    "data[\"ceo_age\"] = data[\"year\"] - data[\"birth_year\"]\n",
    "data = data.assign(\n",
    "    flag_low_ceo_age=(data[\"ceo_age\"] < 25).astype(int),\n",
    "    flag_high_ceo_age=(data[\"ceo_age\"] > 75).astype(int),\n",
    "    flag_miss_ceo_age=(data[\"ceo_age\"].isna()).astype(int),\n",
    ")\n",
    "\n",
    "# Capping and imputing the missing values for CEO age\n",
    "data[\"ceo_age\"] = np.where(data[\"ceo_age\"] < 25, 25, data[\"ceo_age\"])\n",
    "data[\"ceo_age\"] = np.where(data[\"ceo_age\"] > 75, 75, data[\"ceo_age\"])\n",
    "data[\"ceo_age\"] = np.where(\n",
    "    data[\"ceo_age\"].isna(), data[\"ceo_age\"].mean(), data[\"ceo_age\"]\n",
    ")\n",
    "\n",
    "# Creating a new binary column for young CEOs\n",
    "data[\"ceo_young\"] = (data[\"ceo_age\"] < 40).astype(int)\n"
   ]
  },
  {
   "cell_type": "code",
   "execution_count": 561,
   "id": "d4a173a7-2c35-4f09-a84e-cc4c8f05600d",
   "metadata": {
    "tags": []
   },
   "outputs": [],
   "source": [
    "# Creating category type variables\n",
    "data[\"urban_m\"] = data[\"urban_m\"].astype(\"category\")\n",
    "data[\"ind2_cat\"] = data[\"ind2_cat\"].astype(\"category\")\n",
    "data[\"default_f\"] = data[\"default\"].astype(\"category\")\n",
    "data[\"default_f\"] = data[\"default_f\"].cat.rename_categories([\"no_default\", \"default\"])\n"
   ]
  },
  {
   "cell_type": "markdown",
   "id": "f176a76e-85e5-4523-b724-b859e371e0ea",
   "metadata": {},
   "source": [
    "### Handling the sales variable (target variable)"
   ]
  },
  {
   "cell_type": "code",
   "execution_count": 562,
   "id": "64c6cc1c-4645-4011-817f-4a43fc2b2f00",
   "metadata": {
    "tags": []
   },
   "outputs": [],
   "source": [
    "# Squaring the log sales\n",
    "data[\"sales_mil_log_sq\"] = data[\"sales_mil_log\"] ** 2"
   ]
  },
  {
   "cell_type": "code",
   "execution_count": 563,
   "id": "2a5e9890-76be-4bc2-b19b-073c709cd102",
   "metadata": {
    "tags": []
   },
   "outputs": [
    {
     "data": {
      "image/png": "[encoded data removed]",
      "text/plain": [
       "<Figure size 640x480 with 1 Axes>"
      ]
     },
     "metadata": {
      "image/png": {
       "height": 480,
       "width": 640
      }
     },
     "output_type": "display_data"
    },
    {
     "data": {
      "text/plain": [
       "<Figure Size: (640 x 480)>"
      ]
     },
     "execution_count": 563,
     "metadata": {},
     "output_type": "execute_result"
    }
   ],
   "source": [
    "ggplot(data, aes(x=\"sales_mil_log\", y=\"default\")) + geom_point(\n",
    "    color=\"#214459\"\n",
    ") + geom_smooth(\n",
    "    method=\"lm\", formula=\"y ~ x + I(x**2)\", color=\"#3498db\", se=False  # Assuming #3498db as a placeholder color\n",
    ") + geom_smooth(\n",
    "    method=\"loess\", color=\"#e74c3c\", se=False, size=1.5, span=0.9  # Assuming #e74c3c as a placeholder color\n",
    ") + labs(\n",
    "    x=\"sales_mil_log\", y=\"default\"\n",
    ") + theme_bw()\n"
   ]
  },
  {
   "cell_type": "code",
   "execution_count": 564,
   "id": "dd6220ec-e3a2-4525-8297-c83a5abb8d9a",
   "metadata": {
    "tags": []
   },
   "outputs": [
    {
     "name": "stdout",
     "output_type": "stream",
     "text": [
      "                            OLS Regression Results                            \n",
      "==============================================================================\n",
      "Dep. Variable:                default   R-squared:                       0.107\n",
      "Model:                            OLS   Adj. R-squared:                  0.107\n",
      "Method:                 Least Squares   F-statistic:                 1.673e+04\n",
      "Date:                Fri, 23 Feb 2024   Prob (F-statistic):               0.00\n",
      "Time:                        16:49:17   Log-Likelihood:            -1.1139e+05\n",
      "No. Observations:              280392   AIC:                         2.228e+05\n",
      "Df Residuals:                  280389   BIC:                         2.228e+05\n",
      "Df Model:                           2                                         \n",
      "Covariance Type:            nonrobust                                         \n",
      "====================================================================================\n",
      "                       coef    std err          t      P>|t|      [0.025      0.975]\n",
      "------------------------------------------------------------------------------------\n",
      "Intercept            0.0370      0.001     33.444      0.000       0.035       0.039\n",
      "sales_mil_log       -0.0443      0.001    -71.683      0.000      -0.045      -0.043\n",
      "sales_mil_log_sq     0.0021   9.18e-05     23.141      0.000       0.002       0.002\n",
      "==============================================================================\n",
      "Omnibus:                    58482.320   Durbin-Watson:                   1.817\n",
      "Prob(Omnibus):                  0.000   Jarque-Bera (JB):           102294.389\n",
      "Skew:                           1.425   Prob(JB):                         0.00\n",
      "Kurtosis:                       3.797   Cond. No.                         32.9\n",
      "==============================================================================\n",
      "\n",
      "Notes:\n",
      "[1] Standard Errors assume that the covariance matrix of the errors is correctly specified.\n"
     ]
    }
   ],
   "source": [
    "# Performing linear regression: deault on logarithmic sales and squared logarithmic sales\n",
    "ols_s = smf.ols(\"default ~ sales_mil_log + sales_mil_log_sq\", data=data).fit()\n",
    "print(ols_s.summary())"
   ]
  },
  {
   "cell_type": "markdown",
   "id": "f5d45dde-5a8b-48fd-8d89-fc59dd1544b4",
   "metadata": {},
   "source": [
    "### Change in sales\n",
    "\n",
    "*Note:* Graphs are not in the book!"
   ]
  },
  {
   "cell_type": "code",
   "execution_count": 565,
   "id": "4aa20bf4-060f-4652-91f5-b946fd3e7344",
   "metadata": {
    "tags": []
   },
   "outputs": [
    {
     "data": {
      "text/plain": [
       "count    556944.000000\n",
       "mean          0.023417\n",
       "std           0.870581\n",
       "min         -13.815511\n",
       "25%           0.000000\n",
       "50%           0.000000\n",
       "75%           0.000000\n",
       "max          14.634809\n",
       "Name: d1_sales_mil_log, dtype: float64"
      ]
     },
     "execution_count": 565,
     "metadata": {},
     "output_type": "execute_result"
    }
   ],
   "source": [
    "# lowess\n",
    "data[\"d1_sales_mil_log\"].describe()"
   ]
  },
  {
   "cell_type": "markdown",
   "id": "411c87b6-e49d-47ed-bcd8-e911178cc7a3",
   "metadata": {
    "tags": []
   },
   "source": [
    "## 1.4 Hold Out Sample"
   ]
  },
  {
   "cell_type": "code",
   "execution_count": 566,
   "id": "dda3b336-db4f-4bae-befe-f064ed870b6a",
   "metadata": {
    "tags": []
   },
   "outputs": [],
   "source": [
    "data = (\n",
    "    data.set_index([\"year\", \"comp_id\"])\n",
    "    .unstack(fill_value=\"toReplace\")\n",
    "    .stack()\n",
    "    .reset_index()\n",
    ")\n",
    "data = data.replace(\"toReplace\", np.nan)  # only way I could define it as NaN\n",
    "# generate status_alive; if sales larger than zero and not-NA, then firm is alive\n",
    "data[\"status_alive\"] = (data[\"sales\"] > 0 & (False == data[\"sales\"].isna())).astype(int)\n",
    "\n",
    "# defaults in two years if there are sales in this year but no sales two years later\n",
    "# Status_in_two_years: data.groupby('comp_id')['status_alive'].shift(-2)\n",
    "data[\"default\"] = (\n",
    "    (data[\"status_alive\"] == 1)\n",
    "    & (data.groupby(\"comp_id\")[\"status_alive\"].shift(-1) == 0)\n",
    ").astype(int)\n"
   ]
  },
  {
   "cell_type": "code",
   "execution_count": 567,
   "id": "8f6b463f-d0a3-4891-85f8-fe5895a18815",
   "metadata": {
    "tags": []
   },
   "outputs": [
    {
     "data": {
      "text/html": [
       "<div>\n",
       "<style scoped>\n",
       "    .dataframe tbody tr th:only-of-type {\n",
       "        vertical-align: middle;\n",
       "    }\n",
       "\n",
       "    .dataframe tbody tr th {\n",
       "        vertical-align: top;\n",
       "    }\n",
       "\n",
       "    .dataframe thead th {\n",
       "        text-align: right;\n",
       "    }\n",
       "</style>\n",
       "<table border=\"1\" class=\"dataframe\">\n",
       "  <thead>\n",
       "    <tr style=\"text-align: right;\">\n",
       "      <th></th>\n",
       "      <th>year</th>\n",
       "      <th>comp_id</th>\n",
       "      <th>begin</th>\n",
       "      <th>end</th>\n",
       "      <th>COGS</th>\n",
       "      <th>amort</th>\n",
       "      <th>curr_assets</th>\n",
       "      <th>curr_liab</th>\n",
       "      <th>extra_exp</th>\n",
       "      <th>extra_inc</th>\n",
       "      <th>...</th>\n",
       "      <th>current_ratio</th>\n",
       "      <th>quick_ratio</th>\n",
       "      <th>return_on_assets</th>\n",
       "      <th>ceo_age</th>\n",
       "      <th>flag_low_ceo_age</th>\n",
       "      <th>flag_high_ceo_age</th>\n",
       "      <th>flag_miss_ceo_age</th>\n",
       "      <th>ceo_young</th>\n",
       "      <th>default_f</th>\n",
       "      <th>sales_mil_log_sq</th>\n",
       "    </tr>\n",
       "  </thead>\n",
       "  <tbody>\n",
       "    <tr>\n",
       "      <th>417864</th>\n",
       "      <td>2014</td>\n",
       "      <td>6.538183e+06</td>\n",
       "      <td>2014-01-01</td>\n",
       "      <td>2014-12-31</td>\n",
       "      <td>NaN</td>\n",
       "      <td>1018.518494</td>\n",
       "      <td>17022.222656</td>\n",
       "      <td>3040.740723</td>\n",
       "      <td>0.0</td>\n",
       "      <td>0.0</td>\n",
       "      <td>...</td>\n",
       "      <td>5.598051</td>\n",
       "      <td>5.598051</td>\n",
       "      <td>0.203344</td>\n",
       "      <td>52.5</td>\n",
       "      <td>0</td>\n",
       "      <td>0</td>\n",
       "      <td>0</td>\n",
       "      <td>0</td>\n",
       "      <td>default</td>\n",
       "      <td>9.011847</td>\n",
       "    </tr>\n",
       "    <tr>\n",
       "      <th>417890</th>\n",
       "      <td>2014</td>\n",
       "      <td>8.416055e+06</td>\n",
       "      <td>2014-01-01</td>\n",
       "      <td>2014-12-31</td>\n",
       "      <td>NaN</td>\n",
       "      <td>425.925934</td>\n",
       "      <td>105740.742188</td>\n",
       "      <td>6918.518555</td>\n",
       "      <td>0.0</td>\n",
       "      <td>0.0</td>\n",
       "      <td>...</td>\n",
       "      <td>15.283726</td>\n",
       "      <td>13.489829</td>\n",
       "      <td>-0.027249</td>\n",
       "      <td>54.0</td>\n",
       "      <td>0</td>\n",
       "      <td>0</td>\n",
       "      <td>0</td>\n",
       "      <td>0</td>\n",
       "      <td>default</td>\n",
       "      <td>9.939450</td>\n",
       "    </tr>\n",
       "    <tr>\n",
       "      <th>417942</th>\n",
       "      <td>2014</td>\n",
       "      <td>1.242838e+07</td>\n",
       "      <td>2014-01-01</td>\n",
       "      <td>2014-12-31</td>\n",
       "      <td>NaN</td>\n",
       "      <td>0.000000</td>\n",
       "      <td>0.000000</td>\n",
       "      <td>9277.777344</td>\n",
       "      <td>0.0</td>\n",
       "      <td>0.0</td>\n",
       "      <td>...</td>\n",
       "      <td>0.000000</td>\n",
       "      <td>0.000000</td>\n",
       "      <td>-inf</td>\n",
       "      <td>52.0</td>\n",
       "      <td>0</td>\n",
       "      <td>0</td>\n",
       "      <td>0</td>\n",
       "      <td>0</td>\n",
       "      <td>default</td>\n",
       "      <td>30.507003</td>\n",
       "    </tr>\n",
       "    <tr>\n",
       "      <th>417989</th>\n",
       "      <td>2014</td>\n",
       "      <td>1.777654e+07</td>\n",
       "      <td>2014-01-01</td>\n",
       "      <td>2014-12-31</td>\n",
       "      <td>NaN</td>\n",
       "      <td>48.148148</td>\n",
       "      <td>142296.296875</td>\n",
       "      <td>164237.031250</td>\n",
       "      <td>0.0</td>\n",
       "      <td>0.0</td>\n",
       "      <td>...</td>\n",
       "      <td>0.866408</td>\n",
       "      <td>0.109056</td>\n",
       "      <td>0.010282</td>\n",
       "      <td>43.5</td>\n",
       "      <td>0</td>\n",
       "      <td>0</td>\n",
       "      <td>0</td>\n",
       "      <td>0</td>\n",
       "      <td>no_default</td>\n",
       "      <td>2.402822</td>\n",
       "    </tr>\n",
       "    <tr>\n",
       "      <th>417994</th>\n",
       "      <td>2014</td>\n",
       "      <td>1.862676e+07</td>\n",
       "      <td>2014-01-01</td>\n",
       "      <td>2014-12-31</td>\n",
       "      <td>NaN</td>\n",
       "      <td>5755.555664</td>\n",
       "      <td>95185.187500</td>\n",
       "      <td>45766.667969</td>\n",
       "      <td>0.0</td>\n",
       "      <td>0.0</td>\n",
       "      <td>...</td>\n",
       "      <td>2.079793</td>\n",
       "      <td>1.755847</td>\n",
       "      <td>0.053106</td>\n",
       "      <td>36.0</td>\n",
       "      <td>0</td>\n",
       "      <td>0</td>\n",
       "      <td>0</td>\n",
       "      <td>1</td>\n",
       "      <td>default</td>\n",
       "      <td>3.176648</td>\n",
       "    </tr>\n",
       "    <tr>\n",
       "      <th>...</th>\n",
       "      <td>...</td>\n",
       "      <td>...</td>\n",
       "      <td>...</td>\n",
       "      <td>...</td>\n",
       "      <td>...</td>\n",
       "      <td>...</td>\n",
       "      <td>...</td>\n",
       "      <td>...</td>\n",
       "      <td>...</td>\n",
       "      <td>...</td>\n",
       "      <td>...</td>\n",
       "      <td>...</td>\n",
       "      <td>...</td>\n",
       "      <td>...</td>\n",
       "      <td>...</td>\n",
       "      <td>...</td>\n",
       "      <td>...</td>\n",
       "      <td>...</td>\n",
       "      <td>...</td>\n",
       "      <td>...</td>\n",
       "      <td>...</td>\n",
       "    </tr>\n",
       "    <tr>\n",
       "      <th>463875</th>\n",
       "      <td>2014</td>\n",
       "      <td>4.593723e+11</td>\n",
       "      <td>2014-01-01</td>\n",
       "      <td>2014-12-31</td>\n",
       "      <td>NaN</td>\n",
       "      <td>0.000000</td>\n",
       "      <td>40740.742188</td>\n",
       "      <td>559.259277</td>\n",
       "      <td>0.0</td>\n",
       "      <td>0.0</td>\n",
       "      <td>...</td>\n",
       "      <td>72.847682</td>\n",
       "      <td>72.847682</td>\n",
       "      <td>0.272000</td>\n",
       "      <td>39.0</td>\n",
       "      <td>0</td>\n",
       "      <td>0</td>\n",
       "      <td>0</td>\n",
       "      <td>1</td>\n",
       "      <td>default</td>\n",
       "      <td>15.972916</td>\n",
       "    </tr>\n",
       "    <tr>\n",
       "      <th>463965</th>\n",
       "      <td>2014</td>\n",
       "      <td>4.610112e+11</td>\n",
       "      <td>2014-01-01</td>\n",
       "      <td>2014-12-31</td>\n",
       "      <td>NaN</td>\n",
       "      <td>429.629639</td>\n",
       "      <td>58781.480469</td>\n",
       "      <td>2651.851807</td>\n",
       "      <td>0.0</td>\n",
       "      <td>0.0</td>\n",
       "      <td>...</td>\n",
       "      <td>22.166201</td>\n",
       "      <td>18.601955</td>\n",
       "      <td>0.028824</td>\n",
       "      <td>55.0</td>\n",
       "      <td>0</td>\n",
       "      <td>0</td>\n",
       "      <td>0</td>\n",
       "      <td>0</td>\n",
       "      <td>no_default</td>\n",
       "      <td>6.270351</td>\n",
       "    </tr>\n",
       "    <tr>\n",
       "      <th>464018</th>\n",
       "      <td>2014</td>\n",
       "      <td>4.620594e+11</td>\n",
       "      <td>2014-01-01</td>\n",
       "      <td>2014-12-31</td>\n",
       "      <td>NaN</td>\n",
       "      <td>1111.111084</td>\n",
       "      <td>68274.070312</td>\n",
       "      <td>16211.111328</td>\n",
       "      <td>0.0</td>\n",
       "      <td>0.0</td>\n",
       "      <td>...</td>\n",
       "      <td>4.211560</td>\n",
       "      <td>3.291981</td>\n",
       "      <td>0.007774</td>\n",
       "      <td>61.0</td>\n",
       "      <td>0</td>\n",
       "      <td>0</td>\n",
       "      <td>0</td>\n",
       "      <td>0</td>\n",
       "      <td>no_default</td>\n",
       "      <td>7.099340</td>\n",
       "    </tr>\n",
       "    <tr>\n",
       "      <th>464032</th>\n",
       "      <td>2014</td>\n",
       "      <td>4.623300e+11</td>\n",
       "      <td>2014-01-01</td>\n",
       "      <td>2014-12-31</td>\n",
       "      <td>NaN</td>\n",
       "      <td>0.000000</td>\n",
       "      <td>17192.591797</td>\n",
       "      <td>7325.925781</td>\n",
       "      <td>0.0</td>\n",
       "      <td>0.0</td>\n",
       "      <td>...</td>\n",
       "      <td>2.346815</td>\n",
       "      <td>2.346815</td>\n",
       "      <td>0.068191</td>\n",
       "      <td>52.5</td>\n",
       "      <td>0</td>\n",
       "      <td>0</td>\n",
       "      <td>0</td>\n",
       "      <td>0</td>\n",
       "      <td>default</td>\n",
       "      <td>12.497002</td>\n",
       "    </tr>\n",
       "    <tr>\n",
       "      <th>464055</th>\n",
       "      <td>2014</td>\n",
       "      <td>4.628231e+11</td>\n",
       "      <td>2014-01-01</td>\n",
       "      <td>2014-12-31</td>\n",
       "      <td>NaN</td>\n",
       "      <td>2581.481445</td>\n",
       "      <td>70059.257812</td>\n",
       "      <td>74911.109375</td>\n",
       "      <td>0.0</td>\n",
       "      <td>0.0</td>\n",
       "      <td>...</td>\n",
       "      <td>0.935232</td>\n",
       "      <td>0.935232</td>\n",
       "      <td>0.002990</td>\n",
       "      <td>30.0</td>\n",
       "      <td>0</td>\n",
       "      <td>0</td>\n",
       "      <td>0</td>\n",
       "      <td>1</td>\n",
       "      <td>no_default</td>\n",
       "      <td>2.294062</td>\n",
       "    </tr>\n",
       "  </tbody>\n",
       "</table>\n",
       "<p>1037 rows × 125 columns</p>\n",
       "</div>"
      ],
      "text/plain": [
       "        year       comp_id       begin         end  COGS        amort  \\\n",
       "417864  2014  6.538183e+06  2014-01-01  2014-12-31   NaN  1018.518494   \n",
       "417890  2014  8.416055e+06  2014-01-01  2014-12-31   NaN   425.925934   \n",
       "417942  2014  1.242838e+07  2014-01-01  2014-12-31   NaN     0.000000   \n",
       "417989  2014  1.777654e+07  2014-01-01  2014-12-31   NaN    48.148148   \n",
       "417994  2014  1.862676e+07  2014-01-01  2014-12-31   NaN  5755.555664   \n",
       "...      ...           ...         ...         ...   ...          ...   \n",
       "463875  2014  4.593723e+11  2014-01-01  2014-12-31   NaN     0.000000   \n",
       "463965  2014  4.610112e+11  2014-01-01  2014-12-31   NaN   429.629639   \n",
       "464018  2014  4.620594e+11  2014-01-01  2014-12-31   NaN  1111.111084   \n",
       "464032  2014  4.623300e+11  2014-01-01  2014-12-31   NaN     0.000000   \n",
       "464055  2014  4.628231e+11  2014-01-01  2014-12-31   NaN  2581.481445   \n",
       "\n",
       "          curr_assets      curr_liab  extra_exp  extra_inc  ...  \\\n",
       "417864   17022.222656    3040.740723        0.0        0.0  ...   \n",
       "417890  105740.742188    6918.518555        0.0        0.0  ...   \n",
       "417942       0.000000    9277.777344        0.0        0.0  ...   \n",
       "417989  142296.296875  164237.031250        0.0        0.0  ...   \n",
       "417994   95185.187500   45766.667969        0.0        0.0  ...   \n",
       "...               ...            ...        ...        ...  ...   \n",
       "463875   40740.742188     559.259277        0.0        0.0  ...   \n",
       "463965   58781.480469    2651.851807        0.0        0.0  ...   \n",
       "464018   68274.070312   16211.111328        0.0        0.0  ...   \n",
       "464032   17192.591797    7325.925781        0.0        0.0  ...   \n",
       "464055   70059.257812   74911.109375        0.0        0.0  ...   \n",
       "\n",
       "        current_ratio  quick_ratio  return_on_assets  ceo_age  \\\n",
       "417864       5.598051     5.598051          0.203344     52.5   \n",
       "417890      15.283726    13.489829         -0.027249     54.0   \n",
       "417942       0.000000     0.000000              -inf     52.0   \n",
       "417989       0.866408     0.109056          0.010282     43.5   \n",
       "417994       2.079793     1.755847          0.053106     36.0   \n",
       "...               ...          ...               ...      ...   \n",
       "463875      72.847682    72.847682          0.272000     39.0   \n",
       "463965      22.166201    18.601955          0.028824     55.0   \n",
       "464018       4.211560     3.291981          0.007774     61.0   \n",
       "464032       2.346815     2.346815          0.068191     52.5   \n",
       "464055       0.935232     0.935232          0.002990     30.0   \n",
       "\n",
       "        flag_low_ceo_age  flag_high_ceo_age  flag_miss_ceo_age  ceo_young  \\\n",
       "417864                 0                  0                  0          0   \n",
       "417890                 0                  0                  0          0   \n",
       "417942                 0                  0                  0          0   \n",
       "417989                 0                  0                  0          0   \n",
       "417994                 0                  0                  0          1   \n",
       "...                  ...                ...                ...        ...   \n",
       "463875                 0                  0                  0          1   \n",
       "463965                 0                  0                  0          0   \n",
       "464018                 0                  0                  0          0   \n",
       "464032                 0                  0                  0          0   \n",
       "464055                 0                  0                  0          1   \n",
       "\n",
       "         default_f  sales_mil_log_sq  \n",
       "417864     default          9.011847  \n",
       "417890     default          9.939450  \n",
       "417942     default         30.507003  \n",
       "417989  no_default          2.402822  \n",
       "417994     default          3.176648  \n",
       "...            ...               ...  \n",
       "463875     default         15.972916  \n",
       "463965  no_default          6.270351  \n",
       "464018  no_default          7.099340  \n",
       "464032     default         12.497002  \n",
       "464055  no_default          2.294062  \n",
       "\n",
       "[1037 rows x 125 columns]"
      ]
     },
     "execution_count": 567,
     "metadata": {},
     "output_type": "execute_result"
    }
   ],
   "source": [
    "hold_out_sample = data[(data['ind2'] == 26) &\n",
    "                     (data['sales'] >= 1000) &\n",
    "                     (data['sales'] <= 10000000) &\n",
    "                     (data['year'] == 2014)]\n",
    "hold_out_sample"
   ]
  },
  {
   "cell_type": "code",
   "execution_count": 568,
   "id": "39e50bbe-9639-4757-a943-e795b4a32f69",
   "metadata": {
    "tags": []
   },
   "outputs": [
    {
     "name": "stdout",
     "output_type": "stream",
     "text": [
      "MISSING VALUES FROM HOLDOUT SAMPLE\n",
      "-----------------------------------\n"
     ]
    },
    {
     "data": {
      "text/plain": [
       "COGS                            948\n",
       "amort                             2\n",
       "finished_prod                   950\n",
       "material_exp                      2\n",
       "net_dom_sales                   948\n",
       "net_exp_sales                   948\n",
       "personnel_exp                     2\n",
       "wages                           949\n",
       "D                              1037\n",
       "founded_year                     31\n",
       "exit_year                      1014\n",
       "ceo_count                        31\n",
       "foreign                          31\n",
       "female                           31\n",
       "birth_year                      114\n",
       "inoffice_days                    31\n",
       "gender                           31\n",
       "origin                           31\n",
       "region_m                          2\n",
       "exit_date                      1012\n",
       "labor_avg                       312\n",
       "age                              31\n",
       "age2                             31\n",
       "foreign_management               31\n",
       "gender_m                         31\n",
       "m_region_loc                      2\n",
       "material_exp_pl                   2\n",
       "personnel_exp_pl                  2\n",
       "material_exp_pl_flag_high         2\n",
       "personnel_exp_pl_flag_high        2\n",
       "material_exp_pl_flag_error        2\n",
       "personnel_exp_pl_flag_error       2\n",
       "gross_profit_margin               2\n",
       "current_ratio                     1\n",
       "quick_ratio                       1\n",
       "dtype: int64"
      ]
     },
     "execution_count": 568,
     "metadata": {},
     "output_type": "execute_result"
    }
   ],
   "source": [
    "print(\"MISSING VALUES FROM HOLDOUT SAMPLE\")\n",
    "print(\"-\"*35)\n",
    "to_filter = hold_out_sample.isnull().sum()\n",
    "to_filter[to_filter > 0]"
   ]
  },
  {
   "cell_type": "markdown",
   "id": "a30d6c8b-d5cd-4fe7-b975-60f41f8b8830",
   "metadata": {},
   "source": [
    "#### Hold Out Sample Summary Table"
   ]
  },
  {
   "cell_type": "code",
   "execution_count": 569,
   "id": "b8a560a5-79cb-4a2d-91c4-e83d67478e7e",
   "metadata": {
    "tags": []
   },
   "outputs": [
    {
     "data": {
      "text/html": [
       "<div>\n",
       "<style scoped>\n",
       "    .dataframe tbody tr th:only-of-type {\n",
       "        vertical-align: middle;\n",
       "    }\n",
       "\n",
       "    .dataframe tbody tr th {\n",
       "        vertical-align: top;\n",
       "    }\n",
       "\n",
       "    .dataframe thead th {\n",
       "        text-align: right;\n",
       "    }\n",
       "</style>\n",
       "<table border=\"1\" class=\"dataframe\">\n",
       "  <thead>\n",
       "    <tr style=\"text-align: right;\">\n",
       "      <th></th>\n",
       "      <th>Number of Firms</th>\n",
       "      <th>Mean Sales</th>\n",
       "      <th>Min Sales</th>\n",
       "      <th>Max Sales</th>\n",
       "      <th>Defaulted Firms</th>\n",
       "      <th>Stayed Alive Firms</th>\n",
       "    </tr>\n",
       "  </thead>\n",
       "  <tbody>\n",
       "    <tr>\n",
       "      <th>0</th>\n",
       "      <td>1037</td>\n",
       "      <td>490202.217927</td>\n",
       "      <td>1070.370361</td>\n",
       "      <td>9576485.0</td>\n",
       "      <td>55</td>\n",
       "      <td>982</td>\n",
       "    </tr>\n",
       "  </tbody>\n",
       "</table>\n",
       "</div>"
      ],
      "text/plain": [
       "   Number of Firms     Mean Sales    Min Sales  Max Sales  Defaulted Firms  \\\n",
       "0             1037  490202.217927  1070.370361  9576485.0               55   \n",
       "\n",
       "   Stayed Alive Firms  \n",
       "0                 982  "
      ]
     },
     "execution_count": 569,
     "metadata": {},
     "output_type": "execute_result"
    }
   ],
   "source": [
    "hold_out_summary = {\n",
    "    'Number of Firms': [hold_out_sample.shape[0]],\n",
    "    'Mean Sales': [hold_out_sample['sales'].mean()],\n",
    "    'Min Sales': [hold_out_sample['sales'].min()],\n",
    "    'Max Sales': [hold_out_sample['sales'].max()],\n",
    "    'Defaulted Firms': [hold_out_sample['default'].sum()],\n",
    "    'Stayed Alive Firms': [(hold_out_sample['default'] == 0).sum()]\n",
    "\n",
    "}\n",
    "\n",
    "hold_out_summary_df = pd.DataFrame(hold_out_summary)\n",
    "hold_out_summary_df"
   ]
  },
  {
   "cell_type": "markdown",
   "id": "1818dc85-1d7a-4f44-889b-a1a77c38764f",
   "metadata": {
    "tags": []
   },
   "source": [
    "## 1.5 Data Cleaning pt. 1\n",
    "\n",
    "Missing values for a specific year (2014) and the entire dataset will be compared. "
   ]
  },
  {
   "cell_type": "code",
   "execution_count": 570,
   "id": "705caddb-72de-4583-bdd9-98798b0bc9f0",
   "metadata": {
    "tags": []
   },
   "outputs": [
    {
     "data": {
      "text/html": [
       "<div>\n",
       "<style scoped>\n",
       "    .dataframe tbody tr th:only-of-type {\n",
       "        vertical-align: middle;\n",
       "    }\n",
       "\n",
       "    .dataframe tbody tr th {\n",
       "        vertical-align: top;\n",
       "    }\n",
       "\n",
       "    .dataframe thead th {\n",
       "        text-align: right;\n",
       "    }\n",
       "</style>\n",
       "<table border=\"1\" class=\"dataframe\">\n",
       "  <thead>\n",
       "    <tr style=\"text-align: right;\">\n",
       "      <th></th>\n",
       "      <th>year</th>\n",
       "      <th>comp_id</th>\n",
       "      <th>begin</th>\n",
       "      <th>end</th>\n",
       "      <th>COGS</th>\n",
       "      <th>amort</th>\n",
       "      <th>curr_assets</th>\n",
       "      <th>curr_liab</th>\n",
       "      <th>extra_exp</th>\n",
       "      <th>extra_inc</th>\n",
       "      <th>...</th>\n",
       "      <th>current_ratio</th>\n",
       "      <th>quick_ratio</th>\n",
       "      <th>return_on_assets</th>\n",
       "      <th>ceo_age</th>\n",
       "      <th>flag_low_ceo_age</th>\n",
       "      <th>flag_high_ceo_age</th>\n",
       "      <th>flag_miss_ceo_age</th>\n",
       "      <th>ceo_young</th>\n",
       "      <th>default_f</th>\n",
       "      <th>sales_mil_log_sq</th>\n",
       "    </tr>\n",
       "  </thead>\n",
       "  <tbody>\n",
       "    <tr>\n",
       "      <th>417864</th>\n",
       "      <td>2014</td>\n",
       "      <td>6.538183e+06</td>\n",
       "      <td>2014-01-01</td>\n",
       "      <td>2014-12-31</td>\n",
       "      <td>NaN</td>\n",
       "      <td>1018.518494</td>\n",
       "      <td>17022.222656</td>\n",
       "      <td>3040.740723</td>\n",
       "      <td>0.0</td>\n",
       "      <td>0.0</td>\n",
       "      <td>...</td>\n",
       "      <td>5.598051</td>\n",
       "      <td>5.598051</td>\n",
       "      <td>0.203344</td>\n",
       "      <td>52.50000</td>\n",
       "      <td>0</td>\n",
       "      <td>0</td>\n",
       "      <td>0</td>\n",
       "      <td>0</td>\n",
       "      <td>default</td>\n",
       "      <td>9.011847</td>\n",
       "    </tr>\n",
       "    <tr>\n",
       "      <th>417890</th>\n",
       "      <td>2014</td>\n",
       "      <td>8.416055e+06</td>\n",
       "      <td>2014-01-01</td>\n",
       "      <td>2014-12-31</td>\n",
       "      <td>NaN</td>\n",
       "      <td>425.925934</td>\n",
       "      <td>105740.742188</td>\n",
       "      <td>6918.518555</td>\n",
       "      <td>0.0</td>\n",
       "      <td>0.0</td>\n",
       "      <td>...</td>\n",
       "      <td>15.283726</td>\n",
       "      <td>13.489829</td>\n",
       "      <td>-0.027249</td>\n",
       "      <td>54.00000</td>\n",
       "      <td>0</td>\n",
       "      <td>0</td>\n",
       "      <td>0</td>\n",
       "      <td>0</td>\n",
       "      <td>default</td>\n",
       "      <td>9.939450</td>\n",
       "    </tr>\n",
       "    <tr>\n",
       "      <th>417922</th>\n",
       "      <td>2014</td>\n",
       "      <td>1.089394e+07</td>\n",
       "      <td>2014-07-24</td>\n",
       "      <td>2014-12-31</td>\n",
       "      <td>NaN</td>\n",
       "      <td>0.000000</td>\n",
       "      <td>30614.814453</td>\n",
       "      <td>128055.546875</td>\n",
       "      <td>0.0</td>\n",
       "      <td>0.0</td>\n",
       "      <td>...</td>\n",
       "      <td>0.239074</td>\n",
       "      <td>0.144469</td>\n",
       "      <td>0.000000</td>\n",
       "      <td>46.00000</td>\n",
       "      <td>0</td>\n",
       "      <td>0</td>\n",
       "      <td>0</td>\n",
       "      <td>0</td>\n",
       "      <td>no_default</td>\n",
       "      <td>0.000000</td>\n",
       "    </tr>\n",
       "    <tr>\n",
       "      <th>417942</th>\n",
       "      <td>2014</td>\n",
       "      <td>1.242838e+07</td>\n",
       "      <td>2014-01-01</td>\n",
       "      <td>2014-12-31</td>\n",
       "      <td>NaN</td>\n",
       "      <td>0.000000</td>\n",
       "      <td>0.000000</td>\n",
       "      <td>9277.777344</td>\n",
       "      <td>0.0</td>\n",
       "      <td>0.0</td>\n",
       "      <td>...</td>\n",
       "      <td>0.000000</td>\n",
       "      <td>0.000000</td>\n",
       "      <td>-inf</td>\n",
       "      <td>52.00000</td>\n",
       "      <td>0</td>\n",
       "      <td>0</td>\n",
       "      <td>0</td>\n",
       "      <td>0</td>\n",
       "      <td>default</td>\n",
       "      <td>30.507003</td>\n",
       "    </tr>\n",
       "    <tr>\n",
       "      <th>417969</th>\n",
       "      <td>2014</td>\n",
       "      <td>1.571155e+07</td>\n",
       "      <td>2014-01-01</td>\n",
       "      <td>2014-12-31</td>\n",
       "      <td>NaN</td>\n",
       "      <td>0.000000</td>\n",
       "      <td>2477.777832</td>\n",
       "      <td>0.000000</td>\n",
       "      <td>0.0</td>\n",
       "      <td>0.0</td>\n",
       "      <td>...</td>\n",
       "      <td>inf</td>\n",
       "      <td>inf</td>\n",
       "      <td>0.000000</td>\n",
       "      <td>46.68887</td>\n",
       "      <td>0</td>\n",
       "      <td>0</td>\n",
       "      <td>1</td>\n",
       "      <td>0</td>\n",
       "      <td>no_default</td>\n",
       "      <td>0.000000</td>\n",
       "    </tr>\n",
       "    <tr>\n",
       "      <th>...</th>\n",
       "      <td>...</td>\n",
       "      <td>...</td>\n",
       "      <td>...</td>\n",
       "      <td>...</td>\n",
       "      <td>...</td>\n",
       "      <td>...</td>\n",
       "      <td>...</td>\n",
       "      <td>...</td>\n",
       "      <td>...</td>\n",
       "      <td>...</td>\n",
       "      <td>...</td>\n",
       "      <td>...</td>\n",
       "      <td>...</td>\n",
       "      <td>...</td>\n",
       "      <td>...</td>\n",
       "      <td>...</td>\n",
       "      <td>...</td>\n",
       "      <td>...</td>\n",
       "      <td>...</td>\n",
       "      <td>...</td>\n",
       "      <td>...</td>\n",
       "    </tr>\n",
       "    <tr>\n",
       "      <th>463940</th>\n",
       "      <td>2014</td>\n",
       "      <td>4.604901e+11</td>\n",
       "      <td>2014-01-01</td>\n",
       "      <td>2014-12-31</td>\n",
       "      <td>NaN</td>\n",
       "      <td>0.000000</td>\n",
       "      <td>33.333332</td>\n",
       "      <td>585.185181</td>\n",
       "      <td>0.0</td>\n",
       "      <td>0.0</td>\n",
       "      <td>...</td>\n",
       "      <td>0.056962</td>\n",
       "      <td>0.056962</td>\n",
       "      <td>-6.666667</td>\n",
       "      <td>59.00000</td>\n",
       "      <td>0</td>\n",
       "      <td>0</td>\n",
       "      <td>0</td>\n",
       "      <td>0</td>\n",
       "      <td>no_default</td>\n",
       "      <td>0.000000</td>\n",
       "    </tr>\n",
       "    <tr>\n",
       "      <th>463965</th>\n",
       "      <td>2014</td>\n",
       "      <td>4.610112e+11</td>\n",
       "      <td>2014-01-01</td>\n",
       "      <td>2014-12-31</td>\n",
       "      <td>NaN</td>\n",
       "      <td>429.629639</td>\n",
       "      <td>58781.480469</td>\n",
       "      <td>2651.851807</td>\n",
       "      <td>0.0</td>\n",
       "      <td>0.0</td>\n",
       "      <td>...</td>\n",
       "      <td>22.166201</td>\n",
       "      <td>18.601955</td>\n",
       "      <td>0.028824</td>\n",
       "      <td>55.00000</td>\n",
       "      <td>0</td>\n",
       "      <td>0</td>\n",
       "      <td>0</td>\n",
       "      <td>0</td>\n",
       "      <td>no_default</td>\n",
       "      <td>6.270351</td>\n",
       "    </tr>\n",
       "    <tr>\n",
       "      <th>464018</th>\n",
       "      <td>2014</td>\n",
       "      <td>4.620594e+11</td>\n",
       "      <td>2014-01-01</td>\n",
       "      <td>2014-12-31</td>\n",
       "      <td>NaN</td>\n",
       "      <td>1111.111084</td>\n",
       "      <td>68274.070312</td>\n",
       "      <td>16211.111328</td>\n",
       "      <td>0.0</td>\n",
       "      <td>0.0</td>\n",
       "      <td>...</td>\n",
       "      <td>4.211560</td>\n",
       "      <td>3.291981</td>\n",
       "      <td>0.007774</td>\n",
       "      <td>61.00000</td>\n",
       "      <td>0</td>\n",
       "      <td>0</td>\n",
       "      <td>0</td>\n",
       "      <td>0</td>\n",
       "      <td>no_default</td>\n",
       "      <td>7.099340</td>\n",
       "    </tr>\n",
       "    <tr>\n",
       "      <th>464032</th>\n",
       "      <td>2014</td>\n",
       "      <td>4.623300e+11</td>\n",
       "      <td>2014-01-01</td>\n",
       "      <td>2014-12-31</td>\n",
       "      <td>NaN</td>\n",
       "      <td>0.000000</td>\n",
       "      <td>17192.591797</td>\n",
       "      <td>7325.925781</td>\n",
       "      <td>0.0</td>\n",
       "      <td>0.0</td>\n",
       "      <td>...</td>\n",
       "      <td>2.346815</td>\n",
       "      <td>2.346815</td>\n",
       "      <td>0.068191</td>\n",
       "      <td>52.50000</td>\n",
       "      <td>0</td>\n",
       "      <td>0</td>\n",
       "      <td>0</td>\n",
       "      <td>0</td>\n",
       "      <td>default</td>\n",
       "      <td>12.497002</td>\n",
       "    </tr>\n",
       "    <tr>\n",
       "      <th>464055</th>\n",
       "      <td>2014</td>\n",
       "      <td>4.628231e+11</td>\n",
       "      <td>2014-01-01</td>\n",
       "      <td>2014-12-31</td>\n",
       "      <td>NaN</td>\n",
       "      <td>2581.481445</td>\n",
       "      <td>70059.257812</td>\n",
       "      <td>74911.109375</td>\n",
       "      <td>0.0</td>\n",
       "      <td>0.0</td>\n",
       "      <td>...</td>\n",
       "      <td>0.935232</td>\n",
       "      <td>0.935232</td>\n",
       "      <td>0.002990</td>\n",
       "      <td>30.00000</td>\n",
       "      <td>0</td>\n",
       "      <td>0</td>\n",
       "      <td>0</td>\n",
       "      <td>1</td>\n",
       "      <td>no_default</td>\n",
       "      <td>2.294062</td>\n",
       "    </tr>\n",
       "  </tbody>\n",
       "</table>\n",
       "<p>1317 rows × 125 columns</p>\n",
       "</div>"
      ],
      "text/plain": [
       "        year       comp_id       begin         end  COGS        amort  \\\n",
       "417864  2014  6.538183e+06  2014-01-01  2014-12-31   NaN  1018.518494   \n",
       "417890  2014  8.416055e+06  2014-01-01  2014-12-31   NaN   425.925934   \n",
       "417922  2014  1.089394e+07  2014-07-24  2014-12-31   NaN     0.000000   \n",
       "417942  2014  1.242838e+07  2014-01-01  2014-12-31   NaN     0.000000   \n",
       "417969  2014  1.571155e+07  2014-01-01  2014-12-31   NaN     0.000000   \n",
       "...      ...           ...         ...         ...   ...          ...   \n",
       "463940  2014  4.604901e+11  2014-01-01  2014-12-31   NaN     0.000000   \n",
       "463965  2014  4.610112e+11  2014-01-01  2014-12-31   NaN   429.629639   \n",
       "464018  2014  4.620594e+11  2014-01-01  2014-12-31   NaN  1111.111084   \n",
       "464032  2014  4.623300e+11  2014-01-01  2014-12-31   NaN     0.000000   \n",
       "464055  2014  4.628231e+11  2014-01-01  2014-12-31   NaN  2581.481445   \n",
       "\n",
       "          curr_assets      curr_liab  extra_exp  extra_inc  ...  \\\n",
       "417864   17022.222656    3040.740723        0.0        0.0  ...   \n",
       "417890  105740.742188    6918.518555        0.0        0.0  ...   \n",
       "417922   30614.814453  128055.546875        0.0        0.0  ...   \n",
       "417942       0.000000    9277.777344        0.0        0.0  ...   \n",
       "417969    2477.777832       0.000000        0.0        0.0  ...   \n",
       "...               ...            ...        ...        ...  ...   \n",
       "463940      33.333332     585.185181        0.0        0.0  ...   \n",
       "463965   58781.480469    2651.851807        0.0        0.0  ...   \n",
       "464018   68274.070312   16211.111328        0.0        0.0  ...   \n",
       "464032   17192.591797    7325.925781        0.0        0.0  ...   \n",
       "464055   70059.257812   74911.109375        0.0        0.0  ...   \n",
       "\n",
       "        current_ratio  quick_ratio  return_on_assets   ceo_age  \\\n",
       "417864       5.598051     5.598051          0.203344  52.50000   \n",
       "417890      15.283726    13.489829         -0.027249  54.00000   \n",
       "417922       0.239074     0.144469          0.000000  46.00000   \n",
       "417942       0.000000     0.000000              -inf  52.00000   \n",
       "417969            inf          inf          0.000000  46.68887   \n",
       "...               ...          ...               ...       ...   \n",
       "463940       0.056962     0.056962         -6.666667  59.00000   \n",
       "463965      22.166201    18.601955          0.028824  55.00000   \n",
       "464018       4.211560     3.291981          0.007774  61.00000   \n",
       "464032       2.346815     2.346815          0.068191  52.50000   \n",
       "464055       0.935232     0.935232          0.002990  30.00000   \n",
       "\n",
       "        flag_low_ceo_age  flag_high_ceo_age  flag_miss_ceo_age  ceo_young  \\\n",
       "417864                 0                  0                  0          0   \n",
       "417890                 0                  0                  0          0   \n",
       "417922                 0                  0                  0          0   \n",
       "417942                 0                  0                  0          0   \n",
       "417969                 0                  0                  1          0   \n",
       "...                  ...                ...                ...        ...   \n",
       "463940                 0                  0                  0          0   \n",
       "463965                 0                  0                  0          0   \n",
       "464018                 0                  0                  0          0   \n",
       "464032                 0                  0                  0          0   \n",
       "464055                 0                  0                  0          1   \n",
       "\n",
       "         default_f  sales_mil_log_sq  \n",
       "417864     default          9.011847  \n",
       "417890     default          9.939450  \n",
       "417922  no_default          0.000000  \n",
       "417942     default         30.507003  \n",
       "417969  no_default          0.000000  \n",
       "...            ...               ...  \n",
       "463940  no_default          0.000000  \n",
       "463965  no_default          6.270351  \n",
       "464018  no_default          7.099340  \n",
       "464032     default         12.497002  \n",
       "464055  no_default          2.294062  \n",
       "\n",
       "[1317 rows x 125 columns]"
      ]
     },
     "execution_count": 570,
     "metadata": {},
     "output_type": "execute_result"
    }
   ],
   "source": [
    "# Filtering and creating a separate data set for 2014 data\n",
    "data_2014 = data[(data['ind2'] == 26) &\n",
    "                     (data['year'] == 2014)]\n",
    "data_2014"
   ]
  },
  {
   "cell_type": "code",
   "execution_count": 571,
   "id": "5a39f8f2-078c-4aad-ac71-aa9d411fe636",
   "metadata": {
    "scrolled": true,
    "tags": []
   },
   "outputs": [
    {
     "name": "stdout",
     "output_type": "stream",
     "text": [
      "MISSING VALUES FROM ENTIRE DATASET\n",
      "-----------------------------------\n"
     ]
    },
    {
     "data": {
      "text/plain": [
       "begin                269115\n",
       "end                  269115\n",
       "COGS                 538687\n",
       "amort                277155\n",
       "curr_assets          269246\n",
       "                      ...  \n",
       "debt_equity_ratio    270613\n",
       "current_ratio        271011\n",
       "quick_ratio          271070\n",
       "return_on_assets     280772\n",
       "sales_mil_log_sq     276552\n",
       "Length: 112, dtype: int64"
      ]
     },
     "execution_count": 571,
     "metadata": {},
     "output_type": "execute_result"
    }
   ],
   "source": [
    "# Comparing the missing values from the entire data set and data from 2014\n",
    "print(\"MISSING VALUES FROM ENTIRE DATASET\")\n",
    "print(\"-\"*35)\n",
    "to_filter = data.isnull().sum()\n",
    "to_filter[to_filter > 0]"
   ]
  },
  {
   "cell_type": "markdown",
   "id": "4e0c3088-89a1-4e0a-b050-8342e9766bb5",
   "metadata": {},
   "source": [
    "After reviewing the null values, `COGS`, `finished_production`, `net_dom_sale`, `net_exp_sales`, and `wages` will most likely need to be dropped. \n",
    "\n",
    "The null values will need to be viewed for one specific year to get an understanding of null values where the company only iterates once in the dataframe.\n",
    "This way the null values can be better interpreted. "
   ]
  },
  {
   "cell_type": "code",
   "execution_count": 572,
   "id": "9a0fdaee-51c5-4cf4-b7a0-d1cc1ab87bf0",
   "metadata": {
    "scrolled": true,
    "tags": []
   },
   "outputs": [
    {
     "name": "stdout",
     "output_type": "stream",
     "text": [
      "MISSING VALUES FROM 2014 DATASET\n",
      "---------------------------------\n"
     ]
    },
    {
     "data": {
      "text/plain": [
       "COGS                 1176\n",
       "amort                   5\n",
       "extra_exp               1\n",
       "extra_inc               1\n",
       "extra_profit_loss       1\n",
       "                     ... \n",
       "debt_equity_ratio       7\n",
       "current_ratio           9\n",
       "quick_ratio            11\n",
       "return_on_assets        8\n",
       "sales_mil_log_sq        1\n",
       "Length: 72, dtype: int64"
      ]
     },
     "execution_count": 572,
     "metadata": {},
     "output_type": "execute_result"
    }
   ],
   "source": [
    "data_2014.isnull().sum()\n",
    "print(\"MISSING VALUES FROM 2014 DATASET\")\n",
    "print(\"-\"*33)\n",
    "to_filter = data_2014.isnull().sum()\n",
    "to_filter[to_filter > 0]"
   ]
  },
  {
   "cell_type": "markdown",
   "id": "d5ed077f-1927-42ac-9b12-7a592a21de67",
   "metadata": {},
   "source": [
    "Here, we can verify that `COGS`, `finished_prod`, `net_dom_sale`, `net_exp_sales`, and `wages` will need to be dropped from the analysis. \n",
    "\n",
    "`exit_year` and `exit date` can stay since not all companies are exiting, and we are trying to predict how many companies will exit.\n",
    "\n",
    "The `D` column will also be dropped for it's high frequency of missing values\n",
    "\n",
    "Also dropping `ind` column, as it does not serve any use in this specific project.\n",
    "\n",
    "With `labor_avg` having such a high number of missing values, this column will also be dropped."
   ]
  },
  {
   "cell_type": "code",
   "execution_count": 573,
   "id": "13019524-8226-4474-b97d-f4159ff0859b",
   "metadata": {
    "tags": []
   },
   "outputs": [],
   "source": [
    "# Dropping the columns with too many missing values in the original data\n",
    "data = data.drop(columns = ['COGS',\n",
    "                            'finished_prod',\n",
    "                            'net_dom_sales',\n",
    "                            'net_exp_sales',\n",
    "                            'wages',\n",
    "                            'D',\n",
    "                            'ind',\n",
    "                            'labor_avg'])"
   ]
  },
  {
   "cell_type": "code",
   "execution_count": 574,
   "id": "c1ba5923-6ff9-48c6-9ca2-8de41c70e084",
   "metadata": {
    "scrolled": true,
    "tags": []
   },
   "outputs": [
    {
     "data": {
      "text/plain": [
       "begin                269115\n",
       "end                  269115\n",
       "amort                277155\n",
       "curr_assets          269246\n",
       "curr_liab            269246\n",
       "                      ...  \n",
       "debt_equity_ratio    270613\n",
       "current_ratio        271011\n",
       "quick_ratio          271070\n",
       "return_on_assets     280772\n",
       "sales_mil_log_sq     276552\n",
       "Length: 104, dtype: int64"
      ]
     },
     "execution_count": 574,
     "metadata": {},
     "output_type": "execute_result"
    }
   ],
   "source": [
    "to_filter = data.isnull().sum()\n",
    "to_filter[to_filter > 0]"
   ]
  },
  {
   "cell_type": "code",
   "execution_count": 575,
   "id": "e8beb363-2626-4e11-8014-a3ef07f61331",
   "metadata": {
    "tags": []
   },
   "outputs": [],
   "source": [
    "# Dropping the columns with too many missing values from the 2014 data\n",
    "data_2014 = data_2014.drop(columns = ['COGS',\n",
    "                                      'finished_prod',\n",
    "                                      'net_dom_sales',\n",
    "                                      'net_exp_sales',\n",
    "                                      'wages',\n",
    "                                      'D',\n",
    "                                      'ind',\n",
    "                                      'labor_avg'])"
   ]
  },
  {
   "cell_type": "code",
   "execution_count": 576,
   "id": "eaca8ef5-7cee-44e4-a3f9-eef074ce9836",
   "metadata": {
    "scrolled": true,
    "tags": []
   },
   "outputs": [
    {
     "data": {
      "text/plain": [
       "amort                 5\n",
       "extra_exp             1\n",
       "extra_inc             1\n",
       "extra_profit_loss     1\n",
       "inc_bef_tax           1\n",
       "                     ..\n",
       "debt_equity_ratio     7\n",
       "current_ratio         9\n",
       "quick_ratio          11\n",
       "return_on_assets      8\n",
       "sales_mil_log_sq      1\n",
       "Length: 65, dtype: int64"
      ]
     },
     "execution_count": 576,
     "metadata": {},
     "output_type": "execute_result"
    }
   ],
   "source": [
    "to_filter_2014 = data_2014.isnull().sum()\n",
    "to_filter_2014[to_filter_2014 > 0]"
   ]
  },
  {
   "cell_type": "code",
   "execution_count": 577,
   "id": "8ba0a1da-1522-4996-9db1-ccbe15de66f3",
   "metadata": {
    "tags": []
   },
   "outputs": [
    {
     "data": {
      "text/html": [
       "<div>\n",
       "<style scoped>\n",
       "    .dataframe tbody tr th:only-of-type {\n",
       "        vertical-align: middle;\n",
       "    }\n",
       "\n",
       "    .dataframe tbody tr th {\n",
       "        vertical-align: top;\n",
       "    }\n",
       "\n",
       "    .dataframe thead th {\n",
       "        text-align: right;\n",
       "    }\n",
       "</style>\n",
       "<table border=\"1\" class=\"dataframe\">\n",
       "  <thead>\n",
       "    <tr style=\"text-align: right;\">\n",
       "      <th></th>\n",
       "      <th>year</th>\n",
       "      <th>comp_id</th>\n",
       "      <th>begin</th>\n",
       "      <th>end</th>\n",
       "      <th>amort</th>\n",
       "      <th>curr_assets</th>\n",
       "      <th>curr_liab</th>\n",
       "      <th>extra_exp</th>\n",
       "      <th>extra_inc</th>\n",
       "      <th>extra_profit_loss</th>\n",
       "      <th>...</th>\n",
       "      <th>current_ratio</th>\n",
       "      <th>quick_ratio</th>\n",
       "      <th>return_on_assets</th>\n",
       "      <th>ceo_age</th>\n",
       "      <th>flag_low_ceo_age</th>\n",
       "      <th>flag_high_ceo_age</th>\n",
       "      <th>flag_miss_ceo_age</th>\n",
       "      <th>ceo_young</th>\n",
       "      <th>default_f</th>\n",
       "      <th>sales_mil_log_sq</th>\n",
       "    </tr>\n",
       "  </thead>\n",
       "  <tbody>\n",
       "    <tr>\n",
       "      <th>156</th>\n",
       "      <td>2005</td>\n",
       "      <td>6.538183e+06</td>\n",
       "      <td>2005-01-01</td>\n",
       "      <td>2005-12-31</td>\n",
       "      <td>792.592590</td>\n",
       "      <td>6237.037109</td>\n",
       "      <td>348.148163</td>\n",
       "      <td>0.000000</td>\n",
       "      <td>0.000000</td>\n",
       "      <td>0.000000</td>\n",
       "      <td>...</td>\n",
       "      <td>17.914893</td>\n",
       "      <td>17.914893</td>\n",
       "      <td>-0.144123</td>\n",
       "      <td>46.68887</td>\n",
       "      <td>0</td>\n",
       "      <td>0</td>\n",
       "      <td>1</td>\n",
       "      <td>0</td>\n",
       "      <td>no_default</td>\n",
       "      <td>12.464763</td>\n",
       "    </tr>\n",
       "    <tr>\n",
       "      <th>182</th>\n",
       "      <td>2005</td>\n",
       "      <td>8.416055e+06</td>\n",
       "      <td>2005-01-01</td>\n",
       "      <td>2005-12-31</td>\n",
       "      <td>3155.555664</td>\n",
       "      <td>71070.367188</td>\n",
       "      <td>25514.814453</td>\n",
       "      <td>74.074074</td>\n",
       "      <td>0.000000</td>\n",
       "      <td>-74.074074</td>\n",
       "      <td>...</td>\n",
       "      <td>2.785455</td>\n",
       "      <td>2.632893</td>\n",
       "      <td>0.000000</td>\n",
       "      <td>45.00000</td>\n",
       "      <td>0</td>\n",
       "      <td>0</td>\n",
       "      <td>0</td>\n",
       "      <td>0</td>\n",
       "      <td>no_default</td>\n",
       "      <td>2.985813</td>\n",
       "    </tr>\n",
       "    <tr>\n",
       "      <th>234</th>\n",
       "      <td>2005</td>\n",
       "      <td>1.242838e+07</td>\n",
       "      <td>2005-01-01</td>\n",
       "      <td>2005-12-31</td>\n",
       "      <td>3137.037109</td>\n",
       "      <td>1740.740723</td>\n",
       "      <td>2192.592529</td>\n",
       "      <td>0.000000</td>\n",
       "      <td>0.000000</td>\n",
       "      <td>0.000000</td>\n",
       "      <td>...</td>\n",
       "      <td>0.793919</td>\n",
       "      <td>0.793919</td>\n",
       "      <td>0.137374</td>\n",
       "      <td>46.68887</td>\n",
       "      <td>0</td>\n",
       "      <td>0</td>\n",
       "      <td>1</td>\n",
       "      <td>0</td>\n",
       "      <td>no_default</td>\n",
       "      <td>12.291621</td>\n",
       "    </tr>\n",
       "    <tr>\n",
       "      <th>261</th>\n",
       "      <td>2005</td>\n",
       "      <td>1.571155e+07</td>\n",
       "      <td>2005-01-01</td>\n",
       "      <td>2005-12-31</td>\n",
       "      <td>1592.592651</td>\n",
       "      <td>4740.740723</td>\n",
       "      <td>4970.370605</td>\n",
       "      <td>0.000000</td>\n",
       "      <td>7407.407227</td>\n",
       "      <td>7407.407227</td>\n",
       "      <td>...</td>\n",
       "      <td>0.953800</td>\n",
       "      <td>0.822653</td>\n",
       "      <td>0.056311</td>\n",
       "      <td>46.68887</td>\n",
       "      <td>0</td>\n",
       "      <td>0</td>\n",
       "      <td>1</td>\n",
       "      <td>0</td>\n",
       "      <td>no_default</td>\n",
       "      <td>22.081296</td>\n",
       "    </tr>\n",
       "    <tr>\n",
       "      <th>264</th>\n",
       "      <td>2005</td>\n",
       "      <td>1.600518e+07</td>\n",
       "      <td>2005-01-01</td>\n",
       "      <td>2005-12-31</td>\n",
       "      <td>5659.259277</td>\n",
       "      <td>71714.812500</td>\n",
       "      <td>40607.406250</td>\n",
       "      <td>0.000000</td>\n",
       "      <td>0.000000</td>\n",
       "      <td>0.000000</td>\n",
       "      <td>...</td>\n",
       "      <td>1.766053</td>\n",
       "      <td>0.771616</td>\n",
       "      <td>-0.049577</td>\n",
       "      <td>30.00000</td>\n",
       "      <td>0</td>\n",
       "      <td>0</td>\n",
       "      <td>0</td>\n",
       "      <td>1</td>\n",
       "      <td>no_default</td>\n",
       "      <td>2.241016</td>\n",
       "    </tr>\n",
       "    <tr>\n",
       "      <th>...</th>\n",
       "      <td>...</td>\n",
       "      <td>...</td>\n",
       "      <td>...</td>\n",
       "      <td>...</td>\n",
       "      <td>...</td>\n",
       "      <td>...</td>\n",
       "      <td>...</td>\n",
       "      <td>...</td>\n",
       "      <td>...</td>\n",
       "      <td>...</td>\n",
       "      <td>...</td>\n",
       "      <td>...</td>\n",
       "      <td>...</td>\n",
       "      <td>...</td>\n",
       "      <td>...</td>\n",
       "      <td>...</td>\n",
       "      <td>...</td>\n",
       "      <td>...</td>\n",
       "      <td>...</td>\n",
       "      <td>...</td>\n",
       "      <td>...</td>\n",
       "    </tr>\n",
       "    <tr>\n",
       "      <th>417463</th>\n",
       "      <td>2013</td>\n",
       "      <td>4.593723e+11</td>\n",
       "      <td>2013-01-01</td>\n",
       "      <td>2013-12-31</td>\n",
       "      <td>0.000000</td>\n",
       "      <td>29992.591797</td>\n",
       "      <td>888.888916</td>\n",
       "      <td>0.000000</td>\n",
       "      <td>0.000000</td>\n",
       "      <td>0.000000</td>\n",
       "      <td>...</td>\n",
       "      <td>33.741665</td>\n",
       "      <td>33.741665</td>\n",
       "      <td>0.440109</td>\n",
       "      <td>38.00000</td>\n",
       "      <td>0</td>\n",
       "      <td>0</td>\n",
       "      <td>0</td>\n",
       "      <td>1</td>\n",
       "      <td>no_default</td>\n",
       "      <td>16.543565</td>\n",
       "    </tr>\n",
       "    <tr>\n",
       "      <th>417553</th>\n",
       "      <td>2013</td>\n",
       "      <td>4.610112e+11</td>\n",
       "      <td>2013-01-01</td>\n",
       "      <td>2013-12-31</td>\n",
       "      <td>744.444458</td>\n",
       "      <td>57648.148438</td>\n",
       "      <td>3518.518555</td>\n",
       "      <td>0.000000</td>\n",
       "      <td>0.000000</td>\n",
       "      <td>0.000000</td>\n",
       "      <td>...</td>\n",
       "      <td>16.384210</td>\n",
       "      <td>14.350526</td>\n",
       "      <td>-0.076422</td>\n",
       "      <td>54.00000</td>\n",
       "      <td>0</td>\n",
       "      <td>0</td>\n",
       "      <td>0</td>\n",
       "      <td>0</td>\n",
       "      <td>no_default</td>\n",
       "      <td>6.922360</td>\n",
       "    </tr>\n",
       "    <tr>\n",
       "      <th>417606</th>\n",
       "      <td>2013</td>\n",
       "      <td>4.620594e+11</td>\n",
       "      <td>2013-01-01</td>\n",
       "      <td>2013-12-31</td>\n",
       "      <td>670.370361</td>\n",
       "      <td>65170.371094</td>\n",
       "      <td>17066.666016</td>\n",
       "      <td>0.000000</td>\n",
       "      <td>0.000000</td>\n",
       "      <td>0.000000</td>\n",
       "      <td>...</td>\n",
       "      <td>3.818577</td>\n",
       "      <td>2.706597</td>\n",
       "      <td>0.000837</td>\n",
       "      <td>60.00000</td>\n",
       "      <td>0</td>\n",
       "      <td>0</td>\n",
       "      <td>0</td>\n",
       "      <td>0</td>\n",
       "      <td>no_default</td>\n",
       "      <td>8.743910</td>\n",
       "    </tr>\n",
       "    <tr>\n",
       "      <th>417620</th>\n",
       "      <td>2013</td>\n",
       "      <td>4.623300e+11</td>\n",
       "      <td>2013-01-01</td>\n",
       "      <td>2013-12-31</td>\n",
       "      <td>0.000000</td>\n",
       "      <td>11551.851562</td>\n",
       "      <td>5174.074219</td>\n",
       "      <td>0.000000</td>\n",
       "      <td>0.000000</td>\n",
       "      <td>0.000000</td>\n",
       "      <td>...</td>\n",
       "      <td>2.232641</td>\n",
       "      <td>2.232641</td>\n",
       "      <td>0.152211</td>\n",
       "      <td>51.50000</td>\n",
       "      <td>0</td>\n",
       "      <td>0</td>\n",
       "      <td>0</td>\n",
       "      <td>0</td>\n",
       "      <td>no_default</td>\n",
       "      <td>12.411447</td>\n",
       "    </tr>\n",
       "    <tr>\n",
       "      <th>417643</th>\n",
       "      <td>2013</td>\n",
       "      <td>4.628231e+11</td>\n",
       "      <td>2013-01-01</td>\n",
       "      <td>2013-12-31</td>\n",
       "      <td>3159.259277</td>\n",
       "      <td>15488.888672</td>\n",
       "      <td>21440.740234</td>\n",
       "      <td>0.000000</td>\n",
       "      <td>0.000000</td>\n",
       "      <td>0.000000</td>\n",
       "      <td>...</td>\n",
       "      <td>0.722405</td>\n",
       "      <td>0.722405</td>\n",
       "      <td>0.012485</td>\n",
       "      <td>29.00000</td>\n",
       "      <td>0</td>\n",
       "      <td>0</td>\n",
       "      <td>0</td>\n",
       "      <td>1</td>\n",
       "      <td>no_default</td>\n",
       "      <td>4.515216</td>\n",
       "    </tr>\n",
       "  </tbody>\n",
       "</table>\n",
       "<p>7872 rows × 117 columns</p>\n",
       "</div>"
      ],
      "text/plain": [
       "        year       comp_id      begin        end        amort   curr_assets  \\\n",
       "156     2005  6.538183e+06 2005-01-01 2005-12-31   792.592590   6237.037109   \n",
       "182     2005  8.416055e+06 2005-01-01 2005-12-31  3155.555664  71070.367188   \n",
       "234     2005  1.242838e+07 2005-01-01 2005-12-31  3137.037109   1740.740723   \n",
       "261     2005  1.571155e+07 2005-01-01 2005-12-31  1592.592651   4740.740723   \n",
       "264     2005  1.600518e+07 2005-01-01 2005-12-31  5659.259277  71714.812500   \n",
       "...      ...           ...        ...        ...          ...           ...   \n",
       "417463  2013  4.593723e+11 2013-01-01 2013-12-31     0.000000  29992.591797   \n",
       "417553  2013  4.610112e+11 2013-01-01 2013-12-31   744.444458  57648.148438   \n",
       "417606  2013  4.620594e+11 2013-01-01 2013-12-31   670.370361  65170.371094   \n",
       "417620  2013  4.623300e+11 2013-01-01 2013-12-31     0.000000  11551.851562   \n",
       "417643  2013  4.628231e+11 2013-01-01 2013-12-31  3159.259277  15488.888672   \n",
       "\n",
       "           curr_liab  extra_exp    extra_inc  extra_profit_loss  ...  \\\n",
       "156       348.148163   0.000000     0.000000           0.000000  ...   \n",
       "182     25514.814453  74.074074     0.000000         -74.074074  ...   \n",
       "234      2192.592529   0.000000     0.000000           0.000000  ...   \n",
       "261      4970.370605   0.000000  7407.407227        7407.407227  ...   \n",
       "264     40607.406250   0.000000     0.000000           0.000000  ...   \n",
       "...              ...        ...          ...                ...  ...   \n",
       "417463    888.888916   0.000000     0.000000           0.000000  ...   \n",
       "417553   3518.518555   0.000000     0.000000           0.000000  ...   \n",
       "417606  17066.666016   0.000000     0.000000           0.000000  ...   \n",
       "417620   5174.074219   0.000000     0.000000           0.000000  ...   \n",
       "417643  21440.740234   0.000000     0.000000           0.000000  ...   \n",
       "\n",
       "        current_ratio  quick_ratio  return_on_assets   ceo_age  \\\n",
       "156         17.914893    17.914893         -0.144123  46.68887   \n",
       "182          2.785455     2.632893          0.000000  45.00000   \n",
       "234          0.793919     0.793919          0.137374  46.68887   \n",
       "261          0.953800     0.822653          0.056311  46.68887   \n",
       "264          1.766053     0.771616         -0.049577  30.00000   \n",
       "...               ...          ...               ...       ...   \n",
       "417463      33.741665    33.741665          0.440109  38.00000   \n",
       "417553      16.384210    14.350526         -0.076422  54.00000   \n",
       "417606       3.818577     2.706597          0.000837  60.00000   \n",
       "417620       2.232641     2.232641          0.152211  51.50000   \n",
       "417643       0.722405     0.722405          0.012485  29.00000   \n",
       "\n",
       "        flag_low_ceo_age  flag_high_ceo_age  flag_miss_ceo_age  ceo_young  \\\n",
       "156                    0                  0                  1          0   \n",
       "182                    0                  0                  0          0   \n",
       "234                    0                  0                  1          0   \n",
       "261                    0                  0                  1          0   \n",
       "264                    0                  0                  0          1   \n",
       "...                  ...                ...                ...        ...   \n",
       "417463                 0                  0                  0          1   \n",
       "417553                 0                  0                  0          0   \n",
       "417606                 0                  0                  0          0   \n",
       "417620                 0                  0                  0          0   \n",
       "417643                 0                  0                  0          1   \n",
       "\n",
       "         default_f  sales_mil_log_sq  \n",
       "156     no_default         12.464763  \n",
       "182     no_default          2.985813  \n",
       "234     no_default         12.291621  \n",
       "261     no_default         22.081296  \n",
       "264     no_default          2.241016  \n",
       "...            ...               ...  \n",
       "417463  no_default         16.543565  \n",
       "417553  no_default          6.922360  \n",
       "417606  no_default          8.743910  \n",
       "417620  no_default         12.411447  \n",
       "417643  no_default          4.515216  \n",
       "\n",
       "[7872 rows x 117 columns]"
      ]
     },
     "execution_count": 577,
     "metadata": {},
     "output_type": "execute_result"
    }
   ],
   "source": [
    "# Creating a function to handle missing values\n",
    "\n",
    "def data_dish_washer(data):\n",
    "    # Step 1: Imputing with 0: Fill specific columns with 0 in case of numerical values\n",
    "    zero_fill_cols = ['amort',\n",
    "                      'curr_assets',\n",
    "                      'personnel_exp', \n",
    "                      'material_exp',\n",
    "                      'liq_assets',\n",
    "                      'inventories',\n",
    "                      'intang_assets', \n",
    "                      'fixed_assets',\n",
    "                      'extra_profit_loss',\n",
    "                      'extra_inc',\n",
    "                      'extra_exp', \n",
    "                      'curr_liab',\n",
    "                      'tang_assets']\n",
    "    data[zero_fill_cols] = data[zero_fill_cols].fillna(0)\n",
    "\n",
    "\n",
    "    # Step 2: Imputing with median: Fill missing values with median where it makes sense\n",
    "    median_fill_cols = ['sales',\n",
    "                        'profit_loss_year',\n",
    "                        'inc_bef_tax', \n",
    "                        'share_eq',\n",
    "                        'subscribed_cap']\n",
    "    for col in median_fill_cols:\n",
    "        data[col] = data[col].fillna(data[col].median())\n",
    "\n",
    "    # Step 3: Change: Drop rows with missing values in specified categorical columns\n",
    "    row_drops = ['nace_main',\n",
    "                 'ind2',\n",
    "                 'ceo_count', \n",
    "                 'foreign', \n",
    "                 'female',\n",
    "                 'inoffice_days',\n",
    "                 'gender',\n",
    "                 'origin']\n",
    "    data = data.dropna(subset=row_drops)\n",
    "\n",
    "    # Step 4: Fill missing regions with 'NaN'\n",
    "    data['region_m'] = data['region_m'].fillna('NaN')\n",
    "\n",
    "    # Step 5: Convert Date variables to datetime types\n",
    "    datetime_columns = ['begin',\n",
    "                        'end',\n",
    "                        'founded_date',\n",
    "                        'exit_date']\n",
    "    for col in datetime_columns:\n",
    "        data[col] = pd.to_datetime(data[col], errors='coerce')\n",
    "\n",
    "    # Step 6: Verify Numeric Columns\n",
    "    numeric_columns = ['year',\n",
    "                       'founded_year',\n",
    "                       'exit_year',\n",
    "                       'birth_year']\n",
    "    for col in numeric_columns:\n",
    "        data[col] = pd.to_numeric(data[col], errors='coerce')\n",
    "\n",
    "    # Transforming the Infinite values with NaNs in data\n",
    "    data = data.replace([np.inf, -np.inf], np.nan)\n",
    "    \n",
    "    # filter the dataset to be 2013 or before, and between 1000 and 10000000\n",
    "    data = data[(data['sales'] >= 1000) &\n",
    "                (data['ind2'] == 26) &\n",
    "                (data['sales'] <= 10000000) &\n",
    "                (data['year'] <= 2013)]\n",
    "    \n",
    "    return data\n",
    "\n",
    "data = data_dish_washer(data)\n",
    "data"
   ]
  },
  {
   "cell_type": "code",
   "execution_count": 578,
   "id": "262faf1f-8354-4670-b1e6-47917e429deb",
   "metadata": {
    "tags": []
   },
   "outputs": [
    {
     "data": {
      "text/plain": [
       "exit_year            6862\n",
       "birth_year           1912\n",
       "exit_date            6862\n",
       "ln_sales              168\n",
       "sales_mil             168\n",
       "                     ... \n",
       "debt_equity_ratio      24\n",
       "current_ratio         255\n",
       "quick_ratio           255\n",
       "return_on_assets       37\n",
       "sales_mil_log_sq      168\n",
       "Length: 65, dtype: int64"
      ]
     },
     "execution_count": 578,
     "metadata": {},
     "output_type": "execute_result"
    }
   ],
   "source": [
    "to_filter = data.isnull().sum()\n",
    "to_filter[to_filter > 0]"
   ]
  },
  {
   "cell_type": "code",
   "execution_count": 579,
   "id": "afd60922-486b-41f9-a734-2e665da9d943",
   "metadata": {
    "scrolled": true,
    "tags": []
   },
   "outputs": [
    {
     "data": {
      "text/plain": [
       "22513"
      ]
     },
     "execution_count": 579,
     "metadata": {},
     "output_type": "execute_result"
    }
   ],
   "source": [
    "data.isnull().sum().sum()"
   ]
  },
  {
   "cell_type": "code",
   "execution_count": 580,
   "id": "902a9641-142e-4b9a-a28e-63e555a2a7bf",
   "metadata": {
    "tags": []
   },
   "outputs": [
    {
     "data": {
      "text/plain": [
       "Index(['year', 'comp_id', 'begin', 'end', 'amort', 'curr_assets', 'curr_liab',\n",
       "       'extra_exp', 'extra_inc', 'extra_profit_loss',\n",
       "       ...\n",
       "       'current_ratio', 'quick_ratio', 'return_on_assets', 'ceo_age',\n",
       "       'flag_low_ceo_age', 'flag_high_ceo_age', 'flag_miss_ceo_age',\n",
       "       'ceo_young', 'default_f', 'sales_mil_log_sq'],\n",
       "      dtype='object', length=117)"
      ]
     },
     "execution_count": 580,
     "metadata": {},
     "output_type": "execute_result"
    }
   ],
   "source": [
    "data.columns"
   ]
  },
  {
   "cell_type": "code",
   "execution_count": 581,
   "id": "6f4a42d7-b744-4551-8e25-a76c2e2c6601",
   "metadata": {
    "scrolled": true,
    "tags": []
   },
   "outputs": [
    {
     "data": {
      "text/plain": [
       "year                          int64\n",
       "comp_id                     float64\n",
       "begin                datetime64[ns]\n",
       "end                  datetime64[ns]\n",
       "amort                       float64\n",
       "                          ...      \n",
       "flag_high_ceo_age             int32\n",
       "flag_miss_ceo_age             int32\n",
       "ceo_young                     int32\n",
       "default_f                  category\n",
       "sales_mil_log_sq            float64\n",
       "Length: 117, dtype: object"
      ]
     },
     "execution_count": 581,
     "metadata": {},
     "output_type": "execute_result"
    }
   ],
   "source": [
    "data.dtypes"
   ]
  },
  {
   "cell_type": "code",
   "execution_count": 582,
   "id": "d8208217-296f-422b-a063-4669b4ab3c29",
   "metadata": {
    "tags": []
   },
   "outputs": [],
   "source": [
    "# data['sales_log']"
   ]
  },
  {
   "cell_type": "code",
   "execution_count": 583,
   "id": "f499868d-ea39-4ad7-9017-c8e08b5bde30",
   "metadata": {
    "tags": []
   },
   "outputs": [
    {
     "data": {
      "text/plain": [
       "count    7.872000e+03\n",
       "mean     4.008075e+05\n",
       "std      1.060820e+06\n",
       "min      1.000000e+03\n",
       "25%      2.151019e+04\n",
       "50%      6.500741e+04\n",
       "75%      2.358306e+05\n",
       "max      9.884141e+06\n",
       "Name: sales, dtype: float64"
      ]
     },
     "execution_count": 583,
     "metadata": {},
     "output_type": "execute_result"
    }
   ],
   "source": [
    "data['sales'].describe()"
   ]
  },
  {
   "cell_type": "code",
   "execution_count": 584,
   "id": "fede6010-f1db-458c-bb3a-b6e96da24877",
   "metadata": {
    "tags": []
   },
   "outputs": [
    {
     "data": {
      "text/plain": [
       "{'count': '7,872.00',\n",
       " 'mean': '400,807.55',\n",
       " 'std': '1,060,819.99',\n",
       " 'min': '1,000.00',\n",
       " '25%': '21,510.19',\n",
       " '50%': '65,007.41',\n",
       " '75%': '235,830.56',\n",
       " 'max': '9,884,141.00'}"
      ]
     },
     "execution_count": 584,
     "metadata": {},
     "output_type": "execute_result"
    }
   ],
   "source": [
    "# Custom function to format the describe output\n",
    "def format_describe(describe_dict):\n",
    "\n",
    "    formatted_describe = {k: '{:,.2f}'.format(v) for k, v in describe_dict.items()}\n",
    "    return formatted_describe\n",
    "\n",
    "# Format the mock describe data\n",
    "formatted_sales_describe = format_describe(data['sales'].describe())\n",
    "formatted_sales_describe"
   ]
  },
  {
   "cell_type": "code",
   "execution_count": 585,
   "id": "ec62ab7c-5a2e-4c41-8aa6-a8331d3c4275",
   "metadata": {
    "tags": []
   },
   "outputs": [
    {
     "data": {
      "text/plain": [
       "<Axes: >"
      ]
     },
     "execution_count": 585,
     "metadata": {},
     "output_type": "execute_result"
    },
    {
     "data": {
      "image/png": "[encoded data removed]",
      "text/plain": [
       "<Figure size 640x480 with 1 Axes>"
      ]
     },
     "metadata": {
      "image/png": {
       "height": 480,
       "width": 640
      }
     },
     "output_type": "display_data"
    }
   ],
   "source": [
    "data.sales.hist()"
   ]
  },
  {
   "cell_type": "markdown",
   "id": "c7fa1a5b-ad48-4d41-a514-295973e10a52",
   "metadata": {},
   "source": [
    "With such a large range, the sales are getting automatically transformed in an unreadable way for visualizations."
   ]
  },
  {
   "cell_type": "code",
   "execution_count": 586,
   "id": "b5fdab89-4d0f-40ae-826d-77518960e850",
   "metadata": {
    "tags": []
   },
   "outputs": [
    {
     "data": {
      "image/png": "[encoded data removed]",
      "text/plain": [
       "<Figure size 1000x600 with 1 Axes>"
      ]
     },
     "metadata": {
      "image/png": {
       "height": 600,
       "width": 1000
      }
     },
     "output_type": "display_data"
    }
   ],
   "source": [
    "# Filter the data to include only sales within the specified range\n",
    "filtered_sales = data['sales'][(data['sales'] >= 1000) & (data['sales'] <= 10000000)]\n",
    "\n",
    "plt.figure(figsize=(10, 6))\n",
    "plt.hist(filtered_sales, bins=50, color='blue', edgecolor='black')\n",
    "plt.title('Histogram of Sales Data ($1,000 - $10,000,000 range)')\n",
    "plt.xlabel('Sales')\n",
    "plt.ylabel('Frequency')\n",
    "plt.yscale('log')  # Log scale for better visualization\n",
    "\n",
    "# Set x-axis to show actual values with custom formatting\n",
    "plt.gca().xaxis.set_major_formatter(plt.matplotlib.ticker.FuncFormatter(lambda x, _: f'{int(x):,}'))\n",
    "\n",
    "plt.show()\n"
   ]
  },
  {
   "cell_type": "markdown",
   "id": "d05158df-10fc-46fb-b32f-432b573cf486",
   "metadata": {},
   "source": [
    "Fitting the sales in a range gives it a much more readable view. There is a huge skew of data, so log trasformation is appropriate."
   ]
  },
  {
   "cell_type": "code",
   "execution_count": 587,
   "id": "e95740c5-a93f-4915-b6f0-b46fda148f42",
   "metadata": {
    "tags": []
   },
   "outputs": [
    {
     "data": {
      "image/png": "[encoded data removed]",
      "text/plain": [
       "<Figure size 640x480 with 1 Axes>"
      ]
     },
     "metadata": {
      "image/png": {
       "height": 480,
       "width": 640
      }
     },
     "output_type": "display_data"
    }
   ],
   "source": [
    "# Apply log transformation to sales data\n",
    "data['sales_log'] = np.log1p(filtered_sales)\n",
    "plt.hist(data['sales_log'], bins=50)\n",
    "plt.xlabel('Log of Sales')\n",
    "plt.ylabel('Frequency')\n",
    "plt.title('Log-transformed Sales Distribution')\n",
    "plt.show()\n"
   ]
  },
  {
   "cell_type": "markdown",
   "id": "fd5a835f-0125-413f-bc88-155ae529067e",
   "metadata": {
    "tags": []
   },
   "source": [
    "## 1.6 Model Building"
   ]
  },
  {
   "cell_type": "markdown",
   "id": "1be3f63c-f9bf-4968-b59a-3768c74ffdff",
   "metadata": {
    "tags": []
   },
   "source": [
    "### 1.6.1 Define Variable Sets"
   ]
  },
  {
   "cell_type": "markdown",
   "id": "90254d44-43c2-487b-83bc-4a2bba9a2b59",
   "metadata": {},
   "source": [
    "#### Main Firm Variables"
   ]
  },
  {
   "cell_type": "code",
   "execution_count": 588,
   "id": "f02aea63-cb99-47f4-9dce-b45552c41a21",
   "metadata": {
    "tags": []
   },
   "outputs": [],
   "source": [
    "rawvars = [\n",
    "    \"curr_assets\",\n",
    "    \"curr_liab\",\n",
    "    \"extra_exp\",\n",
    "    \"extra_inc\",\n",
    "    \"extra_profit_loss\",\n",
    "    \"fixed_assets\",\n",
    "    \"inc_bef_tax\",\n",
    "    \"intang_assets\",\n",
    "    \"inventories\",\n",
    "    \"liq_assets\",\n",
    "    \"material_exp\",\n",
    "    \"personnel_exp\",\n",
    "    \"profit_loss_year\",\n",
    "    \"sales\",\n",
    "    \"share_eq\",\n",
    "    \"subscribed_cap\",\n",
    "]"
   ]
  },
  {
   "cell_type": "markdown",
   "id": "0d945d17-8d71-4f96-b094-383dc4cb4056",
   "metadata": {
    "tags": []
   },
   "source": [
    "#### Further financial variables"
   ]
  },
  {
   "cell_type": "code",
   "execution_count": 589,
   "id": "97ced08c-1567-4673-ad6f-9c40ff14f006",
   "metadata": {
    "tags": []
   },
   "outputs": [],
   "source": [
    "qualityvars = [\"balsheet_flag\", \"balsheet_length\", \"balsheet_notfullyear\"]\n",
    "engvar = [\n",
    "    \"total_assets_bs\",\n",
    "    \"fixed_assets_bs\",\n",
    "    \"liq_assets_bs\",\n",
    "    \"curr_assets_bs\",\n",
    "    \"share_eq_bs\",\n",
    "    \"subscribed_cap_bs\",\n",
    "    \"intang_assets_bs\",\n",
    "    \"extra_exp_pl\",\n",
    "    \"extra_inc_pl\",\n",
    "    \"extra_profit_loss_pl\",\n",
    "    \"inc_bef_tax_pl\",\n",
    "    \"inventories_pl\",\n",
    "    \"material_exp_pl\",\n",
    "    \"profit_loss_year_pl\",\n",
    "    \"personnel_exp_pl\",\n",
    "]\n",
    "engvar2 = [\n",
    "    \"extra_profit_loss_pl_quad\",\n",
    "    \"inc_bef_tax_pl_quad\",\n",
    "    \"profit_loss_year_pl_quad\",\n",
    "    \"share_eq_bs_quad\",\n",
    "]"
   ]
  },
  {
   "cell_type": "markdown",
   "id": "b47bd513-05f9-4507-bc27-801e34399365",
   "metadata": {},
   "source": [
    "#### Financial Ratios"
   ]
  },
  {
   "cell_type": "code",
   "execution_count": 590,
   "id": "9351a7c4-6ee7-4927-a589-08f29db1a546",
   "metadata": {
    "tags": []
   },
   "outputs": [],
   "source": [
    "financial_ratios = [\n",
    "    \"gross_profit_margin\",\n",
    "    \"net_profit_margin\",\n",
    "    \"return_on_equity\",\n",
    "    \"debt_equity_ratio\",\n",
    "    \"current_ratio\",\n",
    "    \"quick_ratio\",\n",
    "    \"return_on_assets\"\n",
    "]"
   ]
  },
  {
   "cell_type": "markdown",
   "id": "09f7b1f9-5738-4175-afae-3f0ad85a3e14",
   "metadata": {},
   "source": [
    "#### Flag Variables"
   ]
  },
  {
   "cell_type": "code",
   "execution_count": 591,
   "id": "b42f35a1-21ea-47b6-b6af-b60e30ab89e0",
   "metadata": {
    "tags": []
   },
   "outputs": [],
   "source": [
    "engvar3 = []\n",
    "for col in data.columns:\n",
    "    if (\n",
    "        col.endswith(\"flag_low\")\n",
    "        or col.endswith(\"flag_high\")\n",
    "        or col.endswith(\"flag_error\")\n",
    "        or col.endswith(\"flag_zero\")\n",
    "    ):\n",
    "        engvar3.append(col)"
   ]
  },
  {
   "cell_type": "markdown",
   "id": "42dd5cfc-f21c-45ad-acb8-d1da98bd75af",
   "metadata": {},
   "source": [
    "#### Growth Variables"
   ]
  },
  {
   "cell_type": "markdown",
   "id": "732ee8bf-ca3f-4038-a8e0-d528fc5cd965",
   "metadata": {
    "tags": []
   },
   "source": [
    "d1 = [\n",
    "    \"d1_sales_mil_log\",\n",
    "    \"d1_sales_mil_log_sq\",\n",
    "    \"flag_low_d1_sales_mil_log\",\n",
    "    \"flag_high_d1_sales_mil_log\",\n",
    "]"
   ]
  },
  {
   "cell_type": "markdown",
   "id": "eaee0427-f1ec-4013-8d28-a4a9c9c08cd3",
   "metadata": {},
   "source": [
    "#### Human capital related variables"
   ]
  },
  {
   "cell_type": "code",
   "execution_count": 592,
   "id": "55bcb5fc-e7c2-43c1-af7c-947ce3cd6f1c",
   "metadata": {
    "tags": []
   },
   "outputs": [],
   "source": [
    "hr = [\n",
    "    \"female\",\n",
    "    \"ceo_age\",\n",
    "    \"flag_high_ceo_age\",\n",
    "    \"flag_low_ceo_age\",\n",
    "    \"flag_miss_ceo_age\",\n",
    "    \"ceo_count\",\n",
    "    \"foreign_management\",\n",
    "]"
   ]
  },
  {
   "cell_type": "markdown",
   "id": "600f2808-078c-45d9-83b8-f8b6ea567c46",
   "metadata": {
    "tags": []
   },
   "source": [
    "#### Firms history related variables"
   ]
  },
  {
   "cell_type": "code",
   "execution_count": 593,
   "id": "79a1a6a0-a17f-40a5-ad03-e1161eac5848",
   "metadata": {
    "tags": []
   },
   "outputs": [],
   "source": [
    "firm = [\"age\",\n",
    "        \"age2\",\n",
    "        \"new\",\n",
    "        \"C(ind2_cat)\",\n",
    "        \"C(m_region_loc)\",\n",
    "        \"C(urban_m)\"]"
   ]
  },
  {
   "cell_type": "markdown",
   "id": "c7fb6157-965b-440f-8699-a5538fdd10a7",
   "metadata": {
    "tags": []
   },
   "source": [
    "#### Interactions for logit, LASSO"
   ]
  },
  {
   "cell_type": "markdown",
   "id": "94276a55-b3a8-4f8c-abab-f31f7052467b",
   "metadata": {},
   "source": [
    "interactions1 = [\n",
    "    \"C(ind2_cat)*age\",\n",
    "    \"C(ind2_cat)*age2\",\n",
    "    \"C(ind2_cat)*sales_mil_log\",\n",
    "    \"C(ind2_cat)*ceo_age\",\n",
    "    \"C(ind2_cat)*foreign_management\",\n",
    "    \"C(ind2_cat)*female\",\n",
    "    \"C(ind2_cat)*C(urban_m)\"\n",
    "]"
   ]
  },
  {
   "cell_type": "code",
   "execution_count": 594,
   "id": "bcea5a74-57f4-4ada-a6a0-48ca0f7facf4",
   "metadata": {
    "tags": []
   },
   "outputs": [],
   "source": [
    "\n",
    "interactions2 = [\n",
    "    \"sales_mil_log*age\",\n",
    "    \"sales_mil_log*female\",\n",
    "    \"sales_mil_log*profit_loss_year_pl\",\n",
    "    \"sales_mil_log*foreign_management\",\n",
    "]\n",
    "\n"
   ]
  },
  {
   "cell_type": "markdown",
   "id": "499dd176-737a-4c79-baae-c5f6c6155141",
   "metadata": {
    "tags": []
   },
   "source": [
    "### 1.6.2 Model Setups"
   ]
  },
  {
   "cell_type": "markdown",
   "id": "940610c4-5f30-4d21-b826-279f45b3bf4f",
   "metadata": {
    "tags": []
   },
   "source": [
    "#### 1. Simple Logit Models"
   ]
  },
  {
   "cell_type": "code",
   "execution_count": 595,
   "id": "4013ab6c-b601-4a71-b6fb-3d94c9a897e0",
   "metadata": {
    "tags": []
   },
   "outputs": [],
   "source": [
    "M1 = [\n",
    "    \"sales_mil_log\",\n",
    "    \"sales_mil_log_sq\",\n",
    "    \"profit_loss_year_pl\",\n",
    "    \"C(ind2_cat)\",\n",
    "]\n",
    "M2 = [\n",
    "    \"sales_mil_log\",\n",
    "    \"sales_mil_log_sq\",\n",
    "    \"profit_loss_year_pl\",\n",
    "    \"fixed_assets_bs\",\n",
    "    \"share_eq_bs\",\n",
    "    \"curr_liab_bs \",\n",
    "    \"curr_liab_bs_flag_high \",\n",
    "    \"curr_liab_bs_flag_error\",\n",
    "    \"age\",\n",
    "    \"foreign_management\"\n",
    "]\n",
    "M3 = [\"sales_mil_log\", \"sales_mil_log_sq\"] + firm + engvar\n",
    "M4 = (\n",
    "    [\"sales_mil_log\", \"sales_mil_log_sq\"]\n",
    "    + firm\n",
    "    + engvar\n",
    "    + engvar2\n",
    "    + engvar3\n",
    "    + hr\n",
    "    + qualityvars\n",
    "    + financial_ratios\n",
    ")\n",
    "M5 = (\n",
    "    [\"sales_mil_log\", \"sales_mil_log_sq\"]\n",
    "    + firm\n",
    "    + engvar\n",
    "    + engvar2\n",
    "    + engvar3\n",
    "    + hr\n",
    "    + qualityvars\n",
    "    + financial_ratios\n",
    "    + interactions2\n",
    ")"
   ]
  },
  {
   "cell_type": "markdown",
   "id": "72250e87-6b88-4cb3-b559-a739a25dd57a",
   "metadata": {
    "tags": []
   },
   "source": [
    "#### 2. Logit+LASSO"
   ]
  },
  {
   "cell_type": "code",
   "execution_count": 596,
   "id": "d59c6404-3f31-4357-b877-69cc2464ef2b",
   "metadata": {
    "tags": []
   },
   "outputs": [],
   "source": [
    "logit_lasso_vars = (\n",
    "    [\"sales_mil_log\", \"sales_mil_log_sq\"]\n",
    "    + engvar\n",
    "    + engvar2\n",
    "    + engvar3\n",
    "    + hr\n",
    "    + firm\n",
    "    + qualityvars\n",
    "    + financial_ratios\n",
    "    + interactions2\n",
    ")"
   ]
  },
  {
   "cell_type": "markdown",
   "id": "b2c9ed35-e573-4ac2-866a-33b950d9ef1f",
   "metadata": {
    "tags": []
   },
   "source": [
    "#### 3. CART and RF (no interactions, no modified features)"
   ]
  },
  {
   "cell_type": "code",
   "execution_count": 597,
   "id": "372747ab-e94d-453f-8459-dbee7fc63a97",
   "metadata": {
    "tags": []
   },
   "outputs": [],
   "source": [
    "rfvars = [\"sales_mil\", \"d1_sales_mil_log\"] + rawvars + hr + firm + qualityvars + financial_ratios"
   ]
  },
  {
   "cell_type": "markdown",
   "id": "f9901c8a-033b-443f-a837-ad71c314d296",
   "metadata": {
    "tags": []
   },
   "source": [
    "# ***Predictive Models***"
   ]
  },
  {
   "cell_type": "markdown",
   "id": "84244bc8-3790-41cd-ad71-5cabe59ff3c4",
   "metadata": {
    "tags": []
   },
   "source": [
    "## Linear Probability Models"
   ]
  },
  {
   "cell_type": "code",
   "execution_count": 598,
   "id": "73352aff-02eb-41a4-a44c-55f2154631d8",
   "metadata": {
    "tags": []
   },
   "outputs": [
    {
     "data": {
      "text/html": [
       "<table class=\"simpletable\">\n",
       "<caption>OLS Regression Results</caption>\n",
       "<tr>\n",
       "  <th>Dep. Variable:</th>         <td>default</td>     <th>  R-squared:         </th> <td>   0.056</td>\n",
       "</tr>\n",
       "<tr>\n",
       "  <th>Model:</th>                   <td>OLS</td>       <th>  Adj. R-squared:    </th> <td>   0.054</td>\n",
       "</tr>\n",
       "<tr>\n",
       "  <th>Method:</th>             <td>Least Squares</td>  <th>  F-statistic:       </th> <td>   23.67</td>\n",
       "</tr>\n",
       "<tr>\n",
       "  <th>Date:</th>             <td>Fri, 23 Feb 2024</td> <th>  Prob (F-statistic):</th> <td>1.80e-44</td>\n",
       "</tr>\n",
       "<tr>\n",
       "  <th>Time:</th>                 <td>16:50:37</td>     <th>  Log-Likelihood:    </th> <td>  541.89</td>\n",
       "</tr>\n",
       "<tr>\n",
       "  <th>No. Observations:</th>      <td>  7703</td>      <th>  AIC:               </th> <td>  -1062.</td>\n",
       "</tr>\n",
       "<tr>\n",
       "  <th>Df Residuals:</th>          <td>  7692</td>      <th>  BIC:               </th> <td>  -985.3</td>\n",
       "</tr>\n",
       "<tr>\n",
       "  <th>Df Model:</th>              <td>    10</td>      <th>                     </th>     <td> </td>   \n",
       "</tr>\n",
       "<tr>\n",
       "  <th>Covariance Type:</th>         <td>HC1</td>       <th>                     </th>     <td> </td>   \n",
       "</tr>\n",
       "</table>\n",
       "<table class=\"simpletable\">\n",
       "<tr>\n",
       "             <td></td>                <th>coef</th>     <th>std err</th>      <th>z</th>      <th>P>|z|</th>  <th>[0.025</th>    <th>0.975]</th>  \n",
       "</tr>\n",
       "<tr>\n",
       "  <th>Intercept</th>               <td>    0.0684</td> <td>    0.014</td> <td>    4.938</td> <td> 0.000</td> <td>    0.041</td> <td>    0.096</td>\n",
       "</tr>\n",
       "<tr>\n",
       "  <th>sales_mil_log</th>           <td>    0.0061</td> <td>    0.003</td> <td>    1.904</td> <td> 0.057</td> <td>   -0.000</td> <td>    0.012</td>\n",
       "</tr>\n",
       "<tr>\n",
       "  <th>sales_mil_log_sq</th>        <td>    0.0044</td> <td>    0.001</td> <td>    5.960</td> <td> 0.000</td> <td>    0.003</td> <td>    0.006</td>\n",
       "</tr>\n",
       "<tr>\n",
       "  <th>profit_loss_year_pl</th>     <td>   -0.0217</td> <td>    0.016</td> <td>   -1.318</td> <td> 0.187</td> <td>   -0.054</td> <td>    0.011</td>\n",
       "</tr>\n",
       "<tr>\n",
       "  <th>fixed_assets_bs</th>         <td>   -0.0399</td> <td>    0.011</td> <td>   -3.640</td> <td> 0.000</td> <td>   -0.061</td> <td>   -0.018</td>\n",
       "</tr>\n",
       "<tr>\n",
       "  <th>share_eq_bs</th>             <td>   -0.0213</td> <td>    0.011</td> <td>   -1.891</td> <td> 0.059</td> <td>   -0.043</td> <td>    0.001</td>\n",
       "</tr>\n",
       "<tr>\n",
       "  <th>curr_liab_bs</th>            <td>   -0.0124</td> <td>    0.015</td> <td>   -0.855</td> <td> 0.393</td> <td>   -0.041</td> <td>    0.016</td>\n",
       "</tr>\n",
       "<tr>\n",
       "  <th>curr_liab_bs_flag_high</th>  <td>    0.0720</td> <td>    0.017</td> <td>    4.215</td> <td> 0.000</td> <td>    0.039</td> <td>    0.106</td>\n",
       "</tr>\n",
       "<tr>\n",
       "  <th>curr_liab_bs_flag_error</th> <td>   -0.0343</td> <td>    0.014</td> <td>   -2.422</td> <td> 0.015</td> <td>   -0.062</td> <td>   -0.007</td>\n",
       "</tr>\n",
       "<tr>\n",
       "  <th>age</th>                     <td>   -0.0023</td> <td>    0.000</td> <td>   -5.124</td> <td> 0.000</td> <td>   -0.003</td> <td>   -0.001</td>\n",
       "</tr>\n",
       "<tr>\n",
       "  <th>foreign_management</th>      <td>    0.0223</td> <td>    0.009</td> <td>    2.576</td> <td> 0.010</td> <td>    0.005</td> <td>    0.039</td>\n",
       "</tr>\n",
       "</table>\n",
       "<table class=\"simpletable\">\n",
       "<tr>\n",
       "  <th>Omnibus:</th>       <td>5478.941</td> <th>  Durbin-Watson:     </th> <td>   2.004</td> \n",
       "</tr>\n",
       "<tr>\n",
       "  <th>Prob(Omnibus):</th>  <td> 0.000</td>  <th>  Jarque-Bera (JB):  </th> <td>57717.300</td>\n",
       "</tr>\n",
       "<tr>\n",
       "  <th>Skew:</th>           <td> 3.513</td>  <th>  Prob(JB):          </th> <td>    0.00</td> \n",
       "</tr>\n",
       "<tr>\n",
       "  <th>Kurtosis:</th>       <td>14.422</td>  <th>  Cond. No.          </th> <td>    623.</td> \n",
       "</tr>\n",
       "</table><br/><br/>Notes:<br/>[1] Standard Errors are heteroscedasticity robust (HC1)"
      ],
      "text/latex": [
       "\\begin{center}\n",
       "\\begin{tabular}{lclc}\n",
       "\\toprule\n",
       "\\textbf{Dep. Variable:}              &     default      & \\textbf{  R-squared:         } &     0.056   \\\\\n",
       "\\textbf{Model:}                      &       OLS        & \\textbf{  Adj. R-squared:    } &     0.054   \\\\\n",
       "\\textbf{Method:}                     &  Least Squares   & \\textbf{  F-statistic:       } &     23.67   \\\\\n",
       "\\textbf{Date:}                       & Fri, 23 Feb 2024 & \\textbf{  Prob (F-statistic):} &  1.80e-44   \\\\\n",
       "\\textbf{Time:}                       &     16:50:37     & \\textbf{  Log-Likelihood:    } &    541.89   \\\\\n",
       "\\textbf{No. Observations:}           &        7703      & \\textbf{  AIC:               } &    -1062.   \\\\\n",
       "\\textbf{Df Residuals:}               &        7692      & \\textbf{  BIC:               } &    -985.3   \\\\\n",
       "\\textbf{Df Model:}                   &          10      & \\textbf{                     } &             \\\\\n",
       "\\textbf{Covariance Type:}            &       HC1        & \\textbf{                     } &             \\\\\n",
       "\\bottomrule\n",
       "\\end{tabular}\n",
       "\\begin{tabular}{lcccccc}\n",
       "                                     & \\textbf{coef} & \\textbf{std err} & \\textbf{z} & \\textbf{P$> |$z$|$} & \\textbf{[0.025} & \\textbf{0.975]}  \\\\\n",
       "\\midrule\n",
       "\\textbf{Intercept}                   &       0.0684  &        0.014     &     4.938  &         0.000        &        0.041    &        0.096     \\\\\n",
       "\\textbf{sales\\_mil\\_log}             &       0.0061  &        0.003     &     1.904  &         0.057        &       -0.000    &        0.012     \\\\\n",
       "\\textbf{sales\\_mil\\_log\\_sq}         &       0.0044  &        0.001     &     5.960  &         0.000        &        0.003    &        0.006     \\\\\n",
       "\\textbf{profit\\_loss\\_year\\_pl}      &      -0.0217  &        0.016     &    -1.318  &         0.187        &       -0.054    &        0.011     \\\\\n",
       "\\textbf{fixed\\_assets\\_bs}           &      -0.0399  &        0.011     &    -3.640  &         0.000        &       -0.061    &       -0.018     \\\\\n",
       "\\textbf{share\\_eq\\_bs}               &      -0.0213  &        0.011     &    -1.891  &         0.059        &       -0.043    &        0.001     \\\\\n",
       "\\textbf{curr\\_liab\\_bs}              &      -0.0124  &        0.015     &    -0.855  &         0.393        &       -0.041    &        0.016     \\\\\n",
       "\\textbf{curr\\_liab\\_bs\\_flag\\_high}  &       0.0720  &        0.017     &     4.215  &         0.000        &        0.039    &        0.106     \\\\\n",
       "\\textbf{curr\\_liab\\_bs\\_flag\\_error} &      -0.0343  &        0.014     &    -2.422  &         0.015        &       -0.062    &       -0.007     \\\\\n",
       "\\textbf{age}                         &      -0.0023  &        0.000     &    -5.124  &         0.000        &       -0.003    &       -0.001     \\\\\n",
       "\\textbf{foreign\\_management}         &       0.0223  &        0.009     &     2.576  &         0.010        &        0.005    &        0.039     \\\\\n",
       "\\bottomrule\n",
       "\\end{tabular}\n",
       "\\begin{tabular}{lclc}\n",
       "\\textbf{Omnibus:}       & 5478.941 & \\textbf{  Durbin-Watson:     } &     2.004  \\\\\n",
       "\\textbf{Prob(Omnibus):} &   0.000  & \\textbf{  Jarque-Bera (JB):  } & 57717.300  \\\\\n",
       "\\textbf{Skew:}          &   3.513  & \\textbf{  Prob(JB):          } &      0.00  \\\\\n",
       "\\textbf{Kurtosis:}      &  14.422  & \\textbf{  Cond. No.          } &      623.  \\\\\n",
       "\\bottomrule\n",
       "\\end{tabular}\n",
       "%\\caption{OLS Regression Results}\n",
       "\\end{center}\n",
       "\n",
       "Notes: \\newline\n",
       " [1] Standard Errors are heteroscedasticity robust (HC1)"
      ],
      "text/plain": [
       "<class 'statsmodels.iolib.summary.Summary'>\n",
       "\"\"\"\n",
       "                            OLS Regression Results                            \n",
       "==============================================================================\n",
       "Dep. Variable:                default   R-squared:                       0.056\n",
       "Model:                            OLS   Adj. R-squared:                  0.054\n",
       "Method:                 Least Squares   F-statistic:                     23.67\n",
       "Date:                Fri, 23 Feb 2024   Prob (F-statistic):           1.80e-44\n",
       "Time:                        16:50:37   Log-Likelihood:                 541.89\n",
       "No. Observations:                7703   AIC:                            -1062.\n",
       "Df Residuals:                    7692   BIC:                            -985.3\n",
       "Df Model:                          10                                         \n",
       "Covariance Type:                  HC1                                         \n",
       "===========================================================================================\n",
       "                              coef    std err          z      P>|z|      [0.025      0.975]\n",
       "-------------------------------------------------------------------------------------------\n",
       "Intercept                   0.0684      0.014      4.938      0.000       0.041       0.096\n",
       "sales_mil_log               0.0061      0.003      1.904      0.057      -0.000       0.012\n",
       "sales_mil_log_sq            0.0044      0.001      5.960      0.000       0.003       0.006\n",
       "profit_loss_year_pl        -0.0217      0.016     -1.318      0.187      -0.054       0.011\n",
       "fixed_assets_bs            -0.0399      0.011     -3.640      0.000      -0.061      -0.018\n",
       "share_eq_bs                -0.0213      0.011     -1.891      0.059      -0.043       0.001\n",
       "curr_liab_bs               -0.0124      0.015     -0.855      0.393      -0.041       0.016\n",
       "curr_liab_bs_flag_high      0.0720      0.017      4.215      0.000       0.039       0.106\n",
       "curr_liab_bs_flag_error    -0.0343      0.014     -2.422      0.015      -0.062      -0.007\n",
       "age                        -0.0023      0.000     -5.124      0.000      -0.003      -0.001\n",
       "foreign_management          0.0223      0.009      2.576      0.010       0.005       0.039\n",
       "==============================================================================\n",
       "Omnibus:                     5478.941   Durbin-Watson:                   2.004\n",
       "Prob(Omnibus):                  0.000   Jarque-Bera (JB):            57717.300\n",
       "Skew:                           3.513   Prob(JB):                         0.00\n",
       "Kurtosis:                      14.422   Cond. No.                         623.\n",
       "==============================================================================\n",
       "\n",
       "Notes:\n",
       "[1] Standard Errors are heteroscedasticity robust (HC1)\n",
       "\"\"\""
      ]
     },
     "execution_count": 598,
     "metadata": {},
     "output_type": "execute_result"
    }
   ],
   "source": [
    "ols_modelx2 = smf.ols(\"default~\" + \"+\".join(M2), data).fit(cov_type=\"HC1\")\n",
    "ols_modelx2.summary()"
   ]
  },
  {
   "cell_type": "code",
   "execution_count": 599,
   "id": "003b02b6-ee01-42ab-b637-82b8f1e03d7b",
   "metadata": {
    "tags": []
   },
   "outputs": [
    {
     "name": "stdout",
     "output_type": "stream",
     "text": [
      "Warning: Maximum number of iterations has been exceeded.\n",
      "         Current function value: 0.196688\n",
      "         Iterations: 35\n"
     ]
    }
   ],
   "source": [
    "logit_modelx2 = smf.logit(\"default~\" + \"+\".join(M2), data).fit()"
   ]
  },
  {
   "cell_type": "code",
   "execution_count": 600,
   "id": "b86698b2-ee78-44fb-9795-ec698008d6a3",
   "metadata": {
    "tags": []
   },
   "outputs": [
    {
     "data": {
      "text/html": [
       "<table class=\"simpletable\">\n",
       "<caption>Logit Regression Results</caption>\n",
       "<tr>\n",
       "  <th>Dep. Variable:</th>        <td>default</td>     <th>  No. Observations:  </th>  <td>  7703</td>  \n",
       "</tr>\n",
       "<tr>\n",
       "  <th>Model:</th>                 <td>Logit</td>      <th>  Df Residuals:      </th>  <td>  7692</td>  \n",
       "</tr>\n",
       "<tr>\n",
       "  <th>Method:</th>                 <td>MLE</td>       <th>  Df Model:          </th>  <td>    10</td>  \n",
       "</tr>\n",
       "<tr>\n",
       "  <th>Date:</th>            <td>Fri, 23 Feb 2024</td> <th>  Pseudo R-squ.:     </th>  <td>0.1018</td>  \n",
       "</tr>\n",
       "<tr>\n",
       "  <th>Time:</th>                <td>16:50:38</td>     <th>  Log-Likelihood:    </th> <td> -1515.1</td> \n",
       "</tr>\n",
       "<tr>\n",
       "  <th>converged:</th>             <td>False</td>      <th>  LL-Null:           </th> <td> -1686.7</td> \n",
       "</tr>\n",
       "<tr>\n",
       "  <th>Covariance Type:</th>     <td>nonrobust</td>    <th>  LLR p-value:       </th> <td>1.065e-67</td>\n",
       "</tr>\n",
       "</table>\n",
       "<table class=\"simpletable\">\n",
       "<tr>\n",
       "             <td></td>                <th>coef</th>     <th>std err</th>      <th>z</th>      <th>P>|z|</th>  <th>[0.025</th>    <th>0.975]</th>  \n",
       "</tr>\n",
       "<tr>\n",
       "  <th>Intercept</th>               <td>   -3.0234</td> <td>    0.237</td> <td>  -12.731</td> <td> 0.000</td> <td>   -3.489</td> <td>   -2.558</td>\n",
       "</tr>\n",
       "<tr>\n",
       "  <th>sales_mil_log</th>           <td>   -0.0699</td> <td>    0.076</td> <td>   -0.917</td> <td> 0.359</td> <td>   -0.219</td> <td>    0.079</td>\n",
       "</tr>\n",
       "<tr>\n",
       "  <th>sales_mil_log_sq</th>        <td>    0.0406</td> <td>    0.011</td> <td>    3.585</td> <td> 0.000</td> <td>    0.018</td> <td>    0.063</td>\n",
       "</tr>\n",
       "<tr>\n",
       "  <th>profit_loss_year_pl</th>     <td>   -0.1685</td> <td>    0.149</td> <td>   -1.133</td> <td> 0.257</td> <td>   -0.460</td> <td>    0.123</td>\n",
       "</tr>\n",
       "<tr>\n",
       "  <th>fixed_assets_bs</th>         <td>   -0.7317</td> <td>    0.202</td> <td>   -3.624</td> <td> 0.000</td> <td>   -1.127</td> <td>   -0.336</td>\n",
       "</tr>\n",
       "<tr>\n",
       "  <th>share_eq_bs</th>             <td>   -0.2475</td> <td>    0.149</td> <td>   -1.656</td> <td> 0.098</td> <td>   -0.540</td> <td>    0.045</td>\n",
       "</tr>\n",
       "<tr>\n",
       "  <th>curr_liab_bs</th>            <td>   -0.0157</td> <td>    0.246</td> <td>   -0.064</td> <td> 0.949</td> <td>   -0.498</td> <td>    0.466</td>\n",
       "</tr>\n",
       "<tr>\n",
       "  <th>curr_liab_bs_flag_high</th>  <td>    0.7229</td> <td>    0.211</td> <td>    3.430</td> <td> 0.001</td> <td>    0.310</td> <td>    1.136</td>\n",
       "</tr>\n",
       "<tr>\n",
       "  <th>curr_liab_bs_flag_error</th> <td>  -14.1414</td> <td> 2440.707</td> <td>   -0.006</td> <td> 0.995</td> <td>-4797.839</td> <td> 4769.557</td>\n",
       "</tr>\n",
       "<tr>\n",
       "  <th>age</th>                     <td>   -0.0474</td> <td>    0.009</td> <td>   -5.503</td> <td> 0.000</td> <td>   -0.064</td> <td>   -0.031</td>\n",
       "</tr>\n",
       "<tr>\n",
       "  <th>foreign_management</th>      <td>    0.5186</td> <td>    0.146</td> <td>    3.558</td> <td> 0.000</td> <td>    0.233</td> <td>    0.804</td>\n",
       "</tr>\n",
       "</table>"
      ],
      "text/latex": [
       "\\begin{center}\n",
       "\\begin{tabular}{lclc}\n",
       "\\toprule\n",
       "\\textbf{Dep. Variable:}              &     default      & \\textbf{  No. Observations:  } &     7703    \\\\\n",
       "\\textbf{Model:}                      &      Logit       & \\textbf{  Df Residuals:      } &     7692    \\\\\n",
       "\\textbf{Method:}                     &       MLE        & \\textbf{  Df Model:          } &       10    \\\\\n",
       "\\textbf{Date:}                       & Fri, 23 Feb 2024 & \\textbf{  Pseudo R-squ.:     } &   0.1018    \\\\\n",
       "\\textbf{Time:}                       &     16:50:38     & \\textbf{  Log-Likelihood:    } &   -1515.1   \\\\\n",
       "\\textbf{converged:}                  &      False       & \\textbf{  LL-Null:           } &   -1686.7   \\\\\n",
       "\\textbf{Covariance Type:}            &    nonrobust     & \\textbf{  LLR p-value:       } & 1.065e-67   \\\\\n",
       "\\bottomrule\n",
       "\\end{tabular}\n",
       "\\begin{tabular}{lcccccc}\n",
       "                                     & \\textbf{coef} & \\textbf{std err} & \\textbf{z} & \\textbf{P$> |$z$|$} & \\textbf{[0.025} & \\textbf{0.975]}  \\\\\n",
       "\\midrule\n",
       "\\textbf{Intercept}                   &      -3.0234  &        0.237     &   -12.731  &         0.000        &       -3.489    &       -2.558     \\\\\n",
       "\\textbf{sales\\_mil\\_log}             &      -0.0699  &        0.076     &    -0.917  &         0.359        &       -0.219    &        0.079     \\\\\n",
       "\\textbf{sales\\_mil\\_log\\_sq}         &       0.0406  &        0.011     &     3.585  &         0.000        &        0.018    &        0.063     \\\\\n",
       "\\textbf{profit\\_loss\\_year\\_pl}      &      -0.1685  &        0.149     &    -1.133  &         0.257        &       -0.460    &        0.123     \\\\\n",
       "\\textbf{fixed\\_assets\\_bs}           &      -0.7317  &        0.202     &    -3.624  &         0.000        &       -1.127    &       -0.336     \\\\\n",
       "\\textbf{share\\_eq\\_bs}               &      -0.2475  &        0.149     &    -1.656  &         0.098        &       -0.540    &        0.045     \\\\\n",
       "\\textbf{curr\\_liab\\_bs}              &      -0.0157  &        0.246     &    -0.064  &         0.949        &       -0.498    &        0.466     \\\\\n",
       "\\textbf{curr\\_liab\\_bs\\_flag\\_high}  &       0.7229  &        0.211     &     3.430  &         0.001        &        0.310    &        1.136     \\\\\n",
       "\\textbf{curr\\_liab\\_bs\\_flag\\_error} &     -14.1414  &     2440.707     &    -0.006  &         0.995        &    -4797.839    &     4769.557     \\\\\n",
       "\\textbf{age}                         &      -0.0474  &        0.009     &    -5.503  &         0.000        &       -0.064    &       -0.031     \\\\\n",
       "\\textbf{foreign\\_management}         &       0.5186  &        0.146     &     3.558  &         0.000        &        0.233    &        0.804     \\\\\n",
       "\\bottomrule\n",
       "\\end{tabular}\n",
       "%\\caption{Logit Regression Results}\n",
       "\\end{center}"
      ],
      "text/plain": [
       "<class 'statsmodels.iolib.summary.Summary'>\n",
       "\"\"\"\n",
       "                           Logit Regression Results                           \n",
       "==============================================================================\n",
       "Dep. Variable:                default   No. Observations:                 7703\n",
       "Model:                          Logit   Df Residuals:                     7692\n",
       "Method:                           MLE   Df Model:                           10\n",
       "Date:                Fri, 23 Feb 2024   Pseudo R-squ.:                  0.1018\n",
       "Time:                        16:50:38   Log-Likelihood:                -1515.1\n",
       "converged:                      False   LL-Null:                       -1686.7\n",
       "Covariance Type:            nonrobust   LLR p-value:                 1.065e-67\n",
       "===========================================================================================\n",
       "                              coef    std err          z      P>|z|      [0.025      0.975]\n",
       "-------------------------------------------------------------------------------------------\n",
       "Intercept                  -3.0234      0.237    -12.731      0.000      -3.489      -2.558\n",
       "sales_mil_log              -0.0699      0.076     -0.917      0.359      -0.219       0.079\n",
       "sales_mil_log_sq            0.0406      0.011      3.585      0.000       0.018       0.063\n",
       "profit_loss_year_pl        -0.1685      0.149     -1.133      0.257      -0.460       0.123\n",
       "fixed_assets_bs            -0.7317      0.202     -3.624      0.000      -1.127      -0.336\n",
       "share_eq_bs                -0.2475      0.149     -1.656      0.098      -0.540       0.045\n",
       "curr_liab_bs               -0.0157      0.246     -0.064      0.949      -0.498       0.466\n",
       "curr_liab_bs_flag_high      0.7229      0.211      3.430      0.001       0.310       1.136\n",
       "curr_liab_bs_flag_error   -14.1414   2440.707     -0.006      0.995   -4797.839    4769.557\n",
       "age                        -0.0474      0.009     -5.503      0.000      -0.064      -0.031\n",
       "foreign_management          0.5186      0.146      3.558      0.000       0.233       0.804\n",
       "===========================================================================================\n",
       "\"\"\""
      ]
     },
     "execution_count": 600,
     "metadata": {},
     "output_type": "execute_result"
    }
   ],
   "source": [
    "logit_modelx2.summary()"
   ]
  },
  {
   "cell_type": "code",
   "execution_count": 601,
   "id": "7a839683-484f-4f29-81cc-cc379fc8df55",
   "metadata": {
    "tags": []
   },
   "outputs": [
    {
     "data": {
      "text/html": [
       "<table class=\"simpletable\">\n",
       "<caption>Logit Marginal Effects</caption>\n",
       "<tr>\n",
       "  <th>Dep. Variable:</th> <td>default</td>\n",
       "</tr>\n",
       "<tr>\n",
       "  <th>Method:</th>         <td>dydx</td>  \n",
       "</tr>\n",
       "<tr>\n",
       "  <th>At:</th>            <td>overall</td>\n",
       "</tr>\n",
       "</table>\n",
       "<table class=\"simpletable\">\n",
       "<tr>\n",
       "             <th></th>                <th>dy/dx</th>    <th>std err</th>      <th>z</th>      <th>P>|z|</th>  <th>[0.025</th>    <th>0.975]</th>  \n",
       "</tr>\n",
       "<tr>\n",
       "  <th>sales_mil_log</th>           <td>   -0.0035</td> <td>    0.004</td> <td>   -0.916</td> <td> 0.360</td> <td>   -0.011</td> <td>    0.004</td>\n",
       "</tr>\n",
       "<tr>\n",
       "  <th>sales_mil_log_sq</th>        <td>    0.0020</td> <td>    0.001</td> <td>    3.581</td> <td> 0.000</td> <td>    0.001</td> <td>    0.003</td>\n",
       "</tr>\n",
       "<tr>\n",
       "  <th>profit_loss_year_pl</th>     <td>   -0.0085</td> <td>    0.007</td> <td>   -1.133</td> <td> 0.257</td> <td>   -0.023</td> <td>    0.006</td>\n",
       "</tr>\n",
       "<tr>\n",
       "  <th>fixed_assets_bs</th>         <td>   -0.0369</td> <td>    0.010</td> <td>   -3.606</td> <td> 0.000</td> <td>   -0.057</td> <td>   -0.017</td>\n",
       "</tr>\n",
       "<tr>\n",
       "  <th>share_eq_bs</th>             <td>   -0.0125</td> <td>    0.008</td> <td>   -1.655</td> <td> 0.098</td> <td>   -0.027</td> <td>    0.002</td>\n",
       "</tr>\n",
       "<tr>\n",
       "  <th>curr_liab_bs</th>            <td>   -0.0008</td> <td>    0.012</td> <td>   -0.064</td> <td> 0.949</td> <td>   -0.025</td> <td>    0.023</td>\n",
       "</tr>\n",
       "<tr>\n",
       "  <th>curr_liab_bs_flag_high</th>  <td>    0.0364</td> <td>    0.011</td> <td>    3.418</td> <td> 0.001</td> <td>    0.016</td> <td>    0.057</td>\n",
       "</tr>\n",
       "<tr>\n",
       "  <th>curr_liab_bs_flag_error</th> <td>   -0.7124</td> <td>  122.956</td> <td>   -0.006</td> <td> 0.995</td> <td> -241.703</td> <td>  240.278</td>\n",
       "</tr>\n",
       "<tr>\n",
       "  <th>age</th>                     <td>   -0.0024</td> <td>    0.000</td> <td>   -5.431</td> <td> 0.000</td> <td>   -0.003</td> <td>   -0.002</td>\n",
       "</tr>\n",
       "<tr>\n",
       "  <th>foreign_management</th>      <td>    0.0261</td> <td>    0.007</td> <td>    3.537</td> <td> 0.000</td> <td>    0.012</td> <td>    0.041</td>\n",
       "</tr>\n",
       "</table>"
      ],
      "text/latex": [
       "\\begin{center}\n",
       "\\begin{tabular}{lc}\n",
       "\\toprule\n",
       "\\textbf{Dep. Variable:}              &    default      \\\\\n",
       "\\textbf{Method:}                     &      dydx       \\\\\n",
       "\\textbf{At:}                         &    overall      \\\\\n",
       "\\bottomrule\n",
       "\\end{tabular}\n",
       "\\begin{tabular}{ccccccc}\n",
       "             \\textbf{}               & \\textbf{dy/dx} & \\textbf{std err} & \\textbf{z} & \\textbf{P$> |$z$|$} & \\textbf{[0.025} & \\textbf{0.975]}  \\\\\n",
       "\\midrule\n",
       "\\bottomrule\n",
       "\\end{tabular}\n",
       "\\begin{tabular}{lcccccc}\n",
       "\\textbf{sales\\_mil\\_log}             &      -0.0035   &        0.004     &    -0.916  &         0.360        &       -0.011    &        0.004     \\\\\n",
       "\\textbf{sales\\_mil\\_log\\_sq}         &       0.0020   &        0.001     &     3.581  &         0.000        &        0.001    &        0.003     \\\\\n",
       "\\textbf{profit\\_loss\\_year\\_pl}      &      -0.0085   &        0.007     &    -1.133  &         0.257        &       -0.023    &        0.006     \\\\\n",
       "\\textbf{fixed\\_assets\\_bs}           &      -0.0369   &        0.010     &    -3.606  &         0.000        &       -0.057    &       -0.017     \\\\\n",
       "\\textbf{share\\_eq\\_bs}               &      -0.0125   &        0.008     &    -1.655  &         0.098        &       -0.027    &        0.002     \\\\\n",
       "\\textbf{curr\\_liab\\_bs}              &      -0.0008   &        0.012     &    -0.064  &         0.949        &       -0.025    &        0.023     \\\\\n",
       "\\textbf{curr\\_liab\\_bs\\_flag\\_high}  &       0.0364   &        0.011     &     3.418  &         0.001        &        0.016    &        0.057     \\\\\n",
       "\\textbf{curr\\_liab\\_bs\\_flag\\_error} &      -0.7124   &      122.956     &    -0.006  &         0.995        &     -241.703    &      240.278     \\\\\n",
       "\\textbf{age}                         &      -0.0024   &        0.000     &    -5.431  &         0.000        &       -0.003    &       -0.002     \\\\\n",
       "\\textbf{foreign\\_management}         &       0.0261   &        0.007     &     3.537  &         0.000        &        0.012    &        0.041     \\\\\n",
       "\\bottomrule\n",
       "\\end{tabular}\n",
       "%\\caption{Logit Marginal Effects}\n",
       "\\end{center}"
      ],
      "text/plain": [
       "<class 'statsmodels.iolib.summary.Summary'>\n",
       "\"\"\"\n",
       "        Logit Marginal Effects       \n",
       "=====================================\n",
       "Dep. Variable:                default\n",
       "Method:                          dydx\n",
       "At:                           overall\n",
       "===========================================================================================\n",
       "                             dy/dx    std err          z      P>|z|      [0.025      0.975]\n",
       "-------------------------------------------------------------------------------------------\n",
       "sales_mil_log              -0.0035      0.004     -0.916      0.360      -0.011       0.004\n",
       "sales_mil_log_sq            0.0020      0.001      3.581      0.000       0.001       0.003\n",
       "profit_loss_year_pl        -0.0085      0.007     -1.133      0.257      -0.023       0.006\n",
       "fixed_assets_bs            -0.0369      0.010     -3.606      0.000      -0.057      -0.017\n",
       "share_eq_bs                -0.0125      0.008     -1.655      0.098      -0.027       0.002\n",
       "curr_liab_bs               -0.0008      0.012     -0.064      0.949      -0.025       0.023\n",
       "curr_liab_bs_flag_high      0.0364      0.011      3.418      0.001       0.016       0.057\n",
       "curr_liab_bs_flag_error    -0.7124    122.956     -0.006      0.995    -241.703     240.278\n",
       "age                        -0.0024      0.000     -5.431      0.000      -0.003      -0.002\n",
       "foreign_management          0.0261      0.007      3.537      0.000       0.012       0.041\n",
       "===========================================================================================\n",
       "\"\"\""
      ]
     },
     "execution_count": 601,
     "metadata": {},
     "output_type": "execute_result"
    }
   ],
   "source": [
    "logit_modelx2.get_margeff().summary()"
   ]
  },
  {
   "cell_type": "markdown",
   "id": "35e4326c-0a84-4232-8d90-08e9d96eb0ca",
   "metadata": {
    "tags": []
   },
   "source": [
    "## 1. Predict probabilities with logit and Lasso with CV\n",
    "\n",
    "Specify 5 fold cross-validation method"
   ]
  },
  {
   "cell_type": "code",
   "execution_count": 602,
   "id": "69e7f29c-c086-4ef5-872a-8bd125387d1f",
   "metadata": {
    "tags": []
   },
   "outputs": [],
   "source": [
    "data_train = data.copy()"
   ]
  },
  {
   "cell_type": "code",
   "execution_count": 603,
   "id": "779e7f17-f6df-4ff6-853c-f82cd7c321fc",
   "metadata": {
    "tags": []
   },
   "outputs": [],
   "source": [
    "k = KFold(n_splits=5, shuffle=True, random_state=42)"
   ]
  },
  {
   "cell_type": "markdown",
   "id": "c495193a-3b5c-4872-95ed-6a5bc49f06ad",
   "metadata": {},
   "source": [
    "### a) cross validate logit models"
   ]
  },
  {
   "cell_type": "markdown",
   "id": "04435f86-84ab-489e-8bd2-dffa9323cd21",
   "metadata": {},
   "source": [
    "Set up X-vars"
   ]
  },
  {
   "cell_type": "code",
   "execution_count": 604,
   "id": "a6e00e06-62fe-4e8c-be72-2345ca87a414",
   "metadata": {
    "tags": []
   },
   "outputs": [],
   "source": [
    "logit_model_vars = [M1, M2, M3, M4, M5]"
   ]
  },
  {
   "cell_type": "markdown",
   "id": "b7435794-898f-440d-b5f0-ad5209f170dc",
   "metadata": {},
   "source": [
    "Set up Logit model object\n",
    "\n",
    "No regularisation needed so setting the paremeter to very high value"
   ]
  },
  {
   "cell_type": "code",
   "execution_count": 605,
   "id": "a62766d7-4946-4f16-901e-9a2929df454b",
   "metadata": {
    "tags": []
   },
   "outputs": [],
   "source": [
    "C_value_logit = [1e20]"
   ]
  },
  {
   "cell_type": "code",
   "execution_count": 606,
   "id": "76520455-0c51-4e48-a886-d53850293748",
   "metadata": {
    "tags": []
   },
   "outputs": [
    {
     "name": "stdout",
     "output_type": "stream",
     "text": [
      "Completed model 1/5. Time taken: 0.29 seconds.\n",
      "Completed model 2/5. Time taken: 0.54 seconds.\n",
      "Completed model 3/5. Time taken: 2.52 seconds.\n",
      "Completed model 4/5. Time taken: 4.83 seconds.\n",
      "Completed model 5/5. Time taken: 5.25 seconds.\n",
      "Total time taken: 13.43 seconds.\n"
     ]
    }
   ],
   "source": [
    "from sklearn.impute import SimpleImputer\n",
    "import time\n",
    "\n",
    "logit_models = dict()\n",
    "CV_RMSE_folds = dict()\n",
    "\n",
    "# Start the overall timer\n",
    "overall_start_time = time.time()\n",
    "\n",
    "for i, model_vars in enumerate(logit_model_vars):\n",
    "    # Start the timer for the current iteration\n",
    "    start_time = time.time()\n",
    "\n",
    "    # Define the model equation using patsy's dmatrices\n",
    "    model_equation = \"default~\" + \"+\".join(model_vars)\n",
    "    y_train, X_train = patsy.dmatrices(model_equation, data_train)\n",
    "    \n",
    "    # Flatten y_train to 1D array if necessary for scikit-learn\n",
    "    y_train = y_train.ravel()\n",
    "\n",
    "    # Check for infinite values in X_train and replace them with NaN\n",
    "    X_train = pd.DataFrame(X_train, columns=X_train.design_info.column_names)\n",
    "    X_train = X_train.replace([np.inf, -np.inf], np.nan)\n",
    "\n",
    "    # Impute the NaN values in X_train\n",
    "    imputer = SimpleImputer(missing_values=np.nan, strategy='mean')\n",
    "    X_train_imputed = imputer.fit_transform(X_train)\n",
    "\n",
    "    # Initialize LogisticRegressionCV\n",
    "    LRCV_brier = LogisticRegressionCV(\n",
    "        Cs=C_value_logit,\n",
    "        cv=k,\n",
    "        refit=True,\n",
    "        scoring=\"neg_brier_score\",\n",
    "        solver=\"newton-cg\",\n",
    "        tol=1e-7,\n",
    "        random_state=42,\n",
    "    )\n",
    "\n",
    "    # Fit the model with imputed data\n",
    "    logit_models[\"M\" + str(i + 1)] = LRCV_brier.fit(X_train_imputed, y_train)\n",
    "\n",
    "    # Calculate RMSE on test for each fold using the stored scores\n",
    "    CV_RMSE_folds[\"M\" + str(i + 1)] = np.sqrt(\n",
    "        -1 * logit_models[\"M\" + str(i + 1)].scores_[1].ravel()\n",
    "    )\n",
    "\n",
    "    # End the timer for the current iteration and print the update\n",
    "    end_time = time.time()\n",
    "    print(f\"Completed model {i + 1}/{len(logit_model_vars)}. Time taken: {end_time - start_time:.2f} seconds.\")\n",
    "\n",
    "# Print the total time taken\n",
    "overall_end_time = time.time()\n",
    "print(f\"Total time taken: {overall_end_time - overall_start_time:.2f} seconds.\")\n"
   ]
  },
  {
   "cell_type": "code",
   "execution_count": 607,
   "id": "9648fd53-c238-4f0a-b39e-1039b68d27d9",
   "metadata": {
    "tags": []
   },
   "outputs": [
    {
     "data": {
      "text/html": [
       "<div>\n",
       "<style scoped>\n",
       "    .dataframe tbody tr th:only-of-type {\n",
       "        vertical-align: middle;\n",
       "    }\n",
       "\n",
       "    .dataframe tbody tr th {\n",
       "        vertical-align: top;\n",
       "    }\n",
       "\n",
       "    .dataframe thead th {\n",
       "        text-align: right;\n",
       "    }\n",
       "</style>\n",
       "<table border=\"1\" class=\"dataframe\">\n",
       "  <thead>\n",
       "    <tr style=\"text-align: right;\">\n",
       "      <th></th>\n",
       "      <th>M1</th>\n",
       "      <th>M2</th>\n",
       "      <th>M3</th>\n",
       "      <th>M4</th>\n",
       "      <th>M5</th>\n",
       "    </tr>\n",
       "  </thead>\n",
       "  <tbody>\n",
       "    <tr>\n",
       "      <th>0</th>\n",
       "      <td>0.241527</td>\n",
       "      <td>0.239000</td>\n",
       "      <td>0.243695</td>\n",
       "      <td>0.472008</td>\n",
       "      <td>0.472008</td>\n",
       "    </tr>\n",
       "    <tr>\n",
       "      <th>1</th>\n",
       "      <td>0.212407</td>\n",
       "      <td>0.212866</td>\n",
       "      <td>0.228338</td>\n",
       "      <td>0.215245</td>\n",
       "      <td>0.214657</td>\n",
       "    </tr>\n",
       "    <tr>\n",
       "      <th>2</th>\n",
       "      <td>0.226066</td>\n",
       "      <td>0.222450</td>\n",
       "      <td>0.245666</td>\n",
       "      <td>0.212489</td>\n",
       "      <td>0.211504</td>\n",
       "    </tr>\n",
       "    <tr>\n",
       "      <th>3</th>\n",
       "      <td>0.235832</td>\n",
       "      <td>0.234188</td>\n",
       "      <td>0.477578</td>\n",
       "      <td>0.236257</td>\n",
       "      <td>0.236824</td>\n",
       "    </tr>\n",
       "    <tr>\n",
       "      <th>4</th>\n",
       "      <td>0.225048</td>\n",
       "      <td>0.222679</td>\n",
       "      <td>0.245863</td>\n",
       "      <td>0.230373</td>\n",
       "      <td>0.231621</td>\n",
       "    </tr>\n",
       "  </tbody>\n",
       "</table>\n",
       "</div>"
      ],
      "text/plain": [
       "         M1        M2        M3        M4        M5\n",
       "0  0.241527  0.239000  0.243695  0.472008  0.472008\n",
       "1  0.212407  0.212866  0.228338  0.215245  0.214657\n",
       "2  0.226066  0.222450  0.245666  0.212489  0.211504\n",
       "3  0.235832  0.234188  0.477578  0.236257  0.236824\n",
       "4  0.225048  0.222679  0.245863  0.230373  0.231621"
      ]
     },
     "execution_count": 607,
     "metadata": {},
     "output_type": "execute_result"
    }
   ],
   "source": [
    "pd.DataFrame(CV_RMSE_folds)"
   ]
  },
  {
   "cell_type": "markdown",
   "id": "2d86e8f3-9717-4715-a004-87f44a36b536",
   "metadata": {},
   "source": [
    "### b) Logit + LASSO"
   ]
  },
  {
   "cell_type": "code",
   "execution_count": 608,
   "id": "0297dbe5-e9b7-4f28-bdef-8fed4ebff7b8",
   "metadata": {
    "tags": []
   },
   "outputs": [],
   "source": [
    "model_equation = \"default~\" + \"+\".join(logit_lasso_vars)\n",
    "y_train, X_train = patsy.dmatrices(model_equation, data_train)"
   ]
  },
  {
   "cell_type": "code",
   "execution_count": 609,
   "id": "6a4f37f5-6481-4195-82dd-dc679ae04f66",
   "metadata": {
    "tags": []
   },
   "outputs": [],
   "source": [
    "# Assume X_train is created from patsy.dmatrices\n",
    "y_train, X_train = patsy.dmatrices(model_equation, data_train)\n",
    "\n",
    "# Convert y_train to a DataFrame for easy handling\n",
    "y_train_df = pd.DataFrame(y_train, columns=['default'])\n",
    "\n",
    "# Extract column names right after creating X_train with patsy.dmatrices\n",
    "column_names = X_train.design_info.column_names\n",
    "\n",
    "# Then, convert X_train to a pandas DataFrame if not already done\n",
    "X_train_df = pd.DataFrame(X_train, columns=column_names)\n",
    "\n",
    "# Replace infinite values with NaN\n",
    "X_train_df.replace([np.inf, -np.inf], np.nan, inplace=True)\n",
    "\n",
    "# Drop NaN values from X_train_df\n",
    "X_train_df.dropna(inplace=True)\n",
    "\n",
    "# Find the index of rows kept after dropping NaNs\n",
    "kept_indices = X_train_df.index\n",
    "\n",
    "# Filter y_train_df to keep only the indices that remain in X_train_df\n",
    "y_train_df = y_train_df.loc[kept_indices]\n",
    "\n",
    "normalized_logitvars = pd.DataFrame(\n",
    "    StandardScaler().fit_transform(X_train_df),\n",
    "    columns=column_names  # Use the extracted column names\n",
    ")\n"
   ]
  },
  {
   "cell_type": "code",
   "execution_count": 610,
   "id": "c48bf991-ed28-407f-bd2c-5f404666d957",
   "metadata": {
    "tags": []
   },
   "outputs": [],
   "source": [
    "lambdas = list(10 ** np.arange(-1, -4.01, -1 / 3))\n",
    "n_obs = normalized_logitvars.shape[0] * 4 / 5\n",
    "C_values = [\n",
    "    1 / (l * n_obs) for l in lambdas\n",
    "]  # Cs are the inverse of regularization strength"
   ]
  },
  {
   "cell_type": "code",
   "execution_count": 611,
   "id": "770ac4a7-bef2-43c0-a175-31a5b34db25d",
   "metadata": {
    "tags": []
   },
   "outputs": [],
   "source": [
    "y_train_prepared = y_train_df['default'].values.ravel()\n",
    "\n",
    "logLasso_brier = LogisticRegressionCV(\n",
    "    Cs=C_values,\n",
    "    penalty=\"l1\",\n",
    "    cv=k,\n",
    "    refit=True,\n",
    "    scoring=\"neg_brier_score\",\n",
    "    solver=\"liblinear\",\n",
    "    random_state=42,\n",
    ")\n",
    "\n",
    "logit_models[\"LASSO\"] = logLasso_brier.fit(normalized_logitvars, y_train_prepared)\n"
   ]
  },
  {
   "cell_type": "code",
   "execution_count": 612,
   "id": "2eb7a919-f505-4b45-ad48-9035e7f6daf0",
   "metadata": {
    "tags": []
   },
   "outputs": [
    {
     "data": {
      "text/html": [
       "<div>\n",
       "<style scoped>\n",
       "    .dataframe tbody tr th:only-of-type {\n",
       "        vertical-align: middle;\n",
       "    }\n",
       "\n",
       "    .dataframe tbody tr th {\n",
       "        vertical-align: top;\n",
       "    }\n",
       "\n",
       "    .dataframe thead th {\n",
       "        text-align: right;\n",
       "    }\n",
       "</style>\n",
       "<table border=\"1\" class=\"dataframe\">\n",
       "  <thead>\n",
       "    <tr style=\"text-align: right;\">\n",
       "      <th></th>\n",
       "      <th>lambdas</th>\n",
       "      <th>C_values</th>\n",
       "      <th>mean_cv_score</th>\n",
       "    </tr>\n",
       "  </thead>\n",
       "  <tbody>\n",
       "    <tr>\n",
       "      <th>0</th>\n",
       "      <td>0.100000</td>\n",
       "      <td>0.001670</td>\n",
       "      <td>0.248368</td>\n",
       "    </tr>\n",
       "    <tr>\n",
       "      <th>1</th>\n",
       "      <td>0.046416</td>\n",
       "      <td>0.003599</td>\n",
       "      <td>0.232037</td>\n",
       "    </tr>\n",
       "    <tr>\n",
       "      <th>2</th>\n",
       "      <td>0.021544</td>\n",
       "      <td>0.007754</td>\n",
       "      <td>0.224179</td>\n",
       "    </tr>\n",
       "    <tr>\n",
       "      <th>3</th>\n",
       "      <td>0.010000</td>\n",
       "      <td>0.016705</td>\n",
       "      <td>0.220836</td>\n",
       "    </tr>\n",
       "    <tr>\n",
       "      <th>4</th>\n",
       "      <td>0.004642</td>\n",
       "      <td>0.035989</td>\n",
       "      <td>0.220256</td>\n",
       "    </tr>\n",
       "    <tr>\n",
       "      <th>5</th>\n",
       "      <td>0.002154</td>\n",
       "      <td>0.077536</td>\n",
       "      <td>0.221163</td>\n",
       "    </tr>\n",
       "    <tr>\n",
       "      <th>6</th>\n",
       "      <td>0.001000</td>\n",
       "      <td>0.167045</td>\n",
       "      <td>0.221011</td>\n",
       "    </tr>\n",
       "    <tr>\n",
       "      <th>7</th>\n",
       "      <td>0.000464</td>\n",
       "      <td>0.359888</td>\n",
       "      <td>0.221222</td>\n",
       "    </tr>\n",
       "    <tr>\n",
       "      <th>8</th>\n",
       "      <td>0.000215</td>\n",
       "      <td>0.775356</td>\n",
       "      <td>0.221564</td>\n",
       "    </tr>\n",
       "    <tr>\n",
       "      <th>9</th>\n",
       "      <td>0.000100</td>\n",
       "      <td>1.670453</td>\n",
       "      <td>0.221840</td>\n",
       "    </tr>\n",
       "  </tbody>\n",
       "</table>\n",
       "</div>"
      ],
      "text/plain": [
       "    lambdas  C_values  mean_cv_score\n",
       "0  0.100000  0.001670       0.248368\n",
       "1  0.046416  0.003599       0.232037\n",
       "2  0.021544  0.007754       0.224179\n",
       "3  0.010000  0.016705       0.220836\n",
       "4  0.004642  0.035989       0.220256\n",
       "5  0.002154  0.077536       0.221163\n",
       "6  0.001000  0.167045       0.221011\n",
       "7  0.000464  0.359888       0.221222\n",
       "8  0.000215  0.775356       0.221564\n",
       "9  0.000100  1.670453       0.221840"
      ]
     },
     "execution_count": 612,
     "metadata": {},
     "output_type": "execute_result"
    }
   ],
   "source": [
    "cv_summary_lasso = cv_summary(lambdas, C_values, logit_models[\"LASSO\"])\n",
    "cv_summary_lasso[\"mean_cv_score\"] = np.sqrt(cv_summary_lasso[\"mean_cv_score\"] * -1)\n",
    "cv_summary_lasso"
   ]
  },
  {
   "cell_type": "code",
   "execution_count": 613,
   "id": "e3b3ba7b-dffd-4130-921d-824b55fce865",
   "metadata": {
    "tags": []
   },
   "outputs": [],
   "source": [
    "best_lambda_i = cv_summary_lasso[\"mean_cv_score\"].idxmin()"
   ]
  },
  {
   "cell_type": "code",
   "execution_count": 614,
   "id": "322f8054-220b-441c-9d56-d323278ba6ec",
   "metadata": {
    "tags": []
   },
   "outputs": [],
   "source": [
    "CV_RMSE_folds[\"LASSO\"] = np.sqrt(\n",
    "    -1 * logit_models[\"LASSO\"].scores_[1][:, best_lambda_i]\n",
    ")"
   ]
  },
  {
   "cell_type": "code",
   "execution_count": 615,
   "id": "f1ad6a18-a5ee-43bc-8b0a-cb957d893fee",
   "metadata": {
    "tags": []
   },
   "outputs": [
    {
     "data": {
      "text/html": [
       "<div>\n",
       "<style scoped>\n",
       "    .dataframe tbody tr th:only-of-type {\n",
       "        vertical-align: middle;\n",
       "    }\n",
       "\n",
       "    .dataframe tbody tr th {\n",
       "        vertical-align: top;\n",
       "    }\n",
       "\n",
       "    .dataframe thead th {\n",
       "        text-align: right;\n",
       "    }\n",
       "</style>\n",
       "<table border=\"1\" class=\"dataframe\">\n",
       "  <thead>\n",
       "    <tr style=\"text-align: right;\">\n",
       "      <th></th>\n",
       "      <th>M1</th>\n",
       "      <th>M2</th>\n",
       "      <th>M3</th>\n",
       "      <th>M4</th>\n",
       "      <th>M5</th>\n",
       "      <th>LASSO</th>\n",
       "    </tr>\n",
       "  </thead>\n",
       "  <tbody>\n",
       "    <tr>\n",
       "      <th>0</th>\n",
       "      <td>0.241527</td>\n",
       "      <td>0.239000</td>\n",
       "      <td>0.243695</td>\n",
       "      <td>0.472008</td>\n",
       "      <td>0.472008</td>\n",
       "      <td>0.221823</td>\n",
       "    </tr>\n",
       "    <tr>\n",
       "      <th>1</th>\n",
       "      <td>0.212407</td>\n",
       "      <td>0.212866</td>\n",
       "      <td>0.228338</td>\n",
       "      <td>0.215245</td>\n",
       "      <td>0.214657</td>\n",
       "      <td>0.213409</td>\n",
       "    </tr>\n",
       "    <tr>\n",
       "      <th>2</th>\n",
       "      <td>0.226066</td>\n",
       "      <td>0.222450</td>\n",
       "      <td>0.245666</td>\n",
       "      <td>0.212489</td>\n",
       "      <td>0.211504</td>\n",
       "      <td>0.206258</td>\n",
       "    </tr>\n",
       "    <tr>\n",
       "      <th>3</th>\n",
       "      <td>0.235832</td>\n",
       "      <td>0.234188</td>\n",
       "      <td>0.477578</td>\n",
       "      <td>0.236257</td>\n",
       "      <td>0.236824</td>\n",
       "      <td>0.230332</td>\n",
       "    </tr>\n",
       "    <tr>\n",
       "      <th>4</th>\n",
       "      <td>0.225048</td>\n",
       "      <td>0.222679</td>\n",
       "      <td>0.245863</td>\n",
       "      <td>0.230373</td>\n",
       "      <td>0.231621</td>\n",
       "      <td>0.228515</td>\n",
       "    </tr>\n",
       "  </tbody>\n",
       "</table>\n",
       "</div>"
      ],
      "text/plain": [
       "         M1        M2        M3        M4        M5     LASSO\n",
       "0  0.241527  0.239000  0.243695  0.472008  0.472008  0.221823\n",
       "1  0.212407  0.212866  0.228338  0.215245  0.214657  0.213409\n",
       "2  0.226066  0.222450  0.245666  0.212489  0.211504  0.206258\n",
       "3  0.235832  0.234188  0.477578  0.236257  0.236824  0.230332\n",
       "4  0.225048  0.222679  0.245863  0.230373  0.231621  0.228515"
      ]
     },
     "execution_count": 615,
     "metadata": {},
     "output_type": "execute_result"
    }
   ],
   "source": [
    "pd.DataFrame(CV_RMSE_folds)"
   ]
  },
  {
   "cell_type": "markdown",
   "id": "af5ba6bf-b44b-4c47-b23c-2b13533b2e34",
   "metadata": {
    "tags": []
   },
   "source": [
    "## 2.  AUC, Calibration Curve, Confusion Matrix, ROC\n",
    "\n",
    "0. Calculate AUC for folds\n",
    "\n",
    "\n",
    "First, for logits"
   ]
  },
  {
   "cell_type": "code",
   "execution_count": 616,
   "id": "199b9b4c-dc30-49c1-a4c2-846b2ad4480c",
   "metadata": {
    "tags": []
   },
   "outputs": [],
   "source": [
    "CV_AUC_folds = dict()\n",
    "\n",
    "# Ensure np and pd are already imported\n",
    "for i, model_vars in enumerate(logit_model_vars):\n",
    "    # Generate the model equation\n",
    "    model_equation = \"default~\" + \"+\".join(model_vars)\n",
    "    \n",
    "    # Use patsy.dmatrices to generate X and y matrices\n",
    "    y_train, X_train = patsy.dmatrices(model_equation, data_train)\n",
    "    \n",
    "    # Convert X_train to a pandas DataFrame for easier manipulation\n",
    "    X_train_df = pd.DataFrame(X_train, columns=X_train.design_info.column_names)\n",
    "    \n",
    "    # Now you can safely replace infinities with NaN\n",
    "    X_train_df.replace([np.inf, -np.inf], np.nan, inplace=True)\n",
    "\n",
    "    # Impute missing values\n",
    "    imputer = SimpleImputer(missing_values=np.nan, strategy='mean')\n",
    "    X_train_imputed = imputer.fit_transform(X_train_df)\n",
    "\n",
    "    # Normalize the variables using StandardScaler\n",
    "    scaler = StandardScaler()\n",
    "    X_train_normalized = scaler.fit_transform(X_train_imputed)\n",
    "\n",
    "    # Flatten y_train to fit the model\n",
    "    y_train = y_train.ravel()\n",
    "\n",
    "    # Fit the model\n",
    "    LRCV_auc = LogisticRegressionCV(\n",
    "        Cs=C_value_logit,\n",
    "        cv=k,\n",
    "        refit=True,\n",
    "        scoring=\"roc_auc\",\n",
    "        solver=\"newton-cg\",\n",
    "        tol=1e-7,\n",
    "        random_state=42,\n",
    "    )\n",
    "    \n",
    "    logit_models[\"M\" + str(i + 1)] = LRCV_auc.fit(X_train_normalized, y_train)\n",
    "\n",
    "    # Calculate AUC on test for each fold\n",
    "    CV_AUC_folds[\"M\" + str(i + 1)] = logit_models[\"M\" + str(i + 1)].scores_[1].ravel()\n"
   ]
  },
  {
   "cell_type": "markdown",
   "id": "9d230881-ba3c-4466-a494-49b33d07cd32",
   "metadata": {},
   "source": [
    "For Lasso"
   ]
  },
  {
   "cell_type": "code",
   "execution_count": 617,
   "id": "d2eeca25-3199-42a6-9eaa-854433d27cd6",
   "metadata": {
    "tags": []
   },
   "outputs": [
    {
     "name": "stdout",
     "output_type": "stream",
     "text": [
      "X_train shape: (7483, 91)\n",
      "y_train shape: (7483,)\n"
     ]
    }
   ],
   "source": [
    "print(\"X_train shape:\", normalized_logitvars.shape)\n",
    "print(\"y_train shape:\", y_train.shape)"
   ]
  },
  {
   "cell_type": "code",
   "execution_count": 618,
   "id": "d0b7cb56-3dc4-4c6c-aeb2-dde3ccafb2fa",
   "metadata": {
    "tags": []
   },
   "outputs": [],
   "source": [
    "# Example of dropping rows with NaN values from both X and y (use only if necessary and appropriate)\n",
    "# First, ensure X_train_df is aligned with y_train\n",
    "X_train_df['target'] = y_train.ravel()  # Temporarily append y_train to X for aligned row dropping\n",
    "cleaned_df = X_train_df.dropna()  # Drop rows with NaN values\n",
    "y_train_cleaned = cleaned_df['target'].values  # Extract the cleaned y_train\n",
    "X_train_cleaned = cleaned_df.drop(columns=['target'])  # Drop the temporary y_train column\n",
    "\n",
    "# Proceed with normalization and model fitting using the cleaned datasets\n"
   ]
  },
  {
   "cell_type": "code",
   "execution_count": 619,
   "id": "0386e045-f193-4b86-a320-57d0ea3a2d6d",
   "metadata": {
    "tags": []
   },
   "outputs": [
    {
     "name": "stdout",
     "output_type": "stream",
     "text": [
      "X_train_cleaned shape: (7483, 91)\n",
      "y_train_cleaned shape: (7483,)\n"
     ]
    }
   ],
   "source": [
    "# Convert X_train_df back to the format needed for model fitting after cleaning\n",
    "X_train_cleaned = cleaned_df.drop(columns=['target'])  # Assuming cleaned_df is your cleaned DataFrame\n",
    "y_train_cleaned = cleaned_df['target'].values  # This is correct\n",
    "\n",
    "# Now, you should normalize and fit the model on X_train_cleaned and y_train_cleaned\n",
    "# Ensure normalization (if not already done) and model fitting uses these cleaned variables\n",
    "\n",
    "# Re-check the shapes after the cleaning process\n",
    "print(\"X_train_cleaned shape:\", X_train_cleaned.shape)\n",
    "print(\"y_train_cleaned shape:\", y_train_cleaned.shape)"
   ]
  },
  {
   "cell_type": "code",
   "execution_count": 620,
   "id": "ec0047a7-0475-4154-8f19-81bce0734353",
   "metadata": {
    "tags": []
   },
   "outputs": [],
   "source": [
    "# Normalize X_train_cleaned\n",
    "scaler = StandardScaler()\n",
    "X_train_cleaned_normalized = scaler.fit_transform(X_train_cleaned)\n",
    "\n",
    "# Initialize and fit the logistic regression model with L1 penalty (LASSO) on the cleaned and normalized data\n",
    "logLasso_auc = LogisticRegressionCV(\n",
    "    Cs=C_values,\n",
    "    penalty=\"l1\",\n",
    "    cv=k,\n",
    "    refit=True,\n",
    "    scoring=\"roc_auc\",\n",
    "    solver=\"liblinear\",\n",
    "    random_state=42,\n",
    ")\n",
    "\n",
    "# Fit the model\n",
    "logLasso_auc_fitted = logLasso_auc.fit(X_train_cleaned_normalized, y_train_cleaned)\n",
    "\n",
    "if 1 in logLasso_auc_fitted.scores_:\n",
    "    class_label = 1\n",
    "else:\n",
    "    class_label = list(logLasso_auc_fitted.scores_.keys())[0]  # Fallback to the first key\n",
    "\n",
    "# Assuming cv_summary_lasso is a summary statistic from cross-validation, adjust as necessary\n",
    "# For simplicity, this example uses the mean score across folds for the class of interest\n",
    "CV_AUC_folds[\"LASSO\"] = logLasso_auc_fitted.scores_[class_label][\n",
    "    :, cv_summary_lasso[\"mean_cv_score\"].idxmin()\n",
    "]\n"
   ]
  },
  {
   "cell_type": "code",
   "execution_count": 621,
   "id": "d8a16d62-3594-45be-82ab-5b80494d8846",
   "metadata": {
    "tags": []
   },
   "outputs": [],
   "source": [
    "model_fits = pd.DataFrame(logit_models, index=[\"Model fit\"]).T\n",
    "\n",
    "summary = (\n",
    "    model_fits[\"Model fit\"]\n",
    "    .apply(lambda x: x.n_features_in_)\n",
    "    .to_frame(name=\"Number of Coefficients\")\n",
    ")\n",
    "\n",
    "summary.loc[\"LASSO\", \"Number of Coefficients\"] = len(\n",
    "    [i for i in model_fits.loc[\"LASSO\"].values[0].coef_[0] if i != 0]\n",
    ")\n",
    "\n",
    "summary[\"CV RMSE\"] = pd.DataFrame(CV_RMSE_folds).T.mean(axis=1)\n",
    "summary[\"CV AUC\"] = pd.DataFrame(CV_AUC_folds).T.mean(axis=1)"
   ]
  },
  {
   "cell_type": "code",
   "execution_count": 622,
   "id": "5aac576b-30ba-4dc7-9cb4-947193967801",
   "metadata": {
    "tags": []
   },
   "outputs": [
    {
     "data": {
      "text/plain": [
       "16"
      ]
     },
     "execution_count": 622,
     "metadata": {},
     "output_type": "execute_result"
    }
   ],
   "source": [
    "sum(x != 0 for x in model_fits.loc[\"LASSO\"].values[0].coef_[0].tolist())"
   ]
  },
  {
   "cell_type": "code",
   "execution_count": 623,
   "id": "6122dabb-fc00-45f7-821d-cfa6bfb0eb98",
   "metadata": {
    "tags": []
   },
   "outputs": [
    {
     "data": {
      "text/plain": [
       "16"
      ]
     },
     "execution_count": 623,
     "metadata": {},
     "output_type": "execute_result"
    }
   ],
   "source": [
    "len(\n",
    "    [i for i in model_fits.loc[\"LASSO\"].values[0].coef_[0] if i != 0]\n",
    ")"
   ]
  },
  {
   "cell_type": "code",
   "execution_count": 624,
   "id": "ca11decf-fa7a-43d9-8c2e-e3250039ca74",
   "metadata": {
    "tags": []
   },
   "outputs": [
    {
     "data": {
      "text/html": [
       "<div>\n",
       "<style scoped>\n",
       "    .dataframe tbody tr th:only-of-type {\n",
       "        vertical-align: middle;\n",
       "    }\n",
       "\n",
       "    .dataframe tbody tr th {\n",
       "        vertical-align: top;\n",
       "    }\n",
       "\n",
       "    .dataframe thead th {\n",
       "        text-align: right;\n",
       "    }\n",
       "</style>\n",
       "<table border=\"1\" class=\"dataframe\">\n",
       "  <thead>\n",
       "    <tr style=\"text-align: right;\">\n",
       "      <th></th>\n",
       "      <th>Number of Coefficients</th>\n",
       "      <th>CV RMSE</th>\n",
       "      <th>CV AUC</th>\n",
       "    </tr>\n",
       "  </thead>\n",
       "  <tbody>\n",
       "    <tr>\n",
       "      <th>M1</th>\n",
       "      <td>17</td>\n",
       "      <td>0.228176</td>\n",
       "      <td>0.694846</td>\n",
       "    </tr>\n",
       "    <tr>\n",
       "      <th>M2</th>\n",
       "      <td>11</td>\n",
       "      <td>0.226237</td>\n",
       "      <td>0.748864</td>\n",
       "    </tr>\n",
       "    <tr>\n",
       "      <th>M3</th>\n",
       "      <td>38</td>\n",
       "      <td>0.288228</td>\n",
       "      <td>0.725501</td>\n",
       "    </tr>\n",
       "    <tr>\n",
       "      <th>M4</th>\n",
       "      <td>87</td>\n",
       "      <td>0.273275</td>\n",
       "      <td>0.749375</td>\n",
       "    </tr>\n",
       "    <tr>\n",
       "      <th>M5</th>\n",
       "      <td>91</td>\n",
       "      <td>0.273323</td>\n",
       "      <td>0.748499</td>\n",
       "    </tr>\n",
       "    <tr>\n",
       "      <th>LASSO</th>\n",
       "      <td>16</td>\n",
       "      <td>0.220067</td>\n",
       "      <td>0.773700</td>\n",
       "    </tr>\n",
       "  </tbody>\n",
       "</table>\n",
       "</div>"
      ],
      "text/plain": [
       "       Number of Coefficients   CV RMSE    CV AUC\n",
       "M1                         17  0.228176  0.694846\n",
       "M2                         11  0.226237  0.748864\n",
       "M3                         38  0.288228  0.725501\n",
       "M4                         87  0.273275  0.749375\n",
       "M5                         91  0.273323  0.748499\n",
       "LASSO                      16  0.220067  0.773700"
      ]
     },
     "execution_count": 624,
     "metadata": {},
     "output_type": "execute_result"
    }
   ],
   "source": [
    "summary"
   ]
  },
  {
   "cell_type": "markdown",
   "id": "e11a1e4a-d680-4181-9943-c34a2e39a8ac",
   "metadata": {},
   "source": [
    "### Take best model and estimate RMSE on holdout  \n",
    "\n",
    "We will go with lasso since it is a simpler model with the lowest RMSE\n",
    "\n",
    "\n",
    "ther were a ton of errors coming up about legnths and infinte values. the following three code blocks \"correct\" those errors. but, the real issue is probably something deeper in the code that could be fixed and resolve the issue. "
   ]
  },
  {
   "cell_type": "code",
   "execution_count": 642,
   "id": "b9731a84-7800-432c-a3d1-3517e2e6c5d5",
   "metadata": {
    "tags": []
   },
   "outputs": [],
   "source": [
    "y_train = data['default']\n",
    "X_train = data.drop('default', axis=1)  # This removes the target column from the features\n",
    "\n",
    "model_equation = \"default ~ \" + \" + \".join(logit_lasso_vars)  # features_vars should be the list of your feature variable names\n",
    "y_train, X_train = patsy.dmatrices(model_equation, data)\n",
    "\n"
   ]
  },
  {
   "cell_type": "code",
   "execution_count": 643,
   "id": "b21cdb01-a1e2-43fc-a52d-2671ffb00fbc",
   "metadata": {
    "tags": []
   },
   "outputs": [
    {
     "data": {
      "text/html": [
       "<style>#sk-container-id-2 {color: black;}#sk-container-id-2 pre{padding: 0;}#sk-container-id-2 div.sk-toggleable {background-color: white;}#sk-container-id-2 label.sk-toggleable__label {cursor: pointer;display: block;width: 100%;margin-bottom: 0;padding: 0.3em;box-sizing: border-box;text-align: center;}#sk-container-id-2 label.sk-toggleable__label-arrow:before {content: \"▸\";float: left;margin-right: 0.25em;color: #696969;}#sk-container-id-2 label.sk-toggleable__label-arrow:hover:before {color: black;}#sk-container-id-2 div.sk-estimator:hover label.sk-toggleable__label-arrow:before {color: black;}#sk-container-id-2 div.sk-toggleable__content {max-height: 0;max-width: 0;overflow: hidden;text-align: left;background-color: #f0f8ff;}#sk-container-id-2 div.sk-toggleable__content pre {margin: 0.2em;color: black;border-radius: 0.25em;background-color: #f0f8ff;}#sk-container-id-2 input.sk-toggleable__control:checked~div.sk-toggleable__content {max-height: 200px;max-width: 100%;overflow: auto;}#sk-container-id-2 input.sk-toggleable__control:checked~label.sk-toggleable__label-arrow:before {content: \"▾\";}#sk-container-id-2 div.sk-estimator input.sk-toggleable__control:checked~label.sk-toggleable__label {background-color: #d4ebff;}#sk-container-id-2 div.sk-label input.sk-toggleable__control:checked~label.sk-toggleable__label {background-color: #d4ebff;}#sk-container-id-2 input.sk-hidden--visually {border: 0;clip: rect(1px 1px 1px 1px);clip: rect(1px, 1px, 1px, 1px);height: 1px;margin: -1px;overflow: hidden;padding: 0;position: absolute;width: 1px;}#sk-container-id-2 div.sk-estimator {font-family: monospace;background-color: #f0f8ff;border: 1px dotted black;border-radius: 0.25em;box-sizing: border-box;margin-bottom: 0.5em;}#sk-container-id-2 div.sk-estimator:hover {background-color: #d4ebff;}#sk-container-id-2 div.sk-parallel-item::after {content: \"\";width: 100%;border-bottom: 1px solid gray;flex-grow: 1;}#sk-container-id-2 div.sk-label:hover label.sk-toggleable__label {background-color: #d4ebff;}#sk-container-id-2 div.sk-serial::before {content: \"\";position: absolute;border-left: 1px solid gray;box-sizing: border-box;top: 0;bottom: 0;left: 50%;z-index: 0;}#sk-container-id-2 div.sk-serial {display: flex;flex-direction: column;align-items: center;background-color: white;padding-right: 0.2em;padding-left: 0.2em;position: relative;}#sk-container-id-2 div.sk-item {position: relative;z-index: 1;}#sk-container-id-2 div.sk-parallel {display: flex;align-items: stretch;justify-content: center;background-color: white;position: relative;}#sk-container-id-2 div.sk-item::before, #sk-container-id-2 div.sk-parallel-item::before {content: \"\";position: absolute;border-left: 1px solid gray;box-sizing: border-box;top: 0;bottom: 0;left: 50%;z-index: -1;}#sk-container-id-2 div.sk-parallel-item {display: flex;flex-direction: column;z-index: 1;position: relative;background-color: white;}#sk-container-id-2 div.sk-parallel-item:first-child::after {align-self: flex-end;width: 50%;}#sk-container-id-2 div.sk-parallel-item:last-child::after {align-self: flex-start;width: 50%;}#sk-container-id-2 div.sk-parallel-item:only-child::after {width: 0;}#sk-container-id-2 div.sk-dashed-wrapped {border: 1px dashed gray;margin: 0 0.4em 0.5em 0.4em;box-sizing: border-box;padding-bottom: 0.4em;background-color: white;}#sk-container-id-2 div.sk-label label {font-family: monospace;font-weight: bold;display: inline-block;line-height: 1.2em;}#sk-container-id-2 div.sk-label-container {text-align: center;}#sk-container-id-2 div.sk-container {/* jupyter's `normalize.less` sets `[hidden] { display: none; }` but bootstrap.min.css set `[hidden] { display: none !important; }` so we also need the `!important` here to be able to override the default hidden behavior on the sphinx rendered scikit-learn.org. See: https://github.com/scikit-learn/scikit-learn/issues/21755 */display: inline-block !important;position: relative;}#sk-container-id-2 div.sk-text-repr-fallback {display: none;}</style><div id=\"sk-container-id-2\" class=\"sk-top-container\"><div class=\"sk-text-repr-fallback\"><pre>SimpleImputer()</pre><b>In a Jupyter environment, please rerun this cell to show the HTML representation or trust the notebook. <br />On GitHub, the HTML representation is unable to render, please try loading this page with nbviewer.org.</b></div><div class=\"sk-container\" hidden><div class=\"sk-item\"><div class=\"sk-estimator sk-toggleable\"><input class=\"sk-toggleable__control sk-hidden--visually\" id=\"sk-estimator-id-2\" type=\"checkbox\" checked><label for=\"sk-estimator-id-2\" class=\"sk-toggleable__label sk-toggleable__label-arrow\">SimpleImputer</label><div class=\"sk-toggleable__content\"><pre>SimpleImputer()</pre></div></div></div></div></div>"
      ],
      "text/plain": [
       "SimpleImputer()"
      ]
     },
     "execution_count": 643,
     "metadata": {},
     "output_type": "execute_result"
    }
   ],
   "source": [
    "# Initialize the imputer\n",
    "imputer = SimpleImputer(missing_values=np.nan, strategy='mean')\n",
    "\n",
    "# Fit the imputer on X_train\n",
    "# If X_train is a patsy DesignMatrix, convert it to DataFrame first\n",
    "X_train_df = pd.DataFrame(X_train, columns=X_train.design_info.column_names)\n",
    "imputer.fit(X_train_df)\n"
   ]
  },
  {
   "cell_type": "code",
   "execution_count": 645,
   "id": "2f111236-8cea-4b5f-a56c-91767213f4bb",
   "metadata": {
    "tags": []
   },
   "outputs": [
    {
     "data": {
      "text/html": [
       "<style>#sk-container-id-4 {color: black;}#sk-container-id-4 pre{padding: 0;}#sk-container-id-4 div.sk-toggleable {background-color: white;}#sk-container-id-4 label.sk-toggleable__label {cursor: pointer;display: block;width: 100%;margin-bottom: 0;padding: 0.3em;box-sizing: border-box;text-align: center;}#sk-container-id-4 label.sk-toggleable__label-arrow:before {content: \"▸\";float: left;margin-right: 0.25em;color: #696969;}#sk-container-id-4 label.sk-toggleable__label-arrow:hover:before {color: black;}#sk-container-id-4 div.sk-estimator:hover label.sk-toggleable__label-arrow:before {color: black;}#sk-container-id-4 div.sk-toggleable__content {max-height: 0;max-width: 0;overflow: hidden;text-align: left;background-color: #f0f8ff;}#sk-container-id-4 div.sk-toggleable__content pre {margin: 0.2em;color: black;border-radius: 0.25em;background-color: #f0f8ff;}#sk-container-id-4 input.sk-toggleable__control:checked~div.sk-toggleable__content {max-height: 200px;max-width: 100%;overflow: auto;}#sk-container-id-4 input.sk-toggleable__control:checked~label.sk-toggleable__label-arrow:before {content: \"▾\";}#sk-container-id-4 div.sk-estimator input.sk-toggleable__control:checked~label.sk-toggleable__label {background-color: #d4ebff;}#sk-container-id-4 div.sk-label input.sk-toggleable__control:checked~label.sk-toggleable__label {background-color: #d4ebff;}#sk-container-id-4 input.sk-hidden--visually {border: 0;clip: rect(1px 1px 1px 1px);clip: rect(1px, 1px, 1px, 1px);height: 1px;margin: -1px;overflow: hidden;padding: 0;position: absolute;width: 1px;}#sk-container-id-4 div.sk-estimator {font-family: monospace;background-color: #f0f8ff;border: 1px dotted black;border-radius: 0.25em;box-sizing: border-box;margin-bottom: 0.5em;}#sk-container-id-4 div.sk-estimator:hover {background-color: #d4ebff;}#sk-container-id-4 div.sk-parallel-item::after {content: \"\";width: 100%;border-bottom: 1px solid gray;flex-grow: 1;}#sk-container-id-4 div.sk-label:hover label.sk-toggleable__label {background-color: #d4ebff;}#sk-container-id-4 div.sk-serial::before {content: \"\";position: absolute;border-left: 1px solid gray;box-sizing: border-box;top: 0;bottom: 0;left: 50%;z-index: 0;}#sk-container-id-4 div.sk-serial {display: flex;flex-direction: column;align-items: center;background-color: white;padding-right: 0.2em;padding-left: 0.2em;position: relative;}#sk-container-id-4 div.sk-item {position: relative;z-index: 1;}#sk-container-id-4 div.sk-parallel {display: flex;align-items: stretch;justify-content: center;background-color: white;position: relative;}#sk-container-id-4 div.sk-item::before, #sk-container-id-4 div.sk-parallel-item::before {content: \"\";position: absolute;border-left: 1px solid gray;box-sizing: border-box;top: 0;bottom: 0;left: 50%;z-index: -1;}#sk-container-id-4 div.sk-parallel-item {display: flex;flex-direction: column;z-index: 1;position: relative;background-color: white;}#sk-container-id-4 div.sk-parallel-item:first-child::after {align-self: flex-end;width: 50%;}#sk-container-id-4 div.sk-parallel-item:last-child::after {align-self: flex-start;width: 50%;}#sk-container-id-4 div.sk-parallel-item:only-child::after {width: 0;}#sk-container-id-4 div.sk-dashed-wrapped {border: 1px dashed gray;margin: 0 0.4em 0.5em 0.4em;box-sizing: border-box;padding-bottom: 0.4em;background-color: white;}#sk-container-id-4 div.sk-label label {font-family: monospace;font-weight: bold;display: inline-block;line-height: 1.2em;}#sk-container-id-4 div.sk-label-container {text-align: center;}#sk-container-id-4 div.sk-container {/* jupyter's `normalize.less` sets `[hidden] { display: none; }` but bootstrap.min.css set `[hidden] { display: none !important; }` so we also need the `!important` here to be able to override the default hidden behavior on the sphinx rendered scikit-learn.org. See: https://github.com/scikit-learn/scikit-learn/issues/21755 */display: inline-block !important;position: relative;}#sk-container-id-4 div.sk-text-repr-fallback {display: none;}</style><div id=\"sk-container-id-4\" class=\"sk-top-container\"><div class=\"sk-text-repr-fallback\"><pre>StandardScaler()</pre><b>In a Jupyter environment, please rerun this cell to show the HTML representation or trust the notebook. <br />On GitHub, the HTML representation is unable to render, please try loading this page with nbviewer.org.</b></div><div class=\"sk-container\" hidden><div class=\"sk-item\"><div class=\"sk-estimator sk-toggleable\"><input class=\"sk-toggleable__control sk-hidden--visually\" id=\"sk-estimator-id-4\" type=\"checkbox\" checked><label for=\"sk-estimator-id-4\" class=\"sk-toggleable__label sk-toggleable__label-arrow\">StandardScaler</label><div class=\"sk-toggleable__content\"><pre>StandardScaler()</pre></div></div></div></div></div>"
      ],
      "text/plain": [
       "StandardScaler()"
      ]
     },
     "execution_count": 645,
     "metadata": {},
     "output_type": "execute_result"
    }
   ],
   "source": [
    "# Initialize the scaler\n",
    "scaler = StandardScaler()\n",
    "\n",
    "# transform X_train using the fitted imputer before fitting the scaler\n",
    "X_train_imputed = imputer.transform(X_train_df)\n",
    "\n",
    "# Fit the scaler on the imputed data\n",
    "scaler.fit(X_train_imputed)\n"
   ]
  },
  {
   "cell_type": "code",
   "execution_count": 647,
   "id": "2b0b7e93-b57c-475f-b1af-fba584bc9cce",
   "metadata": {
    "tags": []
   },
   "outputs": [
    {
     "name": "stdout",
     "output_type": "stream",
     "text": [
      "RMSE: 0.221\n"
     ]
    }
   ],
   "source": [
    "best_logit = logit_models[\"LASSO\"]\n",
    "_, X_holdout = patsy.dmatrices(\"default~\" + \"+\".join(logit_lasso_vars), hold_out_sample)\n",
    "X_holdout_df = pd.DataFrame(X_holdout, columns=X_holdout.design_info.column_names)\n",
    "X_holdout_df.replace([np.inf, -np.inf], np.nan, inplace=True)\n",
    "X_holdout_imputed = imputer.transform(X_holdout_df)\n",
    "X_holdout_scaled = scaler.transform(X_holdout_imputed)\n",
    "proba_predictions = best_logit.predict_proba(X_holdout_scaled)[:, 1]\n",
    "\n",
    "# Adjust hold_out_sample to match the length of proba_predictions if necessary\n",
    "hold_out_sample_adjusted = hold_out_sample.iloc[:len(proba_predictions)].copy()\n",
    "hold_out_sample_adjusted[\"best_logit_pred_proba\"] = proba_predictions\n",
    "rmse_value = np.sqrt(mean_squared_error(hold_out_sample_adjusted[\"default\"], hold_out_sample_adjusted[\"best_logit_pred_proba\"]))\n",
    "print(\"RMSE:\", round(rmse_value, 3))\n"
   ]
  },
  {
   "cell_type": "markdown",
   "id": "6dd4bf49-988f-4139-a8ea-7faf476a453b",
   "metadata": {
    "tags": []
   },
   "source": [
    "### a) Calibration curve\n",
    "\n",
    "how well do estimated vs actual event probabilities relate to each other?\n"
   ]
  },
  {
   "cell_type": "code",
   "execution_count": 668,
   "id": "151fbccb-5f38-473f-89b0-a5a3f28fb3ac",
   "metadata": {
    "tags": []
   },
   "outputs": [
    {
     "data": {
      "image/png": "[encoded data removed]",
      "text/plain": [
       "<Figure size 800x600 with 1 Axes>"
      ]
     },
     "metadata": {
      "image/png": {
       "height": 600,
       "width": 800
      }
     },
     "output_type": "display_data"
    }
   ],
   "source": [
    "create_calibration_plot(\n",
    "    data=hold_out_sample_adjusted,\n",
    "    file_name=\"figure-1-logit-lasso-calibration\",\n",
    "    prob_var=\"best_logit_pred_proba\",\n",
    "    actual_var=\"default\",\n",
    "    y_lab=\"Actual event probability\",\n",
    "    n_bins=10,\n",
    "    breaks=None\n",
    ")"
   ]
  },
  {
   "cell_type": "markdown",
   "id": "3bcdb08d-8829-4158-bca7-1a70385234e9",
   "metadata": {},
   "source": [
    "something is wrong with the calibration, we will need to go back through everything and try to figure it out"
   ]
  },
  {
   "cell_type": "code",
   "execution_count": null,
   "id": "ee327d44-63d1-4799-a75b-c494241840b9",
   "metadata": {},
   "outputs": [],
   "source": []
  }
 ],
 "metadata": {
  "kernelspec": {
   "display_name": "Python 3 (ipykernel)",
   "language": "python",
   "name": "python3"
  },
  "language_info": {
   "codemirror_mode": {
    "name": "ipython",
    "version": 3
   },
   "file_extension": ".py",
   "mimetype": "text/x-python",
   "name": "python",
   "nbconvert_exporter": "python",
   "pygments_lexer": "ipython3",
   "version": "3.11.4"
  }
 },
 "nbformat": 4,
 "nbformat_minor": 5
}
