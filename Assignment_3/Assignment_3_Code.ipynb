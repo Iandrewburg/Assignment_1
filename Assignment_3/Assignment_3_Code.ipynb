{
 "cells": [
  {
   "cell_type": "markdown",
   "id": "410c7f5a-fac0-482f-bc6e-e491d129d746",
   "metadata": {
    "tags": []
   },
   "source": [
    "# ***Assignment 3 for Data Analysis 3***\n",
    "\n",
    "Conducted by Ian Brandenburg and Zsófia Rebeka Katona\n",
    "\n",
    "[GitHub Repo](https://github.com/Iandrewburg/DA3_Brandenburg/tree/main/Assignment_3)\n",
    "\n",
    "\n",
    "\n",
    "Developing a predictive model to identify which small or medium-sized firms in the \"Manufacture of computer, electronic, and optical products\" industry might fail in 2015, based on their activity in 2014.\n",
    "\n",
    "[**Data source**](https://osf.io/b2ft9/?view_only=):\n",
    "Detailed company data from a middle-sized country in the European Union\n",
    "All registered companies in 2005-2016 in three selected industries \n",
    "  (auto manufacturing, equipment manufacturing, hotels and restaurants)\n",
    "This rich database was constructed for from multiple publicly available sources \n",
    "by Bisnode, a business data and anlytics company www.bisnode.com\n",
    "for educational purposes\n",
    "\n",
    "Dependent Variable - Dummy Variable for if the company defaulted or not"
   ]
  },
  {
   "cell_type": "code",
   "execution_count": 1,
   "id": "4aadb832-7ded-45c7-87b5-4e340c5394ee",
   "metadata": {
    "tags": []
   },
   "outputs": [],
   "source": [
    "import warnings\n",
    "warnings.filterwarnings('ignore')\n",
    "\n",
    "import pandas as pd\n",
    "import numpy as np\n",
    "import math\n",
    "import os\n",
    "from pathlib import Path\n",
    "import sys\n",
    "from plotnine import *\n",
    "from mizani.formatters import percent_format\n",
    "import ast\n",
    "from patsy import dmatrices\n",
    "from sklearn.model_selection import train_test_split\n",
    "import matplotlib.pyplot as plt\n",
    "import statsmodels.formula.api as smf\n",
    "import time\n",
    "\n",
    "from sklearn.ensemble import RandomForestRegressor\n",
    "from sklearn.model_selection import GridSearchCV\n",
    "from sklearn.model_selection import RandomizedSearchCV\n",
    "from sklearn.impute import SimpleImputer\n",
    "from sklearn.inspection import permutation_importance\n",
    "from sklearn.inspection import PartialDependenceDisplay\n",
    "from sklearn.inspection import partial_dependence\n",
    "from sklearn.compose import ColumnTransformer\n",
    "from sklearn.pipeline import Pipeline\n",
    "from sklearn.preprocessing import OneHotEncoder\n",
    "from sklearn.metrics import mean_squared_error\n",
    "from sklearn.linear_model import LinearRegression\n",
    "from sklearn.tree import DecisionTreeRegressor"
   ]
  },
  {
   "cell_type": "code",
   "execution_count": 2,
   "id": "3389a893-9410-46f1-855f-90c8336ea140",
   "metadata": {
    "tags": []
   },
   "outputs": [],
   "source": [
    "# Helper Functions\n",
    "\n",
    "def regression_results(y_true, y_pred):\n",
    "\n",
    "    # Regression metrics\n",
    "    explained_variance=metrics.explained_variance_score(y_true, y_pred)\n",
    "    mean_absolute_error=metrics.mean_absolute_error(y_true, y_pred) \n",
    "    mse=metrics.mean_squared_error(y_true, y_pred) \n",
    "    median_absolute_error=metrics.median_absolute_error(y_true, y_pred)\n",
    "    r2=metrics.r2_score(y_true, y_pred)\n",
    "\n",
    "    print('explained_variance: ', round(explained_variance,4))    \n",
    "    print('r2: ', round(r2,4))\n",
    "    print('MAE: ', round(mean_absolute_error,4))\n",
    "    print('MSE: ', round(mse,4))\n",
    "    print('RMSE: ', round(np.sqrt(mse),4))\n",
    "    \n",
    "def create_coef_matrix(X, model):\n",
    "    coef_matrix = pd.concat(\n",
    "        [pd.DataFrame(X.columns),pd.DataFrame(model.coef_.flatten())], axis = 1\n",
    "    )\n",
    "    coef_matrix.columns = ['variable', 'coefficient']\n",
    "    coef_matrix.iloc[-1] = ['Intercept', model.intercept_.flatten()[0]]\n",
    "    return coef_matrix\n",
    "\n",
    "def cv_summary(lambdas, C_values, model):\n",
    "    d = {'lambdas': lambdas, 'C_values': C_values, 'mean_cv_score': model.scores_[1].mean(axis = 0)}\n",
    "    return(pd.DataFrame(data=d))\n",
    "\n",
    "def create_roc_plot(y_true, y_pred):\n",
    "    fpr, tpr, thresholds = roc_curve(y_true, y_pred)\n",
    "    all_coords = pd.DataFrame({\n",
    "        'fpr': fpr,\n",
    "        'tpr': tpr,\n",
    "        'thresholds': thresholds\n",
    "    })\n",
    "    \n",
    "    plot = ggplot(all_coords, aes(x = 'fpr', y = 'tpr')) \\\n",
    "        + geom_line(color=color[0], size = 0.7) \\\n",
    "        + geom_area(position = 'identity', fill = 'mediumaquamarine', alpha = 0.3) \\\n",
    "        + xlab(\"False Positive Rate (1-Specifity)\") \\\n",
    "        + ylab(\"True Positive Rate (Sensitivity)\") \\\n",
    "        + geom_abline(intercept = 0, slope = 1,  linetype = \"dotted\", color = \"black\") \\\n",
    "        + scale_y_continuous(limits = (0, 1), breaks = seq(0, 1, .1), expand = (0, 0.01)) \\\n",
    "        + scale_x_continuous(limits = (0, 1), breaks = seq(0, 1, .1), expand = (0.01, 0)) \\\n",
    "        + theme_bw()\n",
    "    return(plot)\n",
    "\n",
    "def sigmoid_array(x):\n",
    "    return(1 / (1 + np.exp(-x)))\n",
    "\n",
    "def generate_fold_prediction(model, X, fold, param_index):\n",
    "    fold_coef = model.coefs_paths_[1][fold,param_index,:]\n",
    "    return(sigmoid_array(np.dot(X, np.transpose(fold_coef)[:-1]) +  np.transpose(fold_coef)[-1]))\n",
    "\n",
    "def create_loss_plot(all_coords, optimal_threshold, curr_exp_loss):\n",
    "    all_coords_copy = all_coords.copy()\n",
    "    all_coords_copy['loss'] = (all_coords_copy.false_pos*FP + all_coords_copy.false_neg*FN)/all_coords_copy.n\n",
    "    \n",
    "    t = optimal_threshold\n",
    "    l = curr_exp_loss\n",
    "    \n",
    "    plot = ggplot(all_coords_copy, aes(x = 'thresholds', y = 'loss')) + \\\n",
    "        geom_line(color=color[0], size=0.7) + \\\n",
    "        scale_x_continuous(breaks = seq(0, 1.1, by = 0.1)) + \\\n",
    "        coord_cartesian(xlim=(0,1))+ \\\n",
    "        geom_vline(xintercept = t , color = color[0] ) + \\\n",
    "        annotate(geom = \"text\", x = t - 0.01, y= max(all_coords_copy.loss) - 0.4,\n",
    "                 label=\"best threshold: \" + str(round(t,2)),\n",
    "                 colour=color[1], angle=90, size = 7) +\\\n",
    "        annotate(geom = \"text\", x = t + 0.06, y= l,\\\n",
    "                 label= str(round(l, 2)), size = 7) +\\\n",
    "        theme_bw()\n",
    "    return(plot)\n",
    "\n",
    "\n",
    "def create_roc_plot_with_optimal(all_coords, optimal_threshold):\n",
    "    all_coords_copy = all_coords.copy()\n",
    "    all_coords_copy['sp'] = all_coords_copy.true_neg/all_coords_copy.neg\n",
    "    all_coords_copy['se'] = all_coords_copy.true_pos/all_coords_copy.pos\n",
    "    \n",
    "    best_coords = all_coords_copy[all_coords_copy.thresholds == optimal_threshold]\n",
    "    sp = best_coords.sp.values[0]\n",
    "    se = best_coords.se.values[0]\n",
    "\n",
    "    plot = ggplot(all_coords_copy, aes(x = 'sp', y = 'se')) +\\\n",
    "        geom_line(color=color[0], size=0.7) +\\\n",
    "        scale_y_continuous(breaks = seq(0, 1.1, by = 0.1)) +\\\n",
    "        scale_x_reverse(breaks = seq(0, 1.1, by = 0.1)) +\\\n",
    "        geom_point(data = pd.DataFrame({'sp': [sp], 'se': [se]})) +\\\n",
    "        annotate(geom = \"text\", x = sp, y = se + 0.03,\n",
    "                 label = str(round(sp, 2)) + ', ' + str(round(se, 2)), size = 7) +\\\n",
    "        theme_bw()\n",
    "    return(plot)"
   ]
  },
  {
   "cell_type": "markdown",
   "id": "b96c2501-893a-4517-ab08-b34ac4ea19e5",
   "metadata": {},
   "source": [
    "# ***1. Data Processing***"
   ]
  },
  {
   "cell_type": "markdown",
   "id": "2c1c488f-73e2-48ad-b991-16b256d8ce97",
   "metadata": {
    "tags": []
   },
   "source": [
    "## 1.1 Import Data Directly from GitHub"
   ]
  },
  {
   "cell_type": "code",
   "execution_count": 70,
   "id": "ec2ca7d5-8035-43e4-a917-4922a1ebff0d",
   "metadata": {
    "tags": []
   },
   "outputs": [
    {
     "data": {
      "text/html": [
       "<div>\n",
       "<style scoped>\n",
       "    .dataframe tbody tr th:only-of-type {\n",
       "        vertical-align: middle;\n",
       "    }\n",
       "\n",
       "    .dataframe tbody tr th {\n",
       "        vertical-align: top;\n",
       "    }\n",
       "\n",
       "    .dataframe thead th {\n",
       "        text-align: right;\n",
       "    }\n",
       "</style>\n",
       "<table border=\"1\" class=\"dataframe\">\n",
       "  <thead>\n",
       "    <tr style=\"text-align: right;\">\n",
       "      <th></th>\n",
       "      <th>comp_id</th>\n",
       "      <th>begin</th>\n",
       "      <th>end</th>\n",
       "      <th>COGS</th>\n",
       "      <th>amort</th>\n",
       "      <th>curr_assets</th>\n",
       "      <th>curr_liab</th>\n",
       "      <th>extra_exp</th>\n",
       "      <th>extra_inc</th>\n",
       "      <th>extra_profit_loss</th>\n",
       "      <th>...</th>\n",
       "      <th>gender</th>\n",
       "      <th>origin</th>\n",
       "      <th>nace_main</th>\n",
       "      <th>ind2</th>\n",
       "      <th>ind</th>\n",
       "      <th>urban_m</th>\n",
       "      <th>region_m</th>\n",
       "      <th>founded_date</th>\n",
       "      <th>exit_date</th>\n",
       "      <th>labor_avg</th>\n",
       "    </tr>\n",
       "  </thead>\n",
       "  <tbody>\n",
       "    <tr>\n",
       "      <th>0</th>\n",
       "      <td>1001034.0</td>\n",
       "      <td>2005-01-01</td>\n",
       "      <td>2005-12-31</td>\n",
       "      <td>NaN</td>\n",
       "      <td>692.592590</td>\n",
       "      <td>7266.666504</td>\n",
       "      <td>7574.074219</td>\n",
       "      <td>0.0</td>\n",
       "      <td>0.0</td>\n",
       "      <td>0.0</td>\n",
       "      <td>...</td>\n",
       "      <td>mix</td>\n",
       "      <td>Domestic</td>\n",
       "      <td>5630.0</td>\n",
       "      <td>56.0</td>\n",
       "      <td>3.0</td>\n",
       "      <td>1</td>\n",
       "      <td>Central</td>\n",
       "      <td>1990-11-19</td>\n",
       "      <td>NaN</td>\n",
       "      <td>NaN</td>\n",
       "    </tr>\n",
       "    <tr>\n",
       "      <th>1</th>\n",
       "      <td>1001034.0</td>\n",
       "      <td>2006-01-01</td>\n",
       "      <td>2006-12-31</td>\n",
       "      <td>NaN</td>\n",
       "      <td>603.703674</td>\n",
       "      <td>13122.222656</td>\n",
       "      <td>12211.111328</td>\n",
       "      <td>0.0</td>\n",
       "      <td>0.0</td>\n",
       "      <td>0.0</td>\n",
       "      <td>...</td>\n",
       "      <td>mix</td>\n",
       "      <td>Domestic</td>\n",
       "      <td>5630.0</td>\n",
       "      <td>56.0</td>\n",
       "      <td>3.0</td>\n",
       "      <td>1</td>\n",
       "      <td>Central</td>\n",
       "      <td>1990-11-19</td>\n",
       "      <td>NaN</td>\n",
       "      <td>NaN</td>\n",
       "    </tr>\n",
       "    <tr>\n",
       "      <th>2</th>\n",
       "      <td>1001034.0</td>\n",
       "      <td>2007-01-01</td>\n",
       "      <td>2007-12-31</td>\n",
       "      <td>NaN</td>\n",
       "      <td>425.925934</td>\n",
       "      <td>8196.295898</td>\n",
       "      <td>7800.000000</td>\n",
       "      <td>0.0</td>\n",
       "      <td>0.0</td>\n",
       "      <td>0.0</td>\n",
       "      <td>...</td>\n",
       "      <td>mix</td>\n",
       "      <td>Domestic</td>\n",
       "      <td>5630.0</td>\n",
       "      <td>56.0</td>\n",
       "      <td>3.0</td>\n",
       "      <td>1</td>\n",
       "      <td>Central</td>\n",
       "      <td>1990-11-19</td>\n",
       "      <td>NaN</td>\n",
       "      <td>NaN</td>\n",
       "    </tr>\n",
       "    <tr>\n",
       "      <th>3</th>\n",
       "      <td>1001034.0</td>\n",
       "      <td>2008-01-01</td>\n",
       "      <td>2008-12-31</td>\n",
       "      <td>NaN</td>\n",
       "      <td>300.000000</td>\n",
       "      <td>8485.185547</td>\n",
       "      <td>7781.481445</td>\n",
       "      <td>0.0</td>\n",
       "      <td>0.0</td>\n",
       "      <td>0.0</td>\n",
       "      <td>...</td>\n",
       "      <td>mix</td>\n",
       "      <td>Domestic</td>\n",
       "      <td>5630.0</td>\n",
       "      <td>56.0</td>\n",
       "      <td>3.0</td>\n",
       "      <td>1</td>\n",
       "      <td>Central</td>\n",
       "      <td>1990-11-19</td>\n",
       "      <td>NaN</td>\n",
       "      <td>NaN</td>\n",
       "    </tr>\n",
       "    <tr>\n",
       "      <th>4</th>\n",
       "      <td>1001034.0</td>\n",
       "      <td>2009-01-01</td>\n",
       "      <td>2009-12-31</td>\n",
       "      <td>NaN</td>\n",
       "      <td>207.407410</td>\n",
       "      <td>5137.037109</td>\n",
       "      <td>15300.000000</td>\n",
       "      <td>0.0</td>\n",
       "      <td>0.0</td>\n",
       "      <td>0.0</td>\n",
       "      <td>...</td>\n",
       "      <td>mix</td>\n",
       "      <td>Domestic</td>\n",
       "      <td>5630.0</td>\n",
       "      <td>56.0</td>\n",
       "      <td>3.0</td>\n",
       "      <td>1</td>\n",
       "      <td>Central</td>\n",
       "      <td>1990-11-19</td>\n",
       "      <td>NaN</td>\n",
       "      <td>0.083333</td>\n",
       "    </tr>\n",
       "  </tbody>\n",
       "</table>\n",
       "<p>5 rows × 48 columns</p>\n",
       "</div>"
      ],
      "text/plain": [
       "     comp_id       begin         end  COGS       amort   curr_assets  \\\n",
       "0  1001034.0  2005-01-01  2005-12-31   NaN  692.592590   7266.666504   \n",
       "1  1001034.0  2006-01-01  2006-12-31   NaN  603.703674  13122.222656   \n",
       "2  1001034.0  2007-01-01  2007-12-31   NaN  425.925934   8196.295898   \n",
       "3  1001034.0  2008-01-01  2008-12-31   NaN  300.000000   8485.185547   \n",
       "4  1001034.0  2009-01-01  2009-12-31   NaN  207.407410   5137.037109   \n",
       "\n",
       "      curr_liab  extra_exp  extra_inc  extra_profit_loss  ...  gender  \\\n",
       "0   7574.074219        0.0        0.0                0.0  ...     mix   \n",
       "1  12211.111328        0.0        0.0                0.0  ...     mix   \n",
       "2   7800.000000        0.0        0.0                0.0  ...     mix   \n",
       "3   7781.481445        0.0        0.0                0.0  ...     mix   \n",
       "4  15300.000000        0.0        0.0                0.0  ...     mix   \n",
       "\n",
       "     origin  nace_main  ind2  ind  urban_m  region_m  founded_date  exit_date  \\\n",
       "0  Domestic     5630.0  56.0  3.0        1   Central    1990-11-19        NaN   \n",
       "1  Domestic     5630.0  56.0  3.0        1   Central    1990-11-19        NaN   \n",
       "2  Domestic     5630.0  56.0  3.0        1   Central    1990-11-19        NaN   \n",
       "3  Domestic     5630.0  56.0  3.0        1   Central    1990-11-19        NaN   \n",
       "4  Domestic     5630.0  56.0  3.0        1   Central    1990-11-19        NaN   \n",
       "\n",
       "   labor_avg  \n",
       "0        NaN  \n",
       "1        NaN  \n",
       "2        NaN  \n",
       "3        NaN  \n",
       "4   0.083333  \n",
       "\n",
       "[5 rows x 48 columns]"
      ]
     },
     "execution_count": 70,
     "metadata": {},
     "output_type": "execute_result"
    }
   ],
   "source": [
    "data = pd.read_csv('https://github.com/Iandrewburg/DA3_Brandenburg/raw/main/Assignment_3/cs_bisnode_panel.csv')\n",
    "data.head()"
   ]
  },
  {
   "cell_type": "code",
   "execution_count": 71,
   "id": "f3946dc4-31d2-46cf-ba0f-02399963f4c0",
   "metadata": {
    "tags": []
   },
   "outputs": [
    {
     "data": {
      "text/plain": [
       "Index(['comp_id', 'begin', 'end', 'COGS', 'amort', 'curr_assets', 'curr_liab',\n",
       "       'extra_exp', 'extra_inc', 'extra_profit_loss', 'finished_prod',\n",
       "       'fixed_assets', 'inc_bef_tax', 'intang_assets', 'inventories',\n",
       "       'liq_assets', 'material_exp', 'net_dom_sales', 'net_exp_sales',\n",
       "       'personnel_exp', 'profit_loss_year', 'sales', 'share_eq',\n",
       "       'subscribed_cap', 'tang_assets', 'wages', 'D', 'balsheet_flag',\n",
       "       'balsheet_length', 'balsheet_notfullyear', 'year', 'founded_year',\n",
       "       'exit_year', 'ceo_count', 'foreign', 'female', 'birth_year',\n",
       "       'inoffice_days', 'gender', 'origin', 'nace_main', 'ind2', 'ind',\n",
       "       'urban_m', 'region_m', 'founded_date', 'exit_date', 'labor_avg'],\n",
       "      dtype='object')"
      ]
     },
     "execution_count": 71,
     "metadata": {},
     "output_type": "execute_result"
    }
   ],
   "source": [
    "# Checking out the column names\n",
    "data.columns"
   ]
  },
  {
   "cell_type": "code",
   "execution_count": 72,
   "id": "0b297574-c4cb-465c-aa0e-83bc0c01acd6",
   "metadata": {
    "scrolled": true,
    "tags": []
   },
   "outputs": [
    {
     "name": "stdout",
     "output_type": "stream",
     "text": [
      "<class 'pandas.core.frame.DataFrame'>\n",
      "RangeIndex: 287829 entries, 0 to 287828\n",
      "Data columns (total 48 columns):\n",
      " #   Column                Non-Null Count   Dtype  \n",
      "---  ------                --------------   -----  \n",
      " 0   comp_id               287829 non-null  float64\n",
      " 1   begin                 287829 non-null  object \n",
      " 2   end                   287829 non-null  object \n",
      " 3   COGS                  18257 non-null   float64\n",
      " 4   amort                 279789 non-null  float64\n",
      " 5   curr_assets           287698 non-null  float64\n",
      " 6   curr_liab             287698 non-null  float64\n",
      " 7   extra_exp             269300 non-null  float64\n",
      " 8   extra_inc             269300 non-null  float64\n",
      " 9   extra_profit_loss     270626 non-null  float64\n",
      " 10  finished_prod         17485 non-null   float64\n",
      " 11  fixed_assets          287698 non-null  float64\n",
      " 12  inc_bef_tax           280392 non-null  float64\n",
      " 13  intang_assets         287689 non-null  float64\n",
      " 14  inventories           287698 non-null  float64\n",
      " 15  liq_assets            287698 non-null  float64\n",
      " 16  material_exp          279789 non-null  float64\n",
      " 17  net_dom_sales         18257 non-null   float64\n",
      " 18  net_exp_sales         18257 non-null   float64\n",
      " 19  personnel_exp         279789 non-null  float64\n",
      " 20  profit_loss_year      277945 non-null  float64\n",
      " 21  sales                 280392 non-null  float64\n",
      " 22  share_eq              287698 non-null  float64\n",
      " 23  subscribed_cap        287698 non-null  float64\n",
      " 24  tang_assets           286359 non-null  float64\n",
      " 25  wages                 17983 non-null   float64\n",
      " 26  D                     0 non-null       float64\n",
      " 27  balsheet_flag         287829 non-null  int64  \n",
      " 28  balsheet_length       287829 non-null  int64  \n",
      " 29  balsheet_notfullyear  287829 non-null  int64  \n",
      " 30  year                  287829 non-null  int64  \n",
      " 31  founded_year          231372 non-null  float64\n",
      " 32  exit_year             38859 non-null   float64\n",
      " 33  ceo_count             231402 non-null  float64\n",
      " 34  foreign               231402 non-null  float64\n",
      " 35  female                231402 non-null  float64\n",
      " 36  birth_year            176011 non-null  float64\n",
      " 37  inoffice_days         231402 non-null  float64\n",
      " 38  gender                231402 non-null  object \n",
      " 39  origin                231402 non-null  object \n",
      " 40  nace_main             286791 non-null  float64\n",
      " 41  ind2                  286791 non-null  float64\n",
      " 42  ind                   278060 non-null  float64\n",
      " 43  urban_m               287829 non-null  int64  \n",
      " 44  region_m              286989 non-null  object \n",
      " 45  founded_date          287778 non-null  object \n",
      " 46  exit_date             56180 non-null   object \n",
      " 47  labor_avg             141297 non-null  float64\n",
      "dtypes: float64(36), int64(5), object(7)\n",
      "memory usage: 105.4+ MB\n"
     ]
    }
   ],
   "source": [
    "# Checking out the info of the data set\n",
    "data.info()"
   ]
  },
  {
   "cell_type": "markdown",
   "id": "1818dc85-1d7a-4f44-889b-a1a77c38764f",
   "metadata": {
    "tags": []
   },
   "source": [
    "## 1.2 Data Cleaning\n",
    "\n",
    "Missing values for a specific year (2014) and the entire dataset will be compared. "
   ]
  },
  {
   "cell_type": "code",
   "execution_count": 73,
   "id": "705caddb-72de-4583-bdd9-98798b0bc9f0",
   "metadata": {
    "tags": []
   },
   "outputs": [
    {
     "data": {
      "text/html": [
       "<div>\n",
       "<style scoped>\n",
       "    .dataframe tbody tr th:only-of-type {\n",
       "        vertical-align: middle;\n",
       "    }\n",
       "\n",
       "    .dataframe tbody tr th {\n",
       "        vertical-align: top;\n",
       "    }\n",
       "\n",
       "    .dataframe thead th {\n",
       "        text-align: right;\n",
       "    }\n",
       "</style>\n",
       "<table border=\"1\" class=\"dataframe\">\n",
       "  <thead>\n",
       "    <tr style=\"text-align: right;\">\n",
       "      <th></th>\n",
       "      <th>comp_id</th>\n",
       "      <th>begin</th>\n",
       "      <th>end</th>\n",
       "      <th>COGS</th>\n",
       "      <th>amort</th>\n",
       "      <th>curr_assets</th>\n",
       "      <th>curr_liab</th>\n",
       "      <th>extra_exp</th>\n",
       "      <th>extra_inc</th>\n",
       "      <th>extra_profit_loss</th>\n",
       "      <th>...</th>\n",
       "      <th>gender</th>\n",
       "      <th>origin</th>\n",
       "      <th>nace_main</th>\n",
       "      <th>ind2</th>\n",
       "      <th>ind</th>\n",
       "      <th>urban_m</th>\n",
       "      <th>region_m</th>\n",
       "      <th>founded_date</th>\n",
       "      <th>exit_date</th>\n",
       "      <th>labor_avg</th>\n",
       "    </tr>\n",
       "  </thead>\n",
       "  <tbody>\n",
       "    <tr>\n",
       "      <th>969</th>\n",
       "      <td>6.538183e+06</td>\n",
       "      <td>2014-01-01</td>\n",
       "      <td>2014-12-31</td>\n",
       "      <td>NaN</td>\n",
       "      <td>1018.518494</td>\n",
       "      <td>17022.222656</td>\n",
       "      <td>3040.740723</td>\n",
       "      <td>0.0</td>\n",
       "      <td>0.0</td>\n",
       "      <td>0.0</td>\n",
       "      <td>...</td>\n",
       "      <td>male</td>\n",
       "      <td>Domestic</td>\n",
       "      <td>2630.0</td>\n",
       "      <td>26.0</td>\n",
       "      <td>2.0</td>\n",
       "      <td>2</td>\n",
       "      <td>East</td>\n",
       "      <td>1992-08-25</td>\n",
       "      <td>NaN</td>\n",
       "      <td>NaN</td>\n",
       "    </tr>\n",
       "    <tr>\n",
       "      <th>1128</th>\n",
       "      <td>8.416055e+06</td>\n",
       "      <td>2014-01-01</td>\n",
       "      <td>2014-12-31</td>\n",
       "      <td>NaN</td>\n",
       "      <td>425.925934</td>\n",
       "      <td>105740.742188</td>\n",
       "      <td>6918.518555</td>\n",
       "      <td>0.0</td>\n",
       "      <td>0.0</td>\n",
       "      <td>0.0</td>\n",
       "      <td>...</td>\n",
       "      <td>female</td>\n",
       "      <td>Domestic</td>\n",
       "      <td>2651.0</td>\n",
       "      <td>26.0</td>\n",
       "      <td>2.0</td>\n",
       "      <td>1</td>\n",
       "      <td>Central</td>\n",
       "      <td>1995-08-28</td>\n",
       "      <td>NaN</td>\n",
       "      <td>0.083333</td>\n",
       "    </tr>\n",
       "    <tr>\n",
       "      <th>1342</th>\n",
       "      <td>1.089394e+07</td>\n",
       "      <td>2014-07-24</td>\n",
       "      <td>2014-12-31</td>\n",
       "      <td>NaN</td>\n",
       "      <td>0.000000</td>\n",
       "      <td>30614.814453</td>\n",
       "      <td>128055.546875</td>\n",
       "      <td>0.0</td>\n",
       "      <td>0.0</td>\n",
       "      <td>0.0</td>\n",
       "      <td>...</td>\n",
       "      <td>female</td>\n",
       "      <td>Domestic</td>\n",
       "      <td>2651.0</td>\n",
       "      <td>26.0</td>\n",
       "      <td>2.0</td>\n",
       "      <td>1</td>\n",
       "      <td>Central</td>\n",
       "      <td>2004-12-13</td>\n",
       "      <td>NaN</td>\n",
       "      <td>NaN</td>\n",
       "    </tr>\n",
       "    <tr>\n",
       "      <th>1467</th>\n",
       "      <td>1.242838e+07</td>\n",
       "      <td>2014-01-01</td>\n",
       "      <td>2014-12-31</td>\n",
       "      <td>NaN</td>\n",
       "      <td>0.000000</td>\n",
       "      <td>0.000000</td>\n",
       "      <td>9277.777344</td>\n",
       "      <td>0.0</td>\n",
       "      <td>0.0</td>\n",
       "      <td>0.0</td>\n",
       "      <td>...</td>\n",
       "      <td>male</td>\n",
       "      <td>Domestic</td>\n",
       "      <td>2660.0</td>\n",
       "      <td>26.0</td>\n",
       "      <td>2.0</td>\n",
       "      <td>2</td>\n",
       "      <td>Central</td>\n",
       "      <td>1991-06-27</td>\n",
       "      <td>NaN</td>\n",
       "      <td>0.083333</td>\n",
       "    </tr>\n",
       "    <tr>\n",
       "      <th>1593</th>\n",
       "      <td>1.571155e+07</td>\n",
       "      <td>2014-01-01</td>\n",
       "      <td>2014-12-31</td>\n",
       "      <td>NaN</td>\n",
       "      <td>0.000000</td>\n",
       "      <td>2477.777832</td>\n",
       "      <td>0.000000</td>\n",
       "      <td>0.0</td>\n",
       "      <td>0.0</td>\n",
       "      <td>0.0</td>\n",
       "      <td>...</td>\n",
       "      <td>NaN</td>\n",
       "      <td>NaN</td>\n",
       "      <td>2630.0</td>\n",
       "      <td>26.0</td>\n",
       "      <td>2.0</td>\n",
       "      <td>1</td>\n",
       "      <td>Central</td>\n",
       "      <td>2001-09-01</td>\n",
       "      <td>NaN</td>\n",
       "      <td>NaN</td>\n",
       "    </tr>\n",
       "    <tr>\n",
       "      <th>...</th>\n",
       "      <td>...</td>\n",
       "      <td>...</td>\n",
       "      <td>...</td>\n",
       "      <td>...</td>\n",
       "      <td>...</td>\n",
       "      <td>...</td>\n",
       "      <td>...</td>\n",
       "      <td>...</td>\n",
       "      <td>...</td>\n",
       "      <td>...</td>\n",
       "      <td>...</td>\n",
       "      <td>...</td>\n",
       "      <td>...</td>\n",
       "      <td>...</td>\n",
       "      <td>...</td>\n",
       "      <td>...</td>\n",
       "      <td>...</td>\n",
       "      <td>...</td>\n",
       "      <td>...</td>\n",
       "      <td>...</td>\n",
       "      <td>...</td>\n",
       "    </tr>\n",
       "    <tr>\n",
       "      <th>286758</th>\n",
       "      <td>4.604901e+11</td>\n",
       "      <td>2014-01-01</td>\n",
       "      <td>2014-12-31</td>\n",
       "      <td>NaN</td>\n",
       "      <td>0.000000</td>\n",
       "      <td>33.333332</td>\n",
       "      <td>585.185181</td>\n",
       "      <td>0.0</td>\n",
       "      <td>0.0</td>\n",
       "      <td>0.0</td>\n",
       "      <td>...</td>\n",
       "      <td>male</td>\n",
       "      <td>Domestic</td>\n",
       "      <td>2640.0</td>\n",
       "      <td>26.0</td>\n",
       "      <td>2.0</td>\n",
       "      <td>2</td>\n",
       "      <td>East</td>\n",
       "      <td>2000-06-14</td>\n",
       "      <td>NaN</td>\n",
       "      <td>NaN</td>\n",
       "    </tr>\n",
       "    <tr>\n",
       "      <th>286890</th>\n",
       "      <td>4.610112e+11</td>\n",
       "      <td>2014-01-01</td>\n",
       "      <td>2014-12-31</td>\n",
       "      <td>NaN</td>\n",
       "      <td>429.629639</td>\n",
       "      <td>58781.480469</td>\n",
       "      <td>2651.851807</td>\n",
       "      <td>0.0</td>\n",
       "      <td>0.0</td>\n",
       "      <td>0.0</td>\n",
       "      <td>...</td>\n",
       "      <td>male</td>\n",
       "      <td>Domestic</td>\n",
       "      <td>2620.0</td>\n",
       "      <td>26.0</td>\n",
       "      <td>2.0</td>\n",
       "      <td>3</td>\n",
       "      <td>Central</td>\n",
       "      <td>1997-12-10</td>\n",
       "      <td>NaN</td>\n",
       "      <td>0.166667</td>\n",
       "    </tr>\n",
       "    <tr>\n",
       "      <th>287204</th>\n",
       "      <td>4.620594e+11</td>\n",
       "      <td>2014-01-01</td>\n",
       "      <td>2014-12-31</td>\n",
       "      <td>NaN</td>\n",
       "      <td>1111.111084</td>\n",
       "      <td>68274.070312</td>\n",
       "      <td>16211.111328</td>\n",
       "      <td>0.0</td>\n",
       "      <td>0.0</td>\n",
       "      <td>0.0</td>\n",
       "      <td>...</td>\n",
       "      <td>male</td>\n",
       "      <td>Domestic</td>\n",
       "      <td>2630.0</td>\n",
       "      <td>26.0</td>\n",
       "      <td>2.0</td>\n",
       "      <td>1</td>\n",
       "      <td>Central</td>\n",
       "      <td>1996-12-30</td>\n",
       "      <td>NaN</td>\n",
       "      <td>0.250000</td>\n",
       "    </tr>\n",
       "    <tr>\n",
       "      <th>287272</th>\n",
       "      <td>4.623300e+11</td>\n",
       "      <td>2014-01-01</td>\n",
       "      <td>2014-12-31</td>\n",
       "      <td>NaN</td>\n",
       "      <td>0.000000</td>\n",
       "      <td>17192.591797</td>\n",
       "      <td>7325.925781</td>\n",
       "      <td>0.0</td>\n",
       "      <td>0.0</td>\n",
       "      <td>0.0</td>\n",
       "      <td>...</td>\n",
       "      <td>male</td>\n",
       "      <td>mix</td>\n",
       "      <td>2611.0</td>\n",
       "      <td>26.0</td>\n",
       "      <td>2.0</td>\n",
       "      <td>2</td>\n",
       "      <td>East</td>\n",
       "      <td>2010-12-15</td>\n",
       "      <td>NaN</td>\n",
       "      <td>0.166667</td>\n",
       "    </tr>\n",
       "    <tr>\n",
       "      <th>287441</th>\n",
       "      <td>4.628231e+11</td>\n",
       "      <td>2014-01-01</td>\n",
       "      <td>2014-12-31</td>\n",
       "      <td>NaN</td>\n",
       "      <td>2581.481445</td>\n",
       "      <td>70059.257812</td>\n",
       "      <td>74911.109375</td>\n",
       "      <td>0.0</td>\n",
       "      <td>0.0</td>\n",
       "      <td>0.0</td>\n",
       "      <td>...</td>\n",
       "      <td>male</td>\n",
       "      <td>Domestic</td>\n",
       "      <td>2630.0</td>\n",
       "      <td>26.0</td>\n",
       "      <td>2.0</td>\n",
       "      <td>1</td>\n",
       "      <td>Central</td>\n",
       "      <td>2009-12-06</td>\n",
       "      <td>NaN</td>\n",
       "      <td>0.486111</td>\n",
       "    </tr>\n",
       "  </tbody>\n",
       "</table>\n",
       "<p>1317 rows × 48 columns</p>\n",
       "</div>"
      ],
      "text/plain": [
       "             comp_id       begin         end  COGS        amort  \\\n",
       "969     6.538183e+06  2014-01-01  2014-12-31   NaN  1018.518494   \n",
       "1128    8.416055e+06  2014-01-01  2014-12-31   NaN   425.925934   \n",
       "1342    1.089394e+07  2014-07-24  2014-12-31   NaN     0.000000   \n",
       "1467    1.242838e+07  2014-01-01  2014-12-31   NaN     0.000000   \n",
       "1593    1.571155e+07  2014-01-01  2014-12-31   NaN     0.000000   \n",
       "...              ...         ...         ...   ...          ...   \n",
       "286758  4.604901e+11  2014-01-01  2014-12-31   NaN     0.000000   \n",
       "286890  4.610112e+11  2014-01-01  2014-12-31   NaN   429.629639   \n",
       "287204  4.620594e+11  2014-01-01  2014-12-31   NaN  1111.111084   \n",
       "287272  4.623300e+11  2014-01-01  2014-12-31   NaN     0.000000   \n",
       "287441  4.628231e+11  2014-01-01  2014-12-31   NaN  2581.481445   \n",
       "\n",
       "          curr_assets      curr_liab  extra_exp  extra_inc  extra_profit_loss  \\\n",
       "969      17022.222656    3040.740723        0.0        0.0                0.0   \n",
       "1128    105740.742188    6918.518555        0.0        0.0                0.0   \n",
       "1342     30614.814453  128055.546875        0.0        0.0                0.0   \n",
       "1467         0.000000    9277.777344        0.0        0.0                0.0   \n",
       "1593      2477.777832       0.000000        0.0        0.0                0.0   \n",
       "...               ...            ...        ...        ...                ...   \n",
       "286758      33.333332     585.185181        0.0        0.0                0.0   \n",
       "286890   58781.480469    2651.851807        0.0        0.0                0.0   \n",
       "287204   68274.070312   16211.111328        0.0        0.0                0.0   \n",
       "287272   17192.591797    7325.925781        0.0        0.0                0.0   \n",
       "287441   70059.257812   74911.109375        0.0        0.0                0.0   \n",
       "\n",
       "        ...  gender    origin  nace_main  ind2  ind  urban_m  region_m  \\\n",
       "969     ...    male  Domestic     2630.0  26.0  2.0        2      East   \n",
       "1128    ...  female  Domestic     2651.0  26.0  2.0        1   Central   \n",
       "1342    ...  female  Domestic     2651.0  26.0  2.0        1   Central   \n",
       "1467    ...    male  Domestic     2660.0  26.0  2.0        2   Central   \n",
       "1593    ...     NaN       NaN     2630.0  26.0  2.0        1   Central   \n",
       "...     ...     ...       ...        ...   ...  ...      ...       ...   \n",
       "286758  ...    male  Domestic     2640.0  26.0  2.0        2      East   \n",
       "286890  ...    male  Domestic     2620.0  26.0  2.0        3   Central   \n",
       "287204  ...    male  Domestic     2630.0  26.0  2.0        1   Central   \n",
       "287272  ...    male       mix     2611.0  26.0  2.0        2      East   \n",
       "287441  ...    male  Domestic     2630.0  26.0  2.0        1   Central   \n",
       "\n",
       "        founded_date  exit_date  labor_avg  \n",
       "969       1992-08-25        NaN        NaN  \n",
       "1128      1995-08-28        NaN   0.083333  \n",
       "1342      2004-12-13        NaN        NaN  \n",
       "1467      1991-06-27        NaN   0.083333  \n",
       "1593      2001-09-01        NaN        NaN  \n",
       "...              ...        ...        ...  \n",
       "286758    2000-06-14        NaN        NaN  \n",
       "286890    1997-12-10        NaN   0.166667  \n",
       "287204    1996-12-30        NaN   0.250000  \n",
       "287272    2010-12-15        NaN   0.166667  \n",
       "287441    2009-12-06        NaN   0.486111  \n",
       "\n",
       "[1317 rows x 48 columns]"
      ]
     },
     "execution_count": 73,
     "metadata": {},
     "output_type": "execute_result"
    }
   ],
   "source": [
    "# Filtering for 2014 data\n",
    "data_2014 = data[(data['ind2'] == 26) &\n",
    "                     (data['year'] == 2014)]\n",
    "data_2014"
   ]
  },
  {
   "cell_type": "code",
   "execution_count": 74,
   "id": "5a39f8f2-078c-4aad-ac71-aa9d411fe636",
   "metadata": {
    "scrolled": true,
    "tags": []
   },
   "outputs": [
    {
     "data": {
      "text/plain": [
       "comp_id                      0\n",
       "begin                        0\n",
       "end                          0\n",
       "COGS                    269572\n",
       "amort                     8040\n",
       "curr_assets                131\n",
       "curr_liab                  131\n",
       "extra_exp                18529\n",
       "extra_inc                18529\n",
       "extra_profit_loss        17203\n",
       "finished_prod           270344\n",
       "fixed_assets               131\n",
       "inc_bef_tax               7437\n",
       "intang_assets              140\n",
       "inventories                131\n",
       "liq_assets                 131\n",
       "material_exp              8040\n",
       "net_dom_sales           269572\n",
       "net_exp_sales           269572\n",
       "personnel_exp             8040\n",
       "profit_loss_year          9884\n",
       "sales                     7437\n",
       "share_eq                   131\n",
       "subscribed_cap             131\n",
       "tang_assets               1470\n",
       "wages                   269846\n",
       "D                       287829\n",
       "balsheet_flag                0\n",
       "balsheet_length              0\n",
       "balsheet_notfullyear         0\n",
       "year                         0\n",
       "founded_year             56457\n",
       "exit_year               248970\n",
       "ceo_count                56427\n",
       "foreign                  56427\n",
       "female                   56427\n",
       "birth_year              111818\n",
       "inoffice_days            56427\n",
       "gender                   56427\n",
       "origin                   56427\n",
       "nace_main                 1038\n",
       "ind2                      1038\n",
       "ind                       9769\n",
       "urban_m                      0\n",
       "region_m                   840\n",
       "founded_date                51\n",
       "exit_date               231649\n",
       "labor_avg               146532\n",
       "dtype: int64"
      ]
     },
     "execution_count": 74,
     "metadata": {},
     "output_type": "execute_result"
    }
   ],
   "source": [
    "# Comparing the missing values from the entire data set and data from 2014\n",
    "data.isnull().sum()"
   ]
  },
  {
   "cell_type": "markdown",
   "id": "4e0c3088-89a1-4e0a-b050-8342e9766bb5",
   "metadata": {},
   "source": [
    "After reviewing the null values, COGS, finished production, net dom sale, net exp sales, and wages will most likely need to be dropped. \n",
    "\n",
    "The null values will need to be viewed for one specific year to get an understanding of null values where the company only iterates once in the dataframe.\n",
    "This way the null values can be better interpreted. "
   ]
  },
  {
   "cell_type": "code",
   "execution_count": 75,
   "id": "9a0fdaee-51c5-4cf4-b7a0-d1cc1ab87bf0",
   "metadata": {
    "scrolled": true,
    "tags": []
   },
   "outputs": [
    {
     "data": {
      "text/plain": [
       "comp_id                    0\n",
       "begin                      0\n",
       "end                        0\n",
       "COGS                    1176\n",
       "amort                      5\n",
       "curr_assets                0\n",
       "curr_liab                  0\n",
       "extra_exp                  1\n",
       "extra_inc                  1\n",
       "extra_profit_loss          1\n",
       "finished_prod           1178\n",
       "fixed_assets               0\n",
       "inc_bef_tax                1\n",
       "intang_assets              0\n",
       "inventories                0\n",
       "liq_assets                 0\n",
       "material_exp               5\n",
       "net_dom_sales           1176\n",
       "net_exp_sales           1176\n",
       "personnel_exp              5\n",
       "profit_loss_year           0\n",
       "sales                      1\n",
       "share_eq                   0\n",
       "subscribed_cap             0\n",
       "tang_assets                0\n",
       "wages                   1179\n",
       "D                       1317\n",
       "balsheet_flag              0\n",
       "balsheet_length            0\n",
       "balsheet_notfullyear       0\n",
       "year                       0\n",
       "founded_year              58\n",
       "exit_year               1276\n",
       "ceo_count                 58\n",
       "foreign                   58\n",
       "female                    58\n",
       "birth_year               210\n",
       "inoffice_days             58\n",
       "gender                    58\n",
       "origin                    58\n",
       "nace_main                  0\n",
       "ind2                       0\n",
       "ind                        0\n",
       "urban_m                    0\n",
       "region_m                   3\n",
       "founded_date               0\n",
       "exit_date               1268\n",
       "labor_avg                521\n",
       "dtype: int64"
      ]
     },
     "execution_count": 75,
     "metadata": {},
     "output_type": "execute_result"
    }
   ],
   "source": [
    "data_2014.isnull().sum()"
   ]
  },
  {
   "cell_type": "markdown",
   "id": "d5ed077f-1927-42ac-9b12-7a592a21de67",
   "metadata": {},
   "source": [
    "Here, we can verify that `COGS`, `finished_prod`, `net_dom_sale`, `net_exp_sales`, and `wages` will need to be dropped from the analysis. \n",
    "\n",
    "`exit_year` and `exit date` can stay since not all companies are exiting, and we are trying to predict how many companies will exit.\n",
    "\n",
    "The `D` column will also be dropped for it's high frequency of missing values\n",
    "\n",
    "Also dropping `ind` column, as it does not serve any use in this specific project.\n",
    "\n",
    "With `labor_avg` having such a high number of missing values, this column will also be dropped. "
   ]
  },
  {
   "cell_type": "code",
   "execution_count": 76,
   "id": "13019524-8226-4474-b97d-f4159ff0859b",
   "metadata": {
    "tags": []
   },
   "outputs": [],
   "source": [
    "# Dropping the columns with too many missing values in the original data\n",
    "data = data.drop(columns = ['COGS',\n",
    "                            'finished_prod',\n",
    "                            'net_dom_sales',\n",
    "                            'net_exp_sales',\n",
    "                            'wages',\n",
    "                            'D',\n",
    "                            'ind',\n",
    "                            'labor_avg'])"
   ]
  },
  {
   "cell_type": "code",
   "execution_count": 77,
   "id": "c1ba5923-6ff9-48c6-9ca2-8de41c70e084",
   "metadata": {
    "scrolled": true,
    "tags": []
   },
   "outputs": [
    {
     "data": {
      "text/plain": [
       "amort                  8040\n",
       "curr_assets             131\n",
       "curr_liab               131\n",
       "extra_exp             18529\n",
       "extra_inc             18529\n",
       "extra_profit_loss     17203\n",
       "fixed_assets            131\n",
       "inc_bef_tax            7437\n",
       "intang_assets           140\n",
       "inventories             131\n",
       "liq_assets              131\n",
       "material_exp           8040\n",
       "personnel_exp          8040\n",
       "profit_loss_year       9884\n",
       "sales                  7437\n",
       "share_eq                131\n",
       "subscribed_cap          131\n",
       "tang_assets            1470\n",
       "founded_year          56457\n",
       "exit_year            248970\n",
       "ceo_count             56427\n",
       "foreign               56427\n",
       "female                56427\n",
       "birth_year           111818\n",
       "inoffice_days         56427\n",
       "gender                56427\n",
       "origin                56427\n",
       "nace_main              1038\n",
       "ind2                   1038\n",
       "region_m                840\n",
       "founded_date             51\n",
       "exit_date            231649\n",
       "dtype: int64"
      ]
     },
     "execution_count": 77,
     "metadata": {},
     "output_type": "execute_result"
    }
   ],
   "source": [
    "to_filter = data.isnull().sum()\n",
    "to_filter[to_filter > 0]"
   ]
  },
  {
   "cell_type": "code",
   "execution_count": 78,
   "id": "e8beb363-2626-4e11-8014-a3ef07f61331",
   "metadata": {
    "tags": []
   },
   "outputs": [],
   "source": [
    "# Dropping the columns with too many missing values from the 2014 data\n",
    "data_2014 = data_2014.drop(columns = ['COGS',\n",
    "                                      'finished_prod',\n",
    "                                      'net_dom_sales',\n",
    "                                      'net_exp_sales',\n",
    "                                      'wages',\n",
    "                                      'D',\n",
    "                                      'ind'])"
   ]
  },
  {
   "cell_type": "code",
   "execution_count": 79,
   "id": "eaca8ef5-7cee-44e4-a3f9-eef074ce9836",
   "metadata": {
    "scrolled": true,
    "tags": []
   },
   "outputs": [
    {
     "data": {
      "text/plain": [
       "amort                   5\n",
       "extra_exp               1\n",
       "extra_inc               1\n",
       "extra_profit_loss       1\n",
       "inc_bef_tax             1\n",
       "material_exp            5\n",
       "personnel_exp           5\n",
       "sales                   1\n",
       "founded_year           58\n",
       "exit_year            1276\n",
       "ceo_count              58\n",
       "foreign                58\n",
       "female                 58\n",
       "birth_year            210\n",
       "inoffice_days          58\n",
       "gender                 58\n",
       "origin                 58\n",
       "region_m                3\n",
       "exit_date            1268\n",
       "labor_avg             521\n",
       "dtype: int64"
      ]
     },
     "execution_count": 79,
     "metadata": {},
     "output_type": "execute_result"
    }
   ],
   "source": [
    "to_filter_2014 = data_2014.isnull().sum()\n",
    "to_filter_2014[to_filter_2014 > 0]"
   ]
  },
  {
   "cell_type": "code",
   "execution_count": 80,
   "id": "8ba0a1da-1522-4996-9db1-ccbe15de66f3",
   "metadata": {
    "tags": []
   },
   "outputs": [],
   "source": [
    "# Creating a function to handle missing values\n",
    "\n",
    "def data_dish_washer(data):\n",
    "    # Step 1: Fill specific columns with 0 in case of numerical values\n",
    "    zero_fill_cols = ['amort',\n",
    "                      'curr_assets',\n",
    "                      'personnel_exp', \n",
    "                      'material_exp',\n",
    "                      'liq_assets',\n",
    "                      'inventories',\n",
    "                      'intang_assets', \n",
    "                      'fixed_assets',\n",
    "                      'extra_profit_loss',\n",
    "                      'extra_inc',\n",
    "                      'extra_exp', \n",
    "                      'curr_liab',\n",
    "                      'tang_assets']\n",
    "    data[zero_fill_cols] = data[zero_fill_cols].fillna(0)\n",
    "\n",
    "\n",
    "    # Step 2: Fill missing values with median where it makes sense\n",
    "    median_fill_cols = ['sales',\n",
    "                        'profit_loss_year',\n",
    "                        'inc_bef_tax', \n",
    "                        'share_eq',\n",
    "                        'subscribed_cap']\n",
    "    for col in median_fill_cols:\n",
    "        data[col] = data[col].fillna(data[col].median())\n",
    "\n",
    "    # Step 3: Change: Drop rows with missing values in specified categorical columns\n",
    "    row_drops = ['nace_main',\n",
    "                 'ind2',\n",
    "                 'ceo_count', \n",
    "                 'foreign', \n",
    "                 'female',\n",
    "                 'inoffice_days',\n",
    "                 'gender',\n",
    "                 'origin']\n",
    "    data = data.dropna(subset=row_drops)\n",
    "\n",
    "    # Step 4: Will missing regions with 'NaN'\n",
    "    data['region_m'] = data['region_m'].fillna('NaN')\n",
    "\n",
    "    # Step 5: Convert Date variables to datetime types\n",
    "    datetime_columns = ['begin',\n",
    "                        'end',\n",
    "                        'founded_date',\n",
    "                        'exit_date']\n",
    "    for col in datetime_columns:\n",
    "        data[col] = pd.to_datetime(data[col], errors='coerce')\n",
    "\n",
    "    # Step 6: Verify Numeric Columns\n",
    "    numeric_columns = ['year',\n",
    "                       'founded_year',\n",
    "                       'exit_year',\n",
    "                       'birth_year']\n",
    "    for col in numeric_columns:\n",
    "        data[col] = pd.to_numeric(data[col], errors='coerce')\n",
    "    \n",
    "\n",
    "    return data"
   ]
  },
  {
   "cell_type": "code",
   "execution_count": 81,
   "id": "c2f23bd1-e677-4d5c-8961-f90fe6a6ab3d",
   "metadata": {
    "tags": []
   },
   "outputs": [],
   "source": [
    "# Transforming the Infinite values with NaNs in data\n",
    "data = data.replace([np.inf, -np.inf], np.nan)"
   ]
  },
  {
   "cell_type": "code",
   "execution_count": 82,
   "id": "a5447517-f72e-4c8e-8f97-a38c017a49f4",
   "metadata": {
    "tags": []
   },
   "outputs": [],
   "source": [
    "# Transforming the Infinite values with NaNs in data 2014\n",
    "data_2014 = data_2014.replace([np.inf, -np.inf], np.nan)"
   ]
  },
  {
   "cell_type": "code",
   "execution_count": 83,
   "id": "7c07a70f-b805-45ed-a4c0-3dda89d7905d",
   "metadata": {
    "tags": []
   },
   "outputs": [
    {
     "data": {
      "text/html": [
       "<div>\n",
       "<style scoped>\n",
       "    .dataframe tbody tr th:only-of-type {\n",
       "        vertical-align: middle;\n",
       "    }\n",
       "\n",
       "    .dataframe tbody tr th {\n",
       "        vertical-align: top;\n",
       "    }\n",
       "\n",
       "    .dataframe thead th {\n",
       "        text-align: right;\n",
       "    }\n",
       "</style>\n",
       "<table border=\"1\" class=\"dataframe\">\n",
       "  <thead>\n",
       "    <tr style=\"text-align: right;\">\n",
       "      <th></th>\n",
       "      <th>comp_id</th>\n",
       "      <th>begin</th>\n",
       "      <th>end</th>\n",
       "      <th>amort</th>\n",
       "      <th>curr_assets</th>\n",
       "      <th>curr_liab</th>\n",
       "      <th>extra_exp</th>\n",
       "      <th>extra_inc</th>\n",
       "      <th>extra_profit_loss</th>\n",
       "      <th>fixed_assets</th>\n",
       "      <th>...</th>\n",
       "      <th>inoffice_days</th>\n",
       "      <th>gender</th>\n",
       "      <th>origin</th>\n",
       "      <th>nace_main</th>\n",
       "      <th>ind2</th>\n",
       "      <th>urban_m</th>\n",
       "      <th>region_m</th>\n",
       "      <th>founded_date</th>\n",
       "      <th>exit_date</th>\n",
       "      <th>sales_log</th>\n",
       "    </tr>\n",
       "  </thead>\n",
       "  <tbody>\n",
       "    <tr>\n",
       "      <th>0</th>\n",
       "      <td>1.001034e+06</td>\n",
       "      <td>2005-01-01</td>\n",
       "      <td>2005-12-31</td>\n",
       "      <td>692.592590</td>\n",
       "      <td>7266.666504</td>\n",
       "      <td>7574.074219</td>\n",
       "      <td>0.0</td>\n",
       "      <td>0.0</td>\n",
       "      <td>0.0</td>\n",
       "      <td>1229.629639</td>\n",
       "      <td>...</td>\n",
       "      <td>5686.5</td>\n",
       "      <td>mix</td>\n",
       "      <td>Domestic</td>\n",
       "      <td>5630.0</td>\n",
       "      <td>56.0</td>\n",
       "      <td>1</td>\n",
       "      <td>Central</td>\n",
       "      <td>1990-11-19</td>\n",
       "      <td>NaT</td>\n",
       "      <td>11.046959</td>\n",
       "    </tr>\n",
       "    <tr>\n",
       "      <th>1</th>\n",
       "      <td>1.001034e+06</td>\n",
       "      <td>2006-01-01</td>\n",
       "      <td>2006-12-31</td>\n",
       "      <td>603.703674</td>\n",
       "      <td>13122.222656</td>\n",
       "      <td>12211.111328</td>\n",
       "      <td>0.0</td>\n",
       "      <td>0.0</td>\n",
       "      <td>0.0</td>\n",
       "      <td>725.925903</td>\n",
       "      <td>...</td>\n",
       "      <td>5686.5</td>\n",
       "      <td>mix</td>\n",
       "      <td>Domestic</td>\n",
       "      <td>5630.0</td>\n",
       "      <td>56.0</td>\n",
       "      <td>1</td>\n",
       "      <td>Central</td>\n",
       "      <td>1990-11-19</td>\n",
       "      <td>NaT</td>\n",
       "      <td>11.076386</td>\n",
       "    </tr>\n",
       "    <tr>\n",
       "      <th>2</th>\n",
       "      <td>1.001034e+06</td>\n",
       "      <td>2007-01-01</td>\n",
       "      <td>2007-12-31</td>\n",
       "      <td>425.925934</td>\n",
       "      <td>8196.295898</td>\n",
       "      <td>7800.000000</td>\n",
       "      <td>0.0</td>\n",
       "      <td>0.0</td>\n",
       "      <td>0.0</td>\n",
       "      <td>1322.222168</td>\n",
       "      <td>...</td>\n",
       "      <td>5686.5</td>\n",
       "      <td>mix</td>\n",
       "      <td>Domestic</td>\n",
       "      <td>5630.0</td>\n",
       "      <td>56.0</td>\n",
       "      <td>1</td>\n",
       "      <td>Central</td>\n",
       "      <td>1990-11-19</td>\n",
       "      <td>NaT</td>\n",
       "      <td>11.083695</td>\n",
       "    </tr>\n",
       "    <tr>\n",
       "      <th>3</th>\n",
       "      <td>1.001034e+06</td>\n",
       "      <td>2008-01-01</td>\n",
       "      <td>2008-12-31</td>\n",
       "      <td>300.000000</td>\n",
       "      <td>8485.185547</td>\n",
       "      <td>7781.481445</td>\n",
       "      <td>0.0</td>\n",
       "      <td>0.0</td>\n",
       "      <td>0.0</td>\n",
       "      <td>1022.222229</td>\n",
       "      <td>...</td>\n",
       "      <td>5686.5</td>\n",
       "      <td>mix</td>\n",
       "      <td>Domestic</td>\n",
       "      <td>5630.0</td>\n",
       "      <td>56.0</td>\n",
       "      <td>1</td>\n",
       "      <td>Central</td>\n",
       "      <td>1990-11-19</td>\n",
       "      <td>NaT</td>\n",
       "      <td>11.265568</td>\n",
       "    </tr>\n",
       "    <tr>\n",
       "      <th>4</th>\n",
       "      <td>1.001034e+06</td>\n",
       "      <td>2009-01-01</td>\n",
       "      <td>2009-12-31</td>\n",
       "      <td>207.407410</td>\n",
       "      <td>5137.037109</td>\n",
       "      <td>15300.000000</td>\n",
       "      <td>0.0</td>\n",
       "      <td>0.0</td>\n",
       "      <td>0.0</td>\n",
       "      <td>814.814819</td>\n",
       "      <td>...</td>\n",
       "      <td>5686.5</td>\n",
       "      <td>mix</td>\n",
       "      <td>Domestic</td>\n",
       "      <td>5630.0</td>\n",
       "      <td>56.0</td>\n",
       "      <td>1</td>\n",
       "      <td>Central</td>\n",
       "      <td>1990-11-19</td>\n",
       "      <td>NaT</td>\n",
       "      <td>10.723045</td>\n",
       "    </tr>\n",
       "    <tr>\n",
       "      <th>...</th>\n",
       "      <td>...</td>\n",
       "      <td>...</td>\n",
       "      <td>...</td>\n",
       "      <td>...</td>\n",
       "      <td>...</td>\n",
       "      <td>...</td>\n",
       "      <td>...</td>\n",
       "      <td>...</td>\n",
       "      <td>...</td>\n",
       "      <td>...</td>\n",
       "      <td>...</td>\n",
       "      <td>...</td>\n",
       "      <td>...</td>\n",
       "      <td>...</td>\n",
       "      <td>...</td>\n",
       "      <td>...</td>\n",
       "      <td>...</td>\n",
       "      <td>...</td>\n",
       "      <td>...</td>\n",
       "      <td>...</td>\n",
       "      <td>...</td>\n",
       "    </tr>\n",
       "    <tr>\n",
       "      <th>287823</th>\n",
       "      <td>4.641209e+11</td>\n",
       "      <td>2010-01-01</td>\n",
       "      <td>2010-12-31</td>\n",
       "      <td>0.000000</td>\n",
       "      <td>1781.481445</td>\n",
       "      <td>0.000000</td>\n",
       "      <td>0.0</td>\n",
       "      <td>0.0</td>\n",
       "      <td>0.0</td>\n",
       "      <td>0.000000</td>\n",
       "      <td>...</td>\n",
       "      <td>8187.0</td>\n",
       "      <td>female</td>\n",
       "      <td>Domestic</td>\n",
       "      <td>5510.0</td>\n",
       "      <td>55.0</td>\n",
       "      <td>2</td>\n",
       "      <td>East</td>\n",
       "      <td>1990-08-22</td>\n",
       "      <td>NaT</td>\n",
       "      <td>5.561678</td>\n",
       "    </tr>\n",
       "    <tr>\n",
       "      <th>287824</th>\n",
       "      <td>4.641209e+11</td>\n",
       "      <td>2011-01-01</td>\n",
       "      <td>2011-12-31</td>\n",
       "      <td>0.000000</td>\n",
       "      <td>1807.407349</td>\n",
       "      <td>3.703704</td>\n",
       "      <td>0.0</td>\n",
       "      <td>0.0</td>\n",
       "      <td>0.0</td>\n",
       "      <td>0.000000</td>\n",
       "      <td>...</td>\n",
       "      <td>8187.0</td>\n",
       "      <td>female</td>\n",
       "      <td>Domestic</td>\n",
       "      <td>5510.0</td>\n",
       "      <td>55.0</td>\n",
       "      <td>2</td>\n",
       "      <td>East</td>\n",
       "      <td>1990-08-22</td>\n",
       "      <td>NaT</td>\n",
       "      <td>5.669498</td>\n",
       "    </tr>\n",
       "    <tr>\n",
       "      <th>287825</th>\n",
       "      <td>4.641209e+11</td>\n",
       "      <td>2012-01-01</td>\n",
       "      <td>2012-12-31</td>\n",
       "      <td>0.000000</td>\n",
       "      <td>1518.518555</td>\n",
       "      <td>96.296295</td>\n",
       "      <td>0.0</td>\n",
       "      <td>0.0</td>\n",
       "      <td>0.0</td>\n",
       "      <td>0.000000</td>\n",
       "      <td>...</td>\n",
       "      <td>8187.0</td>\n",
       "      <td>female</td>\n",
       "      <td>Domestic</td>\n",
       "      <td>5510.0</td>\n",
       "      <td>55.0</td>\n",
       "      <td>2</td>\n",
       "      <td>East</td>\n",
       "      <td>1990-08-22</td>\n",
       "      <td>NaT</td>\n",
       "      <td>0.000000</td>\n",
       "    </tr>\n",
       "    <tr>\n",
       "      <th>287827</th>\n",
       "      <td>4.641209e+11</td>\n",
       "      <td>2014-01-01</td>\n",
       "      <td>2014-12-31</td>\n",
       "      <td>0.000000</td>\n",
       "      <td>644.444458</td>\n",
       "      <td>233.333328</td>\n",
       "      <td>0.0</td>\n",
       "      <td>0.0</td>\n",
       "      <td>0.0</td>\n",
       "      <td>0.000000</td>\n",
       "      <td>...</td>\n",
       "      <td>1441.0</td>\n",
       "      <td>female</td>\n",
       "      <td>Domestic</td>\n",
       "      <td>5510.0</td>\n",
       "      <td>55.0</td>\n",
       "      <td>2</td>\n",
       "      <td>East</td>\n",
       "      <td>1990-08-22</td>\n",
       "      <td>NaT</td>\n",
       "      <td>0.000000</td>\n",
       "    </tr>\n",
       "    <tr>\n",
       "      <th>287828</th>\n",
       "      <td>4.641209e+11</td>\n",
       "      <td>2015-01-01</td>\n",
       "      <td>2015-12-31</td>\n",
       "      <td>0.000000</td>\n",
       "      <td>166.666672</td>\n",
       "      <td>270.370361</td>\n",
       "      <td>0.0</td>\n",
       "      <td>0.0</td>\n",
       "      <td>0.0</td>\n",
       "      <td>0.000000</td>\n",
       "      <td>...</td>\n",
       "      <td>1441.0</td>\n",
       "      <td>female</td>\n",
       "      <td>Domestic</td>\n",
       "      <td>5510.0</td>\n",
       "      <td>55.0</td>\n",
       "      <td>2</td>\n",
       "      <td>East</td>\n",
       "      <td>1990-08-22</td>\n",
       "      <td>NaT</td>\n",
       "      <td>0.000000</td>\n",
       "    </tr>\n",
       "  </tbody>\n",
       "</table>\n",
       "<p>230834 rows × 41 columns</p>\n",
       "</div>"
      ],
      "text/plain": [
       "             comp_id      begin        end       amort   curr_assets  \\\n",
       "0       1.001034e+06 2005-01-01 2005-12-31  692.592590   7266.666504   \n",
       "1       1.001034e+06 2006-01-01 2006-12-31  603.703674  13122.222656   \n",
       "2       1.001034e+06 2007-01-01 2007-12-31  425.925934   8196.295898   \n",
       "3       1.001034e+06 2008-01-01 2008-12-31  300.000000   8485.185547   \n",
       "4       1.001034e+06 2009-01-01 2009-12-31  207.407410   5137.037109   \n",
       "...              ...        ...        ...         ...           ...   \n",
       "287823  4.641209e+11 2010-01-01 2010-12-31    0.000000   1781.481445   \n",
       "287824  4.641209e+11 2011-01-01 2011-12-31    0.000000   1807.407349   \n",
       "287825  4.641209e+11 2012-01-01 2012-12-31    0.000000   1518.518555   \n",
       "287827  4.641209e+11 2014-01-01 2014-12-31    0.000000    644.444458   \n",
       "287828  4.641209e+11 2015-01-01 2015-12-31    0.000000    166.666672   \n",
       "\n",
       "           curr_liab  extra_exp  extra_inc  extra_profit_loss  fixed_assets  \\\n",
       "0        7574.074219        0.0        0.0                0.0   1229.629639   \n",
       "1       12211.111328        0.0        0.0                0.0    725.925903   \n",
       "2        7800.000000        0.0        0.0                0.0   1322.222168   \n",
       "3        7781.481445        0.0        0.0                0.0   1022.222229   \n",
       "4       15300.000000        0.0        0.0                0.0    814.814819   \n",
       "...              ...        ...        ...                ...           ...   \n",
       "287823      0.000000        0.0        0.0                0.0      0.000000   \n",
       "287824      3.703704        0.0        0.0                0.0      0.000000   \n",
       "287825     96.296295        0.0        0.0                0.0      0.000000   \n",
       "287827    233.333328        0.0        0.0                0.0      0.000000   \n",
       "287828    270.370361        0.0        0.0                0.0      0.000000   \n",
       "\n",
       "        ...  inoffice_days  gender    origin  nace_main  ind2  urban_m  \\\n",
       "0       ...         5686.5     mix  Domestic     5630.0  56.0        1   \n",
       "1       ...         5686.5     mix  Domestic     5630.0  56.0        1   \n",
       "2       ...         5686.5     mix  Domestic     5630.0  56.0        1   \n",
       "3       ...         5686.5     mix  Domestic     5630.0  56.0        1   \n",
       "4       ...         5686.5     mix  Domestic     5630.0  56.0        1   \n",
       "...     ...            ...     ...       ...        ...   ...      ...   \n",
       "287823  ...         8187.0  female  Domestic     5510.0  55.0        2   \n",
       "287824  ...         8187.0  female  Domestic     5510.0  55.0        2   \n",
       "287825  ...         8187.0  female  Domestic     5510.0  55.0        2   \n",
       "287827  ...         1441.0  female  Domestic     5510.0  55.0        2   \n",
       "287828  ...         1441.0  female  Domestic     5510.0  55.0        2   \n",
       "\n",
       "        region_m  founded_date  exit_date  sales_log  \n",
       "0        Central    1990-11-19        NaT  11.046959  \n",
       "1        Central    1990-11-19        NaT  11.076386  \n",
       "2        Central    1990-11-19        NaT  11.083695  \n",
       "3        Central    1990-11-19        NaT  11.265568  \n",
       "4        Central    1990-11-19        NaT  10.723045  \n",
       "...          ...           ...        ...        ...  \n",
       "287823      East    1990-08-22        NaT   5.561678  \n",
       "287824      East    1990-08-22        NaT   5.669498  \n",
       "287825      East    1990-08-22        NaT   0.000000  \n",
       "287827      East    1990-08-22        NaT   0.000000  \n",
       "287828      East    1990-08-22        NaT   0.000000  \n",
       "\n",
       "[230834 rows x 41 columns]"
      ]
     },
     "execution_count": 83,
     "metadata": {},
     "output_type": "execute_result"
    }
   ],
   "source": [
    "data_dish_washer(data)"
   ]
  },
  {
   "cell_type": "code",
   "execution_count": 84,
   "id": "902a9641-142e-4b9a-a28e-63e555a2a7bf",
   "metadata": {
    "tags": []
   },
   "outputs": [
    {
     "data": {
      "text/plain": [
       "Index(['comp_id', 'begin', 'end', 'amort', 'curr_assets', 'curr_liab',\n",
       "       'extra_exp', 'extra_inc', 'extra_profit_loss', 'fixed_assets',\n",
       "       'inc_bef_tax', 'intang_assets', 'inventories', 'liq_assets',\n",
       "       'material_exp', 'personnel_exp', 'profit_loss_year', 'sales',\n",
       "       'share_eq', 'subscribed_cap', 'tang_assets', 'balsheet_flag',\n",
       "       'balsheet_length', 'balsheet_notfullyear', 'year', 'founded_year',\n",
       "       'exit_year', 'ceo_count', 'foreign', 'female', 'birth_year',\n",
       "       'inoffice_days', 'gender', 'origin', 'nace_main', 'ind2', 'urban_m',\n",
       "       'region_m', 'founded_date', 'exit_date'],\n",
       "      dtype='object')"
      ]
     },
     "execution_count": 84,
     "metadata": {},
     "output_type": "execute_result"
    }
   ],
   "source": [
    "data.columns"
   ]
  },
  {
   "cell_type": "code",
   "execution_count": 65,
   "id": "afd60922-486b-41f9-a734-2e665da9d943",
   "metadata": {
    "scrolled": true,
    "tags": []
   },
   "outputs": [
    {
     "data": {
      "text/plain": [
       "year                 0\n",
       "comp_id              0\n",
       "begin                0\n",
       "end                  0\n",
       "amort                0\n",
       "                    ..\n",
       "flag_high_ceo_age    0\n",
       "flag_miss_ceo_age    0\n",
       "ceo_young            0\n",
       "default_f            0\n",
       "sales_mil_log_sq     0\n",
       "Length: 110, dtype: int64"
      ]
     },
     "execution_count": 65,
     "metadata": {},
     "output_type": "execute_result"
    }
   ],
   "source": [
    "data.isnull().sum()"
   ]
  },
  {
   "cell_type": "code",
   "execution_count": 66,
   "id": "6f4a42d7-b744-4551-8e25-a76c2e2c6601",
   "metadata": {
    "scrolled": true,
    "tags": []
   },
   "outputs": [
    {
     "data": {
      "text/plain": [
       "year                    int64\n",
       "comp_id               float64\n",
       "begin                  object\n",
       "end                    object\n",
       "amort                 float64\n",
       "                       ...   \n",
       "flag_high_ceo_age       int32\n",
       "flag_miss_ceo_age       int32\n",
       "ceo_young               int32\n",
       "default_f            category\n",
       "sales_mil_log_sq      float64\n",
       "Length: 110, dtype: object"
      ]
     },
     "execution_count": 66,
     "metadata": {},
     "output_type": "execute_result"
    }
   ],
   "source": [
    "data.dtypes"
   ]
  },
  {
   "cell_type": "code",
   "execution_count": 68,
   "id": "d8208217-296f-422b-a063-4669b4ab3c29",
   "metadata": {
    "tags": []
   },
   "outputs": [
    {
     "ename": "AttributeError",
     "evalue": "'DataFrame' object has no attribute 'sales_log'",
     "output_type": "error",
     "traceback": [
      "\u001b[1;31m---------------------------------------------------------------------------\u001b[0m",
      "\u001b[1;31mAttributeError\u001b[0m                            Traceback (most recent call last)",
      "\u001b[1;32m~\\AppData\\Local\\Temp\\ipykernel_14552\\1202839727.py\u001b[0m in \u001b[0;36m?\u001b[1;34m()\u001b[0m\n\u001b[1;32m----> 1\u001b[1;33m \u001b[0mdata\u001b[0m\u001b[1;33m.\u001b[0m\u001b[0msales_log\u001b[0m\u001b[1;33m\u001b[0m\u001b[1;33m\u001b[0m\u001b[0m\n\u001b[0m",
      "\u001b[1;32m~\\anaconda3\\Lib\\site-packages\\pandas\\core\\generic.py\u001b[0m in \u001b[0;36m?\u001b[1;34m(self, name)\u001b[0m\n\u001b[0;32m   6200\u001b[0m             \u001b[1;32mand\u001b[0m \u001b[0mname\u001b[0m \u001b[1;32mnot\u001b[0m \u001b[1;32min\u001b[0m \u001b[0mself\u001b[0m\u001b[1;33m.\u001b[0m\u001b[0m_accessors\u001b[0m\u001b[1;33m\u001b[0m\u001b[1;33m\u001b[0m\u001b[0m\n\u001b[0;32m   6201\u001b[0m             \u001b[1;32mand\u001b[0m \u001b[0mself\u001b[0m\u001b[1;33m.\u001b[0m\u001b[0m_info_axis\u001b[0m\u001b[1;33m.\u001b[0m\u001b[0m_can_hold_identifiers_and_holds_name\u001b[0m\u001b[1;33m(\u001b[0m\u001b[0mname\u001b[0m\u001b[1;33m)\u001b[0m\u001b[1;33m\u001b[0m\u001b[1;33m\u001b[0m\u001b[0m\n\u001b[0;32m   6202\u001b[0m         ):\n\u001b[0;32m   6203\u001b[0m             \u001b[1;32mreturn\u001b[0m \u001b[0mself\u001b[0m\u001b[1;33m[\u001b[0m\u001b[0mname\u001b[0m\u001b[1;33m]\u001b[0m\u001b[1;33m\u001b[0m\u001b[1;33m\u001b[0m\u001b[0m\n\u001b[1;32m-> 6204\u001b[1;33m         \u001b[1;32mreturn\u001b[0m \u001b[0mobject\u001b[0m\u001b[1;33m.\u001b[0m\u001b[0m__getattribute__\u001b[0m\u001b[1;33m(\u001b[0m\u001b[0mself\u001b[0m\u001b[1;33m,\u001b[0m \u001b[0mname\u001b[0m\u001b[1;33m)\u001b[0m\u001b[1;33m\u001b[0m\u001b[1;33m\u001b[0m\u001b[0m\n\u001b[0m",
      "\u001b[1;31mAttributeError\u001b[0m: 'DataFrame' object has no attribute 'sales_log'"
     ]
    }
   ],
   "source": [
    "data.sales_log"
   ]
  },
  {
   "cell_type": "markdown",
   "id": "bf81ae59-72ae-4ffe-95bf-20e23770ed39",
   "metadata": {
    "tags": []
   },
   "source": [
    "## 1.3 Label Engineering"
   ]
  },
  {
   "cell_type": "code",
   "execution_count": 19,
   "id": "b96bbb60-ab28-49a9-bcd6-a9f09ae0039b",
   "metadata": {
    "tags": []
   },
   "outputs": [],
   "source": [
    "# Adding all the missing year and comp_id combinations -\n",
    "# Originally missing combinations will have NAs in all other columns\n",
    "data = (\n",
    "    data.set_index([\"year\", \"comp_id\"])\n",
    "    .unstack(fill_value=\"toReplace\")\n",
    "    .stack()\n",
    "    .reset_index()\n",
    ")\n",
    "data = data.replace(\"toReplace\", np.nan)  # only way I could define it as NaN"
   ]
  },
  {
   "cell_type": "code",
   "execution_count": 20,
   "id": "0013df0d-b759-4284-acce-7777a50e5f65",
   "metadata": {
    "tags": []
   },
   "outputs": [],
   "source": [
    "# Generate status_alive; if sales are larger than zero and not-NA, then firm is alive\n",
    "data[\"status_alive\"] = (data[\"sales\"] > 0 & (False == data[\"sales\"].isna())).astype(int)\n",
    "\n",
    "\n",
    "# It defaults in two years if there are sales in this year but no sales two years later\n",
    "# Status_in_two_years: data.groupby('comp_id')['status_alive'].shift(-2)\n",
    "data[\"default\"] = (\n",
    "    (data[\"status_alive\"] == 1)\n",
    "    & (data.groupby(\"comp_id\")[\"status_alive\"].shift(-2) == 0)\n",
    ").astype(int)\n"
   ]
  },
  {
   "cell_type": "code",
   "execution_count": 21,
   "id": "ec62ab7c-5a2e-4c41-8aa6-a8331d3c4275",
   "metadata": {
    "tags": []
   },
   "outputs": [
    {
     "data": {
      "text/plain": [
       "<Axes: >"
      ]
     },
     "execution_count": 21,
     "metadata": {},
     "output_type": "execute_result"
    },
    {
     "data": {
      "image/png": "[encoded data removed]",
      "text/plain": [
       "<Figure size 640x480 with 1 Axes>"
      ]
     },
     "metadata": {},
     "output_type": "display_data"
    }
   ],
   "source": [
    "data.sales.hist()"
   ]
  },
  {
   "cell_type": "code",
   "execution_count": 22,
   "id": "6e26387c-464d-4ef9-8c2a-0727b125a53b",
   "metadata": {
    "tags": []
   },
   "outputs": [
    {
     "data": {
      "text/plain": [
       "count    556944.000000\n",
       "mean          0.093417\n",
       "std           0.291016\n",
       "min           0.000000\n",
       "25%           0.000000\n",
       "50%           0.000000\n",
       "75%           0.000000\n",
       "max           1.000000\n",
       "Name: default, dtype: float64"
      ]
     },
     "execution_count": 22,
     "metadata": {},
     "output_type": "execute_result"
    }
   ],
   "source": [
    "data['default'].describe()"
   ]
  },
  {
   "cell_type": "code",
   "execution_count": 23,
   "id": "c8619a01-248e-491c-9de5-24ff0159c7dd",
   "metadata": {
    "tags": []
   },
   "outputs": [
    {
     "data": {
      "text/plain": [
       "status_alive\n",
       "0    311016\n",
       "1    245928\n",
       "Name: count, dtype: int64"
      ]
     },
     "execution_count": 23,
     "metadata": {},
     "output_type": "execute_result"
    }
   ],
   "source": [
    "data['status_alive'].value_counts()"
   ]
  },
  {
   "cell_type": "markdown",
   "id": "ff7f729c-47d9-452e-b04e-2894ac5906cd",
   "metadata": {},
   "source": [
    "This concludes that there are 318,453 firms will default and 238,491 firms will stay alive."
   ]
  },
  {
   "cell_type": "code",
   "execution_count": 24,
   "id": "53ffdbfc-a3f2-4497-b300-e2e2e817520f",
   "metadata": {
    "tags": []
   },
   "outputs": [
    {
     "data": {
      "text/plain": [
       "count    2.878290e+05\n",
       "mean     4.920700e+05\n",
       "std      3.812404e+06\n",
       "min     -1.472559e+07\n",
       "25%      5.788889e+03\n",
       "50%      3.280741e+04\n",
       "75%      1.161481e+05\n",
       "max      1.110294e+08\n",
       "Name: sales, dtype: float64"
      ]
     },
     "execution_count": 24,
     "metadata": {},
     "output_type": "execute_result"
    }
   ],
   "source": [
    "data['sales'].describe()"
   ]
  },
  {
   "cell_type": "code",
   "execution_count": 25,
   "id": "f3483476-c2c6-45d3-8204-67a17e133c67",
   "metadata": {
    "tags": []
   },
   "outputs": [],
   "source": [
    "# Replacimg negative sales values with 1. This operation is done outside of \n",
    "# ...the `assign` method because it's a direct modification of the dataframe.\n",
    "data[\"sales\"] = np.where(\n",
    "    data[\"sales\"] < 0, 1, data[\"sales\"]\n",
    ")\n",
    "\n",
    "# Adding new columns to the dataframe through the `assign` method.\n",
    "data = data.assign(\n",
    "    # Create a new column 'ln_sales'. If sales are greater than 0, calculate the natural logarithm of sales.\n",
    "    # If sales are NaN, keep them as NaN. Otherwise, set to 0. This ensures that negative sales, \n",
    "    # ...if any existed before the first operation, now converted to 1, won't result in a math error.\n",
    "    ln_sales=np.where(\n",
    "        data[\"sales\"] > 0,\n",
    "        np.log(data[\"sales\"]),\n",
    "        (np.where(data[\"sales\"].isna(), np.nan, 0)),\n",
    "    ),\n",
    "    # Convert sales to millions by dividing by 1,000,000 for easier readability and analysis.\n",
    "    sales_mil=data[\"sales\"] / 1000000,\n",
    "    # Similar to 'ln_sales', but this time applying the logarithm to the sales converted to millions. \n",
    "    # ...Handles NaN and non-positive values similarly.\n",
    "    sales_mil_log=np.where(\n",
    "        data[\"sales\"] > 0,\n",
    "        np.log(data[\"sales\"] / 1000000),\n",
    "        (np.where(data[\"sales\"].isna(), np.nan, 0)),\n",
    "    ),\n",
    ")"
   ]
  },
  {
   "cell_type": "code",
   "execution_count": 26,
   "id": "86eb8f55-6f54-41c9-a7bc-6a77dcd7293c",
   "metadata": {
    "tags": []
   },
   "outputs": [],
   "source": [
    "# Calculating the year-over-year change in the logarithm of sales (in millions) by subtracting \n",
    "# ...the previous year's value from the current year's value for each company.\n",
    "data['d1_sales_mil_log']=data['sales_mil_log']-data.groupby('comp_id')['sales_mil_log'].shift(1)\n"
   ]
  },
  {
   "cell_type": "code",
   "execution_count": 27,
   "id": "4d96578e-b1e8-409c-b0f7-92069056fcec",
   "metadata": {
    "tags": []
   },
   "outputs": [],
   "source": [
    "# Calculating the age of each company by subtracting the founding year from the current year. \n",
    "# ...If the result is negative (which might happen due to data errors), set the age to 0.\n",
    "data[\"age\"] = np.where(\n",
    "    data[\"year\"] - data[\"founded_year\"] < 0, 0, data[\"year\"] - data[\"founded_year\"]\n",
    ")\n",
    "\n",
    "# Identifying new companies or those without a full year of balance sheet data. \n",
    "# ...Mark them with a 1, others with a 0. If 'age' is NaN, keep it as NaN.\n",
    "data[\"new\"] = np.where(\n",
    "    ((data[\"age\"] <= 1) | (data[\"balsheet_notfullyear\"] == 1)),\n",
    "    1,\n",
    "    (np.where(data[\"age\"].isna(), np.nan, 0)),\n",
    ")\n",
    "\n",
    "# For new companies, set the year-over-year change in log sales to 0. \n",
    "# ...This adjustment is for handling new entries or missing data appropriately.\n",
    "data[\"d1_sales_mil_log\"] = np.where(\n",
    "    data[\"new\"] == 1, 0, np.where(data[\"new\"].isna(), np.nan, data[\"d1_sales_mil_log\"])\n",
    ")\n",
    "\n",
    "# If the year-over-year change in log sales is NaN, consider the company \n",
    "# ...as new and update the 'new' column accordingly.\n",
    "data[\"new\"] = np.where(data[\"d1_sales_mil_log\"].isna(), 1, data[\"new\"])\n",
    "\n",
    "# Replacing NaN values in 'd1_sales_mil_log' with 0, ensuring the dataset \n",
    "# ...does not have missing values in this calculation.\n",
    "data[\"d1_sales_mil_log\"] = np.where(\n",
    "    data[\"d1_sales_mil_log\"].isna(), 0, data[\"d1_sales_mil_log\"]\n",
    ")"
   ]
  },
  {
   "cell_type": "code",
   "execution_count": 28,
   "id": "f1644e72-a689-43dd-917b-56755016f0e6",
   "metadata": {
    "tags": []
   },
   "outputs": [
    {
     "data": {
      "text/plain": [
       "count    556944.000000\n",
       "mean          0.672958\n",
       "std           0.469133\n",
       "min           0.000000\n",
       "25%           0.000000\n",
       "50%           1.000000\n",
       "75%           1.000000\n",
       "max           1.000000\n",
       "Name: new, dtype: float64"
      ]
     },
     "execution_count": 28,
     "metadata": {},
     "output_type": "execute_result"
    }
   ],
   "source": [
    "data['new'].describe()"
   ]
  },
  {
   "cell_type": "markdown",
   "id": "966080a6-d7e0-4525-b6b7-76412d9131c4",
   "metadata": {},
   "source": [
    "This concludes that there are 556,944 new firms."
   ]
  },
  {
   "cell_type": "markdown",
   "id": "907f699a-5e4d-439f-bf45-3b2bce53bea2",
   "metadata": {
    "tags": []
   },
   "source": [
    "## 1.4 Sample Design\n"
   ]
  },
  {
   "cell_type": "code",
   "execution_count": 29,
   "id": "cc926ab6-841f-4f4e-b1ac-15b2bb46df04",
   "metadata": {
    "tags": []
   },
   "outputs": [],
   "source": [
    "# Looking at cross section\n",
    "data = data.query(\"year==2012 & status_alive == 1\")\n",
    "# Looking at firms below 10m euro revenues and above 1000 euros\n",
    "data = data.query(\"sales_mil<=10 & sales_mil>=0.001\")"
   ]
  },
  {
   "cell_type": "markdown",
   "id": "3bcc3cc7-144b-49fe-bce3-dfef8e02434e",
   "metadata": {
    "tags": []
   },
   "source": [
    "## 1.5 Feature Engineering"
   ]
  },
  {
   "cell_type": "code",
   "execution_count": 30,
   "id": "4d220d12-4149-4e8f-a126-650540614bd0",
   "metadata": {
    "tags": []
   },
   "outputs": [],
   "source": [
    "# change some industry category codes\n",
    "data[\"ind2_cat\"] = data[\"ind2\"].copy()\n",
    "data[\"ind2_cat\"] = np.where(data[\"ind2\"] > 56, 60, data[\"ind2_cat\"])\n",
    "data[\"ind2_cat\"] = np.where(data[\"ind2\"] < 26, 20, data[\"ind2_cat\"])\n",
    "data[\"ind2_cat\"] = np.where(\n",
    "    (data[\"ind2\"] < 55) & (data[\"ind2\"] > 35), 40, data[\"ind2_cat\"]\n",
    ")\n",
    "data[\"ind2_cat\"] = np.where(data[\"ind2\"] == 31, 30, data[\"ind2_cat\"])\n",
    "data[\"ind2_cat\"] = np.where(data[\"ind2\"].isna(), 99, data[\"ind2_cat\"])"
   ]
  },
  {
   "cell_type": "code",
   "execution_count": 31,
   "id": "a983386a-6524-4040-8a68-68f3bcba26b6",
   "metadata": {
    "tags": []
   },
   "outputs": [
    {
     "data": {
      "text/plain": [
       "ind2_cat\n",
       "20.0       53\n",
       "26.0     1106\n",
       "27.0      678\n",
       "28.0     2001\n",
       "29.0      290\n",
       "30.0      176\n",
       "32.0      152\n",
       "33.0     1986\n",
       "40.0      225\n",
       "55.0     2385\n",
       "56.0    13437\n",
       "60.0      252\n",
       "99.0        5\n",
       "Name: comp_id, dtype: int64"
      ]
     },
     "execution_count": 31,
     "metadata": {},
     "output_type": "execute_result"
    }
   ],
   "source": [
    "data.groupby('ind2_cat').count()['comp_id']"
   ]
  },
  {
   "cell_type": "code",
   "execution_count": 32,
   "id": "182fd6a9-c356-4e06-af5e-086911a4e6f6",
   "metadata": {
    "tags": []
   },
   "outputs": [],
   "source": [
    "# Firm characteristics\n",
    "data[\"age2\"] = data[\"age\"] ** 2\n",
    "data[\"foreign_management\"] = np.where(\n",
    "    data[\"foreign\"] >= 0.5, 1, np.where(data[\"foreign\"].isna(), np.nan, 0)\n",
    ")\n",
    "data[\"gender_m\"] = data[\"gender\"].astype(\"category\")\n",
    "data[\"m_region_loc\"] = data[\"region_m\"].astype(\"category\")"
   ]
  },
  {
   "cell_type": "code",
   "execution_count": 33,
   "id": "f8780a66-8711-48cc-bf82-0ecc8ff4de66",
   "metadata": {
    "tags": []
   },
   "outputs": [
    {
     "data": {
      "text/plain": [
       "flag_asset_problem\n",
       "0.0    22730\n",
       "1.0       16\n",
       "Name: comp_id, dtype: int64"
      ]
     },
     "execution_count": 33,
     "metadata": {},
     "output_type": "execute_result"
    }
   ],
   "source": [
    "###########################################################\n",
    "# look at more financial variables, create ratios\n",
    "###########################################################\n",
    "\n",
    "# assets can't be negative. Change them to 0 and add a flag.\n",
    "data[\"flag_asset_problem\"] = np.where(\n",
    "    (\n",
    "        (data[\"intang_assets\"] < 0)\n",
    "        | (data[\"curr_assets\"] < 0)\n",
    "        | (data[\"fixed_assets\"] < 0)\n",
    "    ),\n",
    "    1,\n",
    "    0,\n",
    ")\n",
    "data[\"flag_asset_problem\"] = np.where(\n",
    "    (\n",
    "        (data[\"intang_assets\"].isna())\n",
    "        | (data[\"curr_assets\"].isna())\n",
    "        | (data[\"fixed_assets\"].isna())\n",
    "    ),\n",
    "    np.nan,\n",
    "    data[\"flag_asset_problem\"],\n",
    ")\n",
    "data.groupby(\"flag_asset_problem\").count()[\"comp_id\"]"
   ]
  },
  {
   "cell_type": "code",
   "execution_count": 34,
   "id": "47a411dd-d39f-4cc1-9eef-0fa77f23fb2a",
   "metadata": {
    "tags": []
   },
   "outputs": [],
   "source": [
    "data[\"intang_assets\"] = np.where(data[\"intang_assets\"] < 0, 0, data[\"intang_assets\"])\n",
    "data[\"curr_assets\"] = np.where(data[\"curr_assets\"] < 0, 0, data[\"curr_assets\"])\n",
    "data[\"fixed_assets\"] = np.where(data[\"fixed_assets\"] < 0, 0, data[\"fixed_assets\"])"
   ]
  },
  {
   "cell_type": "code",
   "execution_count": 35,
   "id": "834d1599-b416-40d4-a519-9478afc68acc",
   "metadata": {
    "tags": []
   },
   "outputs": [
    {
     "data": {
      "text/plain": [
       "count    2.274600e+04\n",
       "mean     2.420035e+05\n",
       "std      1.352734e+06\n",
       "min      0.000000e+00\n",
       "25%      5.496296e+03\n",
       "50%      2.149815e+04\n",
       "75%      8.724260e+04\n",
       "max      1.046833e+08\n",
       "Name: total_assets_bs, dtype: float64"
      ]
     },
     "execution_count": 35,
     "metadata": {},
     "output_type": "execute_result"
    }
   ],
   "source": [
    "# generate total assets\n",
    "data[\"total_assets_bs\"] = (\n",
    "    data[\"intang_assets\"] + data[\"curr_assets\"] + data[\"fixed_assets\"]\n",
    ")\n",
    "data[\"total_assets_bs\"].describe()"
   ]
  },
  {
   "cell_type": "code",
   "execution_count": 36,
   "id": "a4f33ffa-e557-4563-a667-1097a2d0458d",
   "metadata": {
    "tags": []
   },
   "outputs": [],
   "source": [
    "# profit and loss names\n",
    "pl_names = ['extra_exp',\n",
    "            'extra_inc',\n",
    "            'extra_profit_loss',\n",
    "            'inc_bef_tax',\n",
    "            'inventories',\n",
    "            'material_exp',\n",
    "            'profit_loss_year',\n",
    "            'personnel_exp']\n",
    "# balance sheet names\n",
    "bs_names = ['intang_assets',\n",
    "            'curr_liab',\n",
    "            'fixed_assets',\n",
    "            'liq_assets',\n",
    "            'curr_assets',\n",
    "            'share_eq',\n",
    "            'subscribed_cap',\n",
    "            'tang_assets' ]"
   ]
  },
  {
   "cell_type": "code",
   "execution_count": 37,
   "id": "989584b4-db6d-4ad4-bb78-ac9d99f970f1",
   "metadata": {
    "tags": []
   },
   "outputs": [],
   "source": [
    "# divide all pl_names elements by sales and create new column for it\n",
    "data[[col + \"_pl\" for col in pl_names]] = data[pl_names].div(\n",
    "    data[\"sales\"], axis=\"index\"\n",
    ")"
   ]
  },
  {
   "cell_type": "code",
   "execution_count": 38,
   "id": "a9c643fa-dd5b-436b-9dd1-69129be27e8e",
   "metadata": {
    "tags": []
   },
   "outputs": [],
   "source": [
    "for col in bs_names:\n",
    "    # Create new column by dividing each specified column by total_assets_bs\n",
    "    new_col_name = f\"{col}_bs\"  # This assumes bs_names does not already include \"_bs\"\n",
    "    data[new_col_name] = data[col].div(data[\"total_assets_bs\"]).replace((np.inf, -np.inf, np.nan), 0)\n",
    "    \n",
    "    # Set values to NaN where total_assets_bs is NaN\n",
    "    data[new_col_name] = np.where(data[\"total_assets_bs\"].isna(), np.nan, data[new_col_name])\n"
   ]
  },
  {
   "cell_type": "code",
   "execution_count": 39,
   "id": "906a6509-0356-41b5-b9f7-5162ddad6d85",
   "metadata": {
    "tags": []
   },
   "outputs": [],
   "source": [
    "for col in bs_names:\n",
    "    # Create new column by dividing each specified column by total_assets_bs\n",
    "    new_col_name = f\"{col}_bs\"  # This assumes bs_names does not already include \"_bs\"\n",
    "    # Directly assign the result of division, handling NaN in total_assets_bs inline\n",
    "    data[new_col_name] = np.where(\n",
    "        data[\"total_assets_bs\"].isna(), \n",
    "        np.nan,  # If total_assets_bs is NaN, assign NaN\n",
    "        data[col].div(data[\"total_assets_bs\"], fill_value=0).replace((np.inf, -np.inf), 0)  # Else, perform division and replace infinities\n",
    "    )\n"
   ]
  },
  {
   "cell_type": "code",
   "execution_count": 40,
   "id": "7a73753f-c229-4c9f-aa98-802db27ae620",
   "metadata": {
    "tags": []
   },
   "outputs": [],
   "source": [
    "# divide all bs_names elements by total_assets_bs and create new column for it\n",
    "data[[col + \"_bs\" for col in bs_names]] = (\n",
    "    data[bs_names]\n",
    "    .div(data[\"total_assets_bs\"], axis=\"index\")\n",
    "    .replace((np.inf, -np.inf, np.nan), (0, 0, 0))\n",
    ")\n",
    "# get Nan values where total_assets_bs is NaN\n",
    "for col in bs_names:\n",
    "    data[col + \"_bs\"] = np.where(\n",
    "        data[\"total_assets_bs\"].isna(), np.nan, data[col + \"_bs\"]\n",
    "    )\n",
    "    "
   ]
  },
  {
   "cell_type": "code",
   "execution_count": 41,
   "id": "91d21f72-00d5-4f61-bc5f-8bb2bc8e18c6",
   "metadata": {
    "tags": []
   },
   "outputs": [],
   "source": [
    "########################################################################\n",
    "# creating flags, and winsorizing tails\n",
    "########################################################################\n",
    "\n",
    "# Variables that represent accounting items that cannot be negative (e.g. materials)\n",
    "zero = [\n",
    "    \"extra_exp_pl\",\n",
    "    \"extra_inc_pl\",\n",
    "    \"inventories_pl\",\n",
    "    \"material_exp_pl\",\n",
    "    \"personnel_exp_pl\",\n",
    "    \"curr_liab_bs\",\n",
    "    \"fixed_assets_bs\",\n",
    "    \"liq_assets_bs\",\n",
    "    \"curr_assets_bs\",\n",
    "    \"subscribed_cap_bs\",\n",
    "    \"intang_assets_bs\",\n",
    "]\n",
    "\n",
    "data[[col + \"_flag_high\" for col in zero]] = np.where(\n",
    "    data[zero].isna(), np.nan, (data[zero] > 1).astype(int)\n",
    ")\n",
    "data[[col for col in zero]] = np.where(\n",
    "    data[zero].isna(), np.nan, np.where(data[zero] > 1, 1, data[zero])\n",
    ")\n",
    "data[[col + \"_flag_error\" for col in zero]] = np.where(\n",
    "    data[zero].isna(), np.nan, (data[zero] < 0).astype(int)\n",
    ")\n",
    "data[[col for col in zero]] = np.where(\n",
    "    data[zero].isna(), np.nan, np.where(data[zero] < 0, 0, data[zero])\n",
    ")"
   ]
  },
  {
   "cell_type": "code",
   "execution_count": 42,
   "id": "64eb790d-2c39-4983-80a4-07189206740e",
   "metadata": {
    "tags": []
   },
   "outputs": [],
   "source": [
    "# for vars that could be any, but are mostly between -1 and 1\n",
    "anyof = [\"extra_profit_loss_pl\", \"inc_bef_tax_pl\", \"profit_loss_year_pl\", \"share_eq_bs\"]\n",
    "\n",
    "data[[col + \"_flag_low\" for col in anyof]] = np.where(\n",
    "    data[anyof].isna(), np.nan, (data[anyof] < -1).astype(int)\n",
    ")\n",
    "data[[col for col in anyof]] = np.where(\n",
    "    data[anyof].isna(), np.nan, np.where((data[anyof] < -1), -1, data[anyof])\n",
    ")\n",
    "data[[col + \"_flag_high\" for col in anyof]] = np.where(\n",
    "    data[anyof].isna(), np.nan, (data[anyof] > 1).astype(int)\n",
    ")\n",
    "data[[col for col in anyof]] = np.where(\n",
    "    data[anyof].isna(), np.nan, np.where((data[anyof] > 1), 1, data[anyof])\n",
    ")\n",
    "data[[col + \"_flag_zero\" for col in anyof]] = np.where(\n",
    "    data[anyof].isna(), np.nan, (data[anyof] == 0).astype(int)\n",
    ")\n",
    "data[[col + \"_quad\" for col in anyof]] = np.where(\n",
    "    data[anyof].isna(), np.nan, data[anyof] ** 2\n",
    ")\n"
   ]
  },
  {
   "cell_type": "code",
   "execution_count": 43,
   "id": "16785601-a03d-45d4-9685-d7e9fc209f97",
   "metadata": {
    "tags": []
   },
   "outputs": [],
   "source": [
    "# dropping flags with no variation\n",
    "flag_columns = [col for col in data.columns if \"flag\" in col]\n",
    "data = data.drop(\n",
    "    data[flag_columns].std()[(data[flag_columns].std() == 0)].index, axis=1\n",
    ")\n"
   ]
  },
  {
   "cell_type": "code",
   "execution_count": 44,
   "id": "8bf74f9b-b4c0-4bd0-ae18-93ea9129494d",
   "metadata": {
    "tags": []
   },
   "outputs": [],
   "source": [
    "########################################################################\n",
    "# additional\n",
    "# including some imputation\n",
    "########################################################################\n",
    "\n",
    "# CEO age\n",
    "data[\"ceo_age\"] = data[\"year\"] - data[\"birth_year\"]\n",
    "data = data.assign(\n",
    "    flag_low_ceo_age=(data[\"ceo_age\"] < 25).astype(int),\n",
    "    flag_high_ceo_age=(data[\"ceo_age\"] > 75).astype(int),\n",
    "    flag_miss_ceo_age=(data[\"ceo_age\"].isna()).astype(int),\n",
    ")\n",
    "\n",
    "\n",
    "data[\"ceo_age\"] = np.where(data[\"ceo_age\"] < 25, 25, data[\"ceo_age\"])\n",
    "data[\"ceo_age\"] = np.where(data[\"ceo_age\"] > 75, 75, data[\"ceo_age\"])\n",
    "data[\"ceo_age\"] = np.where(\n",
    "    data[\"ceo_age\"].isna(), data[\"ceo_age\"].mean(), data[\"ceo_age\"]\n",
    ")\n",
    "data[\"ceo_young\"] = (data[\"ceo_age\"] < 40).astype(int)\n"
   ]
  },
  {
   "cell_type": "code",
   "execution_count": 50,
   "id": "d4a173a7-2c35-4f09-a84e-cc4c8f05600d",
   "metadata": {
    "tags": []
   },
   "outputs": [],
   "source": [
    "# create category type variables\n",
    "data[\"urban_m\"] = data[\"urban_m\"].astype(\"category\")\n",
    "data[\"ind2_cat\"] = data[\"ind2_cat\"].astype(\"category\")\n",
    "data[\"default_f\"] = data[\"default\"].astype(\"category\")\n",
    "data[\"default_f\"] = data[\"default_f\"].cat.rename_categories([\"no_default\", \"default\"])"
   ]
  },
  {
   "cell_type": "code",
   "execution_count": 51,
   "id": "64c6cc1c-4645-4011-817f-4a43fc2b2f00",
   "metadata": {
    "tags": []
   },
   "outputs": [],
   "source": [
    "########################################################################\n",
    "# sales\n",
    "########################################################################\n",
    "data[\"sales_mil_log_sq\"] = data[\"sales_mil_log\"] ** 2"
   ]
  },
  {
   "cell_type": "code",
   "execution_count": 52,
   "id": "2a5e9890-76be-4bc2-b19b-073c709cd102",
   "metadata": {
    "tags": []
   },
   "outputs": [
    {
     "data": {
      "image/png": "[encoded data removed]",
      "text/plain": [
       "<Figure size 640x480 with 1 Axes>"
      ]
     },
     "metadata": {
      "image/png": {
       "height": 480,
       "width": 640
      }
     },
     "output_type": "display_data"
    },
    {
     "data": {
      "text/plain": [
       "<Figure Size: (640 x 480)>"
      ]
     },
     "execution_count": 52,
     "metadata": {},
     "output_type": "execute_result"
    }
   ],
   "source": [
    "ggplot(data, aes(x=\"sales_mil_log\", y=\"default\")) + geom_point(\n",
    "    color=\"#214459\"\n",
    ") + geom_smooth(\n",
    "    method=\"lm\", formula=\"y ~ x + I(x**2)\", color=\"#3498db\", se=False  # Assuming #3498db as a placeholder color\n",
    ") + geom_smooth(\n",
    "    method=\"loess\", color=\"#e74c3c\", se=False, size=1.5, span=0.9  # Assuming #e74c3c as a placeholder color\n",
    ") + labs(\n",
    "    x=\"sales_mil_log\", y=\"default\"\n",
    ") + theme_bw()\n"
   ]
  },
  {
   "cell_type": "code",
   "execution_count": 53,
   "id": "dd6220ec-e3a2-4525-8297-c83a5abb8d9a",
   "metadata": {
    "tags": []
   },
   "outputs": [
    {
     "name": "stdout",
     "output_type": "stream",
     "text": [
      "                            OLS Regression Results                            \n",
      "==============================================================================\n",
      "Dep. Variable:                default   R-squared:                       0.059\n",
      "Model:                            OLS   Adj. R-squared:                  0.059\n",
      "Method:                 Least Squares   F-statistic:                     709.8\n",
      "Date:                Wed, 21 Feb 2024   Prob (F-statistic):          9.24e-300\n",
      "Time:                        22:40:32   Log-Likelihood:                -11885.\n",
      "No. Observations:               22746   AIC:                         2.378e+04\n",
      "Df Residuals:                   22743   BIC:                         2.380e+04\n",
      "Df Model:                           2                                         \n",
      "Covariance Type:            nonrobust                                         \n",
      "====================================================================================\n",
      "                       coef    std err          t      P>|t|      [0.025      0.975]\n",
      "------------------------------------------------------------------------------------\n",
      "Intercept            0.0483      0.007      7.216      0.000       0.035       0.061\n",
      "sales_mil_log       -0.0517      0.004    -12.540      0.000      -0.060      -0.044\n",
      "sales_mil_log_sq     0.0016      0.001      2.394      0.017       0.000       0.003\n",
      "==============================================================================\n",
      "Omnibus:                     3505.348   Durbin-Watson:                   2.002\n",
      "Prob(Omnibus):                  0.000   Jarque-Bera (JB):             5187.287\n",
      "Skew:                           1.156   Prob(JB):                         0.00\n",
      "Kurtosis:                       2.648   Cond. No.                         46.1\n",
      "==============================================================================\n",
      "\n",
      "Notes:\n",
      "[1] Standard Errors assume that the covariance matrix of the errors is correctly specified.\n"
     ]
    }
   ],
   "source": [
    "# Linear regressions\n",
    "ols_s = smf.ols(\"default ~ sales_mil_log + sales_mil_log_sq\", data=data).fit()\n",
    "print(ols_s.summary())\n"
   ]
  },
  {
   "cell_type": "code",
   "execution_count": 54,
   "id": "4aa20bf4-060f-4652-91f5-b946fd3e7344",
   "metadata": {
    "tags": []
   },
   "outputs": [
    {
     "data": {
      "text/plain": [
       "count    22746.000000\n",
       "mean        -0.088826\n",
       "std          0.890333\n",
       "min         -6.889406\n",
       "25%         -0.155711\n",
       "50%          0.000000\n",
       "75%          0.096553\n",
       "max          9.089076\n",
       "Name: d1_sales_mil_log, dtype: float64"
      ]
     },
     "execution_count": 54,
     "metadata": {},
     "output_type": "execute_result"
    }
   ],
   "source": [
    "########################################################################\n",
    "# sales change\n",
    "########################################################################\n",
    "# Note: graphs not in book\n",
    "\n",
    "# lowess\n",
    "data[\"d1_sales_mil_log\"].describe()"
   ]
  },
  {
   "cell_type": "markdown",
   "id": "fd5a835f-0125-413f-bc88-155ae529067e",
   "metadata": {},
   "source": [
    "## Model Building"
   ]
  },
  {
   "cell_type": "markdown",
   "id": "1be3f63c-f9bf-4968-b59a-3768c74ffdff",
   "metadata": {},
   "source": [
    "### Define Variable Sets"
   ]
  },
  {
   "cell_type": "markdown",
   "id": "90254d44-43c2-487b-83bc-4a2bba9a2b59",
   "metadata": {},
   "source": [
    "Main Firm Variables"
   ]
  },
  {
   "cell_type": "code",
   "execution_count": 85,
   "id": "f02aea63-cb99-47f4-9dce-b45552c41a21",
   "metadata": {
    "tags": []
   },
   "outputs": [],
   "source": [
    "rawvars = [\n",
    "    \"curr_assets\",\n",
    "    \"curr_liab\",\n",
    "    \"extra_exp\",\n",
    "    \"extra_inc\",\n",
    "    \"extra_profit_loss\",\n",
    "    \"fixed_assets\",\n",
    "    \"inc_bef_tax\",\n",
    "    \"intang_assets\",\n",
    "    \"inventories\",\n",
    "    \"liq_assets\",\n",
    "    \"material_exp\",\n",
    "    \"personnel_exp\",\n",
    "    \"profit_loss_year\",\n",
    "    \"sales\",\n",
    "    \"share_eq\",\n",
    "    \"subscribed_cap\",\n",
    "]"
   ]
  },
  {
   "cell_type": "markdown",
   "id": "0d945d17-8d71-4f96-b094-383dc4cb4056",
   "metadata": {
    "tags": []
   },
   "source": [
    "Further financial variables"
   ]
  },
  {
   "cell_type": "code",
   "execution_count": 87,
   "id": "97ced08c-1567-4673-ad6f-9c40ff14f006",
   "metadata": {
    "tags": []
   },
   "outputs": [],
   "source": [
    "qualityvars = [\"balsheet_flag\", \"balsheet_length\", \"balsheet_notfullyear\"]\n",
    "engvar = [\n",
    "    \"total_assets_bs\",\n",
    "    \"fixed_assets_bs\",\n",
    "    \"liq_assets_bs\",\n",
    "    \"curr_assets_bs\",\n",
    "    \"share_eq_bs\",\n",
    "    \"subscribed_cap_bs\",\n",
    "    \"intang_assets_bs\",\n",
    "    \"extra_exp_pl\",\n",
    "    \"extra_inc_pl\",\n",
    "    \"extra_profit_loss_pl\",\n",
    "    \"inc_bef_tax_pl\",\n",
    "    \"inventories_pl\",\n",
    "    \"material_exp_pl\",\n",
    "    \"profit_loss_year_pl\",\n",
    "    \"personnel_exp_pl\",\n",
    "]\n",
    "engvar2 = [\n",
    "    \"extra_profit_loss_pl_quad\",\n",
    "    \"inc_bef_tax_pl_quad\",\n",
    "    \"profit_loss_year_pl_quad\",\n",
    "    \"share_eq_bs_quad\",\n",
    "]"
   ]
  },
  {
   "cell_type": "markdown",
   "id": "09f7b1f9-5738-4175-afae-3f0ad85a3e14",
   "metadata": {},
   "source": [
    "Flag Variables"
   ]
  },
  {
   "cell_type": "code",
   "execution_count": 88,
   "id": "b42f35a1-21ea-47b6-b6af-b60e30ab89e0",
   "metadata": {
    "tags": []
   },
   "outputs": [],
   "source": [
    "engvar3 = []\n",
    "for col in data.columns:\n",
    "    if (\n",
    "        col.endswith(\"flag_low\")\n",
    "        or col.endswith(\"flag_high\")\n",
    "        or col.endswith(\"flag_error\")\n",
    "        or col.endswith(\"flag_zero\")\n",
    "    ):\n",
    "        engvar3.append(col)"
   ]
  },
  {
   "cell_type": "markdown",
   "id": "42dd5cfc-f21c-45ad-acb8-d1da98bd75af",
   "metadata": {},
   "source": [
    "Growth Variables"
   ]
  },
  {
   "cell_type": "code",
   "execution_count": 89,
   "id": "37c8fd53-3f64-4846-a37c-8a59bd945410",
   "metadata": {
    "tags": []
   },
   "outputs": [],
   "source": [
    "d1 = [\n",
    "    \"d1_sales_mil_log_mod\",\n",
    "    \"d1_sales_mil_log_mod_sq\",\n",
    "    \"flag_low_d1_sales_mil_log\",\n",
    "    \"flag_high_d1_sales_mil_log\",\n",
    "]"
   ]
  },
  {
   "cell_type": "markdown",
   "id": "eaee0427-f1ec-4013-8d28-a4a9c9c08cd3",
   "metadata": {},
   "source": [
    "Human capital related variables"
   ]
  },
  {
   "cell_type": "code",
   "execution_count": 90,
   "id": "55bcb5fc-e7c2-43c1-af7c-947ce3cd6f1c",
   "metadata": {
    "tags": []
   },
   "outputs": [],
   "source": [
    "hr = [\n",
    "    \"female\",\n",
    "    \"ceo_age\",\n",
    "    \"flag_high_ceo_age\",\n",
    "    \"flag_low_ceo_age\",\n",
    "    \"flag_miss_ceo_age\",\n",
    "    \"ceo_count\",\n",
    "    \"labor_avg_mod\",\n",
    "    \"flag_miss_labor_avg\",\n",
    "    \"foreign_management\",\n",
    "]"
   ]
  },
  {
   "cell_type": "markdown",
   "id": "600f2808-078c-45d9-83b8-f8b6ea567c46",
   "metadata": {
    "tags": []
   },
   "source": [
    " Firms history related variables"
   ]
  },
  {
   "cell_type": "code",
   "execution_count": 92,
   "id": "79a1a6a0-a17f-40a5-ad03-e1161eac5848",
   "metadata": {
    "tags": []
   },
   "outputs": [],
   "source": [
    "firm = [\"age\", \"age2\", \"new\", \"C(ind2_cat)\", \"C(m_region_loc)\", \"C(urban_m)\"]"
   ]
  },
  {
   "cell_type": "markdown",
   "id": "c7fb6157-965b-440f-8699-a5538fdd10a7",
   "metadata": {
    "tags": []
   },
   "source": [
    "interactions for logit, LASSO"
   ]
  },
  {
   "cell_type": "code",
   "execution_count": 94,
   "id": "bcea5a74-57f4-4ada-a6a0-48ca0f7facf4",
   "metadata": {
    "tags": []
   },
   "outputs": [],
   "source": [
    "interactions1 = [\n",
    "    \"C(ind2_cat)*age\",\n",
    "    \"C(ind2_cat)*age2\",\n",
    "    \"C(ind2_cat)*d1_sales_mil_log_mod\",\n",
    "    \"C(ind2_cat)*sales_mil_log\",\n",
    "    \"C(ind2_cat)*ceo_age\",\n",
    "    \"C(ind2_cat)*foreign_management\",\n",
    "    \"C(ind2_cat)*female\",\n",
    "    \"C(ind2_cat)*C(urban_m)\",\n",
    "    \"C(ind2_cat)*labor_avg_mod\",\n",
    "]\n",
    "interactions2 = [\n",
    "    \"sales_mil_log*age\",\n",
    "    \"sales_mil_log*female\",\n",
    "    \"sales_mil_log*profit_loss_year_pl\",\n",
    "    \"sales_mil_log*foreign_management\",\n",
    "]"
   ]
  },
  {
   "cell_type": "markdown",
   "id": "499dd176-737a-4c79-baae-c5f6c6155141",
   "metadata": {},
   "source": [
    "### Model Setups"
   ]
  },
  {
   "cell_type": "markdown",
   "id": "940610c4-5f30-4d21-b826-279f45b3bf4f",
   "metadata": {},
   "source": [
    "1. Simple Logit Models"
   ]
  },
  {
   "cell_type": "code",
   "execution_count": 95,
   "id": "4013ab6c-b601-4a71-b6fb-3d94c9a897e0",
   "metadata": {
    "tags": []
   },
   "outputs": [],
   "source": [
    "M1 = [\n",
    "    \"sales_mil_log\",\n",
    "    \"sales_mil_log_sq\",\n",
    "    \"d1_sales_mil_log_mod\",\n",
    "    \"profit_loss_year_pl\",\n",
    "    \"C(ind2_cat)\",\n",
    "]\n",
    "M2 = [\n",
    "    \"sales_mil_log\",\n",
    "    \"sales_mil_log_sq\",\n",
    "    \"d1_sales_mil_log_mod\",\n",
    "    \"profit_loss_year_pl\",\n",
    "    \"fixed_assets_bs\",\n",
    "    \"share_eq_bs\",\n",
    "    \"curr_liab_bs \",\n",
    "    \"curr_liab_bs_flag_high \",\n",
    "    \"curr_liab_bs_flag_error\",\n",
    "    \"age\",\n",
    "    \"foreign_management\",\n",
    "    \"C(ind2_cat)\",\n",
    "]\n",
    "M3 = [\"sales_mil_log\", \"sales_mil_log_sq\"] + firm + engvar + d1\n",
    "M4 = (\n",
    "    [\"sales_mil_log\", \"sales_mil_log_sq\"]\n",
    "    + firm\n",
    "    + engvar\n",
    "    + engvar2\n",
    "    + engvar3\n",
    "    + d1\n",
    "    + hr\n",
    "    + qualityvars\n",
    ")\n",
    "M5 = (\n",
    "    [\"sales_mil_log\", \"sales_mil_log_sq\"]\n",
    "    + firm\n",
    "    + engvar\n",
    "    + engvar2\n",
    "    + engvar3\n",
    "    + d1\n",
    "    + hr\n",
    "    + qualityvars\n",
    "    + interactions1\n",
    "    + interactions2\n",
    ")"
   ]
  },
  {
   "cell_type": "markdown",
   "id": "72250e87-6b88-4cb3-b559-a739a25dd57a",
   "metadata": {},
   "source": [
    "2. Logit+LASSO"
   ]
  },
  {
   "cell_type": "code",
   "execution_count": 96,
   "id": "d59c6404-3f31-4357-b877-69cc2464ef2b",
   "metadata": {
    "tags": []
   },
   "outputs": [],
   "source": [
    "logit_lasso_vars = (\n",
    "    [\"sales_mil_log\", \"sales_mil_log_sq\"]\n",
    "    + engvar\n",
    "    + engvar2\n",
    "    + engvar3\n",
    "    + d1\n",
    "    + hr\n",
    "    + firm\n",
    "    + qualityvars\n",
    "    + interactions1\n",
    "    + interactions2\n",
    ")"
   ]
  },
  {
   "cell_type": "markdown",
   "id": "b2c9ed35-e573-4ac2-866a-33b950d9ef1f",
   "metadata": {
    "tags": []
   },
   "source": [
    "3. CART and RF (no interactions, no modified features)"
   ]
  },
  {
   "cell_type": "code",
   "execution_count": 98,
   "id": "372747ab-e94d-453f-8459-dbee7fc63a97",
   "metadata": {
    "tags": []
   },
   "outputs": [],
   "source": [
    "rfvars = [\"sales_mil\", \"d1_sales_mil_log\"] + rawvars + hr + firm + qualityvars"
   ]
  },
  {
   "cell_type": "code",
   "execution_count": null,
   "id": "bdb4d145-9f96-4fc6-bd86-f06d3af87b16",
   "metadata": {},
   "outputs": [],
   "source": []
  },
  {
   "cell_type": "code",
   "execution_count": null,
   "id": "58adb136-6c9d-4bf3-bdc2-e8909aac8421",
   "metadata": {},
   "outputs": [],
   "source": []
  },
  {
   "cell_type": "markdown",
   "id": "572d2662-6f58-41fe-93b7-25c9614f90f4",
   "metadata": {
    "tags": []
   },
   "source": [
    "## 1.6 Hold-Out Sample"
   ]
  },
  {
   "cell_type": "code",
   "execution_count": 55,
   "id": "5ef4607f-8eea-48ae-b6fb-6eefd4888608",
   "metadata": {
    "tags": []
   },
   "outputs": [
    {
     "data": {
      "text/html": [
       "<div>\n",
       "<style scoped>\n",
       "    .dataframe tbody tr th:only-of-type {\n",
       "        vertical-align: middle;\n",
       "    }\n",
       "\n",
       "    .dataframe tbody tr th {\n",
       "        vertical-align: top;\n",
       "    }\n",
       "\n",
       "    .dataframe thead th {\n",
       "        text-align: right;\n",
       "    }\n",
       "</style>\n",
       "<table border=\"1\" class=\"dataframe\">\n",
       "  <thead>\n",
       "    <tr style=\"text-align: right;\">\n",
       "      <th></th>\n",
       "      <th>year</th>\n",
       "      <th>comp_id</th>\n",
       "      <th>begin</th>\n",
       "      <th>end</th>\n",
       "      <th>amort</th>\n",
       "      <th>curr_assets</th>\n",
       "      <th>curr_liab</th>\n",
       "      <th>extra_exp</th>\n",
       "      <th>extra_inc</th>\n",
       "      <th>extra_profit_loss</th>\n",
       "      <th>...</th>\n",
       "      <th>inc_bef_tax_pl_quad</th>\n",
       "      <th>profit_loss_year_pl_quad</th>\n",
       "      <th>share_eq_bs_quad</th>\n",
       "      <th>ceo_age</th>\n",
       "      <th>flag_low_ceo_age</th>\n",
       "      <th>flag_high_ceo_age</th>\n",
       "      <th>flag_miss_ceo_age</th>\n",
       "      <th>ceo_young</th>\n",
       "      <th>default_f</th>\n",
       "      <th>sales_mil_log_sq</th>\n",
       "    </tr>\n",
       "  </thead>\n",
       "  <tbody>\n",
       "  </tbody>\n",
       "</table>\n",
       "<p>0 rows × 110 columns</p>\n",
       "</div>"
      ],
      "text/plain": [
       "Empty DataFrame\n",
       "Columns: [year, comp_id, begin, end, amort, curr_assets, curr_liab, extra_exp, extra_inc, extra_profit_loss, fixed_assets, inc_bef_tax, intang_assets, inventories, liq_assets, material_exp, personnel_exp, profit_loss_year, sales, share_eq, subscribed_cap, tang_assets, balsheet_flag, balsheet_length, balsheet_notfullyear, founded_year, exit_year, ceo_count, foreign, female, birth_year, inoffice_days, gender, origin, nace_main, ind2, urban_m, region_m, founded_date, exit_date, status_alive, default, ln_sales, sales_mil, sales_mil_log, d1_sales_mil_log, age, new, ind2_cat, age2, foreign_management, gender_m, m_region_loc, flag_asset_problem, total_assets_bs, extra_exp_pl, extra_inc_pl, extra_profit_loss_pl, inc_bef_tax_pl, inventories_pl, material_exp_pl, profit_loss_year_pl, personnel_exp_pl, intang_assets_bs, curr_liab_bs, fixed_assets_bs, liq_assets_bs, curr_assets_bs, share_eq_bs, subscribed_cap_bs, tang_assets_bs, extra_exp_pl_flag_high, extra_inc_pl_flag_high, inventories_pl_flag_high, material_exp_pl_flag_high, personnel_exp_pl_flag_high, curr_liab_bs_flag_high, liq_assets_bs_flag_high, subscribed_cap_bs_flag_high, extra_exp_pl_flag_error, extra_inc_pl_flag_error, inventories_pl_flag_error, material_exp_pl_flag_error, personnel_exp_pl_flag_error, curr_liab_bs_flag_error, liq_assets_bs_flag_error, subscribed_cap_bs_flag_error, extra_profit_loss_pl_flag_low, inc_bef_tax_pl_flag_low, profit_loss_year_pl_flag_low, share_eq_bs_flag_low, extra_profit_loss_pl_flag_high, inc_bef_tax_pl_flag_high, profit_loss_year_pl_flag_high, share_eq_bs_flag_high, extra_profit_loss_pl_flag_zero, inc_bef_tax_pl_flag_zero, profit_loss_year_pl_flag_zero, share_eq_bs_flag_zero, extra_profit_loss_pl_quad, ...]\n",
       "Index: []\n",
       "\n",
       "[0 rows x 110 columns]"
      ]
     },
     "execution_count": 55,
     "metadata": {},
     "output_type": "execute_result"
    }
   ],
   "source": [
    "hold_out_sample = data[(data['ind2'] == 26) &\n",
    "                     (data['sales'] >= 1000) &\n",
    "                     (data['sales'] <= 10000000) &\n",
    "                     (data['year'] == 2014)]\n",
    "hold_out_sample"
   ]
  },
  {
   "cell_type": "code",
   "execution_count": 56,
   "id": "8b5ad6e5-cbdc-4030-a567-dcc15096bd67",
   "metadata": {
    "tags": []
   },
   "outputs": [
    {
     "data": {
      "text/plain": [
       "Index(['year', 'comp_id', 'begin', 'end', 'amort', 'curr_assets', 'curr_liab',\n",
       "       'extra_exp', 'extra_inc', 'extra_profit_loss',\n",
       "       ...\n",
       "       'inc_bef_tax_pl_quad', 'profit_loss_year_pl_quad', 'share_eq_bs_quad',\n",
       "       'ceo_age', 'flag_low_ceo_age', 'flag_high_ceo_age', 'flag_miss_ceo_age',\n",
       "       'ceo_young', 'default_f', 'sales_mil_log_sq'],\n",
       "      dtype='object', length=110)"
      ]
     },
     "execution_count": 56,
     "metadata": {},
     "output_type": "execute_result"
    }
   ],
   "source": [
    "hold_out_sample.columns"
   ]
  },
  {
   "cell_type": "code",
   "execution_count": 57,
   "id": "a7310269-e4f8-48f3-a99b-09a87391b739",
   "metadata": {
    "scrolled": true,
    "tags": []
   },
   "outputs": [
    {
     "data": {
      "text/html": [
       "<div>\n",
       "<style scoped>\n",
       "    .dataframe tbody tr th:only-of-type {\n",
       "        vertical-align: middle;\n",
       "    }\n",
       "\n",
       "    .dataframe tbody tr th {\n",
       "        vertical-align: top;\n",
       "    }\n",
       "\n",
       "    .dataframe thead th {\n",
       "        text-align: right;\n",
       "    }\n",
       "</style>\n",
       "<table border=\"1\" class=\"dataframe\">\n",
       "  <thead>\n",
       "    <tr style=\"text-align: right;\">\n",
       "      <th></th>\n",
       "      <th>Missing Values</th>\n",
       "    </tr>\n",
       "  </thead>\n",
       "  <tbody>\n",
       "    <tr>\n",
       "      <th>year</th>\n",
       "      <td>0</td>\n",
       "    </tr>\n",
       "    <tr>\n",
       "      <th>comp_id</th>\n",
       "      <td>0</td>\n",
       "    </tr>\n",
       "    <tr>\n",
       "      <th>begin</th>\n",
       "      <td>0</td>\n",
       "    </tr>\n",
       "    <tr>\n",
       "      <th>end</th>\n",
       "      <td>0</td>\n",
       "    </tr>\n",
       "    <tr>\n",
       "      <th>amort</th>\n",
       "      <td>0</td>\n",
       "    </tr>\n",
       "    <tr>\n",
       "      <th>...</th>\n",
       "      <td>...</td>\n",
       "    </tr>\n",
       "    <tr>\n",
       "      <th>flag_high_ceo_age</th>\n",
       "      <td>0</td>\n",
       "    </tr>\n",
       "    <tr>\n",
       "      <th>flag_miss_ceo_age</th>\n",
       "      <td>0</td>\n",
       "    </tr>\n",
       "    <tr>\n",
       "      <th>ceo_young</th>\n",
       "      <td>0</td>\n",
       "    </tr>\n",
       "    <tr>\n",
       "      <th>default_f</th>\n",
       "      <td>0</td>\n",
       "    </tr>\n",
       "    <tr>\n",
       "      <th>sales_mil_log_sq</th>\n",
       "      <td>0</td>\n",
       "    </tr>\n",
       "  </tbody>\n",
       "</table>\n",
       "<p>110 rows × 1 columns</p>\n",
       "</div>"
      ],
      "text/plain": [
       "                   Missing Values\n",
       "year                            0\n",
       "comp_id                         0\n",
       "begin                           0\n",
       "end                             0\n",
       "amort                           0\n",
       "...                           ...\n",
       "flag_high_ceo_age               0\n",
       "flag_miss_ceo_age               0\n",
       "ceo_young                       0\n",
       "default_f                       0\n",
       "sales_mil_log_sq                0\n",
       "\n",
       "[110 rows x 1 columns]"
      ]
     },
     "execution_count": 57,
     "metadata": {},
     "output_type": "execute_result"
    }
   ],
   "source": [
    "# double check missing values\n",
    "missing_values_count = hold_out_sample.isnull().sum()\n",
    "\n",
    "missing_values_table = pd.DataFrame(missing_values_count, columns=['Missing Values'])\n",
    "\n",
    "missing_values_table"
   ]
  },
  {
   "cell_type": "code",
   "execution_count": 58,
   "id": "4ef4a8e7-09d9-4fc1-b63b-24365bbfa636",
   "metadata": {
    "tags": []
   },
   "outputs": [
    {
     "data": {
      "text/plain": [
       "Series([], Name: count, dtype: int64)"
      ]
     },
     "execution_count": 58,
     "metadata": {},
     "output_type": "execute_result"
    }
   ],
   "source": [
    "hold_out_sample['default'].value_counts()"
   ]
  },
  {
   "cell_type": "code",
   "execution_count": 59,
   "id": "167eaaad-6f47-45a3-b90f-3075fc145d94",
   "metadata": {
    "tags": []
   },
   "outputs": [
    {
     "data": {
      "text/plain": [
       "count    0.0\n",
       "mean     NaN\n",
       "std      NaN\n",
       "min      NaN\n",
       "25%      NaN\n",
       "50%      NaN\n",
       "75%      NaN\n",
       "max      NaN\n",
       "Name: sales, dtype: float64"
      ]
     },
     "execution_count": 59,
     "metadata": {},
     "output_type": "execute_result"
    }
   ],
   "source": [
    "hold_out_sample['sales'].describe()"
   ]
  },
  {
   "cell_type": "code",
   "execution_count": null,
   "id": "65fa146f-7cc9-4644-9eeb-085caf73f62a",
   "metadata": {},
   "outputs": [],
   "source": []
  }
 ],
 "metadata": {
  "kernelspec": {
   "display_name": "Python 3 (ipykernel)",
   "language": "python",
   "name": "python3"
  },
  "language_info": {
   "codemirror_mode": {
    "name": "ipython",
    "version": 3
   },
   "file_extension": ".py",
   "mimetype": "text/x-python",
   "name": "python",
   "nbconvert_exporter": "python",
   "pygments_lexer": "ipython3",
   "version": "3.11.4"
  }
 },
 "nbformat": 4,
 "nbformat_minor": 5
}
