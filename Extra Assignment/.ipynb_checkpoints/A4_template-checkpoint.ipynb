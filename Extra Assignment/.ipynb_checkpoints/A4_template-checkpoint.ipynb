{
 "cells": [
  {
   "cell_type": "code",
   "execution_count": null,
   "id": "e194be44-6ced-410e-aff2-74fe2069b5fb",
   "metadata": {},
   "outputs": [],
   "source": [
    "import pandas as pd\n",
    "import yfinance as yf"
   ]
  },
  {
   "cell_type": "markdown",
   "id": "cb0632f9-e10b-4d6a-83bd-afcca0e64bab",
   "metadata": {},
   "source": [
    "- `yfinance` docs: https://github.com/ranaroussi/yfinance\n",
    "- What is `SPY`? See here: https://finance.yahoo.com/quote/SPY/"
   ]
  },
  {
   "cell_type": "markdown",
   "id": "8fc21c4b-f0c2-43ef-8a4f-f729d02f20d9",
   "metadata": {},
   "source": [
    "### Get Data"
   ]
  },
  {
   "cell_type": "code",
   "execution_count": null,
   "id": "3886e9da-0ea0-4e6c-a46c-dfb9cd0f5cd6",
   "metadata": {},
   "outputs": [],
   "source": [
    "df_spy = yf.download('SPY')"
   ]
  },
  {
   "cell_type": "code",
   "execution_count": null,
   "id": "a65e2036-3d4f-40fa-8235-f52eb119931b",
   "metadata": {},
   "outputs": [],
   "source": [
    "df_spy"
   ]
  },
  {
   "cell_type": "markdown",
   "id": "5378f7a2-d840-4024-b3b8-6dcaec93feb1",
   "metadata": {},
   "source": [
    "### Modelling # Prediction"
   ]
  },
  {
   "cell_type": "code",
   "execution_count": null,
   "id": "63cdfb7e-34ed-4737-9554-87a60b2f4273",
   "metadata": {},
   "outputs": [],
   "source": [
    "# Your codes for features & modelling goes here"
   ]
  },
  {
   "cell_type": "markdown",
   "id": "72c7f0e1-668c-49a8-aa98-9b56ecde8841",
   "metadata": {},
   "source": [
    "### Save forecast"
   ]
  },
  {
   "cell_type": "code",
   "execution_count": null,
   "id": "e2771981-3a0c-4d7c-b129-58b85b2c2291",
   "metadata": {},
   "outputs": [],
   "source": [
    "firstname = '' # fill in your first name\n",
    "lastname = '' # fill in your last name\n",
    "filename = f'{firstname}_{lastname}.csv'\n",
    "\n",
    "df.forecast.columns = ['date', f'{firstname}_{lastname}']\n",
    "\n",
    "df_forecast.to_csv(filename, index = 0)"
   ]
  },
  {
   "cell_type": "markdown",
   "id": "654c83fe-b551-45bc-8956-9b2eed73b257",
   "metadata": {},
   "source": [
    "### What to turn in?\n",
    "\n",
    "- Your Jupyter notebook which builds the model and makes the forecast. (Just for curiosity.)\n",
    "- A csv file with your forecasts with the following columns   \n",
    "      - date: dates   \n",
    "      - firstname_lastname: forecast SPY closing prices"
   ]
  },
  {
   "cell_type": "code",
   "execution_count": null,
   "id": "90b868f0-6453-425d-bf16-1feeff9d6c82",
   "metadata": {},
   "outputs": [],
   "source": []
  }
 ],
 "metadata": {
  "kernelspec": {
   "display_name": "Python 3 (ipykernel)",
   "language": "python",
   "name": "python3"
  },
  "language_info": {
   "codemirror_mode": {
    "name": "ipython",
    "version": 3
   },
   "file_extension": ".py",
   "mimetype": "text/x-python",
   "name": "python",
   "nbconvert_exporter": "python",
   "pygments_lexer": "ipython3",
   "version": "3.10.13"
  }
 },
 "nbformat": 4,
 "nbformat_minor": 5
}
